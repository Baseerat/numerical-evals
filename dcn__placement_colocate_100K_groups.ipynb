{
 "cells": [
  {
   "cell_type": "code",
   "execution_count": 1,
   "metadata": {
    "collapsed": true
   },
   "outputs": [],
   "source": [
    "import os\n",
    "import glob \n",
    "from functools import reduce"
   ]
  },
  {
   "cell_type": "code",
   "execution_count": 2,
   "metadata": {
    "collapsed": true
   },
   "outputs": [],
   "source": [
    "import matplotlib.pyplot as plt\n",
    "plt.style.use('ggplot')\n",
    "# display plots in the notebook\n",
    "%matplotlib inline\n",
    "# increase default figure and font sizes for easier viewing\n",
    "plt.rcParams['figure.figsize'] = (8, 6)\n",
    "plt.rcParams['font.size'] = 14\n",
    "\n",
    "import seaborn as sb\n",
    "import pandas as pd\n",
    "import numpy as np\n",
    "from scipy import stats\n",
    "import random"
   ]
  },
  {
   "cell_type": "code",
   "execution_count": 3,
   "metadata": {
    "collapsed": false
   },
   "outputs": [],
   "source": [
    "from simulation.plot import *"
   ]
  },
  {
   "cell_type": "code",
   "execution_count": null,
   "metadata": {
    "collapsed": true
   },
   "outputs": [],
   "source": []
  },
  {
   "cell_type": "code",
   "execution_count": 4,
   "metadata": {
    "collapsed": true
   },
   "outputs": [],
   "source": [
    "def change_width(ax, new_value) :\n",
    "    for patch in ax.patches :\n",
    "        current_width = patch.get_width()\n",
    "        diff = current_width - new_value\n",
    "\n",
    "        # we change the bar width\n",
    "        patch.set_width(new_value)\n",
    "\n",
    "        # we recenter the bar\n",
    "        patch.set_x(patch.get_x() + diff * .5)"
   ]
  },
  {
   "cell_type": "markdown",
   "metadata": {},
   "source": [
    "---"
   ]
  },
  {
   "cell_type": "code",
   "execution_count": 6,
   "metadata": {
    "collapsed": true
   },
   "outputs": [],
   "source": [
    "logs_dir = \"./logs/dcn-cmp\"\n",
    "num_groups = 100000"
   ]
  },
  {
   "cell_type": "code",
   "execution_count": 11,
   "metadata": {
    "collapsed": false
   },
   "outputs": [
    {
     "data": {
      "text/plain": [
       "dict_keys(['rules_for_all_leafs_post_dp', 'rules_for_all_groups_count', 'rules_for_all_groups', 'rules_for_all_groups_post_dp_count', 'rules_for_all_leafs', 'redundancy_for_all_groups_in_all_tenants', 'rules_for_all_groups_post_dp'])"
      ]
     },
     "execution_count": 11,
     "metadata": {},
     "output_type": "execute_result"
    }
   ],
   "source": [
    "plot_data = dict()\n",
    "for i in glob.glob(logs_dir + \"/num_bitmaps_*__seed_*__num_groups_%s/*.csv\" % num_groups):\n",
    "    _list = i.split('/')\n",
    "    num_bitmaps = _list[3].split('_')[2]\n",
    "    log_name = _list[4].split('.')[0]\n",
    "    if num_bitmaps not in plot_data:\n",
    "        plot_data[num_bitmaps] = dict()\n",
    "    \n",
    "    if log_name in plot_data[num_bitmaps]:\n",
    "        series = pd.Series.from_csv(i)        \n",
    "        plot_data[num_bitmaps][log_name] = plot_data[num_bitmaps][log_name].append(\n",
    "            series, ignore_index=True)        \n",
    "        \n",
    "        if log_name == 'rules_for_all_groups':\n",
    "            plot_data[num_bitmaps][log_name + '_count'] = plot_data[num_bitmaps][log_name + '_count'].append(\n",
    "                pd.Series([series.where(series > 0).count()]))\n",
    "        elif log_name == 'rules_for_all_groups_post_dp':\n",
    "            plot_data[num_bitmaps][log_name + '_count'] = plot_data[num_bitmaps][log_name + '_count'].append(\n",
    "                pd.Series([series.where(series > 0).count()]))\n",
    "    else:\n",
    "        series = pd.Series.from_csv(i)\n",
    "        plot_data[num_bitmaps][log_name] = pd.Series.from_csv(i)\n",
    "        \n",
    "        if log_name == 'rules_for_all_groups':\n",
    "            plot_data[num_bitmaps][log_name + '_count'] = pd.Series([series.where(series > 0).count()])\n",
    "        elif log_name == 'rules_for_all_groups_post_dp':\n",
    "            plot_data[num_bitmaps][log_name + '_count'] = pd.Series([series.where(series > 0).count()])\n",
    "\n",
    "plot_data['10'].keys()"
   ]
  },
  {
   "cell_type": "code",
   "execution_count": null,
   "metadata": {
    "collapsed": true
   },
   "outputs": [],
   "source": []
  },
  {
   "cell_type": "code",
   "execution_count": 13,
   "metadata": {
    "collapsed": false
   },
   "outputs": [],
   "source": [
    "rules_for_all_leafs_df = pd.DataFrame(columns=['No. of Rules', 'All Headers', 'No. of Headers'])\n",
    "\n",
    "for i in ['10']:\n",
    "    df = pd.DataFrame()\n",
    "    df['No. of Rules'] = plot_data[i]['rules_for_all_leafs']\n",
    "    df['All Headers'] = [False for _ in range(len(plot_data[i]['rules_for_all_leafs']))]\n",
    "    df['No. of Headers'] = [int(i) for _ in range(len(plot_data[i]['rules_for_all_leafs']))]\n",
    "    rules_for_all_leafs_df = rules_for_all_leafs_df.append(df)\n",
    "    \n",
    "    df = pd.DataFrame()\n",
    "    df['No. of Rules'] = plot_data[i]['rules_for_all_leafs_post_dp']\n",
    "    df['All Headers'] = [True for _ in range(len(plot_data[i]['rules_for_all_leafs_post_dp']))]\n",
    "    df['No. of Headers'] = [int(i) for _ in range(len(plot_data[i]['rules_for_all_leafs_post_dp']))]\n",
    "    rules_for_all_leafs_df = rules_for_all_leafs_df.append(df)\n",
    "    "
   ]
  },
  {
   "cell_type": "code",
   "execution_count": 14,
   "metadata": {
    "collapsed": false
   },
   "outputs": [
    {
     "data": {
      "image/png": "[encoded data removed]",
      "text/plain": [
       "<matplotlib.figure.Figure at 0x7fabe3f754a8>"
      ]
     },
     "metadata": {},
     "output_type": "display_data"
    }
   ],
   "source": [
    "sb.set(style='ticks', font_scale=1.3)\n",
    "sb.boxplot(x='No. of Headers', y='No. of Rules', hue='All Headers', data=rules_for_all_leafs_df, palette='Greys')\n",
    "# plt.savefig('colocate_48__rules_for_all_leafs_with_100K_groups.pdf')"
   ]
  },
  {
   "cell_type": "code",
   "execution_count": null,
   "metadata": {
    "collapsed": true
   },
   "outputs": [],
   "source": []
  },
  {
   "cell_type": "code",
   "execution_count": 15,
   "metadata": {
    "collapsed": false
   },
   "outputs": [],
   "source": [
    "rules_for_all_groups = pd.DataFrame(columns=['No. of Rules', 'All Headers', 'No. of Headers'])\n",
    "\n",
    "for i in ['10']:\n",
    "    df = pd.DataFrame()\n",
    "    df['No. of Rules'] = plot_data[i]['rules_for_all_groups']\n",
    "    df['All Headers'] = [False for _ in range(len(plot_data[i]['rules_for_all_groups']))]\n",
    "    df['No. of Headers'] = [int(i) for _ in range(len(plot_data[i]['rules_for_all_groups']))]\n",
    "    rules_for_all_groups = rules_for_all_groups.append(df)\n",
    "    \n",
    "    df = pd.DataFrame()\n",
    "    df['No. of Rules'] = plot_data[i]['rules_for_all_groups_post_dp']\n",
    "    df['All Headers'] = [True for _ in range(len(plot_data[i]['rules_for_all_groups_post_dp']))]\n",
    "    df['No. of Headers'] = [int(i) for _ in range(len(plot_data[i]['rules_for_all_groups_post_dp']))]\n",
    "    rules_for_all_groups = rules_for_all_groups.append(df)\n",
    "    "
   ]
  },
  {
   "cell_type": "code",
   "execution_count": 16,
   "metadata": {
    "collapsed": false
   },
   "outputs": [
    {
     "data": {
      "image/png": "[encoded data removed]",
      "text/plain": [
       "<matplotlib.figure.Figure at 0x7fabe1beaf98>"
      ]
     },
     "metadata": {},
     "output_type": "display_data"
    }
   ],
   "source": [
    "sb.set(style='ticks', font_scale=1.3)\n",
    "sb.boxplot(x='No. of Headers', y='No. of Rules', hue='All Headers', data=rules_for_all_groups, palette='Greys')\n",
    "# plt.savefig('colocate_48__rules_for_all_100K_groups.pdf')"
   ]
  },
  {
   "cell_type": "code",
   "execution_count": null,
   "metadata": {
    "collapsed": true
   },
   "outputs": [],
   "source": []
  },
  {
   "cell_type": "code",
   "execution_count": 18,
   "metadata": {
    "collapsed": false
   },
   "outputs": [],
   "source": [
    "redundancy_for_all_groups_in_all_tenants = pd.DataFrame(columns=['Redundancy', 'No. of Headers'])\n",
    "\n",
    "for i in ['10']:\n",
    "    df = pd.DataFrame()\n",
    "    df['Redundancy'] = plot_data[i]['redundancy_for_all_groups_in_all_tenants']\n",
    "    df['No. of Headers'] = [int(i) for _ in range(len(plot_data[i]['redundancy_for_all_groups_in_all_tenants']))]\n",
    "    redundancy_for_all_groups_in_all_tenants = redundancy_for_all_groups_in_all_tenants.append(df)"
   ]
  },
  {
   "cell_type": "code",
   "execution_count": 19,
   "metadata": {
    "collapsed": false
   },
   "outputs": [
    {
     "data": {
      "image/png": "[encoded data removed]",
      "text/plain": [
       "<matplotlib.figure.Figure at 0x7fabf1e127f0>"
      ]
     },
     "metadata": {},
     "output_type": "display_data"
    }
   ],
   "source": [
    "sb.set(style='ticks', font_scale=1.3)\n",
    "ax = sb.barplot(x='No. of Headers', y='Redundancy', data=redundancy_for_all_groups_in_all_tenants, color='lightgray',\n",
    "               capsize=.2)\n",
    "change_width(ax, .5)\n",
    "# plt.savefig('colocate_48__redundancy_for_all_100K_groups_in_all_tenants.pdf')\n",
    "plt.show()"
   ]
  },
  {
   "cell_type": "code",
   "execution_count": null,
   "metadata": {
    "collapsed": true
   },
   "outputs": [],
   "source": []
  },
  {
   "cell_type": "code",
   "execution_count": 21,
   "metadata": {
    "collapsed": false
   },
   "outputs": [],
   "source": [
    "rules_for_all_groups_count = pd.DataFrame(columns=['No. of Groups (%)', 'All Headers', 'No. of Headers'])\n",
    "\n",
    "for i in ['10']:\n",
    "    df = pd.DataFrame()\n",
    "    df['No. of Groups (%)'] = 100 - (plot_data[i]['rules_for_all_groups_count'] / num_groups * 100)\n",
    "    df['All Headers'] = [False for _ in range(len(plot_data[i]['rules_for_all_groups_count']))]\n",
    "    df['No. of Headers'] = [int(i) for _ in range(len(plot_data[i]['rules_for_all_groups_count']))]\n",
    "    rules_for_all_groups_count = rules_for_all_groups_count.append(df)\n",
    "    \n",
    "#     df = pd.DataFrame()\n",
    "#     df['No. of Groups (%)'] = plot_data[i]['rules_for_all_groups_post_dp_count'] / num_groups * 100\n",
    "#     df['All Headers'] = [True for _ in range(len(plot_data[i]['rules_for_all_groups_post_dp_count']))]\n",
    "#     df['No. of Headers'] = [int(i) for _ in range(len(plot_data[i]['rules_for_all_groups_post_dp_count']))]\n",
    "#     rules_for_all_groups_count = rules_for_all_groups_count.append(df)"
   ]
  },
  {
   "cell_type": "code",
   "execution_count": 22,
   "metadata": {
    "collapsed": false
   },
   "outputs": [
    {
     "data": {
      "image/png": "[encoded data removed]",
      "text/plain": [
       "<matplotlib.figure.Figure at 0x7fabe1e78128>"
      ]
     },
     "metadata": {},
     "output_type": "display_data"
    }
   ],
   "source": [
    "sb.set(style='ticks', font_scale=1.3)\n",
    "g = sb.factorplot(x='No. of Headers', y='No. of Groups (%)', data=rules_for_all_groups_count, \n",
    "                   kind='bar', ci='sd', palette='Greys')\n",
    "change_width(g.ax, .65)\n",
    "# plt.savefig('colocate_48__percentage_100K_groups_handled_by_headers.pdf')\n",
    "plt.show()"
   ]
  },
  {
   "cell_type": "code",
   "execution_count": null,
   "metadata": {
    "collapsed": true
   },
   "outputs": [],
   "source": []
  }
 ],
 "metadata": {
  "kernelspec": {
   "display_name": "Python 3",
   "language": "python",
   "name": "python3"
  },
  "language_info": {
   "codemirror_mode": {
    "name": "ipython",
    "version": 3
   },
   "file_extension": ".py",
   "mimetype": "text/x-python",
   "name": "python",
   "nbconvert_exporter": "python",
   "pygments_lexer": "ipython3",
   "version": "3.5.2"
  }
 },
 "nbformat": 4,
 "nbformat_minor": 1
}
