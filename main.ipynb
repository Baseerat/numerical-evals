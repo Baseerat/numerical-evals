{
 "cells": [
  {
   "cell_type": "code",
   "execution_count": 1,
   "metadata": {},
   "outputs": [],
   "source": [
    "import matplotlib.pyplot as plt\n",
    "plt.style.use('ggplot')\n",
    "# display plots in the notebook\n",
    "%matplotlib inline\n",
    "# increase default figure and font sizes for easier viewing\n",
    "plt.rcParams['figure.figsize'] = (8, 6)\n",
    "plt.rcParams['font.size'] = 14\n",
    "\n",
    "import seaborn as sb\n",
    "import pandas as pd\n",
    "import numpy as np\n",
    "from scipy import stats\n",
    "import random"
   ]
  },
  {
   "cell_type": "code",
   "execution_count": 2,
   "metadata": {
    "collapsed": true
   },
   "outputs": [],
   "source": [
    "from cloud import *\n",
    "from plot import *"
   ]
  },
  {
   "cell_type": "code",
   "execution_count": 3,
   "metadata": {
    "collapsed": true
   },
   "outputs": [],
   "source": [
    "np.random.seed(seed=0)"
   ]
  },
  {
   "cell_type": "markdown",
   "metadata": {},
   "source": [
    "---"
   ]
  },
  {
   "cell_type": "code",
   "execution_count": 4,
   "metadata": {},
   "outputs": [],
   "source": [
    "cloud = Cloud(num_leafs=1056,\n",
    "              num_hosts_per_leaf=48,\n",
    "              max_vms_per_host=20,\n",
    "              num_tenants=3000,\n",
    "              min_vms_per_tenant=10,\n",
    "              max_vms_per_tenant=5000,\n",
    "              vm_dist='expon',\n",
    "              num_groups=100000,\n",
    "              min_group_size=5,\n",
    "              group_size_dist='uniform',\n",
    "              placement_dist='uniform')\n",
    "\n",
    "# cloud = Cloud(num_leafs=48,\n",
    "#               num_hosts_per_leaf=48,\n",
    "#               max_vms_per_host=20,\n",
    "#               num_tenants=100,\n",
    "#               min_vms_per_tenant=10,\n",
    "#               max_vms_per_tenant=100,\n",
    "#               vm_dist='expon-mean',\n",
    "#               num_groups=1000,\n",
    "#               min_group_size=5,\n",
    "#               group_size_dist='uniform',\n",
    "#               placement_dist='uniform')\n",
    "\n",
    "# cloud = Cloud(num_leafs=48,\n",
    "#               num_hosts_per_leaf=48,\n",
    "#               max_vms_per_host=20,\n",
    "#               num_tenants=100,\n",
    "#               min_vms_per_tenant=10,\n",
    "#               max_vms_per_tenant=100,\n",
    "#               vm_dist='expon',\n",
    "#               num_groups=1000,\n",
    "#               min_group_size=5,\n",
    "#               group_size_dist='uniform',\n",
    "#               placement_dist='uniform')"
   ]
  },
  {
   "cell_type": "code",
   "execution_count": null,
   "metadata": {
    "collapsed": true
   },
   "outputs": [],
   "source": []
  },
  {
   "cell_type": "code",
   "execution_count": 5,
   "metadata": {},
   "outputs": [
    {
     "data": {
      "text/plain": [
       "count    2304.000000\n",
       "mean       23.500000\n",
       "std        13.856406\n",
       "min         0.000000\n",
       "25%        11.750000\n",
       "50%        23.500000\n",
       "75%        35.250000\n",
       "max        47.000000\n",
       "dtype: float64"
      ]
     },
     "execution_count": 5,
     "metadata": {},
     "output_type": "execute_result"
    }
   ],
   "source": [
    "cloud.network.host_to_leaf_map.describe()"
   ]
  },
  {
   "cell_type": "code",
   "execution_count": null,
   "metadata": {
    "collapsed": true
   },
   "outputs": [],
   "source": []
  },
  {
   "cell_type": "code",
   "execution_count": 6,
   "metadata": {},
   "outputs": [
    {
     "data": {
      "text/plain": [
       "count    100.000000\n",
       "mean      13.630000\n",
       "std        4.225117\n",
       "min       10.000000\n",
       "25%       10.750000\n",
       "50%       12.000000\n",
       "75%       15.000000\n",
       "max       30.000000\n",
       "dtype: float64"
      ]
     },
     "execution_count": 6,
     "metadata": {},
     "output_type": "execute_result"
    }
   ],
   "source": [
    "cloud.tenants.vm_map.describe()"
   ]
  },
  {
   "cell_type": "code",
   "execution_count": 7,
   "metadata": {},
   "outputs": [
    {
     "data": {
      "text/plain": [
       "count    100.000000\n",
       "mean       9.600000\n",
       "std        3.097735\n",
       "min        7.000000\n",
       "25%        7.750000\n",
       "50%        8.000000\n",
       "75%       11.000000\n",
       "max       22.000000\n",
       "dtype: float64"
      ]
     },
     "execution_count": 7,
     "metadata": {},
     "output_type": "execute_result"
    }
   ],
   "source": [
    "cloud.tenants.group_map.describe()"
   ]
  },
  {
   "cell_type": "code",
   "execution_count": 8,
   "metadata": {},
   "outputs": [
    {
     "data": {
      "text/plain": [
       "count     9.000000\n",
       "mean      7.888889\n",
       "std       2.147350\n",
       "min       5.000000\n",
       "25%       7.000000\n",
       "50%       8.000000\n",
       "75%      10.000000\n",
       "max      11.000000\n",
       "dtype: float64"
      ]
     },
     "execution_count": 8,
     "metadata": {},
     "output_type": "execute_result"
    }
   ],
   "source": [
    "cloud.tenants.group_size_map[0].describe()"
   ]
  },
  {
   "cell_type": "code",
   "execution_count": 9,
   "metadata": {},
   "outputs": [],
   "source": [
    "# cloud.tenants.group_to_vm_map[0][0].describe()"
   ]
  },
  {
   "cell_type": "code",
   "execution_count": null,
   "metadata": {
    "collapsed": true
   },
   "outputs": [],
   "source": []
  },
  {
   "cell_type": "code",
   "execution_count": 10,
   "metadata": {},
   "outputs": [
    {
     "data": {
      "text/plain": [
       "count      13.000000\n",
       "mean      871.923077\n",
       "std       622.767809\n",
       "min       141.000000\n",
       "25%       509.000000\n",
       "50%       755.000000\n",
       "75%      1023.000000\n",
       "max      2242.000000\n",
       "dtype: float64"
      ]
     },
     "execution_count": 10,
     "metadata": {},
     "output_type": "execute_result"
    }
   ],
   "source": [
    "cloud.placement.tenant_vm_to_host_map[0].describe()"
   ]
  },
  {
   "cell_type": "code",
   "execution_count": 11,
   "metadata": {},
   "outputs": [
    {
     "data": {
      "text/plain": [
       "count    13.000000\n",
       "mean     17.538462\n",
       "std      13.061492\n",
       "min       2.000000\n",
       "25%      10.000000\n",
       "50%      15.000000\n",
       "75%      21.000000\n",
       "max      46.000000\n",
       "dtype: float64"
      ]
     },
     "execution_count": 11,
     "metadata": {},
     "output_type": "execute_result"
    }
   ],
   "source": [
    "cloud.placement.tenant_vm_to_leaf_map[0].describe()"
   ]
  },
  {
   "cell_type": "code",
   "execution_count": 12,
   "metadata": {},
   "outputs": [],
   "source": [
    "# len(cloud.placement.tenant_group_to_leaf_map[0][7].unique())"
   ]
  },
  {
   "cell_type": "code",
   "execution_count": 13,
   "metadata": {},
   "outputs": [],
   "source": [
    "# len(cloud.placement.tenant_group_to_leaf_map[0][7])"
   ]
  },
  {
   "cell_type": "markdown",
   "metadata": {},
   "source": [
    "---"
   ]
  },
  {
   "cell_type": "code",
   "execution_count": 14,
   "metadata": {},
   "outputs": [],
   "source": [
    "plot = Plot(plt, Data(cloud))"
   ]
  },
  {
   "cell_type": "code",
   "execution_count": 15,
   "metadata": {},
   "outputs": [
    {
     "data": {
      "image/png": "[encoded data removed]",
      "text/plain": [
       "<matplotlib.figure.Figure at 0x11155b5f8>"
      ]
     },
     "metadata": {},
     "output_type": "display_data"
    }
   ],
   "source": [
    "plot.cdf_leafs_for_all_tenants()"
   ]
  },
  {
   "cell_type": "code",
   "execution_count": null,
   "metadata": {
    "collapsed": true
   },
   "outputs": [],
   "source": []
  }
 ],
 "metadata": {
  "kernelspec": {
   "display_name": "Python 3",
   "language": "python",
   "name": "python3"
  },
  "language_info": {
   "codemirror_mode": {
    "name": "ipython",
    "version": 3
   },
   "file_extension": ".py",
   "mimetype": "text/x-python",
   "name": "python",
   "nbconvert_exporter": "python",
   "pygments_lexer": "ipython3",
   "version": "3.6.1"
  }
 },
 "nbformat": 4,
 "nbformat_minor": 1
}
