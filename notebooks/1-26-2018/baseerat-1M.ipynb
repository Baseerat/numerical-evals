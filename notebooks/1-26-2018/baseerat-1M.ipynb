{
 "cells": [
  {
   "cell_type": "code",
   "execution_count": 1,
   "metadata": {
    "collapsed": true
   },
   "outputs": [],
   "source": [
    "import warnings\n",
    "warnings.filterwarnings('ignore')\n",
    "# For ignoring warnings printed by R magic commands"
   ]
  },
  {
   "cell_type": "code",
   "execution_count": 2,
   "metadata": {
    "collapsed": true
   },
   "outputs": [],
   "source": [
    "import os\n",
    "import glob"
   ]
  },
  {
   "cell_type": "code",
   "execution_count": 3,
   "metadata": {
    "collapsed": true
   },
   "outputs": [],
   "source": [
    "# Import pandas\n",
    "import pandas as pd"
   ]
  },
  {
   "cell_type": "code",
   "execution_count": 4,
   "metadata": {
    "collapsed": true
   },
   "outputs": [],
   "source": [
    "# Load R magic\n",
    "%load_ext rpy2.ipython\n",
    "# Import ggplot2\n",
    "%R require(ggplot2);"
   ]
  },
  {
   "cell_type": "code",
   "execution_count": 5,
   "metadata": {
    "collapsed": false
   },
   "outputs": [],
   "source": [
    "import progressbar\n",
    "\n",
    "def bar_range(x, desc):\n",
    "    widgets = [\n",
    "        '%s: ' % desc, progressbar.Percentage(),\n",
    "        ' ', progressbar.Bar(),\n",
    "        ' ', progressbar.ETA(),\n",
    "    ]\n",
    "    bar = progressbar.ProgressBar(widgets=widgets)\n",
    "    if isinstance(x, range) or isinstance(x, list):\n",
    "        return bar(x)\n",
    "    else:\n",
    "        return bar(range(x))"
   ]
  },
  {
   "cell_type": "code",
   "execution_count": null,
   "metadata": {
    "collapsed": true
   },
   "outputs": [],
   "source": []
  },
  {
   "cell_type": "code",
   "execution_count": 6,
   "metadata": {
    "collapsed": true
   },
   "outputs": [],
   "source": [
    "# If experiment parameters change, modify this function\n",
    "def AddParametersAsColumns(df, folder):\n",
    "    expParams = folder.split('/')[-1].split('.')\n",
    "    \n",
    "    cloudParams = expParams[1].split('_')\n",
    "    df['groupSizeDist'] = cloudParams[10]\n",
    "    df['placementDist'] = cloudParams[11]\n",
    "    df['placementNumHostsPerLeaf'] = 'uniform' if cloudParams[12] == '-1' else cloudParams[12]\n",
    "    df['seed'] = int(cloudParams[15])\n",
    "    \n",
    "    optimizerParams_0 = expParams[2].split('_')\n",
    "    node_type_0 = optimizerParams_0[7]\n",
    "    df['%sAlgorithm' % node_type_0] = optimizerParams_0[0]\n",
    "    df['%sNumBitmaps' % node_type_0] = int(optimizerParams_0[1])\n",
    "    df['%sNumNodesPerBitmap' % node_type_0] = int(optimizerParams_0[2])\n",
    "    df['%sRedundancyPerBitmap' % node_type_0] = int(optimizerParams_0[3])\n",
    "    df['%sNumRules' % node_type_0] = int(optimizerParams_0[4])\n",
    "    \n",
    "    if len(expParams) > 3:\n",
    "        optimizerParams_1 = expParams[3].split('_')\n",
    "        node_type_1 = optimizerParams_1[7]\n",
    "        df['%sAlgorithm' % node_type_1] = optimizerParams_1[0]\n",
    "        df['%sNumBitmaps' % node_type_1] = int(optimizerParams_1[1])\n",
    "        df['%sNumNodesPerBitmap' % node_type_1] = int(optimizerParams_1[2])\n",
    "        df['%sRedundancyPerBitmap' % node_type_1] = int(optimizerParams_1[3])\n",
    "        df['%sNumRules' % node_type_1] = int(optimizerParams_1[4])\n",
    "    \n",
    "# Turns all files of a given filname across a set of folders into a single dataframe\n",
    "def DataSetAsDataFrame(filename, folders, headers, header=None, reset_index=True, add_columns=True):\n",
    "    # Read dataset as dataframe\n",
    "    def ReadDataSet(folder):\n",
    "        df = pd.read_csv(folder + '/' + filename, sep=',', header=header, names=headers)\n",
    "        if add_columns:\n",
    "            AddParametersAsColumns(df, folder)\n",
    "        return df\n",
    "    # Get the list of dataframes\n",
    "    dfs = map(ReadDataSet, folders)\n",
    "    # Combine into a single dataframe\n",
    "    df = pd.concat(dfs)\n",
    "    if reset_index:\n",
    "        df.reset_index(inplace=True)\n",
    "        df.drop('index', axis=1, inplace=True)\n",
    "    return df"
   ]
  },
  {
   "cell_type": "code",
   "execution_count": null,
   "metadata": {
    "collapsed": true
   },
   "outputs": [],
   "source": []
  },
  {
   "cell_type": "code",
   "execution_count": 7,
   "metadata": {
    "collapsed": true
   },
   "outputs": [],
   "source": [
    "%%R \n",
    "plotTheme <- theme(legend.title=element_blank(), legend.position=\"top\", legend.text=element_text(size=6))"
   ]
  },
  {
   "cell_type": "code",
   "execution_count": 8,
   "metadata": {
    "collapsed": true
   },
   "outputs": [],
   "source": [
    "directory = '/mnt/sdc1/baseerat/numerical-evals/1-26-2018/logs-1M/'\n",
    "folders = glob.glob(directory + \"logs.*\")"
   ]
  },
  {
   "cell_type": "code",
   "execution_count": null,
   "metadata": {
    "collapsed": true
   },
   "outputs": [],
   "source": []
  },
  {
   "cell_type": "code",
   "execution_count": 9,
   "metadata": {
    "collapsed": true
   },
   "outputs": [],
   "source": [
    "# vmCountPerTenant = DataSetAsDataFrame('vm_count_per_tenant.csv', \n",
    "#                                       folders, \n",
    "#                                       ['vmCount'])"
   ]
  },
  {
   "cell_type": "code",
   "execution_count": 10,
   "metadata": {
    "collapsed": false
   },
   "outputs": [],
   "source": [
    "# vmCountPerTenant.head(2)"
   ]
  },
  {
   "cell_type": "code",
   "execution_count": 11,
   "metadata": {
    "collapsed": false
   },
   "outputs": [],
   "source": [
    "# criterion = ~((vmCountPerTenant['groupSizeDist'] == 'wve') & \n",
    "#               (vmCountPerTenant['placementDist'] == 'colocate-uniform') & \n",
    "#               (vmCountPerTenant['placementNumHostsPerLeaf'] == 'uniform') & \n",
    "#               (vmCountPerTenant['podsAlgorithm'] == 'exact-match') & \n",
    "#               (vmCountPerTenant['podsNumBitmaps'] == 1) & \n",
    "#               (vmCountPerTenant['podsNumNodesPerBitmap'] == 3) &\n",
    "#               (vmCountPerTenant['podsRedundancyPerBitmap'] == 0) &\n",
    "#               (vmCountPerTenant['podsNumRules'] == 10000))\n",
    "# vmCountPerTenant.drop(vmCountPerTenant.index[criterion], inplace=True)\n",
    "# vmCountPerTenant.drop(['groupSizeDist', 'placementDist', 'placementNumHostsPerLeaf',\n",
    "#                       'podsAlgorithm', 'podsNumBitmaps', 'podsNumNodesPerBitmap', 'podsRedundancyPerBitmap',\n",
    "#                       'podsNumRules'], axis=1, inplace=True)"
   ]
  },
  {
   "cell_type": "code",
   "execution_count": 12,
   "metadata": {
    "collapsed": false
   },
   "outputs": [],
   "source": [
    "# # vmCountPerTenant['vmCount'].quantile([0.0, 0.5, 0.99, 0.999, 0.9999, 1.0])\n",
    "# vmCountPerTenant['vmCount'].describe()"
   ]
  },
  {
   "cell_type": "code",
   "execution_count": 13,
   "metadata": {
    "collapsed": true
   },
   "outputs": [],
   "source": [
    "# vmCountPerTenant.to_csv(directory + 'vm_count_per_tenant.csv', index=False)"
   ]
  },
  {
   "cell_type": "code",
   "execution_count": null,
   "metadata": {
    "collapsed": true
   },
   "outputs": [],
   "source": []
  },
  {
   "cell_type": "code",
   "execution_count": 14,
   "metadata": {
    "collapsed": true
   },
   "outputs": [],
   "source": [
    "# groupCountPerTenant = DataSetAsDataFrame('group_count_per_tenant.csv', \n",
    "#                                          folders, ['groupCount'])"
   ]
  },
  {
   "cell_type": "code",
   "execution_count": 15,
   "metadata": {
    "collapsed": true
   },
   "outputs": [],
   "source": [
    "# criterion = ~((groupCountPerTenant['groupSizeDist'] == 'wve') & \n",
    "#               (groupCountPerTenant['placementDist'] == 'colocate-uniform') & \n",
    "#               (groupCountPerTenant['placementNumHostsPerLeaf'] == 'uniform') & \n",
    "#               (groupCountPerTenant['podsAlgorithm'] == 'exact-match') & \n",
    "#               (groupCountPerTenant['podsNumBitmaps'] == 1) & \n",
    "#               (groupCountPerTenant['podsNumNodesPerBitmap'] == 3) &\n",
    "#               (groupCountPerTenant['podsRedundancyPerBitmap'] == 0) &\n",
    "#               (groupCountPerTenant['podsNumRules'] == 10000))\n",
    "# groupCountPerTenant.drop(groupCountPerTenant.index[criterion], inplace=True)\n",
    "# groupCountPerTenant.drop(['groupSizeDist', 'placementDist', 'placementNumHostsPerLeaf',\n",
    "#                           'podsAlgorithm', 'podsNumBitmaps', 'podsNumNodesPerBitmap', 'podsRedundancyPerBitmap',\n",
    "#                           'podsNumRules'], axis=1, inplace=True)"
   ]
  },
  {
   "cell_type": "code",
   "execution_count": 16,
   "metadata": {
    "collapsed": false
   },
   "outputs": [],
   "source": [
    "# # groupCountPerTenant['groupCount'].quantile([0.0, 0.5, 0.99, 0.999, 0.9999, 1.0])\n",
    "# groupCountPerTenant['groupCount'].describe()"
   ]
  },
  {
   "cell_type": "code",
   "execution_count": 17,
   "metadata": {
    "collapsed": true
   },
   "outputs": [],
   "source": [
    "# groupCountPerTenant.to_csv(directory + 'group_count_per_tenant.csv', index=False)"
   ]
  },
  {
   "cell_type": "code",
   "execution_count": null,
   "metadata": {
    "collapsed": true
   },
   "outputs": [],
   "source": []
  },
  {
   "cell_type": "code",
   "execution_count": 9,
   "metadata": {
    "collapsed": true
   },
   "outputs": [],
   "source": [
    "# _folders = glob.glob(directory + \"logs.*_0.random-fuzzy-match_*_pods\")"
   ]
  },
  {
   "cell_type": "code",
   "execution_count": 18,
   "metadata": {
    "collapsed": true
   },
   "outputs": [],
   "source": [
    "# groupSizePerGroupPerTenant = DataSetAsDataFrame('group_size_per_group_per_tenant.csv', \n",
    "#                                                 _folders, ['groupSize'])"
   ]
  },
  {
   "cell_type": "code",
   "execution_count": 19,
   "metadata": {
    "collapsed": false
   },
   "outputs": [],
   "source": [
    "# len(groupSizePerGroupPerTenant)"
   ]
  },
  {
   "cell_type": "code",
   "execution_count": 20,
   "metadata": {
    "collapsed": true
   },
   "outputs": [],
   "source": [
    "# criterion = ~((groupSizePerGroupPerTenant['placementDist'] == 'colocate-uniform') & \n",
    "#               (groupSizePerGroupPerTenant['placementNumHostsPerLeaf'] == 'uniform') & \n",
    "#               (groupSizePerGroupPerTenant['podsAlgorithm'] == 'exact-match') & \n",
    "#               (groupSizePerGroupPerTenant['podsNumBitmaps'] == 1) & \n",
    "#               (groupSizePerGroupPerTenant['podsNumNodesPerBitmap'] == 3) &\n",
    "#               (groupSizePerGroupPerTenant['podsRedundancyPerBitmap'] == 0) &\n",
    "#               (groupSizePerGroupPerTenant['podsNumRules'] == 10000))\n",
    "# groupSizePerGroupPerTenant.drop(groupSizePerGroupPerTenant.index[criterion], inplace=True)\n",
    "# groupSizePerGroupPerTenant.drop(['placementDist', 'placementNumHostsPerLeaf',\n",
    "#                                  'podsAlgorithm', 'podsNumBitmaps', 'podsNumNodesPerBitmap', \n",
    "#                                  'podsRedundancyPerBitmap', 'podsNumRules'], axis=1, inplace=True)"
   ]
  },
  {
   "cell_type": "code",
   "execution_count": 21,
   "metadata": {
    "collapsed": false
   },
   "outputs": [],
   "source": [
    "# groupSizePerGroupPerTenant.groupby('groupSizeDist')['groupSize'].quantile(\n",
    "#     [0.0, 0.5, 0.8, 0.99, 0.991, 0.992, 0.993, 0.994, 0.995, 0.996, 0.999, 0.9999, 1.0])"
   ]
  },
  {
   "cell_type": "code",
   "execution_count": 22,
   "metadata": {
    "collapsed": true
   },
   "outputs": [],
   "source": [
    "# groupSizePerGroupPerTenant.to_csv(directory + 'group_size_per_group_per_tenant.csv', index=False)"
   ]
  },
  {
   "cell_type": "code",
   "execution_count": null,
   "metadata": {
    "collapsed": true
   },
   "outputs": [],
   "source": []
  },
  {
   "cell_type": "code",
   "execution_count": 10,
   "metadata": {
    "collapsed": false
   },
   "outputs": [],
   "source": [
    "# _folders = glob.glob(directory + \"logs.*_0.*_pods\") + glob.glob(directory + \"logs.*_1.*_pods\")"
   ]
  },
  {
   "cell_type": "code",
   "execution_count": 11,
   "metadata": {
    "collapsed": false
   },
   "outputs": [],
   "source": [
    "# leafCountPerGroupPerTenant = DataSetAsDataFrame('leaf_count_per_group_per_tenant.csv', \n",
    "#                                                 _folders, ['leafCount'])"
   ]
  },
  {
   "cell_type": "code",
   "execution_count": 12,
   "metadata": {
    "collapsed": true
   },
   "outputs": [],
   "source": [
    "# criterion = ~((leafCountPerGroupPerTenant['podsAlgorithm'] == 'exact-match') & \n",
    "#               (leafCountPerGroupPerTenant['podsNumBitmaps'] == 1) & \n",
    "#               (leafCountPerGroupPerTenant['podsNumNodesPerBitmap'] == 3) &\n",
    "#               (leafCountPerGroupPerTenant['podsRedundancyPerBitmap'] == 0) &\n",
    "#               (leafCountPerGroupPerTenant['podsNumRules'] == 10000))\n",
    "# leafCountPerGroupPerTenant.drop(leafCountPerGroupPerTenant.index[criterion], inplace=True)\n",
    "# leafCountPerGroupPerTenant.drop(['podsAlgorithm', 'podsNumBitmaps', 'podsNumNodesPerBitmap', \n",
    "#                                  'podsRedundancyPerBitmap', 'podsNumRules'], axis=1, inplace=True)"
   ]
  },
  {
   "cell_type": "code",
   "execution_count": 23,
   "metadata": {
    "collapsed": false
   },
   "outputs": [],
   "source": [
    "# # leafCountPerGroupPerTenant.groupby(['groupSizeDist', 'placementDist', 'placementNumHostsPerLeaf'])[\n",
    "# #     'leafCount'].quantile([0.0, 0.5, 0.8, 0.99, 0.999, 0.9999, 1.0])\n",
    "# leafCountPerGroupPerTenant.groupby(['groupSizeDist', 'placementDist', 'placementNumHostsPerLeaf'])[\n",
    "#     'leafCount'].describe()"
   ]
  },
  {
   "cell_type": "code",
   "execution_count": 14,
   "metadata": {
    "collapsed": true
   },
   "outputs": [],
   "source": [
    "# leafCountPerGroupPerTenant.to_csv(directory + 'leaf_count_per_group_per_tenant.csv', index=False)"
   ]
  },
  {
   "cell_type": "code",
   "execution_count": null,
   "metadata": {
    "collapsed": true
   },
   "outputs": [],
   "source": []
  },
  {
   "cell_type": "code",
   "execution_count": 8,
   "metadata": {
    "collapsed": true
   },
   "outputs": [],
   "source": [
    "# _folders = glob.glob(directory + \"logs.*_0.*_pods\") + glob.glob(directory + \"logs.*_1.*_pods\")"
   ]
  },
  {
   "cell_type": "code",
   "execution_count": null,
   "metadata": {
    "collapsed": false
   },
   "outputs": [],
   "source": [
    "# podCountPerGroupPerTenant = DataSetAsDataFrame('pod_count_per_group_per_tenant.csv', \n",
    "#                                                 _folders, ['podCount'])"
   ]
  },
  {
   "cell_type": "code",
   "execution_count": 10,
   "metadata": {
    "collapsed": true
   },
   "outputs": [],
   "source": [
    "# criterion = ~((podCountPerGroupPerTenant['podsAlgorithm'] == 'exact-match') & \n",
    "#               (podCountPerGroupPerTenant['podsNumBitmaps'] == 1) & \n",
    "#               (podCountPerGroupPerTenant['podsNumNodesPerBitmap'] == 3) &\n",
    "#               (podCountPerGroupPerTenant['podsRedundancyPerBitmap'] == 0) &\n",
    "#               (podCountPerGroupPerTenant['podsNumRules'] == 10000))\n",
    "# podCountPerGroupPerTenant.drop(podCountPerGroupPerTenant.index[criterion], inplace=True)\n",
    "# podCountPerGroupPerTenant.drop(['podsAlgorithm', 'podsNumBitmaps', 'podsNumNodesPerBitmap', \n",
    "#                                 'podsRedundancyPerBitmap', 'podsNumRules'], axis=1, inplace=True)"
   ]
  },
  {
   "cell_type": "code",
   "execution_count": 24,
   "metadata": {
    "collapsed": false
   },
   "outputs": [],
   "source": [
    "# # podCountPerGroupPerTenant.groupby(['groupSizeDist', 'placementDist', 'placementNumHostsPerLeaf'])[\n",
    "# #     'podCount'].quantile([0.0, 0.5, 0.8, 0.99, 0.999, 0.9999, 1.0])\n",
    "# podCountPerGroupPerTenant.groupby(['groupSizeDist', 'placementDist', 'placementNumHostsPerLeaf'])[\n",
    "#     'podCount'].describe()"
   ]
  },
  {
   "cell_type": "code",
   "execution_count": 25,
   "metadata": {
    "collapsed": true
   },
   "outputs": [],
   "source": [
    "# podCountPerGroupPerTenant.to_csv(directory + 'pod_count_per_group_per_tenant.csv', index=False)"
   ]
  },
  {
   "cell_type": "code",
   "execution_count": null,
   "metadata": {
    "collapsed": true
   },
   "outputs": [],
   "source": []
  },
  {
   "cell_type": "code",
   "execution_count": 26,
   "metadata": {
    "collapsed": false
   },
   "outputs": [],
   "source": [
    "# _folders = glob.glob(directory + \"logs.*_0.random-fuzzy-match_*_pods\") # + glob.glob(directory + \"logs.*_1.*_pods\")"
   ]
  },
  {
   "cell_type": "code",
   "execution_count": 27,
   "metadata": {
    "collapsed": false
   },
   "outputs": [],
   "source": [
    "# podsAlgorithmElapseTime = DataSetAsDataFrame('pods_algorithm_elapse_time.csv', \n",
    "#                                               _folders, ['elapseTime'])"
   ]
  },
  {
   "cell_type": "code",
   "execution_count": 28,
   "metadata": {
    "collapsed": false
   },
   "outputs": [],
   "source": [
    "# len(podsAlgorithmElapseTime)"
   ]
  },
  {
   "cell_type": "code",
   "execution_count": 29,
   "metadata": {
    "collapsed": false
   },
   "outputs": [],
   "source": [
    "# podsAlgorithmElapseTime.head(2)"
   ]
  },
  {
   "cell_type": "code",
   "execution_count": 11,
   "metadata": {
    "collapsed": true
   },
   "outputs": [],
   "source": [
    "# podsAlgorithmElapseTime.drop(['groupSizeDist', 'placementDist', 'placementNumHostsPerLeaf'], axis=1, inplace=True)"
   ]
  },
  {
   "cell_type": "code",
   "execution_count": 30,
   "metadata": {
    "collapsed": false
   },
   "outputs": [],
   "source": [
    "# # podsAlgorithmElapseTime.groupby(['podsAlgorithm', 'podsNumBitmaps', 'podsNumNodesPerBitmap', \n",
    "# #                                 'podsRedundancyPerBitmap', 'podsNumRules'])['elapseTime'].describe()\n",
    "# podsAlgorithmElapseTime.groupby('podsAlgorithm')['elapseTime'].describe()"
   ]
  },
  {
   "cell_type": "code",
   "execution_count": null,
   "metadata": {
    "collapsed": true
   },
   "outputs": [],
   "source": [
    "# podsAlgorithmElapseTime.to_csv(directory + 'pods_algorithm_elapse_time.csv', index=False)"
   ]
  },
  {
   "cell_type": "code",
   "execution_count": null,
   "metadata": {
    "collapsed": true
   },
   "outputs": [],
   "source": []
  },
  {
   "cell_type": "code",
   "execution_count": 15,
   "metadata": {
    "collapsed": true
   },
   "outputs": [],
   "source": [
    "# podsAlgorithmElapseTime['groupSize'] = groupSizePerGroupPerTenant['groupSize']"
   ]
  },
  {
   "cell_type": "code",
   "execution_count": 16,
   "metadata": {
    "collapsed": true
   },
   "outputs": [],
   "source": [
    "# podsAlgorithmElapseTimeTrim = podsAlgorithmElapseTime[\n",
    "#     (((podsAlgorithmElapseTime['placementDist'] == 'colocate-uniform') &\n",
    "#       (podsAlgorithmElapseTime['placementNumHostsPerLeaf'] == 'uniform')) |\n",
    "#      ((podsAlgorithmElapseTime['placementDist'] == 'colocate-colocate-uniform') &\n",
    "#       (podsAlgorithmElapseTime['placementNumHostsPerLeaf'] == '12'))) &\n",
    "#     (podsAlgorithmElapseTime['podsNumRules'] == 64000)\n",
    "# ]"
   ]
  },
  {
   "cell_type": "code",
   "execution_count": 31,
   "metadata": {
    "collapsed": false
   },
   "outputs": [],
   "source": [
    "# podsAlgorithmElapseTimeTrim['placementNumHostsPerLeaf'].unique()"
   ]
  },
  {
   "cell_type": "code",
   "execution_count": 32,
   "metadata": {
    "collapsed": false
   },
   "outputs": [],
   "source": [
    "# podsAlgorithmElapseTimeTrim.to_csv(directory + 'pods_algorithm_elapse_time_trim.csv', index=False)"
   ]
  },
  {
   "cell_type": "code",
   "execution_count": null,
   "metadata": {
    "collapsed": true
   },
   "outputs": [],
   "source": []
  },
  {
   "cell_type": "code",
   "execution_count": null,
   "metadata": {
    "collapsed": true
   },
   "outputs": [],
   "source": [
    "# @Lalith"
   ]
  },
  {
   "cell_type": "code",
   "execution_count": 13,
   "metadata": {
    "collapsed": false
   },
   "outputs": [],
   "source": [
    "# podsAlgorithmElapseTime = pd.read_csv(directory + 'pods_algorithm_elapse_time.csv')"
   ]
  },
  {
   "cell_type": "code",
   "execution_count": 17,
   "metadata": {
    "collapsed": false
   },
   "outputs": [],
   "source": [
    "# podsAlgorithmElapseTimeTrim = podsAlgorithmElapseTime[\n",
    "#     (((podsAlgorithmElapseTime['placementDist'] == 'colocate-uniform') &\n",
    "#       (podsAlgorithmElapseTime['placementNumHostsPerLeaf'] == 'uniform')) |\n",
    "#      ((podsAlgorithmElapseTime['placementDist'] == 'colocate-colocate-uniform') &\n",
    "#       (podsAlgorithmElapseTime['placementNumHostsPerLeaf'] == '12'))) &\n",
    "#     (podsAlgorithmElapseTime['seed'] == 0) &\n",
    "#     (podsAlgorithmElapseTime['podsAlgorithm'] == 'random-fuzzy-match') &\n",
    "#     (podsAlgorithmElapseTime['podsNumRules'] == 64000)\n",
    "# ]"
   ]
  },
  {
   "cell_type": "code",
   "execution_count": null,
   "metadata": {
    "collapsed": false
   },
   "outputs": [],
   "source": [
    "# podsAlgorithmElapseTimeTrim['podsNumRules'].unique()"
   ]
  },
  {
   "cell_type": "code",
   "execution_count": null,
   "metadata": {
    "collapsed": true
   },
   "outputs": [],
   "source": [
    "# podsAlgorithmElapseTimeTrim.to_csv(directory + 'pods_algorithm_elapse_time_trim.csv', index=False)"
   ]
  },
  {
   "cell_type": "code",
   "execution_count": null,
   "metadata": {
    "collapsed": true
   },
   "outputs": [],
   "source": []
  },
  {
   "cell_type": "code",
   "execution_count": null,
   "metadata": {
    "collapsed": true
   },
   "outputs": [],
   "source": []
  },
  {
   "cell_type": "code",
   "execution_count": 33,
   "metadata": {
    "collapsed": false
   },
   "outputs": [],
   "source": [
    "# _leafs_folders = (glob.glob(directory + \"logs.*_0.*.random-fuzzy-match_*_3_0_*_2_3_leafs_*\") +\n",
    "#                   glob.glob(directory + \"logs.*_0.*.random-fuzzy-match_*_3_6_*_2_3_leafs_*\") +\n",
    "#                   glob.glob(directory + \"logs.*_0.*.random-fuzzy-match_*_3_12_*_2_3_leafs_*\"))"
   ]
  },
  {
   "cell_type": "code",
   "execution_count": 34,
   "metadata": {
    "collapsed": false
   },
   "outputs": [],
   "source": [
    "# leafsAlgorithmElapseTime = DataSetAsDataFrame('leafs_algorithm_elapse_time.csv', \n",
    "#                                               _leafs_folders, ['elapseTime'])"
   ]
  },
  {
   "cell_type": "code",
   "execution_count": 35,
   "metadata": {
    "collapsed": false
   },
   "outputs": [],
   "source": [
    "# len(leafsAlgorithmElapseTime)"
   ]
  },
  {
   "cell_type": "code",
   "execution_count": 36,
   "metadata": {
    "collapsed": false
   },
   "outputs": [],
   "source": [
    "# leafsAlgorithmElapseTime.head(2)"
   ]
  },
  {
   "cell_type": "code",
   "execution_count": 38,
   "metadata": {
    "collapsed": false
   },
   "outputs": [],
   "source": [
    "# leafsAlgorithmElapseTime.drop(['groupSizeDist', 'placementDist', 'placementNumHostsPerLeaf',\n",
    "#                                'podsAlgorithm', 'podsNumBitmaps', 'podsNumNodesPerBitmap', \n",
    "#                                'podsRedundancyPerBitmap', 'podsNumRules'], axis=1, inplace=True)"
   ]
  },
  {
   "cell_type": "code",
   "execution_count": 39,
   "metadata": {
    "collapsed": false
   },
   "outputs": [],
   "source": [
    "# leafsAlgorithmElapseTime.groupby('leafsAlgorithm')['elapseTime'].describe()"
   ]
  },
  {
   "cell_type": "code",
   "execution_count": 40,
   "metadata": {
    "collapsed": false
   },
   "outputs": [],
   "source": [
    "# leafsAlgorithmElapseTime.to_csv(directory + 'leafs_algorithm_elapse_time.csv', index=False)"
   ]
  },
  {
   "cell_type": "code",
   "execution_count": null,
   "metadata": {
    "collapsed": true
   },
   "outputs": [],
   "source": []
  },
  {
   "cell_type": "code",
   "execution_count": 41,
   "metadata": {
    "collapsed": true
   },
   "outputs": [],
   "source": [
    "# leafsAlgorithmElapseTime['groupSize'] = groupSizePerGroupPerTenant['groupSize']"
   ]
  },
  {
   "cell_type": "code",
   "execution_count": 42,
   "metadata": {
    "collapsed": true
   },
   "outputs": [],
   "source": [
    "# leafsAlgorithmElapseTimeTrim = leafsAlgorithmElapseTime[\n",
    "#     (((leafsAlgorithmElapseTime['placementDist'] == 'colocate-uniform') &\n",
    "#       (leafsAlgorithmElapseTime['placementNumHostsPerLeaf'] == 'uniform')) |\n",
    "#      ((leafsAlgorithmElapseTime['placementDist'] == 'colocate-colocate-uniform') &\n",
    "#       (leafsAlgorithmElapseTime['placementNumHostsPerLeaf'] == '12'))) &\n",
    "#     (leafsAlgorithmElapseTime['podsNumRules'] == 64000)\n",
    "# ]"
   ]
  },
  {
   "cell_type": "code",
   "execution_count": 43,
   "metadata": {
    "collapsed": false
   },
   "outputs": [],
   "source": [
    "# leafsAlgorithmElapseTimeTrim['placementNumHostsPerLeaf'].unique()"
   ]
  },
  {
   "cell_type": "code",
   "execution_count": 44,
   "metadata": {
    "collapsed": true
   },
   "outputs": [],
   "source": [
    "# leafsAlgorithmElapseTimeTrim.to_csv(directory + 'leafs_algorithm_elapse_time_trim.csv', index=False)"
   ]
  },
  {
   "cell_type": "code",
   "execution_count": null,
   "metadata": {
    "collapsed": true
   },
   "outputs": [],
   "source": []
  },
  {
   "cell_type": "code",
   "execution_count": 45,
   "metadata": {
    "collapsed": false
   },
   "outputs": [],
   "source": [
    "# leafsAlgorithmElapseTimeTrim[leafsAlgorithmElapseTimeTrim['groupSize'] > 100][['groupSize', 'elapseTime']].head(10)"
   ]
  },
  {
   "cell_type": "code",
   "execution_count": null,
   "metadata": {
    "collapsed": true
   },
   "outputs": [],
   "source": []
  },
  {
   "cell_type": "code",
   "execution_count": null,
   "metadata": {
    "collapsed": true
   },
   "outputs": [],
   "source": [
    "# @Lalith"
   ]
  },
  {
   "cell_type": "code",
   "execution_count": 10,
   "metadata": {
    "collapsed": false
   },
   "outputs": [],
   "source": [
    "# leafsAlgorithmElapseTime = pd.read_csv(directory + 'leafs_algorithm_elapse_time.csv')"
   ]
  },
  {
   "cell_type": "code",
   "execution_count": 12,
   "metadata": {
    "collapsed": false
   },
   "outputs": [],
   "source": [
    "# leafsAlgorithmElapseTimeTrim = leafsAlgorithmElapseTime[\n",
    "#     (((leafsAlgorithmElapseTime['placementDist'] == 'colocate-uniform') &\n",
    "#       (leafsAlgorithmElapseTime['placementNumHostsPerLeaf'] == 'uniform')) |\n",
    "#      ((leafsAlgorithmElapseTime['placementDist'] == 'colocate-colocate-uniform') &\n",
    "#       (leafsAlgorithmElapseTime['placementNumHostsPerLeaf'] == '12'))) &\n",
    "#     (leafsAlgorithmElapseTime['seed'] == 0) &\n",
    "#     (leafsAlgorithmElapseTime['leafsAlgorithm'] == 'random-fuzzy-match') &\n",
    "#     (leafsAlgorithmElapseTime['leafsNumRules'] == 64000)\n",
    "# ]"
   ]
  },
  {
   "cell_type": "code",
   "execution_count": 13,
   "metadata": {
    "collapsed": true
   },
   "outputs": [],
   "source": [
    "# leafsAlgorithmElapseTimeTrim.to_csv(directory + 'leafs_algorithm_elapse_time_trim.csv', index=False)"
   ]
  },
  {
   "cell_type": "code",
   "execution_count": null,
   "metadata": {
    "collapsed": true
   },
   "outputs": [],
   "source": []
  },
  {
   "cell_type": "code",
   "execution_count": null,
   "metadata": {
    "collapsed": true
   },
   "outputs": [],
   "source": []
  },
  {
   "cell_type": "code",
   "execution_count": 46,
   "metadata": {
    "collapsed": true
   },
   "outputs": [],
   "source": [
    "# groupsCoveredWithBitmapsOnlyForPods = DataSetAsDataFrame('groups_covered_with_bitmaps_only_for_pods.csv', \n",
    "#                                                          folders, \n",
    "#                                                          ['groupsCovered', 'groupsCoveredWithoutDefaultBitmap'],\n",
    "#                                                          header=0)"
   ]
  },
  {
   "cell_type": "code",
   "execution_count": 9,
   "metadata": {
    "collapsed": false
   },
   "outputs": [],
   "source": [
    "# %%R -i groupsCoveredWithBitmapsOnlyForPods\n",
    "# ggplot(groupsCoveredWithBitmapsOnlyForPods) +\n",
    "#    geom_bar(aes(y=groupsCoveredWithoutDefaultBitmap, x=factor(podsNumBitmaps), \n",
    "#                 fill=interaction(podsAlgorithm, podsNumNodesPerBitmap, podsRedundancyPerBitmap)),\n",
    "#             stat=\"identity\",position=position_dodge()) +\n",
    "#    facet_grid(groupSizeDist * podsNumRules ~ factor(placementNumHostsPerLeaf, levels=c('uniform','12','24','48'))) +\n",
    "#    xlab(\"Number of bitmaps\") +\n",
    "#    ylab(\"Groups covered (without default bitmap)\") +\n",
    "#    plotTheme"
   ]
  },
  {
   "cell_type": "code",
   "execution_count": 47,
   "metadata": {
    "collapsed": true
   },
   "outputs": [],
   "source": [
    "# groupsCoveredWithBitmapsOnlyForPods.to_csv(directory + 'groups_covered_with_bitmaps_only_for_pods.csv', index=False)"
   ]
  },
  {
   "cell_type": "code",
   "execution_count": null,
   "metadata": {
    "collapsed": true
   },
   "outputs": [],
   "source": []
  },
  {
   "cell_type": "code",
   "execution_count": 48,
   "metadata": {
    "collapsed": true
   },
   "outputs": [],
   "source": [
    "# groupsCoveredWithBitmapsOnlyForLeafs = DataSetAsDataFrame('groups_covered_with_bitmaps_only_for_leafs.csv', \n",
    "#                                                           leafs_folders, \n",
    "#                                                           ['groupsCovered', 'groupsCoveredWithoutDefaultBitmap'],\n",
    "#                                                           header=0)"
   ]
  },
  {
   "cell_type": "code",
   "execution_count": 12,
   "metadata": {
    "collapsed": false
   },
   "outputs": [],
   "source": [
    "# %%R -i groupsCoveredWithBitmapsOnlyForLeafs\n",
    "# ggplot(groupsCoveredWithBitmapsOnlyForLeafs) +\n",
    "#    geom_bar(aes(y=groupsCoveredWithoutDefaultBitmap, x=factor(leafsNumBitmaps), \n",
    "#                 fill=interaction(leafsAlgorithm, leafsNumNodesPerBitmap, leafsRedundancyPerBitmap)),\n",
    "#             stat=\"identity\",position=position_dodge()) +\n",
    "#    facet_grid(groupSizeDist * leafsNumRules ~ factor(placementNumHostsPerLeaf, levels=c('uniform','12','24','48'))) +\n",
    "#    xlab(\"Number of bitmaps\") +\n",
    "#    ylab(\"Groups covered (without default bitmap)\") +\n",
    "#    plotTheme"
   ]
  },
  {
   "cell_type": "code",
   "execution_count": 49,
   "metadata": {
    "collapsed": true
   },
   "outputs": [],
   "source": [
    "# groupsCoveredWithBitmapsOnlyForLeafs.to_csv(directory + 'groups_covered_with_bitmaps_only_for_leafs.csv', index=False)"
   ]
  },
  {
   "cell_type": "code",
   "execution_count": null,
   "metadata": {
    "collapsed": true
   },
   "outputs": [],
   "source": []
  },
  {
   "cell_type": "code",
   "execution_count": 50,
   "metadata": {
    "collapsed": true
   },
   "outputs": [],
   "source": [
    "# ruleCountForPods = DataSetAsDataFrame('rule_count_for_pods.csv', \n",
    "#                                       folders, ['numRules'])"
   ]
  },
  {
   "cell_type": "code",
   "execution_count": 15,
   "metadata": {
    "collapsed": false
   },
   "outputs": [],
   "source": [
    "# %%R -i ruleCountForPods\n",
    "# ggplot(ruleCountForPods) +\n",
    "#     geom_boxplot(aes(y=numRules, x=factor(podsNumBitmaps), \n",
    "#                      fill=interaction(podsAlgorithm, podsNumNodesPerBitmap, podsRedundancyPerBitmap)),\n",
    "#                  outlier.size=0.5) +\n",
    "#     facet_grid(groupSizeDist * podsNumRules ~ factor(placementNumHostsPerLeaf, levels=c('uniform','12','24','48'))) +\n",
    "#     xlab(\"Number of bitmaps\") +\n",
    "#     ylab(\"Number of rules\") +\n",
    "#     plotTheme"
   ]
  },
  {
   "cell_type": "code",
   "execution_count": 51,
   "metadata": {
    "collapsed": true
   },
   "outputs": [],
   "source": [
    "# ruleCountForPods.to_csv(directory + 'rule_count_for_pods.csv', index=False)"
   ]
  },
  {
   "cell_type": "code",
   "execution_count": null,
   "metadata": {
    "collapsed": true
   },
   "outputs": [],
   "source": []
  },
  {
   "cell_type": "code",
   "execution_count": 52,
   "metadata": {
    "collapsed": true
   },
   "outputs": [],
   "source": [
    "# ruleCountForLeafs = DataSetAsDataFrame('rule_count_for_leafs.csv', \n",
    "#                                        leafs_folders, ['numRules'])"
   ]
  },
  {
   "cell_type": "code",
   "execution_count": 18,
   "metadata": {
    "collapsed": false
   },
   "outputs": [],
   "source": [
    "# %%R -i ruleCountForLeafs\n",
    "# ggplot(ruleCountForLeafs) +\n",
    "#     geom_boxplot(aes(y=numRules, x=factor(leafsNumBitmaps), \n",
    "#                      fill=interaction(leafsAlgorithm, leafsNumNodesPerBitmap, leafsRedundancyPerBitmap)),\n",
    "#                  outlier.size=0.5) +\n",
    "#     facet_grid(groupSizeDist * leafsNumRules ~ factor(placementNumHostsPerLeaf, levels=c('uniform','12','24','48'))) +\n",
    "#     xlab(\"Number of bitmaps\") +\n",
    "#     ylab(\"Number of rules\") +\n",
    "#     plotTheme"
   ]
  },
  {
   "cell_type": "code",
   "execution_count": 53,
   "metadata": {
    "collapsed": true
   },
   "outputs": [],
   "source": [
    "# ruleCountForLeafs.to_csv(directory + 'rule_count_for_leafs.csv', index=False)"
   ]
  },
  {
   "cell_type": "code",
   "execution_count": null,
   "metadata": {
    "collapsed": true
   },
   "outputs": [],
   "source": []
  },
  {
   "cell_type": "code",
   "execution_count": 8,
   "metadata": {
    "collapsed": true
   },
   "outputs": [],
   "source": [
    "# trafficOverheadPerGroupPerTenantForPods = DataSetAsDataFrame(\n",
    "#     'traffic_overhead_per_group_per_tenant_for_pods.csv', folders, ['trafficOverhead'])"
   ]
  },
  {
   "cell_type": "code",
   "execution_count": 9,
   "metadata": {
    "collapsed": false
   },
   "outputs": [],
   "source": [
    "# trafficOverheadPerGroupPerTenantForPods = trafficOverheadPerGroupPerTenantForPods.groupby(\n",
    "#     ['groupSizeDist', 'placementDist', 'placementNumHostsPerLeaf', 'seed',\n",
    "#      'podsAlgorithm', 'podsNumBitmaps', 'podsNumNodesPerBitmap', 'podsRedundancyPerBitmap',\n",
    "#     'podsNumRules']).mean()"
   ]
  },
  {
   "cell_type": "code",
   "execution_count": 10,
   "metadata": {
    "collapsed": true
   },
   "outputs": [],
   "source": [
    "# trafficOverheadPerGroupPerTenantForPods = trafficOverheadPerGroupPerTenantForPods.reset_index()"
   ]
  },
  {
   "cell_type": "code",
   "execution_count": 11,
   "metadata": {
    "collapsed": false
   },
   "outputs": [],
   "source": [
    "# %%R -i trafficOverheadPerGroupPerTenantForPods\n",
    "# ggplot(trafficOverheadPerGroupPerTenantForPods) +\n",
    "#     geom_boxplot(aes(y=trafficOverhead, x=factor(podsNumBitmaps), \n",
    "#                      fill=interaction(podsAlgorithm, podsNumNodesPerBitmap, podsRedundancyPerBitmap))) +\n",
    "#     facet_grid(groupSizeDist * podsNumRules ~ factor(placementNumHostsPerLeaf, levels=c('uniform','12','24','48'))) +\n",
    "#     xlab(\"Number of bitmaps\") +\n",
    "#     ylab(\"Traffic overhead per group\") +\n",
    "#     plotTheme"
   ]
  },
  {
   "cell_type": "code",
   "execution_count": 12,
   "metadata": {
    "collapsed": false
   },
   "outputs": [],
   "source": [
    "# trafficOverheadPerGroupPerTenantForLeafs = DataSetAsDataFrame(\n",
    "#     'traffic_overhead_per_group_per_tenant_for_leafs.csv', leafs_folders, ['trafficOverhead'])"
   ]
  },
  {
   "cell_type": "code",
   "execution_count": 13,
   "metadata": {
    "collapsed": false
   },
   "outputs": [],
   "source": [
    "# trafficOverheadPerGroupPerTenantForLeafs = trafficOverheadPerGroupPerTenantForLeafs.groupby(\n",
    "#     ['groupSizeDist', 'placementDist', 'placementNumHostsPerLeaf', 'seed',\n",
    "#      'podsAlgorithm', 'podsNumBitmaps', 'podsNumNodesPerBitmap', 'podsRedundancyPerBitmap',\n",
    "#      'podsNumRules', \n",
    "#      'leafsAlgorithm', 'leafsNumBitmaps', 'leafsNumNodesPerBitmap', 'leafsRedundancyPerBitmap',\n",
    "#      'leafsNumRules']).mean()"
   ]
  },
  {
   "cell_type": "code",
   "execution_count": 14,
   "metadata": {
    "collapsed": true
   },
   "outputs": [],
   "source": [
    "# trafficOverheadPerGroupPerTenantForLeafs = trafficOverheadPerGroupPerTenantForLeafs.reset_index()"
   ]
  },
  {
   "cell_type": "code",
   "execution_count": 15,
   "metadata": {
    "collapsed": true
   },
   "outputs": [],
   "source": [
    "# %%R -i trafficOverheadPerGroupPerTenantForLeafs\n",
    "# ggplot(trafficOverheadPerGroupPerTenantForLeafs) +\n",
    "#     geom_boxplot(aes(y=trafficOverhead, x=factor(leafsNumBitmaps), \n",
    "#                      fill=interaction(leafsAlgorithm, leafsNumNodesPerBitmap, leafsRedundancyPerBitmap))) +\n",
    "#     facet_grid(groupSizeDist * leafsNumRules ~ factor(placementNumHostsPerLeaf, levels=c('uniform','12','24','48'))) +\n",
    "#     xlab(\"Number of bitmaps\") +\n",
    "#     ylab(\"Traffic overhead per group\") +\n",
    "#     plotTheme"
   ]
  },
  {
   "cell_type": "code",
   "execution_count": null,
   "metadata": {
    "collapsed": true
   },
   "outputs": [],
   "source": []
  },
  {
   "cell_type": "code",
   "execution_count": null,
   "metadata": {
    "collapsed": false
   },
   "outputs": [],
   "source": [
    "# trafficPerGroupPerTenant = DataSetAsDataFrame('traffic_per_group_per_tenant.csv', \n",
    "#                                               leafs_folders, \n",
    "#                                               ['multicastTraffic', 'unicastTraffic', \n",
    "#                                                'overlayTraffic', 'baseeratTraffic'],\n",
    "#                                               header=0)"
   ]
  },
  {
   "cell_type": "code",
   "execution_count": null,
   "metadata": {
    "collapsed": true
   },
   "outputs": [],
   "source": [
    "# trafficPerGroupPerTenant = trafficPerGroupPerTenant.groupby(\n",
    "#     ['groupSizeDist', 'placementDist', 'placementNumHostsPerLeaf', 'seed',\n",
    "#      'podsAlgorithm', 'podsNumBitmaps', 'podsNumNodesPerBitmap', 'podsRedundancyPerBitmap', 'podsNumRules', \n",
    "#      'leafsAlgorithm', 'leafsNumBitmaps', 'leafsNumNodesPerBitmap', 'leafsRedundancyPerBitmap', 'leafsNumRules'])[\n",
    "#     ['unicastTraffic', 'multicastTraffic', 'baseeratTraffic', 'overlayTraffic']].agg('sum')\n",
    "# trafficPerGroupPerTenant.reset_index(inplace=True)"
   ]
  },
  {
   "cell_type": "code",
   "execution_count": null,
   "metadata": {
    "collapsed": false
   },
   "outputs": [],
   "source": [
    "# trafficPerGroupPerTenant.to_csv(directory + 'traffic_per_group_per_tenant.csv', index=False)"
   ]
  },
  {
   "cell_type": "code",
   "execution_count": null,
   "metadata": {
    "collapsed": true
   },
   "outputs": [],
   "source": []
  },
  {
   "cell_type": "code",
   "execution_count": 9,
   "metadata": {
    "collapsed": true
   },
   "outputs": [],
   "source": [
    "# If experiment parameters change, modify this function\n",
    "def AddParametersAsColumns(df, folder):\n",
    "    expParams = folder.split('/')[-1].split('.')\n",
    "    \n",
    "    cloudParams = expParams[1].split('_')\n",
    "    df['groupSizeDist'] = cloudParams[10]\n",
    "    df['placementDist'] = cloudParams[11]\n",
    "    df['placementNumHostsPerLeaf'] = 'uniform' if cloudParams[12] == '-1' else cloudParams[12]\n",
    "    df['seed'] = int(cloudParams[15])\n",
    "    \n",
    "    optimizerParams_0 = expParams[2].split('_')\n",
    "    node_type_0 = optimizerParams_0[7]\n",
    "    df['%sAlgorithm' % node_type_0] = optimizerParams_0[0]\n",
    "    df['%sNumBitmaps' % node_type_0] = int(optimizerParams_0[1])\n",
    "    df['%sNumNodesPerBitmap' % node_type_0] = int(optimizerParams_0[2])\n",
    "    df['%sRedundancyPerBitmap' % node_type_0] = int(optimizerParams_0[3])\n",
    "    df['%sNumRules' % node_type_0] = int(optimizerParams_0[4])\n",
    "    \n",
    "    if len(expParams) > 3:\n",
    "        optimizerParams_1 = expParams[3].split('_')\n",
    "        node_type_1 = optimizerParams_1[7]\n",
    "        df['%sAlgorithm' % node_type_1] = optimizerParams_1[0]\n",
    "        df['%sNumBitmaps' % node_type_1] = int(optimizerParams_1[1])\n",
    "        df['%sNumNodesPerBitmap' % node_type_1] = int(optimizerParams_1[2])\n",
    "        df['%sRedundancyPerBitmap' % node_type_1] = int(optimizerParams_1[3])\n",
    "        df['%sNumRules' % node_type_1] = int(optimizerParams_1[4])\n",
    "    \n",
    "# Turns all files of a given filname across a set of folders into a single dataframe\n",
    "def DataSetAsDataFrame(filename, filename_bytes, folders, headers, headers_bytes, header=None, header_bytes=None, reset_index=True, add_columns=True):\n",
    "    # Read dataset as dataframe\n",
    "    def ReadDataSet(folder):\n",
    "        df = pd.read_csv(folder + '/' + filename, sep=',', header=header, names=headers)\n",
    "        df_bytes = pd.read_csv(folder + '/' + filename_bytes, sep=',', header=header_bytes, names=headers_bytes)\n",
    "        \n",
    "        small_message_size = 64 + 50  # for VXLAN\n",
    "        df['multicastTraffic64B'] = df['multicastTraffic'] * small_message_size \n",
    "        df['unicastTraffic64B'] = df['unicastTraffic'] * small_message_size\n",
    "        df['overlayTrafficCorrected64B'] = df['overlayTrafficCorrected'] * small_message_size\n",
    "        df['baseeratTraffic64B'] = (df['baseeratTraffic'] * small_message_size) + df_bytes['baseeratHeaderTraffic']\n",
    "        \n",
    "        medium_message_size = 512 + 50  # for VXLAN\n",
    "        df['multicastTraffic512B'] = df['multicastTraffic'] * medium_message_size \n",
    "        df['unicastTraffic512B'] = df['unicastTraffic'] * medium_message_size\n",
    "        df['overlayTrafficCorrected512B'] = df['overlayTrafficCorrected'] * medium_message_size\n",
    "        df['baseeratTraffic512B'] = (df['baseeratTraffic'] * medium_message_size) + df_bytes['baseeratHeaderTraffic']\n",
    "        \n",
    "        large_message_size = 1500 + 50  # for VXLAN\n",
    "        df['multicastTraffic1500B'] = df['multicastTraffic'] * large_message_size \n",
    "        df['unicastTraffic1500B'] = df['unicastTraffic'] * large_message_size\n",
    "        df['overlayTrafficCorrected1500B'] = df['overlayTrafficCorrected'] * large_message_size\n",
    "        df['baseeratTraffic1500B'] = (df['baseeratTraffic'] * large_message_size) + df_bytes['baseeratHeaderTraffic']\n",
    "        \n",
    "        if add_columns:\n",
    "            AddParametersAsColumns(df, folder)\n",
    "        return df\n",
    "    # Get the list of dataframes\n",
    "    dfs = map(ReadDataSet, folders)\n",
    "    # Combine into a single dataframe\n",
    "    df = pd.concat(dfs)\n",
    "    if reset_index:\n",
    "        df.reset_index(inplace=True)\n",
    "        df.drop('index', axis=1, inplace=True)\n",
    "    return df"
   ]
  },
  {
   "cell_type": "code",
   "execution_count": null,
   "metadata": {
    "collapsed": true
   },
   "outputs": [],
   "source": []
  },
  {
   "cell_type": "code",
   "execution_count": 10,
   "metadata": {
    "collapsed": true
   },
   "outputs": [],
   "source": [
    "leafs_folders_0 = glob.glob(directory + \"logs.*_0.*_leafs*\")"
   ]
  },
  {
   "cell_type": "code",
   "execution_count": 11,
   "metadata": {
    "collapsed": false
   },
   "outputs": [],
   "source": [
    "trafficPerGroupPerTenant_0 = DataSetAsDataFrame(\n",
    "    filename='traffic_per_group_per_tenant.csv', \n",
    "    filename_bytes='traffic_per_group_per_tenant_for_baseerat_bytes.csv',\n",
    "    folders=leafs_folders_0, \n",
    "    headers=['multicastTraffic', 'unicastTraffic', 'overlayTraffic', 'overlayTrafficCorrected', 'baseeratTraffic'],\n",
    "    headers_bytes=['baseeratHeaderTraffic'],\n",
    "    header=0, reset_index=False)"
   ]
  },
  {
   "cell_type": "code",
   "execution_count": 12,
   "metadata": {
    "collapsed": false
   },
   "outputs": [
    {
     "data": {
      "text/plain": [
       "Index(['multicastTraffic', 'unicastTraffic', 'overlayTraffic',\n",
       "       'overlayTrafficCorrected', 'baseeratTraffic', 'multicastTraffic64B',\n",
       "       'unicastTraffic64B', 'overlayTrafficCorrected64B', 'baseeratTraffic64B',\n",
       "       'multicastTraffic512B', 'unicastTraffic512B',\n",
       "       'overlayTrafficCorrected512B', 'baseeratTraffic512B',\n",
       "       'multicastTraffic1500B', 'unicastTraffic1500B',\n",
       "       'overlayTrafficCorrected1500B', 'baseeratTraffic1500B', 'groupSizeDist',\n",
       "       'placementDist', 'placementNumHostsPerLeaf', 'seed', 'podsAlgorithm',\n",
       "       'podsNumBitmaps', 'podsNumNodesPerBitmap', 'podsRedundancyPerBitmap',\n",
       "       'podsNumRules', 'leafsAlgorithm', 'leafsNumBitmaps',\n",
       "       'leafsNumNodesPerBitmap', 'leafsRedundancyPerBitmap', 'leafsNumRules'],\n",
       "      dtype='object')"
      ]
     },
     "execution_count": 12,
     "metadata": {},
     "output_type": "execute_result"
    }
   ],
   "source": [
    "trafficPerGroupPerTenant_0.columns"
   ]
  },
  {
   "cell_type": "code",
   "execution_count": 13,
   "metadata": {
    "collapsed": false
   },
   "outputs": [],
   "source": [
    "trafficPerGroupPerTenant_0 = trafficPerGroupPerTenant_0.groupby(\n",
    "    ['groupSizeDist', 'placementDist', 'placementNumHostsPerLeaf', 'seed',\n",
    "     'podsAlgorithm', 'podsNumBitmaps', 'podsNumNodesPerBitmap', 'podsRedundancyPerBitmap', 'podsNumRules', \n",
    "     'leafsAlgorithm', 'leafsNumBitmaps', 'leafsNumNodesPerBitmap', 'leafsRedundancyPerBitmap', 'leafsNumRules'])[\n",
    "    ['unicastTraffic', 'multicastTraffic', 'baseeratTraffic', 'overlayTrafficCorrected',\n",
    "     'unicastTraffic64B', 'multicastTraffic64B', 'baseeratTraffic64B', 'overlayTrafficCorrected64B',\n",
    "     'unicastTraffic512B', 'multicastTraffic512B', 'baseeratTraffic512B', 'overlayTrafficCorrected512B',\n",
    "     'unicastTraffic1500B', 'multicastTraffic1500B', 'baseeratTraffic1500B', 'overlayTrafficCorrected1500B']].agg('sum')\n",
    "trafficPerGroupPerTenant_0.reset_index(inplace=True)"
   ]
  },
  {
   "cell_type": "code",
   "execution_count": 20,
   "metadata": {
    "collapsed": true
   },
   "outputs": [],
   "source": [
    "trafficPerGroupPerTenant_0.to_csv(directory + 'traffic_per_group_per_tenant_0.csv', index=False)"
   ]
  },
  {
   "cell_type": "code",
   "execution_count": null,
   "metadata": {
    "collapsed": true
   },
   "outputs": [],
   "source": []
  },
  {
   "cell_type": "code",
   "execution_count": 17,
   "metadata": {
    "collapsed": false
   },
   "outputs": [
    {
     "data": {
      "text/plain": [
       "0    1.134503\n",
       "1    1.026009\n",
       "dtype: float64"
      ]
     },
     "execution_count": 17,
     "metadata": {},
     "output_type": "execute_result"
    }
   ],
   "source": [
    "(trafficPerGroupPerTenant_0['baseeratTraffic64B']/trafficPerGroupPerTenant_0['multicastTraffic64B']).head(2)"
   ]
  },
  {
   "cell_type": "code",
   "execution_count": null,
   "metadata": {
    "collapsed": true
   },
   "outputs": [],
   "source": []
  },
  {
   "cell_type": "code",
   "execution_count": 21,
   "metadata": {
    "collapsed": true
   },
   "outputs": [],
   "source": [
    "leafs_folders_1 = glob.glob(directory + \"logs.*_1.*_leafs*\")"
   ]
  },
  {
   "cell_type": "code",
   "execution_count": 22,
   "metadata": {
    "collapsed": true
   },
   "outputs": [],
   "source": [
    "trafficPerGroupPerTenant_1 = DataSetAsDataFrame(\n",
    "    filename='traffic_per_group_per_tenant.csv', \n",
    "    filename_bytes='traffic_per_group_per_tenant_for_baseerat_bytes.csv',\n",
    "    folders=leafs_folders_1, \n",
    "    headers=['multicastTraffic', 'unicastTraffic', 'overlayTraffic', 'overlayTrafficCorrected', 'baseeratTraffic'],\n",
    "    headers_bytes=['baseeratHeaderTraffic'],\n",
    "    header=0, reset_index=False)"
   ]
  },
  {
   "cell_type": "code",
   "execution_count": 23,
   "metadata": {
    "collapsed": true
   },
   "outputs": [],
   "source": [
    "trafficPerGroupPerTenant_1 = trafficPerGroupPerTenant_1.groupby(\n",
    "    ['groupSizeDist', 'placementDist', 'placementNumHostsPerLeaf', 'seed',\n",
    "     'podsAlgorithm', 'podsNumBitmaps', 'podsNumNodesPerBitmap', 'podsRedundancyPerBitmap', 'podsNumRules', \n",
    "     'leafsAlgorithm', 'leafsNumBitmaps', 'leafsNumNodesPerBitmap', 'leafsRedundancyPerBitmap', 'leafsNumRules'])[\n",
    "    ['unicastTraffic', 'multicastTraffic', 'baseeratTraffic', 'overlayTrafficCorrected',\n",
    "     'unicastTraffic64B', 'multicastTraffic64B', 'baseeratTraffic64B', 'overlayTrafficCorrected64B',\n",
    "     'unicastTraffic512B', 'multicastTraffic512B', 'baseeratTraffic512B', 'overlayTrafficCorrected512B',\n",
    "     'unicastTraffic1500B', 'multicastTraffic1500B', 'baseeratTraffic1500B', 'overlayTrafficCorrected1500B']].agg('sum')\n",
    "trafficPerGroupPerTenant_1.reset_index(inplace=True)"
   ]
  },
  {
   "cell_type": "code",
   "execution_count": 24,
   "metadata": {
    "collapsed": true
   },
   "outputs": [],
   "source": [
    "trafficPerGroupPerTenant_1.to_csv(directory + 'traffic_per_group_per_tenant_1.csv', index=False)"
   ]
  },
  {
   "cell_type": "code",
   "execution_count": null,
   "metadata": {
    "collapsed": true
   },
   "outputs": [],
   "source": []
  },
  {
   "cell_type": "code",
   "execution_count": 25,
   "metadata": {
    "collapsed": false
   },
   "outputs": [
    {
     "data": {
      "text/plain": [
       "0    1.094125\n",
       "1    1.026967\n",
       "dtype: float64"
      ]
     },
     "execution_count": 25,
     "metadata": {},
     "output_type": "execute_result"
    }
   ],
   "source": [
    "(trafficPerGroupPerTenant_1['baseeratTraffic64B']/trafficPerGroupPerTenant_1['multicastTraffic64B']).head(2)"
   ]
  },
  {
   "cell_type": "code",
   "execution_count": null,
   "metadata": {
    "collapsed": true
   },
   "outputs": [],
   "source": []
  },
  {
   "cell_type": "code",
   "execution_count": 27,
   "metadata": {
    "collapsed": true
   },
   "outputs": [],
   "source": [
    "leafs_folders_2 = glob.glob(directory + \"logs.*_2.*_leafs*\")"
   ]
  },
  {
   "cell_type": "code",
   "execution_count": 28,
   "metadata": {
    "collapsed": true
   },
   "outputs": [],
   "source": [
    "trafficPerGroupPerTenant_2 = DataSetAsDataFrame(\n",
    "    filename='traffic_per_group_per_tenant.csv', \n",
    "    filename_bytes='traffic_per_group_per_tenant_for_baseerat_bytes.csv',\n",
    "    folders=leafs_folders_2, \n",
    "    headers=['multicastTraffic', 'unicastTraffic', 'overlayTraffic', 'overlayTrafficCorrected', 'baseeratTraffic'],\n",
    "    headers_bytes=['baseeratHeaderTraffic'],\n",
    "    header=0, reset_index=False)"
   ]
  },
  {
   "cell_type": "code",
   "execution_count": 29,
   "metadata": {
    "collapsed": true
   },
   "outputs": [],
   "source": [
    "trafficPerGroupPerTenant_2 = trafficPerGroupPerTenant_2.groupby(\n",
    "    ['groupSizeDist', 'placementDist', 'placementNumHostsPerLeaf', 'seed',\n",
    "     'podsAlgorithm', 'podsNumBitmaps', 'podsNumNodesPerBitmap', 'podsRedundancyPerBitmap', 'podsNumRules', \n",
    "     'leafsAlgorithm', 'leafsNumBitmaps', 'leafsNumNodesPerBitmap', 'leafsRedundancyPerBitmap', 'leafsNumRules'])[\n",
    "    ['unicastTraffic', 'multicastTraffic', 'baseeratTraffic', 'overlayTrafficCorrected',\n",
    "     'unicastTraffic64B', 'multicastTraffic64B', 'baseeratTraffic64B', 'overlayTrafficCorrected64B',\n",
    "     'unicastTraffic512B', 'multicastTraffic512B', 'baseeratTraffic512B', 'overlayTrafficCorrected512B',\n",
    "     'unicastTraffic1500B', 'multicastTraffic1500B', 'baseeratTraffic1500B', 'overlayTrafficCorrected1500B']].agg('sum')\n",
    "trafficPerGroupPerTenant_2.reset_index(inplace=True)"
   ]
  },
  {
   "cell_type": "code",
   "execution_count": 30,
   "metadata": {
    "collapsed": true
   },
   "outputs": [],
   "source": [
    "trafficPerGroupPerTenant_2.to_csv(directory + 'traffic_per_group_per_tenant_2.csv', index=False)"
   ]
  },
  {
   "cell_type": "code",
   "execution_count": null,
   "metadata": {
    "collapsed": true
   },
   "outputs": [],
   "source": []
  },
  {
   "cell_type": "code",
   "execution_count": 31,
   "metadata": {
    "collapsed": false
   },
   "outputs": [
    {
     "data": {
      "text/plain": [
       "0    1.112323\n",
       "1    1.026310\n",
       "dtype: float64"
      ]
     },
     "execution_count": 31,
     "metadata": {},
     "output_type": "execute_result"
    }
   ],
   "source": [
    "(trafficPerGroupPerTenant_2['baseeratTraffic64B']/trafficPerGroupPerTenant_2['multicastTraffic64B']).head(2)"
   ]
  },
  {
   "cell_type": "code",
   "execution_count": null,
   "metadata": {
    "collapsed": true
   },
   "outputs": [],
   "source": []
  },
  {
   "cell_type": "code",
   "execution_count": 32,
   "metadata": {
    "collapsed": true
   },
   "outputs": [],
   "source": [
    "trafficPerGroupPerTenant_0 = pd.read_csv(directory + 'traffic_per_group_per_tenant_0.csv', sep=',')"
   ]
  },
  {
   "cell_type": "code",
   "execution_count": 33,
   "metadata": {
    "collapsed": true
   },
   "outputs": [],
   "source": [
    "trafficPerGroupPerTenant_1 = pd.read_csv(directory + 'traffic_per_group_per_tenant_1.csv', sep=',')"
   ]
  },
  {
   "cell_type": "code",
   "execution_count": 34,
   "metadata": {
    "collapsed": true
   },
   "outputs": [],
   "source": [
    "trafficPerGroupPerTenant_2 = pd.read_csv(directory + 'traffic_per_group_per_tenant_2.csv', sep=',')"
   ]
  },
  {
   "cell_type": "code",
   "execution_count": 35,
   "metadata": {
    "collapsed": true
   },
   "outputs": [],
   "source": [
    "trafficPerGroupPerTenant = pd.concat([trafficPerGroupPerTenant_0, trafficPerGroupPerTenant_1, trafficPerGroupPerTenant_2])"
   ]
  },
  {
   "cell_type": "code",
   "execution_count": 36,
   "metadata": {
    "collapsed": true
   },
   "outputs": [],
   "source": [
    "trafficPerGroupPerTenant.to_csv(directory + 'traffic_per_group_per_tenant.csv', index=False)"
   ]
  },
  {
   "cell_type": "code",
   "execution_count": null,
   "metadata": {
    "collapsed": true
   },
   "outputs": [],
   "source": []
  }
 ],
 "metadata": {
  "kernelspec": {
   "display_name": "Python 3",
   "language": "python",
   "name": "python3"
  },
  "language_info": {
   "codemirror_mode": {
    "name": "ipython",
    "version": 3
   },
   "file_extension": ".py",
   "mimetype": "text/x-python",
   "name": "python",
   "nbconvert_exporter": "python",
   "pygments_lexer": "ipython3",
   "version": "3.5.2"
  }
 },
 "nbformat": 4,
 "nbformat_minor": 2
}
