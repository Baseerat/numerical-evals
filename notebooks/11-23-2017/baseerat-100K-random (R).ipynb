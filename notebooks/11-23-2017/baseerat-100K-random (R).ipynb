{
 "cells": [
  {
   "cell_type": "code",
   "execution_count": 2,
   "metadata": {
    "collapsed": false
   },
   "outputs": [
    {
     "name": "stderr",
     "output_type": "stream",
     "text": [
      "Loading required package: ggplot2\n",
      "Loading required package: data.table\n",
      "Loading required package: Hmisc\n",
      "Loading required package: lattice\n",
      "Loading required package: survival\n",
      "Loading required package: Formula\n",
      "\n",
      "Attaching package: ‘Hmisc’\n",
      "\n",
      "The following objects are masked from ‘package:base’:\n",
      "\n",
      "    format.pval, round.POSIXt, trunc.POSIXt, units\n",
      "\n"
     ]
    }
   ],
   "source": [
    "require(ggplot2)\n",
    "require(data.table)\n",
    "require(Hmisc)"
   ]
  },
  {
   "cell_type": "code",
   "execution_count": 7,
   "metadata": {
    "collapsed": false
   },
   "outputs": [],
   "source": [
    "# If experiment parameters change, modify this function\n",
    "AddParametersAsColumns <- function(df, folderName) {\n",
    "    expParams <- strsplit(folderName, \".\", fixed = TRUE)[[1]]\n",
    "    \n",
    "    expCloudParams <- strsplit(expParams[2], \"_\")[[1]]\n",
    "    df$groupSizeDist <- expCloudParams[10]\n",
    "    df$placementDist <- expCloudParams[11]\n",
    "    df$colocateNumHostsPerLeaf <- expCloudParams[12]\n",
    "    df$seed <- expCloudParams[15]\n",
    "    \n",
    "    expOptimizerParams <- strsplit(expParams[3], \"_\")[[1]]\n",
    "    df$algorithm <- expOptimizerParams[2]\n",
    "    df$numBitmaps <- expOptimizerParams[3]\n",
    "    df$numLeafsPerBitmap <- expOptimizerParams[4]\n",
    "    df$redundancyPerBitmap <- expOptimizerParams[5]\n",
    "    df$numRulesPerLeaf <- expOptimizerParams[6]\n",
    "    return(df)\n",
    "}\n",
    "\n",
    "\n",
    "# Turns all files of a given filname across a set of folders into a single dataset\n",
    "DatasetAsDataTable <- function(filename, folders, headers, header=FALSE) {\n",
    "    # Get list of data.frames\n",
    "    dfList <- lapply(folders, function(folder) {\n",
    "           tmp <- read.table(paste(folder, filename, sep=\"/\"), sep=\",\", header=header)\n",
    "           tmp <- AddParametersAsColumns(tmp, folder)\n",
    "    })\n",
    "    \n",
    "    # Combine into a single data.table\n",
    "    dt <- data.table(do.call(rbind, dfList))\n",
    "    \n",
    "    # Rename columns according to headers\n",
    "    for (colIndex in seq(1, length(headers))) {\n",
    "        setnames(dt, colnames(dt)[colIndex], headers[colIndex])\n",
    "    }\n",
    "    return(dt)\n",
    "}\n",
    "\n",
    "setwd('/mnt/sdb1/baseerat/numerical-evals/11-23-2017/logs-100K-random')\n",
    "folders <- Sys.glob(\"logs*_*.*\")\n",
    "plotTheme <- theme(legend.title=element_blank(), legend.position=\"top\", legend.text=element_text(size=6))"
   ]
  },
  {
   "cell_type": "code",
   "execution_count": 10,
   "metadata": {
    "collapsed": true
   },
   "outputs": [],
   "source": [
    "ruleCountPerLeaf <- DatasetAsDataTable(\"rule_count_per_leaf.csv\", \n",
    "                                       folders, c(\"leafId\", \"numRules\"))"
   ]
  },
  {
   "cell_type": "code",
   "execution_count": 11,
   "metadata": {
    "collapsed": false
   },
   "outputs": [
    {
     "data": {
      "text/html": [
       "<table>\n",
       "<thead><tr><th></th><th scope=col>leafId</th><th scope=col>numRules</th><th scope=col>groupSizeDist</th><th scope=col>placementDist</th><th scope=col>colocateNumHostsPerLeaf</th><th scope=col>seed</th><th scope=col>algorithm</th><th scope=col>numBitmaps</th><th scope=col>numLeafsPerBitmap</th><th scope=col>redundancyPerBitmap</th><th scope=col>numRulesPerLeaf</th></tr></thead>\n",
       "<tbody>\n",
       "\t<tr><th scope=row>1</th><td>0                     </td><td>10000                 </td><td>uniform               </td><td>colocate-random-random</td><td>12                    </td><td>0                     </td><td>exact-match           </td><td>10                    </td><td>1                     </td><td>0                     </td><td>10000                 </td></tr>\n",
       "\t<tr><th scope=row>2</th><td>1                     </td><td>10000                 </td><td>uniform               </td><td>colocate-random-random</td><td>12                    </td><td>0                     </td><td>exact-match           </td><td>10                    </td><td>1                     </td><td>0                     </td><td>10000                 </td></tr>\n",
       "\t<tr><th scope=row>3</th><td>2                     </td><td>10000                 </td><td>uniform               </td><td>colocate-random-random</td><td>12                    </td><td>0                     </td><td>exact-match           </td><td>10                    </td><td>1                     </td><td>0                     </td><td>10000                 </td></tr>\n",
       "\t<tr><th scope=row>4</th><td>3                     </td><td>10000                 </td><td>uniform               </td><td>colocate-random-random</td><td>12                    </td><td>0                     </td><td>exact-match           </td><td>10                    </td><td>1                     </td><td>0                     </td><td>10000                 </td></tr>\n",
       "\t<tr><th scope=row>5</th><td>4                     </td><td>10000                 </td><td>uniform               </td><td>colocate-random-random</td><td>12                    </td><td>0                     </td><td>exact-match           </td><td>10                    </td><td>1                     </td><td>0                     </td><td>10000                 </td></tr>\n",
       "\t<tr><th scope=row>6</th><td>5                     </td><td>10000                 </td><td>uniform               </td><td>colocate-random-random</td><td>12                    </td><td>0                     </td><td>exact-match           </td><td>10                    </td><td>1                     </td><td>0                     </td><td>10000                 </td></tr>\n",
       "</tbody>\n",
       "</table>\n"
      ],
      "text/latex": [
       "\\begin{tabular}{r|lllllllllll}\n",
       "  & leafId & numRules & groupSizeDist & placementDist & colocateNumHostsPerLeaf & seed & algorithm & numBitmaps & numLeafsPerBitmap & redundancyPerBitmap & numRulesPerLeaf\\\\\n",
       "\\hline\n",
       "\t1 & 0                      & 10000                  & uniform                & colocate-random-random & 12                     & 0                      & exact-match            & 10                     & 1                      & 0                      & 10000                 \\\\\n",
       "\t2 & 1                      & 10000                  & uniform                & colocate-random-random & 12                     & 0                      & exact-match            & 10                     & 1                      & 0                      & 10000                 \\\\\n",
       "\t3 & 2                      & 10000                  & uniform                & colocate-random-random & 12                     & 0                      & exact-match            & 10                     & 1                      & 0                      & 10000                 \\\\\n",
       "\t4 & 3                      & 10000                  & uniform                & colocate-random-random & 12                     & 0                      & exact-match            & 10                     & 1                      & 0                      & 10000                 \\\\\n",
       "\t5 & 4                      & 10000                  & uniform                & colocate-random-random & 12                     & 0                      & exact-match            & 10                     & 1                      & 0                      & 10000                 \\\\\n",
       "\t6 & 5                      & 10000                  & uniform                & colocate-random-random & 12                     & 0                      & exact-match            & 10                     & 1                      & 0                      & 10000                 \\\\\n",
       "\\end{tabular}\n"
      ],
      "text/plain": [
       "  leafId numRules groupSizeDist          placementDist colocateNumHostsPerLeaf\n",
       "1      0    10000       uniform colocate-random-random                      12\n",
       "2      1    10000       uniform colocate-random-random                      12\n",
       "3      2    10000       uniform colocate-random-random                      12\n",
       "4      3    10000       uniform colocate-random-random                      12\n",
       "5      4    10000       uniform colocate-random-random                      12\n",
       "6      5    10000       uniform colocate-random-random                      12\n",
       "  seed   algorithm numBitmaps numLeafsPerBitmap redundancyPerBitmap\n",
       "1    0 exact-match         10                 1                   0\n",
       "2    0 exact-match         10                 1                   0\n",
       "3    0 exact-match         10                 1                   0\n",
       "4    0 exact-match         10                 1                   0\n",
       "5    0 exact-match         10                 1                   0\n",
       "6    0 exact-match         10                 1                   0\n",
       "  numRulesPerLeaf\n",
       "1           10000\n",
       "2           10000\n",
       "3           10000\n",
       "4           10000\n",
       "5           10000\n",
       "6           10000"
      ]
     },
     "metadata": {},
     "output_type": "display_data"
    }
   ],
   "source": [
    "head(ruleCountPerLeaf)"
   ]
  },
  {
   "cell_type": "code",
   "execution_count": 12,
   "metadata": {
    "collapsed": true
   },
   "outputs": [],
   "source": [
    "groupCountPerTenant <- DatasetAsDataTable(\"group_count_per_tenant.csv\", \n",
    "                                          folders, c(\"tenantId\", \"groupCount\"))"
   ]
  },
  {
   "cell_type": "code",
   "execution_count": null,
   "metadata": {
    "collapsed": true
   },
   "outputs": [],
   "source": [
    "groupSizePerGroupPerTenant <- DatasetAsDataTable(\"group_size_per_group_per_tenant.csv\", \n",
    "                                                 folders, c(\"groupId\", \"groupSize\"))"
   ]
  },
  {
   "cell_type": "code",
   "execution_count": 8,
   "metadata": {
    "collapsed": false
   },
   "outputs": [],
   "source": [
    "groupsCoveredWithBitmapsOnly <- DatasetAsDataTable(\"groups_covered_with_bitmaps_only.csv\", \n",
    "                                                   folders, c(\"index\", \"groupsCovered\", \"groupsCoveredWithoutDefaultBitmap\"),\n",
    "                                                   TRUE) # Shahbaz: adding this param as this file contains header line"
   ]
  },
  {
   "cell_type": "code",
   "execution_count": null,
   "metadata": {
    "collapsed": true
   },
   "outputs": [],
   "source": [
    "trafficOverhead <- DatasetAsDataTable(\"traffic_overhead.csv\", \n",
    "                                      folders, c(\"index\", \"trafficOverhead\"))"
   ]
  },
  {
   "cell_type": "code",
   "execution_count": null,
   "metadata": {
    "collapsed": true
   },
   "outputs": [],
   "source": [
    "leafSpineTraffic <- DatasetAsDataTable(\"leaf_spine_traffic_per_group_per_tenant.csv\", \n",
    "                                       folders, c(\"groupId\", \"multicastTraffic\", \"unicastTraffic\", \"overlayTraffic\",\n",
    "                                                 \"baseeratTraffic\"),\n",
    "                                       TRUE) # Shahbaz: adding this param as this file contains header line"
   ]
  },
  {
   "cell_type": "code",
   "execution_count": null,
   "metadata": {
    "collapsed": true
   },
   "outputs": [],
   "source": [
    "vmCountPerTenant <- DatasetAsDataTable(\"vm_count_per_tenant.csv\", folders, c(\"tenantId\", \"vmCount\"))"
   ]
  },
  {
   "cell_type": "code",
   "execution_count": null,
   "metadata": {
    "collapsed": false
   },
   "outputs": [],
   "source": [
    "head(ruleCountPerLeaf)\n",
    "head(groupCountPerTenant)\n",
    "head(groupSizePerGroupPerTenant)\n",
    "head(vmCountPerTenant)"
   ]
  },
  {
   "cell_type": "code",
   "execution_count": null,
   "metadata": {
    "collapsed": false
   },
   "outputs": [],
   "source": [
    "ggplot(ruleCountPerLeaf) +\n",
    "   geom_boxplot(aes(y=numRules, x=factor(numBitmaps), \n",
    "                    fill=interaction(algorithm, numLeafsPerBitmap, redundancyPerBitmap)),\n",
    "                outlier.size=0.5) +\n",
    "   facet_grid(groupSizeDist * numRulesPerLeaf ~ colocateNumHostsPerLeaf) +\n",
    "   xlab(\"Number of bitmaps\") +\n",
    "   ylab(\"Number of rules\") +\n",
    "   plotTheme"
   ]
  },
  {
   "cell_type": "code",
   "execution_count": null,
   "metadata": {
    "collapsed": false
   },
   "outputs": [],
   "source": [
    "ggplot(ruleCountPerLeaf) +\n",
    "   stat_ecdf(aes(x=numRules, col=interaction(algorithm, numLeafsPerBitmap, redundancyPerBitmap))) +\n",
    "   facet_grid(groupSizeDist * numBitmaps ~ colocateNumHostsPerLeaf * numRulesPerLeaf) +\n",
    "   ggtitle(\"Rules per leaf distribution\") +\n",
    "   xlab(\"Number of rules\") +\n",
    "   plotTheme"
   ]
  },
  {
   "cell_type": "code",
   "execution_count": null,
   "metadata": {
    "collapsed": false
   },
   "outputs": [],
   "source": [
    "groupCountPerTenant[algorithm == \"exact-match\" & colocateNumHostsPerLeaf == 24 & numBitmaps == 10 & numLeafsPerBitmap == 1,\n",
    "                    quantile(groupCount, c(0.0, 0.5,0.99,0.999,0.9999,1.0)), by=list(groupSizeDist, numRulesPerLeaf)]"
   ]
  },
  {
   "cell_type": "code",
   "execution_count": null,
   "metadata": {
    "collapsed": false
   },
   "outputs": [],
   "source": [
    "groupSizePerGroupPerTenant[algorithm == \"exact-match\" & colocateNumHostsPerLeaf == 24 & numBitmaps == 10 & numLeafsPerBitmap == 1,\n",
    "                           quantile(groupSize,c(0.0, 0.5,0.99,0.999,0.9999,1.0)), by=list(groupSizeDist, numRulesPerLeaf)]"
   ]
  },
  {
   "cell_type": "code",
   "execution_count": null,
   "metadata": {
    "collapsed": false
   },
   "outputs": [],
   "source": [
    "vmCountPerTenant[algorithm == \"exact-match\" & groupSizeDist == \"wve\" & \n",
    "                 colocateNumHostsPerLeaf == 24 & numBitmaps == 10 & numLeafsPerBitmap == 1,\n",
    "                 quantile(vmCount,c(0.0, 0.5,0.99,0.999,0.9999,1.0))]"
   ]
  },
  {
   "cell_type": "code",
   "execution_count": 19,
   "metadata": {
    "collapsed": false
   },
   "outputs": [
    {
     "data": {},
     "metadata": {},
     "output_type": "display_data"
    },
    {
     "data": {
      "image/png": "[encoded data removed]",
      "text/plain": [
       "plot without title"
      ]
     },
     "metadata": {},
     "output_type": "display_data"
    }
   ],
   "source": [
    "ggplot(groupsCoveredWithBitmapsOnly[numLeafsPerBitmap == 3], aes(y=groupsCoveredWithoutDefaultBitmap, x=factor(numBitmaps), \n",
    "                fill=interaction(algorithm, numLeafsPerBitmap, redundancyPerBitmap))) +\n",
    "   stat_summary(fun.y = mean, geom = \"bar\", position=position_dodge(0.5), width=0.5) +\n",
    "#    stat_summary(fun.data = mean_cl_normal, geom = \"errorbar\", position=position_dodge(0.5), width=0.2) +\n",
    "   facet_grid(groupSizeDist * numRulesPerLeaf ~ colocateNumHostsPerLeaf) +\n",
    "   xlab(\"Number of bitmaps\") +\n",
    "   ylab(\"Groups covered (without default bitmap)\") +\n",
    "   plotTheme"
   ]
  },
  {
   "cell_type": "code",
   "execution_count": null,
   "metadata": {
    "collapsed": false
   },
   "outputs": [],
   "source": [
    "ggplot(trafficOverhead) +\n",
    "   geom_bar(aes(y=trafficOverhead, x=factor(numBitmaps), \n",
    "                fill=interaction(algorithm, numLeafsPerBitmap, redundancyPerBitmap)),\n",
    "            stat=\"identity\",position=position_dodge()) +\n",
    "   facet_grid(groupSizeDist * numRulesPerLeaf ~ colocateNumHostsPerLeaf) +\n",
    "   xlab(\"Number of bitmaps\") +\n",
    "   ylab(\"Traffic Overhead\") +\n",
    "   plotTheme"
   ]
  },
  {
   "cell_type": "code",
   "execution_count": null,
   "metadata": {
    "collapsed": true
   },
   "outputs": [],
   "source": [
    "overheads <- leafSpineTraffic[, list(\"UnicastSum\" = sum(as.numeric(unicastTraffic)), \n",
    "                                     \"MulticastSum\" = sum(as.numeric(multicastTraffic)),\n",
    "                                     \"BaseeratSum\" = sum(as.numeric(baseeratTraffic)),\n",
    "                                     \"OverlaySum\" = sum(as.numeric(overlayTraffic))),\n",
    "                              by=list(groupSizeDist, placementDist, colocateNumHostsPerLeaf, algorithm,\n",
    "                                      numBitmaps, numLeafsPerBitmap, redundancyPerBitmap, numRulesPerLeaf, seed)]"
   ]
  },
  {
   "cell_type": "code",
   "execution_count": null,
   "metadata": {
    "collapsed": false
   },
   "outputs": [],
   "source": [
    "head(overheads)"
   ]
  },
  {
   "cell_type": "code",
   "execution_count": null,
   "metadata": {
    "collapsed": false
   },
   "outputs": [],
   "source": [
    "ggplot(overheads) +\n",
    "   geom_bar(aes(y=UnicastSum/MulticastSum, x=factor(numBitmaps), \n",
    "                fill=interaction(algorithm, numLeafsPerBitmap, redundancyPerBitmap)),\n",
    "            stat=\"identity\", position=position_dodge(),) +\n",
    "   facet_grid(groupSizeDist * numRulesPerLeaf ~ colocateNumHostsPerLeaf) +\n",
    "   ylim(c(0, 6)) +\n",
    "   xlab(\"Number of bitmaps\") +\n",
    "   ylab(\"Traffic Overhead\") +\n",
    "   plotTheme"
   ]
  },
  {
   "cell_type": "code",
   "execution_count": null,
   "metadata": {
    "collapsed": false
   },
   "outputs": [],
   "source": [
    "ggplot(overheads) +\n",
    "   geom_bar(aes(y=BaseeratSum/MulticastSum, x=factor(numBitmaps), \n",
    "                fill=interaction(algorithm, numLeafsPerBitmap, redundancyPerBitmap)),\n",
    "            stat=\"identity\", position=position_dodge(),) +\n",
    "   facet_grid(groupSizeDist * numRulesPerLeaf ~ colocateNumHostsPerLeaf) +\n",
    "   ylim(c(0, 8)) +\n",
    "   xlab(\"Number of bitmaps\") +\n",
    "   ylab(\"Traffic Overhead\") +\n",
    "   plotTheme"
   ]
  },
  {
   "cell_type": "code",
   "execution_count": null,
   "metadata": {
    "collapsed": false
   },
   "outputs": [],
   "source": [
    "ggplot(overheads) +\n",
    "   geom_bar(aes(y=OverlaySum/MulticastSum, x=factor(numBitmaps), \n",
    "                fill=interaction(algorithm, numLeafsPerBitmap, redundancyPerBitmap)),\n",
    "            stat=\"identity\", position=position_dodge(),) +\n",
    "   facet_grid(groupSizeDist * numRulesPerLeaf ~ colocateNumHostsPerLeaf) +\n",
    "   ylim(c(0, 6)) +\n",
    "   xlab(\"Number of bitmaps\") +\n",
    "   ylab(\"Traffic Overhead\") +\n",
    "   plotTheme"
   ]
  }
 ],
 "metadata": {
  "kernelspec": {
   "display_name": "R",
   "language": "R",
   "name": "ir"
  },
  "language_info": {
   "codemirror_mode": "r",
   "file_extension": ".r",
   "mimetype": "text/x-r-source",
   "name": "R",
   "pygments_lexer": "r",
   "version": "3.3.1"
  }
 },
 "nbformat": 4,
 "nbformat_minor": 2
}
