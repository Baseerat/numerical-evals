{
 "cells": [
  {
   "cell_type": "code",
   "execution_count": 1,
   "metadata": {
    "collapsed": true
   },
   "outputs": [],
   "source": [
    "import warnings\n",
    "warnings.filterwarnings('ignore')\n",
    "# For ignoring warnings printed by R magic commands"
   ]
  },
  {
   "cell_type": "code",
   "execution_count": 2,
   "metadata": {
    "collapsed": true
   },
   "outputs": [],
   "source": [
    "import os\n",
    "import glob"
   ]
  },
  {
   "cell_type": "code",
   "execution_count": 3,
   "metadata": {
    "collapsed": true
   },
   "outputs": [],
   "source": [
    "# Import pandas\n",
    "import pandas as pd"
   ]
  },
  {
   "cell_type": "code",
   "execution_count": 4,
   "metadata": {
    "collapsed": true
   },
   "outputs": [],
   "source": [
    "# Load R magic\n",
    "%load_ext rpy2.ipython\n",
    "# Import ggplot2\n",
    "%R require(ggplot2);"
   ]
  },
  {
   "cell_type": "code",
   "execution_count": 5,
   "metadata": {
    "collapsed": false
   },
   "outputs": [],
   "source": [
    "import progressbar\n",
    "\n",
    "def bar_range(x, desc):\n",
    "    widgets = [\n",
    "        '%s: ' % desc, progressbar.Percentage(),\n",
    "        ' ', progressbar.Bar(),\n",
    "        ' ', progressbar.ETA(),\n",
    "    ]\n",
    "    bar = progressbar.ProgressBar(widgets=widgets)\n",
    "    if isinstance(x, range) or isinstance(x, list):\n",
    "        return bar(x)\n",
    "    else:\n",
    "        return bar(range(x))"
   ]
  },
  {
   "cell_type": "code",
   "execution_count": null,
   "metadata": {
    "collapsed": true
   },
   "outputs": [],
   "source": []
  },
  {
   "cell_type": "code",
   "execution_count": 6,
   "metadata": {
    "collapsed": true
   },
   "outputs": [],
   "source": [
    "# If experiment parameters change, modify this function\n",
    "def AddParametersAsColumns(df, folder):\n",
    "    expParams = folder.split('/')[-1].split('.')\n",
    "    \n",
    "    cloudParams = expParams[1].split('_')\n",
    "    df['groupSizeDist'] = cloudParams[10]\n",
    "    df['placementDist'] = cloudParams[11]\n",
    "    df['placementNumHostsPerLeaf'] = 'uniform' if cloudParams[12] == '-1' else cloudParams[12]\n",
    "    df['seed'] = int(cloudParams[15])\n",
    "    \n",
    "    optimizerParams_0 = expParams[2].split('_')\n",
    "    node_type_0 = optimizerParams_0[7]\n",
    "    df['%sAlgorithm' % node_type_0] = optimizerParams_0[0]\n",
    "    df['%sNumBitmaps' % node_type_0] = int(optimizerParams_0[1])\n",
    "    df['%sNumNodesPerBitmap' % node_type_0] = int(optimizerParams_0[2])\n",
    "    df['%sRedundancyPerBitmap' % node_type_0] = int(optimizerParams_0[3])\n",
    "    df['%sNumRules' % node_type_0] = int(optimizerParams_0[4])\n",
    "    \n",
    "    if len(expParams) > 3:\n",
    "        optimizerParams_1 = expParams[3].split('_')\n",
    "        node_type_1 = optimizerParams_1[7]\n",
    "        df['%sAlgorithm' % node_type_1] = optimizerParams_1[0]\n",
    "        df['%sNumBitmaps' % node_type_1] = int(optimizerParams_1[1])\n",
    "        df['%sNumNodesPerBitmap' % node_type_1] = int(optimizerParams_1[2])\n",
    "        df['%sRedundancyPerBitmap' % node_type_1] = int(optimizerParams_1[3])\n",
    "        df['%sNumRules' % node_type_1] = int(optimizerParams_1[4])\n",
    "    \n",
    "# Turns all files of a given filname across a set of folders into a single dataframe\n",
    "def DataSetAsDataFrame(filename, folders, headers, header=None, reset_index=True):\n",
    "    # Read dataset as dataframe\n",
    "    def ReadDataSet(folder):\n",
    "        df = pd.read_csv(folder + '/' + filename, sep=',', header=header, names=headers)\n",
    "        AddParametersAsColumns(df, folder)\n",
    "        return df\n",
    "    # Get the list of dataframes\n",
    "    dfs = map(ReadDataSet, folders)\n",
    "    # Combine into a single dataframe\n",
    "    df = pd.concat(dfs)\n",
    "    if reset_index:\n",
    "        df.reset_index(inplace=True)\n",
    "        df.drop('index', axis=1, inplace=True)\n",
    "    return df"
   ]
  },
  {
   "cell_type": "code",
   "execution_count": null,
   "metadata": {
    "collapsed": true
   },
   "outputs": [],
   "source": []
  },
  {
   "cell_type": "code",
   "execution_count": 7,
   "metadata": {
    "collapsed": true
   },
   "outputs": [],
   "source": [
    "%%R \n",
    "plotTheme <- theme(legend.title=element_blank(), legend.position=\"top\", legend.text=element_text(size=6))"
   ]
  },
  {
   "cell_type": "code",
   "execution_count": 10,
   "metadata": {
    "collapsed": true
   },
   "outputs": [],
   "source": [
    "directory = '/mnt/sdb1/baseerat/numerical-evals/12-11-2017/logs-1M/'\n",
    "folders = glob.glob(directory + \"logs.*_0.*_pods\")\n",
    "leafs_folders = glob.glob(directory + \"logs.*_0.*_leafs*\")"
   ]
  },
  {
   "cell_type": "code",
   "execution_count": null,
   "metadata": {
    "collapsed": true
   },
   "outputs": [],
   "source": []
  },
  {
   "cell_type": "code",
   "execution_count": 9,
   "metadata": {
    "collapsed": true
   },
   "outputs": [],
   "source": [
    "vmCountPerTenant = DataSetAsDataFrame('vm_count_per_tenant.csv', \n",
    "                                      folders, \n",
    "                                      ['vmCount'])"
   ]
  },
  {
   "cell_type": "code",
   "execution_count": 10,
   "metadata": {
    "collapsed": false
   },
   "outputs": [
    {
     "data": {
      "text/html": [
       "<div>\n",
       "<style scoped>\n",
       "    .dataframe tbody tr th:only-of-type {\n",
       "        vertical-align: middle;\n",
       "    }\n",
       "\n",
       "    .dataframe tbody tr th {\n",
       "        vertical-align: top;\n",
       "    }\n",
       "\n",
       "    .dataframe thead th {\n",
       "        text-align: right;\n",
       "    }\n",
       "</style>\n",
       "<table border=\"1\" class=\"dataframe\">\n",
       "  <thead>\n",
       "    <tr style=\"text-align: right;\">\n",
       "      <th></th>\n",
       "      <th>vmCount</th>\n",
       "      <th>groupSizeDist</th>\n",
       "      <th>placementDist</th>\n",
       "      <th>placementNumHostsPerLeaf</th>\n",
       "      <th>seed</th>\n",
       "      <th>podsAlgorithm</th>\n",
       "      <th>podsNumBitmaps</th>\n",
       "      <th>podsNumNodesPerBitmap</th>\n",
       "      <th>podsRedundancyPerBitmap</th>\n",
       "      <th>podsNumRules</th>\n",
       "    </tr>\n",
       "  </thead>\n",
       "  <tbody>\n",
       "    <tr>\n",
       "      <th>0</th>\n",
       "      <td>184</td>\n",
       "      <td>uniform</td>\n",
       "      <td>colocate-uniform</td>\n",
       "      <td>uniform</td>\n",
       "      <td>0</td>\n",
       "      <td>exact-match</td>\n",
       "      <td>1</td>\n",
       "      <td>3</td>\n",
       "      <td>0</td>\n",
       "      <td>10000</td>\n",
       "    </tr>\n",
       "    <tr>\n",
       "      <th>1</th>\n",
       "      <td>46</td>\n",
       "      <td>uniform</td>\n",
       "      <td>colocate-uniform</td>\n",
       "      <td>uniform</td>\n",
       "      <td>0</td>\n",
       "      <td>exact-match</td>\n",
       "      <td>1</td>\n",
       "      <td>3</td>\n",
       "      <td>0</td>\n",
       "      <td>10000</td>\n",
       "    </tr>\n",
       "  </tbody>\n",
       "</table>\n",
       "</div>"
      ],
      "text/plain": [
       "   vmCount groupSizeDist     placementDist placementNumHostsPerLeaf  seed  \\\n",
       "0      184       uniform  colocate-uniform                  uniform     0   \n",
       "1       46       uniform  colocate-uniform                  uniform     0   \n",
       "\n",
       "  podsAlgorithm  podsNumBitmaps  podsNumNodesPerBitmap  \\\n",
       "0   exact-match               1                      3   \n",
       "1   exact-match               1                      3   \n",
       "\n",
       "   podsRedundancyPerBitmap  podsNumRules  \n",
       "0                        0         10000  \n",
       "1                        0         10000  "
      ]
     },
     "execution_count": 10,
     "metadata": {},
     "output_type": "execute_result"
    }
   ],
   "source": [
    "vmCountPerTenant.head(2)"
   ]
  },
  {
   "cell_type": "code",
   "execution_count": 10,
   "metadata": {
    "collapsed": false
   },
   "outputs": [],
   "source": [
    "criterion = ~((vmCountPerTenant['groupSizeDist'] == 'wve') & \n",
    "              (vmCountPerTenant['placementDist'] == 'colocate-uniform') & \n",
    "              (vmCountPerTenant['placementNumHostsPerLeaf'] == 'uniform') & \n",
    "              (vmCountPerTenant['podsAlgorithm'] == 'exact-match') & \n",
    "              (vmCountPerTenant['podsNumBitmaps'] == 1) & \n",
    "              (vmCountPerTenant['podsNumNodesPerBitmap'] == 3) &\n",
    "              (vmCountPerTenant['podsRedundancyPerBitmap'] == 0) &\n",
    "              (vmCountPerTenant['podsNumRules'] == 10000))\n",
    "vmCountPerTenant.drop(vmCountPerTenant.index[criterion], inplace=True)\n",
    "vmCountPerTenant.drop(['groupSizeDist', 'placementDist', 'placementNumHostsPerLeaf',\n",
    "                      'podsAlgorithm', 'podsNumBitmaps', 'podsNumNodesPerBitmap', 'podsRedundancyPerBitmap',\n",
    "                      'podsNumRules'], axis=1, inplace=True)"
   ]
  },
  {
   "cell_type": "code",
   "execution_count": 11,
   "metadata": {
    "collapsed": false
   },
   "outputs": [
    {
     "data": {
      "text/plain": [
       "count    9000.000000\n",
       "mean      178.771111\n",
       "std       409.708421\n",
       "min        10.000000\n",
       "25%        46.000000\n",
       "50%        97.000000\n",
       "75%       183.000000\n",
       "max      4999.000000\n",
       "Name: vmCount, dtype: float64"
      ]
     },
     "execution_count": 11,
     "metadata": {},
     "output_type": "execute_result"
    }
   ],
   "source": [
    "# vmCountPerTenant['vmCount'].quantile([0.0, 0.5, 0.99, 0.999, 0.9999, 1.0])\n",
    "vmCountPerTenant['vmCount'].describe()"
   ]
  },
  {
   "cell_type": "code",
   "execution_count": 12,
   "metadata": {
    "collapsed": true
   },
   "outputs": [],
   "source": [
    "vmCountPerTenant.to_csv(directory + 'vm_count_per_tenant.csv', index=False)"
   ]
  },
  {
   "cell_type": "code",
   "execution_count": null,
   "metadata": {
    "collapsed": true
   },
   "outputs": [],
   "source": []
  },
  {
   "cell_type": "code",
   "execution_count": 13,
   "metadata": {
    "collapsed": true
   },
   "outputs": [],
   "source": [
    "groupCountPerTenant = DataSetAsDataFrame('group_count_per_tenant.csv', \n",
    "                                         folders, ['groupCount'])"
   ]
  },
  {
   "cell_type": "code",
   "execution_count": 14,
   "metadata": {
    "collapsed": true
   },
   "outputs": [],
   "source": [
    "criterion = ~((groupCountPerTenant['groupSizeDist'] == 'wve') & \n",
    "              (groupCountPerTenant['placementDist'] == 'colocate-uniform') & \n",
    "              (groupCountPerTenant['placementNumHostsPerLeaf'] == 'uniform') & \n",
    "              (groupCountPerTenant['podsAlgorithm'] == 'exact-match') & \n",
    "              (groupCountPerTenant['podsNumBitmaps'] == 1) & \n",
    "              (groupCountPerTenant['podsNumNodesPerBitmap'] == 3) &\n",
    "              (groupCountPerTenant['podsRedundancyPerBitmap'] == 0) &\n",
    "              (groupCountPerTenant['podsNumRules'] == 10000))\n",
    "groupCountPerTenant.drop(groupCountPerTenant.index[criterion], inplace=True)\n",
    "groupCountPerTenant.drop(['groupSizeDist', 'placementDist', 'placementNumHostsPerLeaf',\n",
    "                          'podsAlgorithm', 'podsNumBitmaps', 'podsNumNodesPerBitmap', 'podsRedundancyPerBitmap',\n",
    "                          'podsNumRules'], axis=1, inplace=True)"
   ]
  },
  {
   "cell_type": "code",
   "execution_count": 15,
   "metadata": {
    "collapsed": false
   },
   "outputs": [
    {
     "data": {
      "text/plain": [
       "count    9000.000000\n",
       "mean      332.835111\n",
       "std       761.993524\n",
       "min        18.000000\n",
       "25%        85.000000\n",
       "50%       181.000000\n",
       "75%       343.000000\n",
       "max      9272.000000\n",
       "Name: groupCount, dtype: float64"
      ]
     },
     "execution_count": 15,
     "metadata": {},
     "output_type": "execute_result"
    }
   ],
   "source": [
    "# groupCountPerTenant['groupCount'].quantile([0.0, 0.5, 0.99, 0.999, 0.9999, 1.0])\n",
    "groupCountPerTenant['groupCount'].describe()"
   ]
  },
  {
   "cell_type": "code",
   "execution_count": 16,
   "metadata": {
    "collapsed": true
   },
   "outputs": [],
   "source": [
    "groupCountPerTenant.to_csv(directory + 'group_count_per_tenant.csv', index=False)"
   ]
  },
  {
   "cell_type": "code",
   "execution_count": null,
   "metadata": {
    "collapsed": true
   },
   "outputs": [],
   "source": []
  },
  {
   "cell_type": "code",
   "execution_count": 9,
   "metadata": {
    "collapsed": true
   },
   "outputs": [],
   "source": [
    "_folders = glob.glob(directory + \"logs.*_0.random-fuzzy-match_*_pods\")"
   ]
  },
  {
   "cell_type": "code",
   "execution_count": 10,
   "metadata": {
    "collapsed": true
   },
   "outputs": [],
   "source": [
    "groupSizePerGroupPerTenant = DataSetAsDataFrame('group_size_per_group_per_tenant.csv', \n",
    "                                                _folders, ['groupSize'])"
   ]
  },
  {
   "cell_type": "code",
   "execution_count": 11,
   "metadata": {
    "collapsed": false
   },
   "outputs": [
    {
     "data": {
      "text/plain": [
       "143784000"
      ]
     },
     "execution_count": 11,
     "metadata": {},
     "output_type": "execute_result"
    }
   ],
   "source": [
    "len(groupSizePerGroupPerTenant)"
   ]
  },
  {
   "cell_type": "code",
   "execution_count": 18,
   "metadata": {
    "collapsed": true
   },
   "outputs": [],
   "source": [
    "criterion = ~((groupSizePerGroupPerTenant['placementDist'] == 'colocate-uniform') & \n",
    "              (groupSizePerGroupPerTenant['placementNumHostsPerLeaf'] == 'uniform') & \n",
    "              (groupSizePerGroupPerTenant['podsAlgorithm'] == 'exact-match') & \n",
    "              (groupSizePerGroupPerTenant['podsNumBitmaps'] == 1) & \n",
    "              (groupSizePerGroupPerTenant['podsNumNodesPerBitmap'] == 3) &\n",
    "              (groupSizePerGroupPerTenant['podsRedundancyPerBitmap'] == 0) &\n",
    "              (groupSizePerGroupPerTenant['podsNumRules'] == 10000))\n",
    "groupSizePerGroupPerTenant.drop(groupSizePerGroupPerTenant.index[criterion], inplace=True)\n",
    "groupSizePerGroupPerTenant.drop(['placementDist', 'placementNumHostsPerLeaf',\n",
    "                                 'podsAlgorithm', 'podsNumBitmaps', 'podsNumNodesPerBitmap', \n",
    "                                 'podsRedundancyPerBitmap', 'podsNumRules'], axis=1, inplace=True)"
   ]
  },
  {
   "cell_type": "code",
   "execution_count": 19,
   "metadata": {
    "collapsed": false
   },
   "outputs": [
    {
     "data": {
      "text/plain": [
       "groupSizeDist        \n",
       "uniform        0.0000       5.000\n",
       "               0.5000     138.000\n",
       "               0.8000     823.000\n",
       "               0.9900    4029.000\n",
       "               0.9910    4087.000\n",
       "               0.9920    4149.000\n",
       "               0.9930    4214.000\n",
       "               0.9940    4283.000\n",
       "               0.9950    4355.000\n",
       "               0.9960    4437.000\n",
       "               0.9990    4732.000\n",
       "               0.9999    4940.000\n",
       "               1.0000    4999.000\n",
       "wve            0.0000       5.000\n",
       "               0.5000      12.000\n",
       "               0.8000      54.000\n",
       "               0.9900     371.000\n",
       "               0.9910     401.000\n",
       "               0.9920     439.000\n",
       "               0.9930     502.000\n",
       "               0.9940     652.000\n",
       "               0.9950    1684.425\n",
       "               0.9960    2648.000\n",
       "               0.9990    4503.000\n",
       "               0.9999    4931.000\n",
       "               1.0000    4998.000\n",
       "Name: groupSize, dtype: float64"
      ]
     },
     "execution_count": 19,
     "metadata": {},
     "output_type": "execute_result"
    }
   ],
   "source": [
    "groupSizePerGroupPerTenant.groupby('groupSizeDist')['groupSize'].quantile(\n",
    "    [0.0, 0.5, 0.8, 0.99, 0.991, 0.992, 0.993, 0.994, 0.995, 0.996, 0.999, 0.9999, 1.0])"
   ]
  },
  {
   "cell_type": "code",
   "execution_count": 20,
   "metadata": {
    "collapsed": true
   },
   "outputs": [],
   "source": [
    "groupSizePerGroupPerTenant.to_csv(directory + 'group_size_per_group_per_tenant.csv', index=False)"
   ]
  },
  {
   "cell_type": "code",
   "execution_count": null,
   "metadata": {
    "collapsed": true
   },
   "outputs": [],
   "source": []
  },
  {
   "cell_type": "code",
   "execution_count": 10,
   "metadata": {
    "collapsed": false
   },
   "outputs": [],
   "source": [
    "_folders = glob.glob(directory + \"logs.*_0.*_pods\") + glob.glob(directory + \"logs.*_1.*_pods\")"
   ]
  },
  {
   "cell_type": "code",
   "execution_count": 11,
   "metadata": {
    "collapsed": false
   },
   "outputs": [],
   "source": [
    "leafCountPerGroupPerTenant = DataSetAsDataFrame('leaf_count_per_group_per_tenant.csv', \n",
    "                                                _folders, ['leafCount'])"
   ]
  },
  {
   "cell_type": "code",
   "execution_count": 12,
   "metadata": {
    "collapsed": true
   },
   "outputs": [],
   "source": [
    "criterion = ~((leafCountPerGroupPerTenant['podsAlgorithm'] == 'exact-match') & \n",
    "              (leafCountPerGroupPerTenant['podsNumBitmaps'] == 1) & \n",
    "              (leafCountPerGroupPerTenant['podsNumNodesPerBitmap'] == 3) &\n",
    "              (leafCountPerGroupPerTenant['podsRedundancyPerBitmap'] == 0) &\n",
    "              (leafCountPerGroupPerTenant['podsNumRules'] == 10000))\n",
    "leafCountPerGroupPerTenant.drop(leafCountPerGroupPerTenant.index[criterion], inplace=True)\n",
    "leafCountPerGroupPerTenant.drop(['podsAlgorithm', 'podsNumBitmaps', 'podsNumNodesPerBitmap', \n",
    "                                 'podsRedundancyPerBitmap', 'podsNumRules'], axis=1, inplace=True)"
   ]
  },
  {
   "cell_type": "code",
   "execution_count": 13,
   "metadata": {
    "collapsed": false
   },
   "outputs": [
    {
     "data": {
      "text/html": [
       "<div>\n",
       "<style scoped>\n",
       "    .dataframe tbody tr th:only-of-type {\n",
       "        vertical-align: middle;\n",
       "    }\n",
       "\n",
       "    .dataframe tbody tr th {\n",
       "        vertical-align: top;\n",
       "    }\n",
       "\n",
       "    .dataframe thead th {\n",
       "        text-align: right;\n",
       "    }\n",
       "</style>\n",
       "<table border=\"1\" class=\"dataframe\">\n",
       "  <thead>\n",
       "    <tr style=\"text-align: right;\">\n",
       "      <th></th>\n",
       "      <th></th>\n",
       "      <th></th>\n",
       "      <th>count</th>\n",
       "      <th>mean</th>\n",
       "      <th>std</th>\n",
       "      <th>min</th>\n",
       "      <th>25%</th>\n",
       "      <th>50%</th>\n",
       "      <th>75%</th>\n",
       "      <th>max</th>\n",
       "    </tr>\n",
       "    <tr>\n",
       "      <th>groupSizeDist</th>\n",
       "      <th>placementDist</th>\n",
       "      <th>placementNumHostsPerLeaf</th>\n",
       "      <th></th>\n",
       "      <th></th>\n",
       "      <th></th>\n",
       "      <th></th>\n",
       "      <th></th>\n",
       "      <th></th>\n",
       "      <th></th>\n",
       "      <th></th>\n",
       "    </tr>\n",
       "  </thead>\n",
       "  <tbody>\n",
       "    <tr>\n",
       "      <th rowspan=\"4\" valign=\"top\">uniform</th>\n",
       "      <th rowspan=\"3\" valign=\"top\">colocate-colocate-uniform</th>\n",
       "      <th>12</th>\n",
       "      <td>1997050.0</td>\n",
       "      <td>13.408252</td>\n",
       "      <td>14.204431</td>\n",
       "      <td>1.0</td>\n",
       "      <td>3.0</td>\n",
       "      <td>6.0</td>\n",
       "      <td>23.0</td>\n",
       "      <td>46.0</td>\n",
       "    </tr>\n",
       "    <tr>\n",
       "      <th>24</th>\n",
       "      <td>1997050.0</td>\n",
       "      <td>13.334334</td>\n",
       "      <td>14.099360</td>\n",
       "      <td>1.0</td>\n",
       "      <td>3.0</td>\n",
       "      <td>6.0</td>\n",
       "      <td>23.0</td>\n",
       "      <td>59.0</td>\n",
       "    </tr>\n",
       "    <tr>\n",
       "      <th>48</th>\n",
       "      <td>1997050.0</td>\n",
       "      <td>13.234965</td>\n",
       "      <td>13.985526</td>\n",
       "      <td>1.0</td>\n",
       "      <td>3.0</td>\n",
       "      <td>6.0</td>\n",
       "      <td>22.0</td>\n",
       "      <td>46.0</td>\n",
       "    </tr>\n",
       "    <tr>\n",
       "      <th>colocate-uniform</th>\n",
       "      <th>uniform</th>\n",
       "      <td>1997050.0</td>\n",
       "      <td>51.158862</td>\n",
       "      <td>32.715848</td>\n",
       "      <td>3.0</td>\n",
       "      <td>32.0</td>\n",
       "      <td>46.0</td>\n",
       "      <td>48.0</td>\n",
       "      <td>192.0</td>\n",
       "    </tr>\n",
       "    <tr>\n",
       "      <th rowspan=\"4\" valign=\"top\">wve</th>\n",
       "      <th rowspan=\"3\" valign=\"top\">colocate-colocate-uniform</th>\n",
       "      <th>12</th>\n",
       "      <td>1997050.0</td>\n",
       "      <td>10.489194</td>\n",
       "      <td>11.376734</td>\n",
       "      <td>1.0</td>\n",
       "      <td>3.0</td>\n",
       "      <td>5.0</td>\n",
       "      <td>14.0</td>\n",
       "      <td>47.0</td>\n",
       "    </tr>\n",
       "    <tr>\n",
       "      <th>24</th>\n",
       "      <td>1997050.0</td>\n",
       "      <td>10.523424</td>\n",
       "      <td>11.373267</td>\n",
       "      <td>1.0</td>\n",
       "      <td>3.0</td>\n",
       "      <td>5.0</td>\n",
       "      <td>14.0</td>\n",
       "      <td>45.0</td>\n",
       "    </tr>\n",
       "    <tr>\n",
       "      <th>48</th>\n",
       "      <td>1997050.0</td>\n",
       "      <td>10.553487</td>\n",
       "      <td>11.499393</td>\n",
       "      <td>1.0</td>\n",
       "      <td>3.0</td>\n",
       "      <td>5.0</td>\n",
       "      <td>14.0</td>\n",
       "      <td>62.0</td>\n",
       "    </tr>\n",
       "    <tr>\n",
       "      <th>colocate-uniform</th>\n",
       "      <th>uniform</th>\n",
       "      <td>1997050.0</td>\n",
       "      <td>21.316959</td>\n",
       "      <td>23.384927</td>\n",
       "      <td>2.0</td>\n",
       "      <td>7.0</td>\n",
       "      <td>10.0</td>\n",
       "      <td>26.0</td>\n",
       "      <td>240.0</td>\n",
       "    </tr>\n",
       "  </tbody>\n",
       "</table>\n",
       "</div>"
      ],
      "text/plain": [
       "                                                                      count  \\\n",
       "groupSizeDist placementDist             placementNumHostsPerLeaf              \n",
       "uniform       colocate-colocate-uniform 12                        1997050.0   \n",
       "                                        24                        1997050.0   \n",
       "                                        48                        1997050.0   \n",
       "              colocate-uniform          uniform                   1997050.0   \n",
       "wve           colocate-colocate-uniform 12                        1997050.0   \n",
       "                                        24                        1997050.0   \n",
       "                                        48                        1997050.0   \n",
       "              colocate-uniform          uniform                   1997050.0   \n",
       "\n",
       "                                                                       mean  \\\n",
       "groupSizeDist placementDist             placementNumHostsPerLeaf              \n",
       "uniform       colocate-colocate-uniform 12                        13.408252   \n",
       "                                        24                        13.334334   \n",
       "                                        48                        13.234965   \n",
       "              colocate-uniform          uniform                   51.158862   \n",
       "wve           colocate-colocate-uniform 12                        10.489194   \n",
       "                                        24                        10.523424   \n",
       "                                        48                        10.553487   \n",
       "              colocate-uniform          uniform                   21.316959   \n",
       "\n",
       "                                                                        std  \\\n",
       "groupSizeDist placementDist             placementNumHostsPerLeaf              \n",
       "uniform       colocate-colocate-uniform 12                        14.204431   \n",
       "                                        24                        14.099360   \n",
       "                                        48                        13.985526   \n",
       "              colocate-uniform          uniform                   32.715848   \n",
       "wve           colocate-colocate-uniform 12                        11.376734   \n",
       "                                        24                        11.373267   \n",
       "                                        48                        11.499393   \n",
       "              colocate-uniform          uniform                   23.384927   \n",
       "\n",
       "                                                                  min   25%  \\\n",
       "groupSizeDist placementDist             placementNumHostsPerLeaf              \n",
       "uniform       colocate-colocate-uniform 12                        1.0   3.0   \n",
       "                                        24                        1.0   3.0   \n",
       "                                        48                        1.0   3.0   \n",
       "              colocate-uniform          uniform                   3.0  32.0   \n",
       "wve           colocate-colocate-uniform 12                        1.0   3.0   \n",
       "                                        24                        1.0   3.0   \n",
       "                                        48                        1.0   3.0   \n",
       "              colocate-uniform          uniform                   2.0   7.0   \n",
       "\n",
       "                                                                   50%   75%  \\\n",
       "groupSizeDist placementDist             placementNumHostsPerLeaf               \n",
       "uniform       colocate-colocate-uniform 12                         6.0  23.0   \n",
       "                                        24                         6.0  23.0   \n",
       "                                        48                         6.0  22.0   \n",
       "              colocate-uniform          uniform                   46.0  48.0   \n",
       "wve           colocate-colocate-uniform 12                         5.0  14.0   \n",
       "                                        24                         5.0  14.0   \n",
       "                                        48                         5.0  14.0   \n",
       "              colocate-uniform          uniform                   10.0  26.0   \n",
       "\n",
       "                                                                    max  \n",
       "groupSizeDist placementDist             placementNumHostsPerLeaf         \n",
       "uniform       colocate-colocate-uniform 12                         46.0  \n",
       "                                        24                         59.0  \n",
       "                                        48                         46.0  \n",
       "              colocate-uniform          uniform                   192.0  \n",
       "wve           colocate-colocate-uniform 12                         47.0  \n",
       "                                        24                         45.0  \n",
       "                                        48                         62.0  \n",
       "              colocate-uniform          uniform                   240.0  "
      ]
     },
     "execution_count": 13,
     "metadata": {},
     "output_type": "execute_result"
    }
   ],
   "source": [
    "# leafCountPerGroupPerTenant.groupby(['groupSizeDist', 'placementDist', 'placementNumHostsPerLeaf'])[\n",
    "#     'leafCount'].quantile([0.0, 0.5, 0.8, 0.99, 0.999, 0.9999, 1.0])\n",
    "leafCountPerGroupPerTenant.groupby(['groupSizeDist', 'placementDist', 'placementNumHostsPerLeaf'])[\n",
    "    'leafCount'].describe()"
   ]
  },
  {
   "cell_type": "code",
   "execution_count": 14,
   "metadata": {
    "collapsed": true
   },
   "outputs": [],
   "source": [
    "leafCountPerGroupPerTenant.to_csv(directory + 'leaf_count_per_group_per_tenant.csv', index=False)"
   ]
  },
  {
   "cell_type": "code",
   "execution_count": null,
   "metadata": {
    "collapsed": true
   },
   "outputs": [],
   "source": []
  },
  {
   "cell_type": "code",
   "execution_count": 8,
   "metadata": {
    "collapsed": true
   },
   "outputs": [],
   "source": [
    "_folders = glob.glob(directory + \"logs.*_0.*_pods\") + glob.glob(directory + \"logs.*_1.*_pods\")"
   ]
  },
  {
   "cell_type": "code",
   "execution_count": null,
   "metadata": {
    "collapsed": false
   },
   "outputs": [],
   "source": [
    "podCountPerGroupPerTenant = DataSetAsDataFrame('pod_count_per_group_per_tenant.csv', \n",
    "                                                _folders, ['podCount'])"
   ]
  },
  {
   "cell_type": "code",
   "execution_count": 10,
   "metadata": {
    "collapsed": true
   },
   "outputs": [],
   "source": [
    "criterion = ~((podCountPerGroupPerTenant['podsAlgorithm'] == 'exact-match') & \n",
    "              (podCountPerGroupPerTenant['podsNumBitmaps'] == 1) & \n",
    "              (podCountPerGroupPerTenant['podsNumNodesPerBitmap'] == 3) &\n",
    "              (podCountPerGroupPerTenant['podsRedundancyPerBitmap'] == 0) &\n",
    "              (podCountPerGroupPerTenant['podsNumRules'] == 10000))\n",
    "podCountPerGroupPerTenant.drop(podCountPerGroupPerTenant.index[criterion], inplace=True)\n",
    "podCountPerGroupPerTenant.drop(['podsAlgorithm', 'podsNumBitmaps', 'podsNumNodesPerBitmap', \n",
    "                                'podsRedundancyPerBitmap', 'podsNumRules'], axis=1, inplace=True)"
   ]
  },
  {
   "cell_type": "code",
   "execution_count": 11,
   "metadata": {
    "collapsed": false
   },
   "outputs": [
    {
     "data": {
      "text/html": [
       "<div>\n",
       "<style scoped>\n",
       "    .dataframe tbody tr th:only-of-type {\n",
       "        vertical-align: middle;\n",
       "    }\n",
       "\n",
       "    .dataframe tbody tr th {\n",
       "        vertical-align: top;\n",
       "    }\n",
       "\n",
       "    .dataframe thead th {\n",
       "        text-align: right;\n",
       "    }\n",
       "</style>\n",
       "<table border=\"1\" class=\"dataframe\">\n",
       "  <thead>\n",
       "    <tr style=\"text-align: right;\">\n",
       "      <th></th>\n",
       "      <th></th>\n",
       "      <th></th>\n",
       "      <th>count</th>\n",
       "      <th>mean</th>\n",
       "      <th>std</th>\n",
       "      <th>min</th>\n",
       "      <th>25%</th>\n",
       "      <th>50%</th>\n",
       "      <th>75%</th>\n",
       "      <th>max</th>\n",
       "    </tr>\n",
       "    <tr>\n",
       "      <th>groupSizeDist</th>\n",
       "      <th>placementDist</th>\n",
       "      <th>placementNumHostsPerLeaf</th>\n",
       "      <th></th>\n",
       "      <th></th>\n",
       "      <th></th>\n",
       "      <th></th>\n",
       "      <th></th>\n",
       "      <th></th>\n",
       "      <th></th>\n",
       "      <th></th>\n",
       "    </tr>\n",
       "  </thead>\n",
       "  <tbody>\n",
       "    <tr>\n",
       "      <th rowspan=\"4\" valign=\"top\">uniform</th>\n",
       "      <th rowspan=\"3\" valign=\"top\">colocate-colocate-uniform</th>\n",
       "      <th>12</th>\n",
       "      <td>1997050.0</td>\n",
       "      <td>1.016901</td>\n",
       "      <td>0.151501</td>\n",
       "      <td>1.0</td>\n",
       "      <td>1.0</td>\n",
       "      <td>1.0</td>\n",
       "      <td>1.0</td>\n",
       "      <td>3.0</td>\n",
       "    </tr>\n",
       "    <tr>\n",
       "      <th>24</th>\n",
       "      <td>1997050.0</td>\n",
       "      <td>1.016685</td>\n",
       "      <td>0.177343</td>\n",
       "      <td>1.0</td>\n",
       "      <td>1.0</td>\n",
       "      <td>1.0</td>\n",
       "      <td>1.0</td>\n",
       "      <td>3.0</td>\n",
       "    </tr>\n",
       "    <tr>\n",
       "      <th>48</th>\n",
       "      <td>1997050.0</td>\n",
       "      <td>1.009034</td>\n",
       "      <td>0.094619</td>\n",
       "      <td>1.0</td>\n",
       "      <td>1.0</td>\n",
       "      <td>1.0</td>\n",
       "      <td>1.0</td>\n",
       "      <td>2.0</td>\n",
       "    </tr>\n",
       "    <tr>\n",
       "      <th>colocate-uniform</th>\n",
       "      <th>uniform</th>\n",
       "      <td>1997050.0</td>\n",
       "      <td>1.297471</td>\n",
       "      <td>0.606730</td>\n",
       "      <td>1.0</td>\n",
       "      <td>1.0</td>\n",
       "      <td>1.0</td>\n",
       "      <td>1.0</td>\n",
       "      <td>4.0</td>\n",
       "    </tr>\n",
       "    <tr>\n",
       "      <th rowspan=\"4\" valign=\"top\">wve</th>\n",
       "      <th rowspan=\"3\" valign=\"top\">colocate-colocate-uniform</th>\n",
       "      <th>12</th>\n",
       "      <td>1997050.0</td>\n",
       "      <td>1.005387</td>\n",
       "      <td>0.073198</td>\n",
       "      <td>1.0</td>\n",
       "      <td>1.0</td>\n",
       "      <td>1.0</td>\n",
       "      <td>1.0</td>\n",
       "      <td>2.0</td>\n",
       "    </tr>\n",
       "    <tr>\n",
       "      <th>24</th>\n",
       "      <td>1997050.0</td>\n",
       "      <td>1.015290</td>\n",
       "      <td>0.122702</td>\n",
       "      <td>1.0</td>\n",
       "      <td>1.0</td>\n",
       "      <td>1.0</td>\n",
       "      <td>1.0</td>\n",
       "      <td>2.0</td>\n",
       "    </tr>\n",
       "    <tr>\n",
       "      <th>48</th>\n",
       "      <td>1997050.0</td>\n",
       "      <td>1.019931</td>\n",
       "      <td>0.168320</td>\n",
       "      <td>1.0</td>\n",
       "      <td>1.0</td>\n",
       "      <td>1.0</td>\n",
       "      <td>1.0</td>\n",
       "      <td>3.0</td>\n",
       "    </tr>\n",
       "    <tr>\n",
       "      <th>colocate-uniform</th>\n",
       "      <th>uniform</th>\n",
       "      <td>1997050.0</td>\n",
       "      <td>1.287370</td>\n",
       "      <td>0.605536</td>\n",
       "      <td>1.0</td>\n",
       "      <td>1.0</td>\n",
       "      <td>1.0</td>\n",
       "      <td>1.0</td>\n",
       "      <td>5.0</td>\n",
       "    </tr>\n",
       "  </tbody>\n",
       "</table>\n",
       "</div>"
      ],
      "text/plain": [
       "                                                                      count  \\\n",
       "groupSizeDist placementDist             placementNumHostsPerLeaf              \n",
       "uniform       colocate-colocate-uniform 12                        1997050.0   \n",
       "                                        24                        1997050.0   \n",
       "                                        48                        1997050.0   \n",
       "              colocate-uniform          uniform                   1997050.0   \n",
       "wve           colocate-colocate-uniform 12                        1997050.0   \n",
       "                                        24                        1997050.0   \n",
       "                                        48                        1997050.0   \n",
       "              colocate-uniform          uniform                   1997050.0   \n",
       "\n",
       "                                                                      mean  \\\n",
       "groupSizeDist placementDist             placementNumHostsPerLeaf             \n",
       "uniform       colocate-colocate-uniform 12                        1.016901   \n",
       "                                        24                        1.016685   \n",
       "                                        48                        1.009034   \n",
       "              colocate-uniform          uniform                   1.297471   \n",
       "wve           colocate-colocate-uniform 12                        1.005387   \n",
       "                                        24                        1.015290   \n",
       "                                        48                        1.019931   \n",
       "              colocate-uniform          uniform                   1.287370   \n",
       "\n",
       "                                                                       std  \\\n",
       "groupSizeDist placementDist             placementNumHostsPerLeaf             \n",
       "uniform       colocate-colocate-uniform 12                        0.151501   \n",
       "                                        24                        0.177343   \n",
       "                                        48                        0.094619   \n",
       "              colocate-uniform          uniform                   0.606730   \n",
       "wve           colocate-colocate-uniform 12                        0.073198   \n",
       "                                        24                        0.122702   \n",
       "                                        48                        0.168320   \n",
       "              colocate-uniform          uniform                   0.605536   \n",
       "\n",
       "                                                                  min  25%  \\\n",
       "groupSizeDist placementDist             placementNumHostsPerLeaf             \n",
       "uniform       colocate-colocate-uniform 12                        1.0  1.0   \n",
       "                                        24                        1.0  1.0   \n",
       "                                        48                        1.0  1.0   \n",
       "              colocate-uniform          uniform                   1.0  1.0   \n",
       "wve           colocate-colocate-uniform 12                        1.0  1.0   \n",
       "                                        24                        1.0  1.0   \n",
       "                                        48                        1.0  1.0   \n",
       "              colocate-uniform          uniform                   1.0  1.0   \n",
       "\n",
       "                                                                  50%  75%  \\\n",
       "groupSizeDist placementDist             placementNumHostsPerLeaf             \n",
       "uniform       colocate-colocate-uniform 12                        1.0  1.0   \n",
       "                                        24                        1.0  1.0   \n",
       "                                        48                        1.0  1.0   \n",
       "              colocate-uniform          uniform                   1.0  1.0   \n",
       "wve           colocate-colocate-uniform 12                        1.0  1.0   \n",
       "                                        24                        1.0  1.0   \n",
       "                                        48                        1.0  1.0   \n",
       "              colocate-uniform          uniform                   1.0  1.0   \n",
       "\n",
       "                                                                  max  \n",
       "groupSizeDist placementDist             placementNumHostsPerLeaf       \n",
       "uniform       colocate-colocate-uniform 12                        3.0  \n",
       "                                        24                        3.0  \n",
       "                                        48                        2.0  \n",
       "              colocate-uniform          uniform                   4.0  \n",
       "wve           colocate-colocate-uniform 12                        2.0  \n",
       "                                        24                        2.0  \n",
       "                                        48                        3.0  \n",
       "              colocate-uniform          uniform                   5.0  "
      ]
     },
     "execution_count": 11,
     "metadata": {},
     "output_type": "execute_result"
    }
   ],
   "source": [
    "# podCountPerGroupPerTenant.groupby(['groupSizeDist', 'placementDist', 'placementNumHostsPerLeaf'])[\n",
    "#     'podCount'].quantile([0.0, 0.5, 0.8, 0.99, 0.999, 0.9999, 1.0])\n",
    "podCountPerGroupPerTenant.groupby(['groupSizeDist', 'placementDist', 'placementNumHostsPerLeaf'])[\n",
    "    'podCount'].describe()"
   ]
  },
  {
   "cell_type": "code",
   "execution_count": 12,
   "metadata": {
    "collapsed": true
   },
   "outputs": [],
   "source": [
    "podCountPerGroupPerTenant.to_csv(directory + 'pod_count_per_group_per_tenant.csv', index=False)"
   ]
  },
  {
   "cell_type": "code",
   "execution_count": null,
   "metadata": {
    "collapsed": true
   },
   "outputs": [],
   "source": []
  },
  {
   "cell_type": "code",
   "execution_count": 12,
   "metadata": {
    "collapsed": false
   },
   "outputs": [],
   "source": [
    "_folders = glob.glob(directory + \"logs.*_0.random-fuzzy-match_*_pods\") # + glob.glob(directory + \"logs.*_1.*_pods\")"
   ]
  },
  {
   "cell_type": "code",
   "execution_count": 13,
   "metadata": {
    "collapsed": false
   },
   "outputs": [],
   "source": [
    "podsAlgorithmElapseTime = DataSetAsDataFrame('pods_algorithm_elapse_time.csv', \n",
    "                                              _folders, ['elapseTime'])"
   ]
  },
  {
   "cell_type": "code",
   "execution_count": 14,
   "metadata": {
    "collapsed": false
   },
   "outputs": [
    {
     "data": {
      "text/plain": [
       "143784000"
      ]
     },
     "execution_count": 14,
     "metadata": {},
     "output_type": "execute_result"
    }
   ],
   "source": [
    "len(podsAlgorithmElapseTime)"
   ]
  },
  {
   "cell_type": "code",
   "execution_count": 14,
   "metadata": {
    "collapsed": false
   },
   "outputs": [
    {
     "data": {
      "text/html": [
       "<div>\n",
       "<style scoped>\n",
       "    .dataframe tbody tr th:only-of-type {\n",
       "        vertical-align: middle;\n",
       "    }\n",
       "\n",
       "    .dataframe tbody tr th {\n",
       "        vertical-align: top;\n",
       "    }\n",
       "\n",
       "    .dataframe thead th {\n",
       "        text-align: right;\n",
       "    }\n",
       "</style>\n",
       "<table border=\"1\" class=\"dataframe\">\n",
       "  <thead>\n",
       "    <tr style=\"text-align: right;\">\n",
       "      <th></th>\n",
       "      <th>elapseTime</th>\n",
       "      <th>groupSizeDist</th>\n",
       "      <th>placementDist</th>\n",
       "      <th>placementNumHostsPerLeaf</th>\n",
       "      <th>seed</th>\n",
       "      <th>podsAlgorithm</th>\n",
       "      <th>podsNumBitmaps</th>\n",
       "      <th>podsNumNodesPerBitmap</th>\n",
       "      <th>podsRedundancyPerBitmap</th>\n",
       "      <th>podsNumRules</th>\n",
       "    </tr>\n",
       "  </thead>\n",
       "  <tbody>\n",
       "    <tr>\n",
       "      <th>0</th>\n",
       "      <td>0.000014</td>\n",
       "      <td>uniform</td>\n",
       "      <td>colocate-uniform</td>\n",
       "      <td>uniform</td>\n",
       "      <td>0</td>\n",
       "      <td>exact-match</td>\n",
       "      <td>1</td>\n",
       "      <td>3</td>\n",
       "      <td>0</td>\n",
       "      <td>10000</td>\n",
       "    </tr>\n",
       "    <tr>\n",
       "      <th>1</th>\n",
       "      <td>0.000004</td>\n",
       "      <td>uniform</td>\n",
       "      <td>colocate-uniform</td>\n",
       "      <td>uniform</td>\n",
       "      <td>0</td>\n",
       "      <td>exact-match</td>\n",
       "      <td>1</td>\n",
       "      <td>3</td>\n",
       "      <td>0</td>\n",
       "      <td>10000</td>\n",
       "    </tr>\n",
       "  </tbody>\n",
       "</table>\n",
       "</div>"
      ],
      "text/plain": [
       "   elapseTime groupSizeDist     placementDist placementNumHostsPerLeaf  seed  \\\n",
       "0    0.000014       uniform  colocate-uniform                  uniform     0   \n",
       "1    0.000004       uniform  colocate-uniform                  uniform     0   \n",
       "\n",
       "  podsAlgorithm  podsNumBitmaps  podsNumNodesPerBitmap  \\\n",
       "0   exact-match               1                      3   \n",
       "1   exact-match               1                      3   \n",
       "\n",
       "   podsRedundancyPerBitmap  podsNumRules  \n",
       "0                        0         10000  \n",
       "1                        0         10000  "
      ]
     },
     "execution_count": 14,
     "metadata": {},
     "output_type": "execute_result"
    }
   ],
   "source": [
    "podsAlgorithmElapseTime.head(2)"
   ]
  },
  {
   "cell_type": "code",
   "execution_count": 11,
   "metadata": {
    "collapsed": true
   },
   "outputs": [],
   "source": [
    "podsAlgorithmElapseTime.drop(['groupSizeDist', 'placementDist', 'placementNumHostsPerLeaf'], axis=1, inplace=True)"
   ]
  },
  {
   "cell_type": "code",
   "execution_count": 14,
   "metadata": {
    "collapsed": false
   },
   "outputs": [
    {
     "data": {
      "text/html": [
       "<div>\n",
       "<style scoped>\n",
       "    .dataframe tbody tr th:only-of-type {\n",
       "        vertical-align: middle;\n",
       "    }\n",
       "\n",
       "    .dataframe tbody tr th {\n",
       "        vertical-align: top;\n",
       "    }\n",
       "\n",
       "    .dataframe thead th {\n",
       "        text-align: right;\n",
       "    }\n",
       "</style>\n",
       "<table border=\"1\" class=\"dataframe\">\n",
       "  <thead>\n",
       "    <tr style=\"text-align: right;\">\n",
       "      <th></th>\n",
       "      <th>count</th>\n",
       "      <th>mean</th>\n",
       "      <th>std</th>\n",
       "      <th>min</th>\n",
       "      <th>25%</th>\n",
       "      <th>50%</th>\n",
       "      <th>75%</th>\n",
       "      <th>max</th>\n",
       "    </tr>\n",
       "    <tr>\n",
       "      <th>podsAlgorithm</th>\n",
       "      <th></th>\n",
       "      <th></th>\n",
       "      <th></th>\n",
       "      <th></th>\n",
       "      <th></th>\n",
       "      <th></th>\n",
       "      <th></th>\n",
       "      <th></th>\n",
       "    </tr>\n",
       "  </thead>\n",
       "  <tbody>\n",
       "    <tr>\n",
       "      <th>exact-match</th>\n",
       "      <td>95858400.0</td>\n",
       "      <td>3.671867e-07</td>\n",
       "      <td>0.000015</td>\n",
       "      <td>4.377216e-08</td>\n",
       "      <td>1.131557e-07</td>\n",
       "      <td>1.178123e-07</td>\n",
       "      <td>1.378357e-07</td>\n",
       "      <td>0.024256</td>\n",
       "    </tr>\n",
       "    <tr>\n",
       "      <th>random-fuzzy-match</th>\n",
       "      <td>287575200.0</td>\n",
       "      <td>6.035337e-07</td>\n",
       "      <td>0.000032</td>\n",
       "      <td>4.284084e-08</td>\n",
       "      <td>1.136214e-07</td>\n",
       "      <td>1.178123e-07</td>\n",
       "      <td>1.448207e-07</td>\n",
       "      <td>0.206990</td>\n",
       "    </tr>\n",
       "  </tbody>\n",
       "</table>\n",
       "</div>"
      ],
      "text/plain": [
       "                          count          mean       std           min  \\\n",
       "podsAlgorithm                                                           \n",
       "exact-match          95858400.0  3.671867e-07  0.000015  4.377216e-08   \n",
       "random-fuzzy-match  287575200.0  6.035337e-07  0.000032  4.284084e-08   \n",
       "\n",
       "                             25%           50%           75%       max  \n",
       "podsAlgorithm                                                           \n",
       "exact-match         1.131557e-07  1.178123e-07  1.378357e-07  0.024256  \n",
       "random-fuzzy-match  1.136214e-07  1.178123e-07  1.448207e-07  0.206990  "
      ]
     },
     "execution_count": 14,
     "metadata": {},
     "output_type": "execute_result"
    }
   ],
   "source": [
    "# podsAlgorithmElapseTime.groupby(['podsAlgorithm', 'podsNumBitmaps', 'podsNumNodesPerBitmap', \n",
    "#                                 'podsRedundancyPerBitmap', 'podsNumRules'])['elapseTime'].describe()\n",
    "podsAlgorithmElapseTime.groupby('podsAlgorithm')['elapseTime'].describe()"
   ]
  },
  {
   "cell_type": "code",
   "execution_count": null,
   "metadata": {
    "collapsed": true
   },
   "outputs": [],
   "source": [
    "podsAlgorithmElapseTime.to_csv(directory + 'pods_algorithm_elapse_time.csv', index=False)"
   ]
  },
  {
   "cell_type": "code",
   "execution_count": null,
   "metadata": {
    "collapsed": true
   },
   "outputs": [],
   "source": []
  },
  {
   "cell_type": "code",
   "execution_count": 15,
   "metadata": {
    "collapsed": true
   },
   "outputs": [],
   "source": [
    "podsAlgorithmElapseTime['groupSize'] = groupSizePerGroupPerTenant['groupSize']"
   ]
  },
  {
   "cell_type": "code",
   "execution_count": 16,
   "metadata": {
    "collapsed": true
   },
   "outputs": [],
   "source": [
    "podsAlgorithmElapseTimeTrim = podsAlgorithmElapseTime[\n",
    "    (((podsAlgorithmElapseTime['placementDist'] == 'colocate-uniform') &\n",
    "      (podsAlgorithmElapseTime['placementNumHostsPerLeaf'] == 'uniform')) |\n",
    "     ((podsAlgorithmElapseTime['placementDist'] == 'colocate-colocate-uniform') &\n",
    "      (podsAlgorithmElapseTime['placementNumHostsPerLeaf'] == '12'))) &\n",
    "    (podsAlgorithmElapseTime['podsNumRules'] == 64000)\n",
    "]"
   ]
  },
  {
   "cell_type": "code",
   "execution_count": 17,
   "metadata": {
    "collapsed": false
   },
   "outputs": [
    {
     "data": {
      "text/plain": [
       "array(['12', 'uniform'], dtype=object)"
      ]
     },
     "execution_count": 17,
     "metadata": {},
     "output_type": "execute_result"
    }
   ],
   "source": [
    "podsAlgorithmElapseTimeTrim['placementNumHostsPerLeaf'].unique()"
   ]
  },
  {
   "cell_type": "code",
   "execution_count": 18,
   "metadata": {
    "collapsed": false
   },
   "outputs": [],
   "source": [
    "podsAlgorithmElapseTimeTrim.to_csv(directory + 'pods_algorithm_elapse_time_trim.csv', index=False)"
   ]
  },
  {
   "cell_type": "code",
   "execution_count": null,
   "metadata": {
    "collapsed": true
   },
   "outputs": [],
   "source": []
  },
  {
   "cell_type": "code",
   "execution_count": null,
   "metadata": {
    "collapsed": true
   },
   "outputs": [],
   "source": [
    "# @Lalith"
   ]
  },
  {
   "cell_type": "code",
   "execution_count": 13,
   "metadata": {
    "collapsed": false
   },
   "outputs": [],
   "source": [
    "# podsAlgorithmElapseTime = pd.read_csv(directory + 'pods_algorithm_elapse_time.csv')"
   ]
  },
  {
   "cell_type": "code",
   "execution_count": 17,
   "metadata": {
    "collapsed": false
   },
   "outputs": [],
   "source": [
    "# podsAlgorithmElapseTimeTrim = podsAlgorithmElapseTime[\n",
    "#     (((podsAlgorithmElapseTime['placementDist'] == 'colocate-uniform') &\n",
    "#       (podsAlgorithmElapseTime['placementNumHostsPerLeaf'] == 'uniform')) |\n",
    "#      ((podsAlgorithmElapseTime['placementDist'] == 'colocate-colocate-uniform') &\n",
    "#       (podsAlgorithmElapseTime['placementNumHostsPerLeaf'] == '12'))) &\n",
    "#     (podsAlgorithmElapseTime['seed'] == 0) &\n",
    "#     (podsAlgorithmElapseTime['podsAlgorithm'] == 'random-fuzzy-match') &\n",
    "#     (podsAlgorithmElapseTime['podsNumRules'] == 64000)\n",
    "# ]"
   ]
  },
  {
   "cell_type": "code",
   "execution_count": null,
   "metadata": {
    "collapsed": false
   },
   "outputs": [],
   "source": [
    "# podsAlgorithmElapseTimeTrim['podsNumRules'].unique()"
   ]
  },
  {
   "cell_type": "code",
   "execution_count": null,
   "metadata": {
    "collapsed": true
   },
   "outputs": [],
   "source": [
    "# podsAlgorithmElapseTimeTrim.to_csv(directory + 'pods_algorithm_elapse_time_trim.csv', index=False)"
   ]
  },
  {
   "cell_type": "code",
   "execution_count": null,
   "metadata": {
    "collapsed": true
   },
   "outputs": [],
   "source": []
  },
  {
   "cell_type": "code",
   "execution_count": null,
   "metadata": {
    "collapsed": true
   },
   "outputs": [],
   "source": []
  },
  {
   "cell_type": "code",
   "execution_count": 26,
   "metadata": {
    "collapsed": false
   },
   "outputs": [],
   "source": [
    "_leafs_folders = (glob.glob(directory + \"logs.*_0.*.random-fuzzy-match_*_3_0_*_2_3_leafs_*\") +\n",
    "                  glob.glob(directory + \"logs.*_0.*.random-fuzzy-match_*_3_6_*_2_3_leafs_*\") +\n",
    "                  glob.glob(directory + \"logs.*_0.*.random-fuzzy-match_*_3_12_*_2_3_leafs_*\"))"
   ]
  },
  {
   "cell_type": "code",
   "execution_count": 27,
   "metadata": {
    "collapsed": false
   },
   "outputs": [],
   "source": [
    "leafsAlgorithmElapseTime = DataSetAsDataFrame('leafs_algorithm_elapse_time.csv', \n",
    "                                              _leafs_folders, ['elapseTime'])"
   ]
  },
  {
   "cell_type": "code",
   "execution_count": 28,
   "metadata": {
    "collapsed": false
   },
   "outputs": [
    {
     "data": {
      "text/plain": [
       "143784000"
      ]
     },
     "execution_count": 28,
     "metadata": {},
     "output_type": "execute_result"
    }
   ],
   "source": [
    "len(leafsAlgorithmElapseTime)"
   ]
  },
  {
   "cell_type": "code",
   "execution_count": 11,
   "metadata": {
    "collapsed": false
   },
   "outputs": [
    {
     "data": {
      "text/html": [
       "<div>\n",
       "<style scoped>\n",
       "    .dataframe tbody tr th:only-of-type {\n",
       "        vertical-align: middle;\n",
       "    }\n",
       "\n",
       "    .dataframe tbody tr th {\n",
       "        vertical-align: top;\n",
       "    }\n",
       "\n",
       "    .dataframe thead th {\n",
       "        text-align: right;\n",
       "    }\n",
       "</style>\n",
       "<table border=\"1\" class=\"dataframe\">\n",
       "  <thead>\n",
       "    <tr style=\"text-align: right;\">\n",
       "      <th></th>\n",
       "      <th>elapseTime</th>\n",
       "      <th>groupSizeDist</th>\n",
       "      <th>placementDist</th>\n",
       "      <th>placementNumHostsPerLeaf</th>\n",
       "      <th>seed</th>\n",
       "      <th>podsAlgorithm</th>\n",
       "      <th>podsNumBitmaps</th>\n",
       "      <th>podsNumNodesPerBitmap</th>\n",
       "      <th>podsRedundancyPerBitmap</th>\n",
       "      <th>podsNumRules</th>\n",
       "      <th>leafsAlgorithm</th>\n",
       "      <th>leafsNumBitmaps</th>\n",
       "      <th>leafsNumNodesPerBitmap</th>\n",
       "      <th>leafsRedundancyPerBitmap</th>\n",
       "      <th>leafsNumRules</th>\n",
       "    </tr>\n",
       "  </thead>\n",
       "  <tbody>\n",
       "    <tr>\n",
       "      <th>0</th>\n",
       "      <td>0.000016</td>\n",
       "      <td>uniform</td>\n",
       "      <td>colocate-colocate-uniform</td>\n",
       "      <td>12</td>\n",
       "      <td>0</td>\n",
       "      <td>random-fuzzy-match</td>\n",
       "      <td>2</td>\n",
       "      <td>3</td>\n",
       "      <td>6</td>\n",
       "      <td>64000</td>\n",
       "      <td>exact-match</td>\n",
       "      <td>10</td>\n",
       "      <td>3</td>\n",
       "      <td>0</td>\n",
       "      <td>10000</td>\n",
       "    </tr>\n",
       "    <tr>\n",
       "      <th>1</th>\n",
       "      <td>0.000004</td>\n",
       "      <td>uniform</td>\n",
       "      <td>colocate-colocate-uniform</td>\n",
       "      <td>12</td>\n",
       "      <td>0</td>\n",
       "      <td>random-fuzzy-match</td>\n",
       "      <td>2</td>\n",
       "      <td>3</td>\n",
       "      <td>6</td>\n",
       "      <td>64000</td>\n",
       "      <td>exact-match</td>\n",
       "      <td>10</td>\n",
       "      <td>3</td>\n",
       "      <td>0</td>\n",
       "      <td>10000</td>\n",
       "    </tr>\n",
       "  </tbody>\n",
       "</table>\n",
       "</div>"
      ],
      "text/plain": [
       "   elapseTime groupSizeDist              placementDist  \\\n",
       "0    0.000016       uniform  colocate-colocate-uniform   \n",
       "1    0.000004       uniform  colocate-colocate-uniform   \n",
       "\n",
       "  placementNumHostsPerLeaf  seed       podsAlgorithm  podsNumBitmaps  \\\n",
       "0                       12     0  random-fuzzy-match               2   \n",
       "1                       12     0  random-fuzzy-match               2   \n",
       "\n",
       "   podsNumNodesPerBitmap  podsRedundancyPerBitmap  podsNumRules  \\\n",
       "0                      3                        6         64000   \n",
       "1                      3                        6         64000   \n",
       "\n",
       "  leafsAlgorithm  leafsNumBitmaps  leafsNumNodesPerBitmap  \\\n",
       "0    exact-match               10                       3   \n",
       "1    exact-match               10                       3   \n",
       "\n",
       "   leafsRedundancyPerBitmap  leafsNumRules  \n",
       "0                         0          10000  \n",
       "1                         0          10000  "
      ]
     },
     "execution_count": 11,
     "metadata": {},
     "output_type": "execute_result"
    }
   ],
   "source": [
    "leafsAlgorithmElapseTime.head(2)"
   ]
  },
  {
   "cell_type": "code",
   "execution_count": null,
   "metadata": {
    "collapsed": true
   },
   "outputs": [],
   "source": [
    "leafsAlgorithmElapseTime.drop(['groupSizeDist', 'placementDist', 'placementNumHostsPerLeaf',\n",
    "                               'podsAlgorithm', 'podsNumBitmaps', 'podsNumNodesPerBitmap', \n",
    "                               'podsRedundancyPerBitmap', 'podsNumRules'], axis=1, inplace=True)"
   ]
  },
  {
   "cell_type": "code",
   "execution_count": 12,
   "metadata": {
    "collapsed": false
   },
   "outputs": [
    {
     "data": {
      "text/html": [
       "<div>\n",
       "<style scoped>\n",
       "    .dataframe tbody tr th:only-of-type {\n",
       "        vertical-align: middle;\n",
       "    }\n",
       "\n",
       "    .dataframe tbody tr th {\n",
       "        vertical-align: top;\n",
       "    }\n",
       "\n",
       "    .dataframe thead th {\n",
       "        text-align: right;\n",
       "    }\n",
       "</style>\n",
       "<table border=\"1\" class=\"dataframe\">\n",
       "  <thead>\n",
       "    <tr style=\"text-align: right;\">\n",
       "      <th></th>\n",
       "      <th>count</th>\n",
       "      <th>mean</th>\n",
       "      <th>std</th>\n",
       "      <th>min</th>\n",
       "      <th>25%</th>\n",
       "      <th>50%</th>\n",
       "      <th>75%</th>\n",
       "      <th>max</th>\n",
       "    </tr>\n",
       "    <tr>\n",
       "      <th>leafsAlgorithm</th>\n",
       "      <th></th>\n",
       "      <th></th>\n",
       "      <th></th>\n",
       "      <th></th>\n",
       "      <th></th>\n",
       "      <th></th>\n",
       "      <th></th>\n",
       "      <th></th>\n",
       "    </tr>\n",
       "  </thead>\n",
       "  <tbody>\n",
       "    <tr>\n",
       "      <th>exact-match</th>\n",
       "      <td>47928000.0</td>\n",
       "      <td>0.000012</td>\n",
       "      <td>0.000086</td>\n",
       "      <td>4.377216e-08</td>\n",
       "      <td>5.122274e-08</td>\n",
       "      <td>1.178123e-07</td>\n",
       "      <td>0.000019</td>\n",
       "      <td>0.018701</td>\n",
       "    </tr>\n",
       "    <tr>\n",
       "      <th>random-fuzzy-match</th>\n",
       "      <td>239640000.0</td>\n",
       "      <td>0.000109</td>\n",
       "      <td>0.000296</td>\n",
       "      <td>4.377216e-08</td>\n",
       "      <td>5.215406e-08</td>\n",
       "      <td>1.187436e-07</td>\n",
       "      <td>0.000117</td>\n",
       "      <td>0.030002</td>\n",
       "    </tr>\n",
       "  </tbody>\n",
       "</table>\n",
       "</div>"
      ],
      "text/plain": [
       "                          count      mean       std           min  \\\n",
       "leafsAlgorithm                                                      \n",
       "exact-match          47928000.0  0.000012  0.000086  4.377216e-08   \n",
       "random-fuzzy-match  239640000.0  0.000109  0.000296  4.377216e-08   \n",
       "\n",
       "                             25%           50%       75%       max  \n",
       "leafsAlgorithm                                                      \n",
       "exact-match         5.122274e-08  1.178123e-07  0.000019  0.018701  \n",
       "random-fuzzy-match  5.215406e-08  1.187436e-07  0.000117  0.030002  "
      ]
     },
     "execution_count": 12,
     "metadata": {},
     "output_type": "execute_result"
    }
   ],
   "source": [
    "leafsAlgorithmElapseTime.groupby('leafsAlgorithm')['elapseTime'].describe()"
   ]
  },
  {
   "cell_type": "code",
   "execution_count": 12,
   "metadata": {
    "collapsed": false
   },
   "outputs": [],
   "source": [
    "leafsAlgorithmElapseTime.to_csv(directory + 'leafs_algorithm_elapse_time.csv', index=False)"
   ]
  },
  {
   "cell_type": "code",
   "execution_count": null,
   "metadata": {
    "collapsed": true
   },
   "outputs": [],
   "source": []
  },
  {
   "cell_type": "code",
   "execution_count": 29,
   "metadata": {
    "collapsed": true
   },
   "outputs": [],
   "source": [
    "leafsAlgorithmElapseTime['groupSize'] = groupSizePerGroupPerTenant['groupSize']"
   ]
  },
  {
   "cell_type": "code",
   "execution_count": 30,
   "metadata": {
    "collapsed": true
   },
   "outputs": [],
   "source": [
    "leafsAlgorithmElapseTimeTrim = leafsAlgorithmElapseTime[\n",
    "    (((leafsAlgorithmElapseTime['placementDist'] == 'colocate-uniform') &\n",
    "      (leafsAlgorithmElapseTime['placementNumHostsPerLeaf'] == 'uniform')) |\n",
    "     ((leafsAlgorithmElapseTime['placementDist'] == 'colocate-colocate-uniform') &\n",
    "      (leafsAlgorithmElapseTime['placementNumHostsPerLeaf'] == '12'))) &\n",
    "    (leafsAlgorithmElapseTime['podsNumRules'] == 64000)\n",
    "]"
   ]
  },
  {
   "cell_type": "code",
   "execution_count": 31,
   "metadata": {
    "collapsed": false
   },
   "outputs": [
    {
     "data": {
      "text/plain": [
       "array(['12', 'uniform'], dtype=object)"
      ]
     },
     "execution_count": 31,
     "metadata": {},
     "output_type": "execute_result"
    }
   ],
   "source": [
    "leafsAlgorithmElapseTimeTrim['placementNumHostsPerLeaf'].unique()"
   ]
  },
  {
   "cell_type": "code",
   "execution_count": 32,
   "metadata": {
    "collapsed": true
   },
   "outputs": [],
   "source": [
    "leafsAlgorithmElapseTimeTrim.to_csv(directory + 'leafs_algorithm_elapse_time_trim.csv', index=False)"
   ]
  },
  {
   "cell_type": "code",
   "execution_count": null,
   "metadata": {
    "collapsed": true
   },
   "outputs": [],
   "source": []
  },
  {
   "cell_type": "code",
   "execution_count": 35,
   "metadata": {
    "collapsed": false
   },
   "outputs": [
    {
     "data": {
      "text/html": [
       "<div>\n",
       "<style scoped>\n",
       "    .dataframe tbody tr th:only-of-type {\n",
       "        vertical-align: middle;\n",
       "    }\n",
       "\n",
       "    .dataframe tbody tr th {\n",
       "        vertical-align: top;\n",
       "    }\n",
       "\n",
       "    .dataframe thead th {\n",
       "        text-align: right;\n",
       "    }\n",
       "</style>\n",
       "<table border=\"1\" class=\"dataframe\">\n",
       "  <thead>\n",
       "    <tr style=\"text-align: right;\">\n",
       "      <th></th>\n",
       "      <th>groupSize</th>\n",
       "      <th>elapseTime</th>\n",
       "    </tr>\n",
       "  </thead>\n",
       "  <tbody>\n",
       "    <tr>\n",
       "      <th>0</th>\n",
       "      <td>103</td>\n",
       "      <td>0.000018</td>\n",
       "    </tr>\n",
       "    <tr>\n",
       "      <th>1</th>\n",
       "      <td>107</td>\n",
       "      <td>0.000004</td>\n",
       "    </tr>\n",
       "    <tr>\n",
       "      <th>3</th>\n",
       "      <td>124</td>\n",
       "      <td>0.000003</td>\n",
       "    </tr>\n",
       "    <tr>\n",
       "      <th>5</th>\n",
       "      <td>176</td>\n",
       "      <td>0.000004</td>\n",
       "    </tr>\n",
       "    <tr>\n",
       "      <th>7</th>\n",
       "      <td>148</td>\n",
       "      <td>0.000003</td>\n",
       "    </tr>\n",
       "    <tr>\n",
       "      <th>10</th>\n",
       "      <td>122</td>\n",
       "      <td>0.000004</td>\n",
       "    </tr>\n",
       "    <tr>\n",
       "      <th>12</th>\n",
       "      <td>153</td>\n",
       "      <td>0.000004</td>\n",
       "    </tr>\n",
       "    <tr>\n",
       "      <th>18</th>\n",
       "      <td>183</td>\n",
       "      <td>0.000003</td>\n",
       "    </tr>\n",
       "    <tr>\n",
       "      <th>20</th>\n",
       "      <td>118</td>\n",
       "      <td>0.000004</td>\n",
       "    </tr>\n",
       "    <tr>\n",
       "      <th>22</th>\n",
       "      <td>174</td>\n",
       "      <td>0.000003</td>\n",
       "    </tr>\n",
       "  </tbody>\n",
       "</table>\n",
       "</div>"
      ],
      "text/plain": [
       "    groupSize  elapseTime\n",
       "0         103    0.000018\n",
       "1         107    0.000004\n",
       "3         124    0.000003\n",
       "5         176    0.000004\n",
       "7         148    0.000003\n",
       "10        122    0.000004\n",
       "12        153    0.000004\n",
       "18        183    0.000003\n",
       "20        118    0.000004\n",
       "22        174    0.000003"
      ]
     },
     "execution_count": 35,
     "metadata": {},
     "output_type": "execute_result"
    }
   ],
   "source": [
    "leafsAlgorithmElapseTimeTrim[leafsAlgorithmElapseTimeTrim['groupSize'] > 100][['groupSize', 'elapseTime']].head(10)"
   ]
  },
  {
   "cell_type": "code",
   "execution_count": null,
   "metadata": {
    "collapsed": true
   },
   "outputs": [],
   "source": []
  },
  {
   "cell_type": "code",
   "execution_count": null,
   "metadata": {
    "collapsed": true
   },
   "outputs": [],
   "source": [
    "# @Lalith"
   ]
  },
  {
   "cell_type": "code",
   "execution_count": 10,
   "metadata": {
    "collapsed": false
   },
   "outputs": [],
   "source": [
    "# leafsAlgorithmElapseTime = pd.read_csv(directory + 'leafs_algorithm_elapse_time.csv')"
   ]
  },
  {
   "cell_type": "code",
   "execution_count": 12,
   "metadata": {
    "collapsed": false
   },
   "outputs": [],
   "source": [
    "# leafsAlgorithmElapseTimeTrim = leafsAlgorithmElapseTime[\n",
    "#     (((leafsAlgorithmElapseTime['placementDist'] == 'colocate-uniform') &\n",
    "#       (leafsAlgorithmElapseTime['placementNumHostsPerLeaf'] == 'uniform')) |\n",
    "#      ((leafsAlgorithmElapseTime['placementDist'] == 'colocate-colocate-uniform') &\n",
    "#       (leafsAlgorithmElapseTime['placementNumHostsPerLeaf'] == '12'))) &\n",
    "#     (leafsAlgorithmElapseTime['seed'] == 0) &\n",
    "#     (leafsAlgorithmElapseTime['leafsAlgorithm'] == 'random-fuzzy-match') &\n",
    "#     (leafsAlgorithmElapseTime['leafsNumRules'] == 64000)\n",
    "# ]"
   ]
  },
  {
   "cell_type": "code",
   "execution_count": 13,
   "metadata": {
    "collapsed": true
   },
   "outputs": [],
   "source": [
    "# leafsAlgorithmElapseTimeTrim.to_csv(directory + 'leafs_algorithm_elapse_time_trim.csv', index=False)"
   ]
  },
  {
   "cell_type": "code",
   "execution_count": null,
   "metadata": {
    "collapsed": true
   },
   "outputs": [],
   "source": []
  },
  {
   "cell_type": "code",
   "execution_count": null,
   "metadata": {
    "collapsed": true
   },
   "outputs": [],
   "source": []
  },
  {
   "cell_type": "code",
   "execution_count": 8,
   "metadata": {
    "collapsed": true
   },
   "outputs": [],
   "source": [
    "groupsCoveredWithBitmapsOnlyForPods = DataSetAsDataFrame('groups_covered_with_bitmaps_only_for_pods.csv', \n",
    "                                                         folders, \n",
    "                                                         ['groupsCovered', 'groupsCoveredWithoutDefaultBitmap'],\n",
    "                                                         header=0)"
   ]
  },
  {
   "cell_type": "code",
   "execution_count": 9,
   "metadata": {
    "collapsed": false
   },
   "outputs": [],
   "source": [
    "# %%R -i groupsCoveredWithBitmapsOnlyForPods\n",
    "# ggplot(groupsCoveredWithBitmapsOnlyForPods) +\n",
    "#    geom_bar(aes(y=groupsCoveredWithoutDefaultBitmap, x=factor(podsNumBitmaps), \n",
    "#                 fill=interaction(podsAlgorithm, podsNumNodesPerBitmap, podsRedundancyPerBitmap)),\n",
    "#             stat=\"identity\",position=position_dodge()) +\n",
    "#    facet_grid(groupSizeDist * podsNumRules ~ factor(placementNumHostsPerLeaf, levels=c('uniform','12','24','48'))) +\n",
    "#    xlab(\"Number of bitmaps\") +\n",
    "#    ylab(\"Groups covered (without default bitmap)\") +\n",
    "#    plotTheme"
   ]
  },
  {
   "cell_type": "code",
   "execution_count": 10,
   "metadata": {
    "collapsed": true
   },
   "outputs": [],
   "source": [
    "groupsCoveredWithBitmapsOnlyForPods.to_csv(directory + 'groups_covered_with_bitmaps_only_for_pods.csv', index=False)"
   ]
  },
  {
   "cell_type": "code",
   "execution_count": null,
   "metadata": {
    "collapsed": true
   },
   "outputs": [],
   "source": []
  },
  {
   "cell_type": "code",
   "execution_count": 11,
   "metadata": {
    "collapsed": true
   },
   "outputs": [],
   "source": [
    "groupsCoveredWithBitmapsOnlyForLeafs = DataSetAsDataFrame('groups_covered_with_bitmaps_only_for_leafs.csv', \n",
    "                                                          leafs_folders, \n",
    "                                                          ['groupsCovered', 'groupsCoveredWithoutDefaultBitmap'],\n",
    "                                                          header=0)"
   ]
  },
  {
   "cell_type": "code",
   "execution_count": 12,
   "metadata": {
    "collapsed": false
   },
   "outputs": [],
   "source": [
    "# %%R -i groupsCoveredWithBitmapsOnlyForLeafs\n",
    "# ggplot(groupsCoveredWithBitmapsOnlyForLeafs) +\n",
    "#    geom_bar(aes(y=groupsCoveredWithoutDefaultBitmap, x=factor(leafsNumBitmaps), \n",
    "#                 fill=interaction(leafsAlgorithm, leafsNumNodesPerBitmap, leafsRedundancyPerBitmap)),\n",
    "#             stat=\"identity\",position=position_dodge()) +\n",
    "#    facet_grid(groupSizeDist * leafsNumRules ~ factor(placementNumHostsPerLeaf, levels=c('uniform','12','24','48'))) +\n",
    "#    xlab(\"Number of bitmaps\") +\n",
    "#    ylab(\"Groups covered (without default bitmap)\") +\n",
    "#    plotTheme"
   ]
  },
  {
   "cell_type": "code",
   "execution_count": 13,
   "metadata": {
    "collapsed": true
   },
   "outputs": [],
   "source": [
    "groupsCoveredWithBitmapsOnlyForLeafs.to_csv(directory + 'groups_covered_with_bitmaps_only_for_leafs.csv', index=False)"
   ]
  },
  {
   "cell_type": "code",
   "execution_count": null,
   "metadata": {
    "collapsed": true
   },
   "outputs": [],
   "source": []
  },
  {
   "cell_type": "code",
   "execution_count": 14,
   "metadata": {
    "collapsed": true
   },
   "outputs": [],
   "source": [
    "ruleCountForPods = DataSetAsDataFrame('rule_count_for_pods.csv', \n",
    "                                      folders, ['numRules'])"
   ]
  },
  {
   "cell_type": "code",
   "execution_count": 15,
   "metadata": {
    "collapsed": false
   },
   "outputs": [],
   "source": [
    "# %%R -i ruleCountForPods\n",
    "# ggplot(ruleCountForPods) +\n",
    "#     geom_boxplot(aes(y=numRules, x=factor(podsNumBitmaps), \n",
    "#                      fill=interaction(podsAlgorithm, podsNumNodesPerBitmap, podsRedundancyPerBitmap)),\n",
    "#                  outlier.size=0.5) +\n",
    "#     facet_grid(groupSizeDist * podsNumRules ~ factor(placementNumHostsPerLeaf, levels=c('uniform','12','24','48'))) +\n",
    "#     xlab(\"Number of bitmaps\") +\n",
    "#     ylab(\"Number of rules\") +\n",
    "#     plotTheme"
   ]
  },
  {
   "cell_type": "code",
   "execution_count": 16,
   "metadata": {
    "collapsed": true
   },
   "outputs": [],
   "source": [
    "ruleCountForPods.to_csv(directory + 'rule_count_for_pods.csv', index=False)"
   ]
  },
  {
   "cell_type": "code",
   "execution_count": null,
   "metadata": {
    "collapsed": true
   },
   "outputs": [],
   "source": []
  },
  {
   "cell_type": "code",
   "execution_count": 17,
   "metadata": {
    "collapsed": true
   },
   "outputs": [],
   "source": [
    "ruleCountForLeafs = DataSetAsDataFrame('rule_count_for_leafs.csv', \n",
    "                                       leafs_folders, ['numRules'])"
   ]
  },
  {
   "cell_type": "code",
   "execution_count": 18,
   "metadata": {
    "collapsed": false
   },
   "outputs": [],
   "source": [
    "# %%R -i ruleCountForLeafs\n",
    "# ggplot(ruleCountForLeafs) +\n",
    "#     geom_boxplot(aes(y=numRules, x=factor(leafsNumBitmaps), \n",
    "#                      fill=interaction(leafsAlgorithm, leafsNumNodesPerBitmap, leafsRedundancyPerBitmap)),\n",
    "#                  outlier.size=0.5) +\n",
    "#     facet_grid(groupSizeDist * leafsNumRules ~ factor(placementNumHostsPerLeaf, levels=c('uniform','12','24','48'))) +\n",
    "#     xlab(\"Number of bitmaps\") +\n",
    "#     ylab(\"Number of rules\") +\n",
    "#     plotTheme"
   ]
  },
  {
   "cell_type": "code",
   "execution_count": 19,
   "metadata": {
    "collapsed": true
   },
   "outputs": [],
   "source": [
    "ruleCountForLeafs.to_csv(directory + 'rule_count_for_leafs.csv', index=False)"
   ]
  },
  {
   "cell_type": "code",
   "execution_count": null,
   "metadata": {
    "collapsed": true
   },
   "outputs": [],
   "source": []
  },
  {
   "cell_type": "code",
   "execution_count": 8,
   "metadata": {
    "collapsed": true
   },
   "outputs": [],
   "source": [
    "# trafficOverheadPerGroupPerTenantForPods = DataSetAsDataFrame(\n",
    "#     'traffic_overhead_per_group_per_tenant_for_pods.csv', folders, ['trafficOverhead'])"
   ]
  },
  {
   "cell_type": "code",
   "execution_count": 9,
   "metadata": {
    "collapsed": false
   },
   "outputs": [],
   "source": [
    "# trafficOverheadPerGroupPerTenantForPods = trafficOverheadPerGroupPerTenantForPods.groupby(\n",
    "#     ['groupSizeDist', 'placementDist', 'placementNumHostsPerLeaf', 'seed',\n",
    "#      'podsAlgorithm', 'podsNumBitmaps', 'podsNumNodesPerBitmap', 'podsRedundancyPerBitmap',\n",
    "#     'podsNumRules']).mean()"
   ]
  },
  {
   "cell_type": "code",
   "execution_count": 10,
   "metadata": {
    "collapsed": true
   },
   "outputs": [],
   "source": [
    "# trafficOverheadPerGroupPerTenantForPods = trafficOverheadPerGroupPerTenantForPods.reset_index()"
   ]
  },
  {
   "cell_type": "code",
   "execution_count": 11,
   "metadata": {
    "collapsed": false
   },
   "outputs": [],
   "source": [
    "# %%R -i trafficOverheadPerGroupPerTenantForPods\n",
    "# ggplot(trafficOverheadPerGroupPerTenantForPods) +\n",
    "#     geom_boxplot(aes(y=trafficOverhead, x=factor(podsNumBitmaps), \n",
    "#                      fill=interaction(podsAlgorithm, podsNumNodesPerBitmap, podsRedundancyPerBitmap))) +\n",
    "#     facet_grid(groupSizeDist * podsNumRules ~ factor(placementNumHostsPerLeaf, levels=c('uniform','12','24','48'))) +\n",
    "#     xlab(\"Number of bitmaps\") +\n",
    "#     ylab(\"Traffic overhead per group\") +\n",
    "#     plotTheme"
   ]
  },
  {
   "cell_type": "code",
   "execution_count": 12,
   "metadata": {
    "collapsed": false
   },
   "outputs": [],
   "source": [
    "# trafficOverheadPerGroupPerTenantForLeafs = DataSetAsDataFrame(\n",
    "#     'traffic_overhead_per_group_per_tenant_for_leafs.csv', leafs_folders, ['trafficOverhead'])"
   ]
  },
  {
   "cell_type": "code",
   "execution_count": 13,
   "metadata": {
    "collapsed": false
   },
   "outputs": [],
   "source": [
    "# trafficOverheadPerGroupPerTenantForLeafs = trafficOverheadPerGroupPerTenantForLeafs.groupby(\n",
    "#     ['groupSizeDist', 'placementDist', 'placementNumHostsPerLeaf', 'seed',\n",
    "#      'podsAlgorithm', 'podsNumBitmaps', 'podsNumNodesPerBitmap', 'podsRedundancyPerBitmap',\n",
    "#      'podsNumRules', \n",
    "#      'leafsAlgorithm', 'leafsNumBitmaps', 'leafsNumNodesPerBitmap', 'leafsRedundancyPerBitmap',\n",
    "#      'leafsNumRules']).mean()"
   ]
  },
  {
   "cell_type": "code",
   "execution_count": 14,
   "metadata": {
    "collapsed": true
   },
   "outputs": [],
   "source": [
    "# trafficOverheadPerGroupPerTenantForLeafs = trafficOverheadPerGroupPerTenantForLeafs.reset_index()"
   ]
  },
  {
   "cell_type": "code",
   "execution_count": 15,
   "metadata": {
    "collapsed": true
   },
   "outputs": [],
   "source": [
    "# %%R -i trafficOverheadPerGroupPerTenantForLeafs\n",
    "# ggplot(trafficOverheadPerGroupPerTenantForLeafs) +\n",
    "#     geom_boxplot(aes(y=trafficOverhead, x=factor(leafsNumBitmaps), \n",
    "#                      fill=interaction(leafsAlgorithm, leafsNumNodesPerBitmap, leafsRedundancyPerBitmap))) +\n",
    "#     facet_grid(groupSizeDist * leafsNumRules ~ factor(placementNumHostsPerLeaf, levels=c('uniform','12','24','48'))) +\n",
    "#     xlab(\"Number of bitmaps\") +\n",
    "#     ylab(\"Traffic overhead per group\") +\n",
    "#     plotTheme"
   ]
  },
  {
   "cell_type": "code",
   "execution_count": null,
   "metadata": {
    "collapsed": true
   },
   "outputs": [],
   "source": []
  },
  {
   "cell_type": "code",
   "execution_count": null,
   "metadata": {
    "collapsed": false
   },
   "outputs": [],
   "source": [
    "# trafficPerGroupPerTenant = DataSetAsDataFrame('traffic_per_group_per_tenant.csv', \n",
    "#                                               leafs_folders, \n",
    "#                                               ['multicastTraffic', 'unicastTraffic', \n",
    "#                                                'overlayTraffic', 'baseeratTraffic'],\n",
    "#                                               header=0)"
   ]
  },
  {
   "cell_type": "code",
   "execution_count": null,
   "metadata": {
    "collapsed": true
   },
   "outputs": [],
   "source": [
    "# trafficPerGroupPerTenant = trafficPerGroupPerTenant.groupby(\n",
    "#     ['groupSizeDist', 'placementDist', 'placementNumHostsPerLeaf', 'seed',\n",
    "#      'podsAlgorithm', 'podsNumBitmaps', 'podsNumNodesPerBitmap', 'podsRedundancyPerBitmap', 'podsNumRules', \n",
    "#      'leafsAlgorithm', 'leafsNumBitmaps', 'leafsNumNodesPerBitmap', 'leafsRedundancyPerBitmap', 'leafsNumRules'])[\n",
    "#     ['unicastTraffic', 'multicastTraffic', 'baseeratTraffic', 'overlayTraffic']].agg('sum')\n",
    "# trafficPerGroupPerTenant.reset_index(inplace=True)"
   ]
  },
  {
   "cell_type": "code",
   "execution_count": null,
   "metadata": {
    "collapsed": false
   },
   "outputs": [],
   "source": [
    "# trafficPerGroupPerTenant.to_csv(directory + 'traffic_per_group_per_tenant.csv', index=False)"
   ]
  },
  {
   "cell_type": "code",
   "execution_count": null,
   "metadata": {
    "collapsed": true
   },
   "outputs": [],
   "source": []
  },
  {
   "cell_type": "code",
   "execution_count": 18,
   "metadata": {
    "collapsed": true
   },
   "outputs": [],
   "source": [
    "_leafs_folders_0 = glob.glob(directory + \"logs.*_0.*_leafs*\")"
   ]
  },
  {
   "cell_type": "code",
   "execution_count": null,
   "metadata": {
    "collapsed": false
   },
   "outputs": [],
   "source": [
    "trafficPerGroupPerTenant_0 = DataSetAsDataFrame('traffic_per_group_per_tenant.csv', \n",
    "                                                _leafs_folders_0, \n",
    "                                                ['multicastTraffic', 'unicastTraffic', \n",
    "                                                 'overlayTraffic', 'baseeratTraffic'],\n",
    "                                                header=0, reset_index=False)"
   ]
  },
  {
   "cell_type": "code",
   "execution_count": 10,
   "metadata": {
    "collapsed": true
   },
   "outputs": [],
   "source": [
    "trafficPerGroupPerTenant_0 = trafficPerGroupPerTenant_0.groupby(\n",
    "    ['groupSizeDist', 'placementDist', 'placementNumHostsPerLeaf', 'seed',\n",
    "     'podsAlgorithm', 'podsNumBitmaps', 'podsNumNodesPerBitmap', 'podsRedundancyPerBitmap', 'podsNumRules', \n",
    "     'leafsAlgorithm', 'leafsNumBitmaps', 'leafsNumNodesPerBitmap', 'leafsRedundancyPerBitmap', 'leafsNumRules'])[\n",
    "    ['unicastTraffic', 'multicastTraffic', 'baseeratTraffic', 'overlayTraffic']].agg('sum')\n",
    "trafficPerGroupPerTenant_0.reset_index(inplace=True)"
   ]
  },
  {
   "cell_type": "code",
   "execution_count": 11,
   "metadata": {
    "collapsed": true
   },
   "outputs": [],
   "source": [
    "trafficPerGroupPerTenant_0.to_csv(directory + 'traffic_per_group_per_tenant_0.csv', index=False)"
   ]
  },
  {
   "cell_type": "code",
   "execution_count": null,
   "metadata": {
    "collapsed": true
   },
   "outputs": [],
   "source": []
  },
  {
   "cell_type": "code",
   "execution_count": 8,
   "metadata": {
    "collapsed": true
   },
   "outputs": [],
   "source": [
    "_leafs_folders_1 = glob.glob(directory + \"logs.*_1.*_leafs*\")"
   ]
  },
  {
   "cell_type": "code",
   "execution_count": 9,
   "metadata": {
    "collapsed": true
   },
   "outputs": [],
   "source": [
    "trafficPerGroupPerTenant_1 = DataSetAsDataFrame('traffic_per_group_per_tenant.csv', \n",
    "                                                _leafs_folders_1, \n",
    "                                                ['multicastTraffic', 'unicastTraffic', \n",
    "                                                 'overlayTraffic', 'baseeratTraffic'],\n",
    "                                                header=0, reset_index=False)"
   ]
  },
  {
   "cell_type": "code",
   "execution_count": 10,
   "metadata": {
    "collapsed": true
   },
   "outputs": [],
   "source": [
    "trafficPerGroupPerTenant_1 = trafficPerGroupPerTenant_1.groupby(\n",
    "    ['groupSizeDist', 'placementDist', 'placementNumHostsPerLeaf', 'seed',\n",
    "     'podsAlgorithm', 'podsNumBitmaps', 'podsNumNodesPerBitmap', 'podsRedundancyPerBitmap', 'podsNumRules', \n",
    "     'leafsAlgorithm', 'leafsNumBitmaps', 'leafsNumNodesPerBitmap', 'leafsRedundancyPerBitmap', 'leafsNumRules'])[\n",
    "    ['unicastTraffic', 'multicastTraffic', 'baseeratTraffic', 'overlayTraffic']].agg('sum')\n",
    "trafficPerGroupPerTenant_1.reset_index(inplace=True)"
   ]
  },
  {
   "cell_type": "code",
   "execution_count": 11,
   "metadata": {
    "collapsed": true
   },
   "outputs": [],
   "source": [
    "trafficPerGroupPerTenant_1.to_csv(directory + 'traffic_per_group_per_tenant_1.csv', index=False)"
   ]
  },
  {
   "cell_type": "code",
   "execution_count": null,
   "metadata": {
    "collapsed": true
   },
   "outputs": [],
   "source": []
  },
  {
   "cell_type": "code",
   "execution_count": 8,
   "metadata": {
    "collapsed": true
   },
   "outputs": [],
   "source": [
    "_leafs_folders_2 = glob.glob(directory + \"logs.*_2.*_leafs*\")"
   ]
  },
  {
   "cell_type": "code",
   "execution_count": 9,
   "metadata": {
    "collapsed": true
   },
   "outputs": [],
   "source": [
    "trafficPerGroupPerTenant_2 = DataSetAsDataFrame('traffic_per_group_per_tenant.csv', \n",
    "                                                _leafs_folders_2, \n",
    "                                                ['multicastTraffic', 'unicastTraffic', \n",
    "                                                 'overlayTraffic', 'baseeratTraffic'],\n",
    "                                                header=0, reset_index=False)"
   ]
  },
  {
   "cell_type": "code",
   "execution_count": 10,
   "metadata": {
    "collapsed": true
   },
   "outputs": [],
   "source": [
    "trafficPerGroupPerTenant_2 = trafficPerGroupPerTenant_2.groupby(\n",
    "    ['groupSizeDist', 'placementDist', 'placementNumHostsPerLeaf', 'seed',\n",
    "     'podsAlgorithm', 'podsNumBitmaps', 'podsNumNodesPerBitmap', 'podsRedundancyPerBitmap', 'podsNumRules', \n",
    "     'leafsAlgorithm', 'leafsNumBitmaps', 'leafsNumNodesPerBitmap', 'leafsRedundancyPerBitmap', 'leafsNumRules'])[\n",
    "    ['unicastTraffic', 'multicastTraffic', 'baseeratTraffic', 'overlayTraffic']].agg('sum')\n",
    "trafficPerGroupPerTenant_2.reset_index(inplace=True)"
   ]
  },
  {
   "cell_type": "code",
   "execution_count": 11,
   "metadata": {
    "collapsed": true
   },
   "outputs": [],
   "source": [
    "trafficPerGroupPerTenant_2.to_csv(directory + 'traffic_per_group_per_tenant_2.csv', index=False)"
   ]
  },
  {
   "cell_type": "code",
   "execution_count": null,
   "metadata": {
    "collapsed": true
   },
   "outputs": [],
   "source": []
  },
  {
   "cell_type": "code",
   "execution_count": 8,
   "metadata": {
    "collapsed": true
   },
   "outputs": [],
   "source": [
    "trafficPerGroupPerTenant_0 = pd.read_csv(directory + 'traffic_per_group_per_tenant_0.csv', sep=',')"
   ]
  },
  {
   "cell_type": "code",
   "execution_count": 10,
   "metadata": {
    "collapsed": false
   },
   "outputs": [],
   "source": [
    "trafficPerGroupPerTenant_1 = pd.read_csv(directory + 'traffic_per_group_per_tenant_1.csv', sep=',')"
   ]
  },
  {
   "cell_type": "code",
   "execution_count": 12,
   "metadata": {
    "collapsed": false
   },
   "outputs": [],
   "source": [
    "trafficPerGroupPerTenant_2 = pd.read_csv(directory + 'traffic_per_group_per_tenant_2.csv', sep=',')"
   ]
  },
  {
   "cell_type": "code",
   "execution_count": 14,
   "metadata": {
    "collapsed": false
   },
   "outputs": [],
   "source": [
    "trafficPerGroupPerTenant = pd.concat([trafficPerGroupPerTenant_0, trafficPerGroupPerTenant_1, trafficPerGroupPerTenant_2])"
   ]
  },
  {
   "cell_type": "code",
   "execution_count": 17,
   "metadata": {
    "collapsed": true
   },
   "outputs": [],
   "source": [
    "trafficPerGroupPerTenant.to_csv(directory + 'traffic_per_group_per_tenant.csv', index=False)"
   ]
  },
  {
   "cell_type": "code",
   "execution_count": null,
   "metadata": {
    "collapsed": true
   },
   "outputs": [],
   "source": []
  },
  {
   "cell_type": "code",
   "execution_count": null,
   "metadata": {
    "collapsed": true
   },
   "outputs": [],
   "source": []
  },
  {
   "cell_type": "code",
   "execution_count": null,
   "metadata": {
    "collapsed": true
   },
   "outputs": [],
   "source": []
  },
  {
   "cell_type": "code",
   "execution_count": null,
   "metadata": {
    "collapsed": true
   },
   "outputs": [],
   "source": []
  },
  {
   "cell_type": "code",
   "execution_count": 13,
   "metadata": {
    "collapsed": true
   },
   "outputs": [],
   "source": [
    "def CorrectedDataFrameToCSV(filename, folders, params_directory):\n",
    "    # Read dataset as dataframe\n",
    "    def ReadDataSet(folder):\n",
    "        df = pd.read_csv(folder + '/' + filename, sep=',', header=0)\n",
    "        \n",
    "        params_foldername = folder[folder.rfind('/') + 1:]\n",
    "        params_foldername = params_foldername[:params_foldername.rfind('.')]\n",
    "        params_folder = params_directory + '/' + params_foldername\n",
    "        params_df = pd.read_csv(params_folder + '/' + filename, sep=',', header=0, names=['pods', 'leafs',\n",
    "                                                                                          'pods_traffic'])\n",
    "        df['overlay_corrected'] = ((6 * params_df['pods']) + params_df['pods_traffic'] + \n",
    "                                   (df['overlay'] - (6 * params_df['leafs'])))\n",
    "        \n",
    "        params_filename = filename[:filename.rfind('.')] + \"_corrected\" + filename[filename.rfind('.'):]\n",
    "        df.to_csv(folder + '/' + params_filename, index=False)\n",
    "    \n",
    "    for folder in bar_range(folders, 'progress:'):\n",
    "        ReadDataSet(folder)"
   ]
  },
  {
   "cell_type": "code",
   "execution_count": 14,
   "metadata": {
    "collapsed": true
   },
   "outputs": [],
   "source": [
    "params_directory = '/mnt/sdb1/baseerat/numerical-evals/1-10-2018/logs-1M/'"
   ]
  },
  {
   "cell_type": "code",
   "execution_count": null,
   "metadata": {
    "collapsed": false
   },
   "outputs": [],
   "source": []
  },
  {
   "cell_type": "code",
   "execution_count": 15,
   "metadata": {
    "collapsed": false
   },
   "outputs": [
    {
     "name": "stderr",
     "output_type": "stream",
     "text": [
      "progress:: 100% |###############################################| Time: 0:51:03\n"
     ]
    }
   ],
   "source": [
    "CorrectedDataFrameToCSV('traffic_per_group_per_tenant.csv', leafs_folders, params_directory)"
   ]
  },
  {
   "cell_type": "code",
   "execution_count": null,
   "metadata": {
    "collapsed": true
   },
   "outputs": [],
   "source": []
  },
  {
   "cell_type": "code",
   "execution_count": 16,
   "metadata": {
    "collapsed": true
   },
   "outputs": [],
   "source": [
    "_leafs_folders_0 = glob.glob(directory + \"logs.*_0.*_leafs*\")"
   ]
  },
  {
   "cell_type": "code",
   "execution_count": 17,
   "metadata": {
    "collapsed": true
   },
   "outputs": [],
   "source": [
    "trafficPerGroupPerTenant_0 = DataSetAsDataFrame('traffic_per_group_per_tenant_corrected.csv', \n",
    "                                                _leafs_folders_0, \n",
    "                                                ['multicastTraffic', 'unicastTraffic', \n",
    "                                                 'overlayTraffic', 'baseeratTraffic', 'overlayTrafficCorrected'],\n",
    "                                                header=0, reset_index=False)"
   ]
  },
  {
   "cell_type": "code",
   "execution_count": 18,
   "metadata": {
    "collapsed": true
   },
   "outputs": [],
   "source": [
    "trafficPerGroupPerTenant_0 = trafficPerGroupPerTenant_0.groupby(\n",
    "    ['groupSizeDist', 'placementDist', 'placementNumHostsPerLeaf', 'seed',\n",
    "     'podsAlgorithm', 'podsNumBitmaps', 'podsNumNodesPerBitmap', 'podsRedundancyPerBitmap', 'podsNumRules', \n",
    "     'leafsAlgorithm', 'leafsNumBitmaps', 'leafsNumNodesPerBitmap', 'leafsRedundancyPerBitmap', 'leafsNumRules'])[\n",
    "    ['unicastTraffic', 'multicastTraffic', 'baseeratTraffic', 'overlayTraffic', 'overlayTrafficCorrected']].agg('sum')\n",
    "trafficPerGroupPerTenant_0.reset_index(inplace=True)"
   ]
  },
  {
   "cell_type": "code",
   "execution_count": 19,
   "metadata": {
    "collapsed": true
   },
   "outputs": [],
   "source": [
    "trafficPerGroupPerTenant_0.to_csv(directory + 'traffic_per_group_per_tenant_corrected_0.csv', index=False)"
   ]
  },
  {
   "cell_type": "code",
   "execution_count": null,
   "metadata": {
    "collapsed": true
   },
   "outputs": [],
   "source": []
  },
  {
   "cell_type": "code",
   "execution_count": 20,
   "metadata": {
    "collapsed": true
   },
   "outputs": [],
   "source": [
    "_leafs_folders_1 = glob.glob(directory + \"logs.*_1.*_leafs*\")"
   ]
  },
  {
   "cell_type": "code",
   "execution_count": 21,
   "metadata": {
    "collapsed": true
   },
   "outputs": [],
   "source": [
    "trafficPerGroupPerTenant_1 = DataSetAsDataFrame('traffic_per_group_per_tenant_corrected.csv', \n",
    "                                                _leafs_folders_1, \n",
    "                                                ['multicastTraffic', 'unicastTraffic', \n",
    "                                                 'overlayTraffic', 'baseeratTraffic', 'overlayTrafficCorrected'],\n",
    "                                                header=0, reset_index=False)"
   ]
  },
  {
   "cell_type": "code",
   "execution_count": 22,
   "metadata": {
    "collapsed": true
   },
   "outputs": [],
   "source": [
    "trafficPerGroupPerTenant_1 = trafficPerGroupPerTenant_1.groupby(\n",
    "    ['groupSizeDist', 'placementDist', 'placementNumHostsPerLeaf', 'seed',\n",
    "     'podsAlgorithm', 'podsNumBitmaps', 'podsNumNodesPerBitmap', 'podsRedundancyPerBitmap', 'podsNumRules', \n",
    "     'leafsAlgorithm', 'leafsNumBitmaps', 'leafsNumNodesPerBitmap', 'leafsRedundancyPerBitmap', 'leafsNumRules'])[\n",
    "    ['unicastTraffic', 'multicastTraffic', 'baseeratTraffic', 'overlayTraffic', 'overlayTrafficCorrected']].agg('sum')\n",
    "trafficPerGroupPerTenant_1.reset_index(inplace=True)"
   ]
  },
  {
   "cell_type": "code",
   "execution_count": 23,
   "metadata": {
    "collapsed": true
   },
   "outputs": [],
   "source": [
    "trafficPerGroupPerTenant_1.to_csv(directory + 'traffic_per_group_per_tenant_corrected_1.csv', index=False)"
   ]
  },
  {
   "cell_type": "code",
   "execution_count": null,
   "metadata": {
    "collapsed": true
   },
   "outputs": [],
   "source": []
  },
  {
   "cell_type": "code",
   "execution_count": 24,
   "metadata": {
    "collapsed": true
   },
   "outputs": [],
   "source": [
    "_leafs_folders_2 = glob.glob(directory + \"logs.*_2.*_leafs*\")"
   ]
  },
  {
   "cell_type": "code",
   "execution_count": 25,
   "metadata": {
    "collapsed": true
   },
   "outputs": [],
   "source": [
    "trafficPerGroupPerTenant_2 = DataSetAsDataFrame('traffic_per_group_per_tenant_corrected.csv', \n",
    "                                                _leafs_folders_2, \n",
    "                                                ['multicastTraffic', 'unicastTraffic', \n",
    "                                                 'overlayTraffic', 'baseeratTraffic', 'overlayTrafficCorrected'],\n",
    "                                                header=0, reset_index=False)"
   ]
  },
  {
   "cell_type": "code",
   "execution_count": 26,
   "metadata": {
    "collapsed": true
   },
   "outputs": [],
   "source": [
    "trafficPerGroupPerTenant_2 = trafficPerGroupPerTenant_2.groupby(\n",
    "    ['groupSizeDist', 'placementDist', 'placementNumHostsPerLeaf', 'seed',\n",
    "     'podsAlgorithm', 'podsNumBitmaps', 'podsNumNodesPerBitmap', 'podsRedundancyPerBitmap', 'podsNumRules', \n",
    "     'leafsAlgorithm', 'leafsNumBitmaps', 'leafsNumNodesPerBitmap', 'leafsRedundancyPerBitmap', 'leafsNumRules'])[\n",
    "    ['unicastTraffic', 'multicastTraffic', 'baseeratTraffic', 'overlayTraffic', 'overlayTrafficCorrected']].agg('sum')\n",
    "trafficPerGroupPerTenant_2.reset_index(inplace=True)"
   ]
  },
  {
   "cell_type": "code",
   "execution_count": 27,
   "metadata": {
    "collapsed": true
   },
   "outputs": [],
   "source": [
    "trafficPerGroupPerTenant_2.to_csv(directory + 'traffic_per_group_per_tenant_corrected_2.csv', index=False)"
   ]
  },
  {
   "cell_type": "code",
   "execution_count": null,
   "metadata": {
    "collapsed": true
   },
   "outputs": [],
   "source": []
  },
  {
   "cell_type": "code",
   "execution_count": 28,
   "metadata": {
    "collapsed": true
   },
   "outputs": [],
   "source": [
    "trafficPerGroupPerTenant_0 = pd.read_csv(directory + 'traffic_per_group_per_tenant_corrected_0.csv', sep=',')"
   ]
  },
  {
   "cell_type": "code",
   "execution_count": 29,
   "metadata": {
    "collapsed": true
   },
   "outputs": [],
   "source": [
    "trafficPerGroupPerTenant_1 = pd.read_csv(directory + 'traffic_per_group_per_tenant_corrected_1.csv', sep=',')"
   ]
  },
  {
   "cell_type": "code",
   "execution_count": 30,
   "metadata": {
    "collapsed": true
   },
   "outputs": [],
   "source": [
    "trafficPerGroupPerTenant_2 = pd.read_csv(directory + 'traffic_per_group_per_tenant_corrected_2.csv', sep=',')"
   ]
  },
  {
   "cell_type": "code",
   "execution_count": 31,
   "metadata": {
    "collapsed": true
   },
   "outputs": [],
   "source": [
    "trafficPerGroupPerTenant = pd.concat([trafficPerGroupPerTenant_0, trafficPerGroupPerTenant_1, trafficPerGroupPerTenant_2])"
   ]
  },
  {
   "cell_type": "code",
   "execution_count": 32,
   "metadata": {
    "collapsed": true
   },
   "outputs": [],
   "source": [
    "trafficPerGroupPerTenant.to_csv(directory + 'traffic_per_group_per_tenant_corrected.csv', index=False)"
   ]
  },
  {
   "cell_type": "code",
   "execution_count": null,
   "metadata": {
    "collapsed": true
   },
   "outputs": [],
   "source": []
  },
  {
   "cell_type": "code",
   "execution_count": 9,
   "metadata": {
    "collapsed": true
   },
   "outputs": [],
   "source": [
    "trafficPerGroupPerTenant = pd.read_csv(directory + 'traffic_per_group_per_tenant_corrected.csv')"
   ]
  },
  {
   "cell_type": "code",
   "execution_count": 11,
   "metadata": {
    "collapsed": false
   },
   "outputs": [
    {
     "data": {
      "text/html": [
       "<div>\n",
       "<style scoped>\n",
       "    .dataframe tbody tr th:only-of-type {\n",
       "        vertical-align: middle;\n",
       "    }\n",
       "\n",
       "    .dataframe tbody tr th {\n",
       "        vertical-align: top;\n",
       "    }\n",
       "\n",
       "    .dataframe thead th {\n",
       "        text-align: right;\n",
       "    }\n",
       "</style>\n",
       "<table border=\"1\" class=\"dataframe\">\n",
       "  <thead>\n",
       "    <tr style=\"text-align: right;\">\n",
       "      <th></th>\n",
       "      <th>groupSizeDist</th>\n",
       "      <th>placementDist</th>\n",
       "      <th>placementNumHostsPerLeaf</th>\n",
       "      <th>seed</th>\n",
       "      <th>podsAlgorithm</th>\n",
       "      <th>podsNumBitmaps</th>\n",
       "      <th>podsNumNodesPerBitmap</th>\n",
       "      <th>podsRedundancyPerBitmap</th>\n",
       "      <th>podsNumRules</th>\n",
       "      <th>leafsAlgorithm</th>\n",
       "      <th>leafsNumBitmaps</th>\n",
       "      <th>leafsNumNodesPerBitmap</th>\n",
       "      <th>leafsRedundancyPerBitmap</th>\n",
       "      <th>leafsNumRules</th>\n",
       "      <th>unicastTraffic</th>\n",
       "      <th>multicastTraffic</th>\n",
       "      <th>baseeratTraffic</th>\n",
       "      <th>overlayTraffic</th>\n",
       "      <th>overlayTrafficCorrected</th>\n",
       "    </tr>\n",
       "  </thead>\n",
       "  <tbody>\n",
       "    <tr>\n",
       "      <th>0</th>\n",
       "      <td>uniform</td>\n",
       "      <td>colocate-colocate-uniform</td>\n",
       "      <td>12</td>\n",
       "      <td>0</td>\n",
       "      <td>random-fuzzy-match</td>\n",
       "      <td>2</td>\n",
       "      <td>3</td>\n",
       "      <td>6</td>\n",
       "      <td>64000</td>\n",
       "      <td>exact-match</td>\n",
       "      <td>10</td>\n",
       "      <td>3</td>\n",
       "      <td>0</td>\n",
       "      <td>10000</td>\n",
       "      <td>2385267270</td>\n",
       "      <td>415953027</td>\n",
       "      <td>467320090</td>\n",
       "      <td>852635990</td>\n",
       "      <td>825915054</td>\n",
       "    </tr>\n",
       "    <tr>\n",
       "      <th>1</th>\n",
       "      <td>uniform</td>\n",
       "      <td>colocate-colocate-uniform</td>\n",
       "      <td>12</td>\n",
       "      <td>0</td>\n",
       "      <td>random-fuzzy-match</td>\n",
       "      <td>2</td>\n",
       "      <td>3</td>\n",
       "      <td>6</td>\n",
       "      <td>64000</td>\n",
       "      <td>exact-match</td>\n",
       "      <td>10</td>\n",
       "      <td>3</td>\n",
       "      <td>0</td>\n",
       "      <td>64000</td>\n",
       "      <td>2385267270</td>\n",
       "      <td>415953027</td>\n",
       "      <td>415953036</td>\n",
       "      <td>852635990</td>\n",
       "      <td>825915054</td>\n",
       "    </tr>\n",
       "    <tr>\n",
       "      <th>2</th>\n",
       "      <td>uniform</td>\n",
       "      <td>colocate-colocate-uniform</td>\n",
       "      <td>12</td>\n",
       "      <td>0</td>\n",
       "      <td>random-fuzzy-match</td>\n",
       "      <td>2</td>\n",
       "      <td>3</td>\n",
       "      <td>6</td>\n",
       "      <td>64000</td>\n",
       "      <td>exact-match</td>\n",
       "      <td>20</td>\n",
       "      <td>3</td>\n",
       "      <td>0</td>\n",
       "      <td>10000</td>\n",
       "      <td>2385267270</td>\n",
       "      <td>415953027</td>\n",
       "      <td>423927544</td>\n",
       "      <td>852635990</td>\n",
       "      <td>825915054</td>\n",
       "    </tr>\n",
       "    <tr>\n",
       "      <th>3</th>\n",
       "      <td>uniform</td>\n",
       "      <td>colocate-colocate-uniform</td>\n",
       "      <td>12</td>\n",
       "      <td>0</td>\n",
       "      <td>random-fuzzy-match</td>\n",
       "      <td>2</td>\n",
       "      <td>3</td>\n",
       "      <td>6</td>\n",
       "      <td>64000</td>\n",
       "      <td>exact-match</td>\n",
       "      <td>20</td>\n",
       "      <td>3</td>\n",
       "      <td>0</td>\n",
       "      <td>64000</td>\n",
       "      <td>2385267270</td>\n",
       "      <td>415953027</td>\n",
       "      <td>415953036</td>\n",
       "      <td>852635990</td>\n",
       "      <td>825915054</td>\n",
       "    </tr>\n",
       "    <tr>\n",
       "      <th>4</th>\n",
       "      <td>uniform</td>\n",
       "      <td>colocate-colocate-uniform</td>\n",
       "      <td>12</td>\n",
       "      <td>0</td>\n",
       "      <td>random-fuzzy-match</td>\n",
       "      <td>2</td>\n",
       "      <td>3</td>\n",
       "      <td>6</td>\n",
       "      <td>64000</td>\n",
       "      <td>exact-match</td>\n",
       "      <td>30</td>\n",
       "      <td>3</td>\n",
       "      <td>0</td>\n",
       "      <td>10000</td>\n",
       "      <td>2385267270</td>\n",
       "      <td>415953027</td>\n",
       "      <td>415953036</td>\n",
       "      <td>852635990</td>\n",
       "      <td>825915054</td>\n",
       "    </tr>\n",
       "  </tbody>\n",
       "</table>\n",
       "</div>"
      ],
      "text/plain": [
       "  groupSizeDist              placementDist placementNumHostsPerLeaf  seed  \\\n",
       "0       uniform  colocate-colocate-uniform                       12     0   \n",
       "1       uniform  colocate-colocate-uniform                       12     0   \n",
       "2       uniform  colocate-colocate-uniform                       12     0   \n",
       "3       uniform  colocate-colocate-uniform                       12     0   \n",
       "4       uniform  colocate-colocate-uniform                       12     0   \n",
       "\n",
       "        podsAlgorithm  podsNumBitmaps  podsNumNodesPerBitmap  \\\n",
       "0  random-fuzzy-match               2                      3   \n",
       "1  random-fuzzy-match               2                      3   \n",
       "2  random-fuzzy-match               2                      3   \n",
       "3  random-fuzzy-match               2                      3   \n",
       "4  random-fuzzy-match               2                      3   \n",
       "\n",
       "   podsRedundancyPerBitmap  podsNumRules leafsAlgorithm  leafsNumBitmaps  \\\n",
       "0                        6         64000    exact-match               10   \n",
       "1                        6         64000    exact-match               10   \n",
       "2                        6         64000    exact-match               20   \n",
       "3                        6         64000    exact-match               20   \n",
       "4                        6         64000    exact-match               30   \n",
       "\n",
       "   leafsNumNodesPerBitmap  leafsRedundancyPerBitmap  leafsNumRules  \\\n",
       "0                       3                         0          10000   \n",
       "1                       3                         0          64000   \n",
       "2                       3                         0          10000   \n",
       "3                       3                         0          64000   \n",
       "4                       3                         0          10000   \n",
       "\n",
       "   unicastTraffic  multicastTraffic  baseeratTraffic  overlayTraffic  \\\n",
       "0      2385267270         415953027        467320090       852635990   \n",
       "1      2385267270         415953027        415953036       852635990   \n",
       "2      2385267270         415953027        423927544       852635990   \n",
       "3      2385267270         415953027        415953036       852635990   \n",
       "4      2385267270         415953027        415953036       852635990   \n",
       "\n",
       "   overlayTrafficCorrected  \n",
       "0                825915054  \n",
       "1                825915054  \n",
       "2                825915054  \n",
       "3                825915054  \n",
       "4                825915054  "
      ]
     },
     "execution_count": 11,
     "metadata": {},
     "output_type": "execute_result"
    }
   ],
   "source": [
    "trafficPerGroupPerTenant.head()"
   ]
  },
  {
   "cell_type": "code",
   "execution_count": null,
   "metadata": {
    "collapsed": true
   },
   "outputs": [],
   "source": []
  },
  {
   "cell_type": "code",
   "execution_count": 29,
   "metadata": {
    "collapsed": true
   },
   "outputs": [],
   "source": [
    "vxlan_header_size = 50"
   ]
  },
  {
   "cell_type": "code",
   "execution_count": 30,
   "metadata": {
    "collapsed": true
   },
   "outputs": [],
   "source": [
    "message_size = 64 + vxlan_header_size"
   ]
  },
  {
   "cell_type": "code",
   "execution_count": 31,
   "metadata": {
    "collapsed": false
   },
   "outputs": [],
   "source": [
    "multicastBytes = trafficPerGroupPerTenant['multicastTraffic'].mean() * message_size"
   ]
  },
  {
   "cell_type": "code",
   "execution_count": 32,
   "metadata": {
    "collapsed": false
   },
   "outputs": [],
   "source": [
    "unicastBytes = trafficPerGroupPerTenant['unicastTraffic'].mean() * message_size"
   ]
  },
  {
   "cell_type": "code",
   "execution_count": 33,
   "metadata": {
    "collapsed": true
   },
   "outputs": [],
   "source": [
    "overlayBytes = trafficPerGroupPerTenant['overlayTrafficCorrected'].mean() * message_size"
   ]
  },
  {
   "cell_type": "code",
   "execution_count": 34,
   "metadata": {
    "collapsed": false
   },
   "outputs": [
    {
     "data": {
      "text/plain": [
       "5.4719708275085406"
      ]
     },
     "execution_count": 34,
     "metadata": {},
     "output_type": "execute_result"
    }
   ],
   "source": [
    "unicastBytes / multicastBytes"
   ]
  },
  {
   "cell_type": "code",
   "execution_count": 35,
   "metadata": {
    "collapsed": false
   },
   "outputs": [
    {
     "data": {
      "text/plain": [
       "1.9764351625587373"
      ]
     },
     "execution_count": 35,
     "metadata": {},
     "output_type": "execute_result"
    }
   ],
   "source": [
    "overlayBytes / multicastBytes"
   ]
  },
  {
   "cell_type": "code",
   "execution_count": null,
   "metadata": {
    "collapsed": true
   },
   "outputs": [],
   "source": []
  },
  {
   "cell_type": "code",
   "execution_count": null,
   "metadata": {
    "collapsed": true
   },
   "outputs": [],
   "source": []
  }
 ],
 "metadata": {
  "kernelspec": {
   "display_name": "Python 3",
   "language": "python",
   "name": "python3"
  },
  "language_info": {
   "codemirror_mode": {
    "name": "ipython",
    "version": 3
   },
   "file_extension": ".py",
   "mimetype": "text/x-python",
   "name": "python",
   "nbconvert_exporter": "python",
   "pygments_lexer": "ipython3",
   "version": "3.5.2"
  }
 },
 "nbformat": 4,
 "nbformat_minor": 2
}
