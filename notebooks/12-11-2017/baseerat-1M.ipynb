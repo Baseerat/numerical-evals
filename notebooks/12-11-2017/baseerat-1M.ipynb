{
 "cells": [
  {
   "cell_type": "code",
   "execution_count": 1,
   "metadata": {
    "collapsed": true
   },
   "outputs": [],
   "source": [
    "import warnings\n",
    "warnings.filterwarnings('ignore')\n",
    "# For ignoring warnings printed by R magic commands"
   ]
  },
  {
   "cell_type": "code",
   "execution_count": 2,
   "metadata": {
    "collapsed": true
   },
   "outputs": [],
   "source": [
    "import os\n",
    "import glob"
   ]
  },
  {
   "cell_type": "code",
   "execution_count": 3,
   "metadata": {
    "collapsed": true
   },
   "outputs": [],
   "source": [
    "# Import pandas\n",
    "import pandas as pd"
   ]
  },
  {
   "cell_type": "code",
   "execution_count": 4,
   "metadata": {
    "collapsed": true
   },
   "outputs": [],
   "source": [
    "# Load R magic\n",
    "%load_ext rpy2.ipython\n",
    "# Import ggplot2\n",
    "%R require(ggplot2);"
   ]
  },
  {
   "cell_type": "code",
   "execution_count": null,
   "metadata": {
    "collapsed": true
   },
   "outputs": [],
   "source": []
  },
  {
   "cell_type": "code",
   "execution_count": 5,
   "metadata": {
    "collapsed": true
   },
   "outputs": [],
   "source": [
    "# If experiment parameters change, modify this function\n",
    "def AddParametersAsColumns(df, folder):\n",
    "    expParams = folder.split('/')[-1].split('.')\n",
    "    \n",
    "    cloudParams = expParams[1].split('_')\n",
    "    df['groupSizeDist'] = cloudParams[10]\n",
    "    df['placementDist'] = cloudParams[11]\n",
    "    df['placementNumHostsPerLeaf'] = 'uniform' if cloudParams[12] == '-1' else cloudParams[12]\n",
    "    df['seed'] = int(cloudParams[15])\n",
    "    \n",
    "    optimizerParams_0 = expParams[2].split('_')\n",
    "    node_type_0 = optimizerParams_0[7]\n",
    "    df['%sAlgorithm' % node_type_0] = optimizerParams_0[0]\n",
    "    df['%sNumBitmaps' % node_type_0] = int(optimizerParams_0[1])\n",
    "    df['%sNumNodesPerBitmap' % node_type_0] = int(optimizerParams_0[2])\n",
    "    df['%sRedundancyPerBitmap' % node_type_0] = int(optimizerParams_0[3])\n",
    "    df['%sNumRules' % node_type_0] = int(optimizerParams_0[4])\n",
    "    \n",
    "    if len(expParams) > 3:\n",
    "        optimizerParams_1 = expParams[3].split('_')\n",
    "        node_type_1 = optimizerParams_1[7]\n",
    "        df['%sAlgorithm' % node_type_1] = optimizerParams_1[0]\n",
    "        df['%sNumBitmaps' % node_type_1] = int(optimizerParams_1[1])\n",
    "        df['%sNumNodesPerBitmap' % node_type_1] = int(optimizerParams_1[2])\n",
    "        df['%sRedundancyPerBitmap' % node_type_1] = int(optimizerParams_1[3])\n",
    "        df['%sNumRules' % node_type_1] = int(optimizerParams_1[4])\n",
    "    \n",
    "# Turns all files of a given filname across a set of folders into a single dataframe\n",
    "def DataSetAsDataFrame(filename, folders, headers, header=None):\n",
    "    # Read dataset as dataframe\n",
    "    def ReadDataSet(folder):\n",
    "        df = pd.read_csv(folder + '/' + filename, sep=',', header=header, names=headers)\n",
    "        AddParametersAsColumns(df, folder)\n",
    "        return df\n",
    "    # Get the list of dataframes\n",
    "    dfs = map(ReadDataSet, folders)\n",
    "    # Combine into a single dataframe\n",
    "    df = pd.concat(dfs)\n",
    "    return df"
   ]
  },
  {
   "cell_type": "code",
   "execution_count": null,
   "metadata": {
    "collapsed": true
   },
   "outputs": [],
   "source": []
  },
  {
   "cell_type": "code",
   "execution_count": 6,
   "metadata": {
    "collapsed": true
   },
   "outputs": [],
   "source": [
    "%%R \n",
    "plotTheme <- theme(legend.title=element_blank(), legend.position=\"top\", legend.text=element_text(size=6))"
   ]
  },
  {
   "cell_type": "code",
   "execution_count": 7,
   "metadata": {
    "collapsed": true
   },
   "outputs": [],
   "source": [
    "directory = '/mnt/sdb1/baseerat/numerical-evals/12-11-2017/logs-1M/'\n",
    "folders = glob.glob(directory + \"logs*_0.*\")"
   ]
  },
  {
   "cell_type": "code",
   "execution_count": null,
   "metadata": {
    "collapsed": true
   },
   "outputs": [],
   "source": []
  },
  {
   "cell_type": "code",
   "execution_count": 8,
   "metadata": {
    "collapsed": true
   },
   "outputs": [],
   "source": [
    "vmCountPerTenant = DataSetAsDataFrame('vm_count_per_tenant.csv', \n",
    "                                      folders, \n",
    "                                      ['vmCount'])"
   ]
  },
  {
   "cell_type": "code",
   "execution_count": 9,
   "metadata": {
    "collapsed": false
   },
   "outputs": [
    {
     "data": {
      "text/html": [
       "<div>\n",
       "<style scoped>\n",
       "    .dataframe tbody tr th:only-of-type {\n",
       "        vertical-align: middle;\n",
       "    }\n",
       "\n",
       "    .dataframe tbody tr th {\n",
       "        vertical-align: top;\n",
       "    }\n",
       "\n",
       "    .dataframe thead th {\n",
       "        text-align: right;\n",
       "    }\n",
       "</style>\n",
       "<table border=\"1\" class=\"dataframe\">\n",
       "  <thead>\n",
       "    <tr style=\"text-align: right;\">\n",
       "      <th></th>\n",
       "      <th>vmCount</th>\n",
       "      <th>groupSizeDist</th>\n",
       "      <th>placementDist</th>\n",
       "      <th>placementNumHostsPerLeaf</th>\n",
       "      <th>seed</th>\n",
       "      <th>podsAlgorithm</th>\n",
       "      <th>podsNumBitmaps</th>\n",
       "      <th>podsNumNodesPerBitmap</th>\n",
       "      <th>podsRedundancyPerBitmap</th>\n",
       "      <th>podsNumRules</th>\n",
       "    </tr>\n",
       "  </thead>\n",
       "  <tbody>\n",
       "    <tr>\n",
       "      <th>0</th>\n",
       "      <td>184</td>\n",
       "      <td>uniform</td>\n",
       "      <td>colocate-uniform</td>\n",
       "      <td>uniform</td>\n",
       "      <td>0</td>\n",
       "      <td>exact-match</td>\n",
       "      <td>1</td>\n",
       "      <td>3</td>\n",
       "      <td>0</td>\n",
       "      <td>10000</td>\n",
       "    </tr>\n",
       "    <tr>\n",
       "      <th>1</th>\n",
       "      <td>46</td>\n",
       "      <td>uniform</td>\n",
       "      <td>colocate-uniform</td>\n",
       "      <td>uniform</td>\n",
       "      <td>0</td>\n",
       "      <td>exact-match</td>\n",
       "      <td>1</td>\n",
       "      <td>3</td>\n",
       "      <td>0</td>\n",
       "      <td>10000</td>\n",
       "    </tr>\n",
       "  </tbody>\n",
       "</table>\n",
       "</div>"
      ],
      "text/plain": [
       "   vmCount groupSizeDist     placementDist placementNumHostsPerLeaf  seed  \\\n",
       "0      184       uniform  colocate-uniform                  uniform     0   \n",
       "1       46       uniform  colocate-uniform                  uniform     0   \n",
       "\n",
       "  podsAlgorithm  podsNumBitmaps  podsNumNodesPerBitmap  \\\n",
       "0   exact-match               1                      3   \n",
       "1   exact-match               1                      3   \n",
       "\n",
       "   podsRedundancyPerBitmap  podsNumRules  \n",
       "0                        0         10000  \n",
       "1                        0         10000  "
      ]
     },
     "execution_count": 9,
     "metadata": {},
     "output_type": "execute_result"
    }
   ],
   "source": [
    "vmCountPerTenant.head(2)"
   ]
  },
  {
   "cell_type": "code",
   "execution_count": 10,
   "metadata": {
    "collapsed": false
   },
   "outputs": [
    {
     "data": {
      "text/plain": [
       "count    3000.000000\n",
       "mean      179.701000\n",
       "std       432.859193\n",
       "min        10.000000\n",
       "25%        46.000000\n",
       "50%        97.000000\n",
       "75%       182.000000\n",
       "max      4999.000000\n",
       "Name: vmCount, dtype: float64"
      ]
     },
     "execution_count": 10,
     "metadata": {},
     "output_type": "execute_result"
    }
   ],
   "source": [
    "# vmCountPerTenant[\n",
    "#     (vmCountPerTenant['groupSizeDist'] == 'wve') & \n",
    "#     (vmCountPerTenant['placementDist'] == 'colocate-uniform') & \n",
    "#     (vmCountPerTenant['placementNumHostsPerLeaf'] == 'uniform') & \n",
    "#     (vmCountPerTenant['podsAlgorithm'] == 'exact-match') & \n",
    "#     (vmCountPerTenant['podsNumBitmaps'] == 1) & \n",
    "#     (vmCountPerTenant['podsNumNodesPerBitmap'] == 3) &\n",
    "#     (vmCountPerTenant['podsRedundancyPerBitmap'] == 0) &\n",
    "#     (vmCountPerTenant['podsNumRules'] == 10000)\n",
    "# ]['vmCount'].quantile([0.0, 0.5, 0.99, 0.999, 0.9999, 1.0])\n",
    "vmCountPerTenant[\n",
    "    (vmCountPerTenant['groupSizeDist'] == 'wve') & \n",
    "    (vmCountPerTenant['placementDist'] == 'colocate-uniform') & \n",
    "    (vmCountPerTenant['placementNumHostsPerLeaf'] == 'uniform') & \n",
    "    (vmCountPerTenant['podsAlgorithm'] == 'exact-match') & \n",
    "    (vmCountPerTenant['podsNumBitmaps'] == 1) & \n",
    "    (vmCountPerTenant['podsNumNodesPerBitmap'] == 3) &\n",
    "    (vmCountPerTenant['podsRedundancyPerBitmap'] == 0) &\n",
    "    (vmCountPerTenant['podsNumRules'] == 10000)\n",
    "]['vmCount'].describe()"
   ]
  },
  {
   "cell_type": "code",
   "execution_count": null,
   "metadata": {
    "collapsed": true
   },
   "outputs": [],
   "source": []
  },
  {
   "cell_type": "code",
   "execution_count": 12,
   "metadata": {
    "collapsed": true
   },
   "outputs": [],
   "source": [
    "groupCountPerTenant = DataSetAsDataFrame('group_count_per_tenant.csv', \n",
    "                                         folders, ['groupCount'])"
   ]
  },
  {
   "cell_type": "code",
   "execution_count": 14,
   "metadata": {
    "collapsed": false
   },
   "outputs": [
    {
     "data": {
      "text/plain": [
       "count    3000.000000\n",
       "mean      332.833333\n",
       "std       802.921490\n",
       "min        18.000000\n",
       "25%        85.000000\n",
       "50%       179.000000\n",
       "75%       337.000000\n",
       "max      9272.000000\n",
       "Name: groupCount, dtype: float64"
      ]
     },
     "execution_count": 14,
     "metadata": {},
     "output_type": "execute_result"
    }
   ],
   "source": [
    "# groupCountPerTenant[\n",
    "#     (groupCountPerTenant['groupSizeDist'] == 'wve') & \n",
    "#     (groupCountPerTenant['placementDist'] == 'colocate-uniform') & \n",
    "#     (groupCountPerTenant['placementNumHostsPerLeaf'] == 'uniform') & \n",
    "#     (groupCountPerTenant['podsAlgorithm'] == 'exact-match') & \n",
    "#     (groupCountPerTenant['podsNumBitmaps'] == 1) & \n",
    "#     (groupCountPerTenant['podsNumNodesPerBitmap'] == 3) &\n",
    "#     (groupCountPerTenant['podsRedundancyPerBitmap'] == 0) &\n",
    "#     (groupCountPerTenant['podsNumRules'] == 10000)\n",
    "# ]['groupCount'].quantile([0.0, 0.5, 0.99, 0.999, 0.9999, 1.0])\n",
    "groupCountPerTenant[\n",
    "    (groupCountPerTenant['groupSizeDist'] == 'wve') & \n",
    "    (groupCountPerTenant['placementDist'] == 'colocate-uniform') & \n",
    "    (groupCountPerTenant['placementNumHostsPerLeaf'] == 'uniform') & \n",
    "    (groupCountPerTenant['podsAlgorithm'] == 'exact-match') & \n",
    "    (groupCountPerTenant['podsNumBitmaps'] == 1) & \n",
    "    (groupCountPerTenant['podsNumNodesPerBitmap'] == 3) &\n",
    "    (groupCountPerTenant['podsRedundancyPerBitmap'] == 0) &\n",
    "    (groupCountPerTenant['podsNumRules'] == 10000)\n",
    "]['groupCount'].describe()"
   ]
  },
  {
   "cell_type": "code",
   "execution_count": null,
   "metadata": {
    "collapsed": true
   },
   "outputs": [],
   "source": []
  },
  {
   "cell_type": "code",
   "execution_count": 15,
   "metadata": {
    "collapsed": true
   },
   "outputs": [],
   "source": [
    "groupSizePerGroupPerTenant = DataSetAsDataFrame('group_size_per_group_per_tenant.csv', \n",
    "                                                folders, ['groupSize'])"
   ]
  },
  {
   "cell_type": "code",
   "execution_count": 16,
   "metadata": {
    "collapsed": false
   },
   "outputs": [
    {
     "data": {
      "text/plain": [
       "groupSizeDist        \n",
       "uniform        0.0000       5.000\n",
       "               0.5000     141.000\n",
       "               0.8000     977.000\n",
       "               0.9900    4291.000\n",
       "               0.9910    4346.000\n",
       "               0.9920    4400.000\n",
       "               0.9930    4458.000\n",
       "               0.9940    4512.000\n",
       "               0.9950    4566.000\n",
       "               0.9960    4621.000\n",
       "               0.9990    4834.000\n",
       "               0.9999    4972.000\n",
       "               1.0000    4999.000\n",
       "wve            0.0000       5.000\n",
       "               0.5000      12.000\n",
       "               0.8000      61.000\n",
       "               0.9900     390.000\n",
       "               0.9910     417.000\n",
       "               0.9920     457.000\n",
       "               0.9930     520.000\n",
       "               0.9940     694.000\n",
       "               0.9950    2395.505\n",
       "               0.9960    3146.000\n",
       "               0.9990    4742.000\n",
       "               0.9999    4962.000\n",
       "               1.0000    4998.000\n",
       "Name: groupSize, dtype: float64"
      ]
     },
     "execution_count": 16,
     "metadata": {},
     "output_type": "execute_result"
    }
   ],
   "source": [
    "groupSizePerGroupPerTenant[\n",
    "    (groupSizePerGroupPerTenant['placementDist'] == 'colocate-uniform') & \n",
    "    (groupSizePerGroupPerTenant['placementNumHostsPerLeaf'] == 'uniform') & \n",
    "    (groupSizePerGroupPerTenant['podsAlgorithm'] == 'exact-match') & \n",
    "    (groupSizePerGroupPerTenant['podsNumBitmaps'] == 1) & \n",
    "    (groupSizePerGroupPerTenant['podsNumNodesPerBitmap'] == 3) &\n",
    "    (groupSizePerGroupPerTenant['podsRedundancyPerBitmap'] == 0) &\n",
    "    (groupSizePerGroupPerTenant['podsNumRules'] == 10000)\n",
    "].groupby('groupSizeDist')['groupSize'].quantile(\n",
    "    [0.0, 0.5, 0.8, 0.99, 0.991, 0.992, 0.993, 0.994, 0.995, 0.996, 0.999, 0.9999, 1.0])"
   ]
  },
  {
   "cell_type": "code",
   "execution_count": null,
   "metadata": {
    "collapsed": true
   },
   "outputs": [],
   "source": []
  },
  {
   "cell_type": "code",
   "execution_count": 17,
   "metadata": {
    "collapsed": true
   },
   "outputs": [],
   "source": [
    "leafCountPerGroupPerTenant = DataSetAsDataFrame('leaf_count_per_group_per_tenant.csv', \n",
    "                                                folders, ['leafCount'])"
   ]
  },
  {
   "cell_type": "code",
   "execution_count": 25,
   "metadata": {
    "collapsed": false
   },
   "outputs": [
    {
     "data": {
      "text/html": [
       "<div>\n",
       "<style scoped>\n",
       "    .dataframe tbody tr th:only-of-type {\n",
       "        vertical-align: middle;\n",
       "    }\n",
       "\n",
       "    .dataframe tbody tr th {\n",
       "        vertical-align: top;\n",
       "    }\n",
       "\n",
       "    .dataframe thead th {\n",
       "        text-align: right;\n",
       "    }\n",
       "</style>\n",
       "<table border=\"1\" class=\"dataframe\">\n",
       "  <thead>\n",
       "    <tr style=\"text-align: right;\">\n",
       "      <th></th>\n",
       "      <th></th>\n",
       "      <th></th>\n",
       "      <th>count</th>\n",
       "      <th>mean</th>\n",
       "      <th>std</th>\n",
       "      <th>min</th>\n",
       "      <th>25%</th>\n",
       "      <th>50%</th>\n",
       "      <th>75%</th>\n",
       "      <th>max</th>\n",
       "    </tr>\n",
       "    <tr>\n",
       "      <th>groupSizeDist</th>\n",
       "      <th>placementDist</th>\n",
       "      <th>placementNumHostsPerLeaf</th>\n",
       "      <th></th>\n",
       "      <th></th>\n",
       "      <th></th>\n",
       "      <th></th>\n",
       "      <th></th>\n",
       "      <th></th>\n",
       "      <th></th>\n",
       "      <th></th>\n",
       "    </tr>\n",
       "  </thead>\n",
       "  <tbody>\n",
       "    <tr>\n",
       "      <th rowspan=\"4\" valign=\"top\">uniform</th>\n",
       "      <th rowspan=\"3\" valign=\"top\">colocate-colocate-uniform</th>\n",
       "      <th>12</th>\n",
       "      <td>998500.0</td>\n",
       "      <td>14.408338</td>\n",
       "      <td>15.101438</td>\n",
       "      <td>1.0</td>\n",
       "      <td>4.0</td>\n",
       "      <td>6.0</td>\n",
       "      <td>29.0</td>\n",
       "      <td>46.0</td>\n",
       "    </tr>\n",
       "    <tr>\n",
       "      <th>24</th>\n",
       "      <td>998500.0</td>\n",
       "      <td>14.275798</td>\n",
       "      <td>14.925740</td>\n",
       "      <td>1.0</td>\n",
       "      <td>4.0</td>\n",
       "      <td>6.0</td>\n",
       "      <td>30.0</td>\n",
       "      <td>59.0</td>\n",
       "    </tr>\n",
       "    <tr>\n",
       "      <th>48</th>\n",
       "      <td>998500.0</td>\n",
       "      <td>14.061813</td>\n",
       "      <td>14.708618</td>\n",
       "      <td>1.0</td>\n",
       "      <td>4.0</td>\n",
       "      <td>6.0</td>\n",
       "      <td>27.0</td>\n",
       "      <td>46.0</td>\n",
       "    </tr>\n",
       "    <tr>\n",
       "      <th>colocate-uniform</th>\n",
       "      <th>uniform</th>\n",
       "      <td>998500.0</td>\n",
       "      <td>53.899307</td>\n",
       "      <td>35.955542</td>\n",
       "      <td>3.0</td>\n",
       "      <td>33.0</td>\n",
       "      <td>46.0</td>\n",
       "      <td>48.0</td>\n",
       "      <td>192.0</td>\n",
       "    </tr>\n",
       "    <tr>\n",
       "      <th rowspan=\"4\" valign=\"top\">wve</th>\n",
       "      <th rowspan=\"3\" valign=\"top\">colocate-colocate-uniform</th>\n",
       "      <th>12</th>\n",
       "      <td>998500.0</td>\n",
       "      <td>11.324092</td>\n",
       "      <td>12.218741</td>\n",
       "      <td>1.0</td>\n",
       "      <td>3.0</td>\n",
       "      <td>5.0</td>\n",
       "      <td>18.0</td>\n",
       "      <td>47.0</td>\n",
       "    </tr>\n",
       "    <tr>\n",
       "      <th>24</th>\n",
       "      <td>998500.0</td>\n",
       "      <td>11.264922</td>\n",
       "      <td>12.049951</td>\n",
       "      <td>1.0</td>\n",
       "      <td>3.0</td>\n",
       "      <td>5.0</td>\n",
       "      <td>18.0</td>\n",
       "      <td>45.0</td>\n",
       "    </tr>\n",
       "    <tr>\n",
       "      <th>48</th>\n",
       "      <td>998500.0</td>\n",
       "      <td>11.412678</td>\n",
       "      <td>12.366914</td>\n",
       "      <td>1.0</td>\n",
       "      <td>3.0</td>\n",
       "      <td>5.0</td>\n",
       "      <td>18.0</td>\n",
       "      <td>62.0</td>\n",
       "    </tr>\n",
       "    <tr>\n",
       "      <th>colocate-uniform</th>\n",
       "      <th>uniform</th>\n",
       "      <td>998500.0</td>\n",
       "      <td>23.165441</td>\n",
       "      <td>25.683471</td>\n",
       "      <td>2.0</td>\n",
       "      <td>7.0</td>\n",
       "      <td>11.0</td>\n",
       "      <td>30.0</td>\n",
       "      <td>240.0</td>\n",
       "    </tr>\n",
       "  </tbody>\n",
       "</table>\n",
       "</div>"
      ],
      "text/plain": [
       "                                                                     count  \\\n",
       "groupSizeDist placementDist             placementNumHostsPerLeaf             \n",
       "uniform       colocate-colocate-uniform 12                        998500.0   \n",
       "                                        24                        998500.0   \n",
       "                                        48                        998500.0   \n",
       "              colocate-uniform          uniform                   998500.0   \n",
       "wve           colocate-colocate-uniform 12                        998500.0   \n",
       "                                        24                        998500.0   \n",
       "                                        48                        998500.0   \n",
       "              colocate-uniform          uniform                   998500.0   \n",
       "\n",
       "                                                                       mean  \\\n",
       "groupSizeDist placementDist             placementNumHostsPerLeaf              \n",
       "uniform       colocate-colocate-uniform 12                        14.408338   \n",
       "                                        24                        14.275798   \n",
       "                                        48                        14.061813   \n",
       "              colocate-uniform          uniform                   53.899307   \n",
       "wve           colocate-colocate-uniform 12                        11.324092   \n",
       "                                        24                        11.264922   \n",
       "                                        48                        11.412678   \n",
       "              colocate-uniform          uniform                   23.165441   \n",
       "\n",
       "                                                                        std  \\\n",
       "groupSizeDist placementDist             placementNumHostsPerLeaf              \n",
       "uniform       colocate-colocate-uniform 12                        15.101438   \n",
       "                                        24                        14.925740   \n",
       "                                        48                        14.708618   \n",
       "              colocate-uniform          uniform                   35.955542   \n",
       "wve           colocate-colocate-uniform 12                        12.218741   \n",
       "                                        24                        12.049951   \n",
       "                                        48                        12.366914   \n",
       "              colocate-uniform          uniform                   25.683471   \n",
       "\n",
       "                                                                  min   25%  \\\n",
       "groupSizeDist placementDist             placementNumHostsPerLeaf              \n",
       "uniform       colocate-colocate-uniform 12                        1.0   4.0   \n",
       "                                        24                        1.0   4.0   \n",
       "                                        48                        1.0   4.0   \n",
       "              colocate-uniform          uniform                   3.0  33.0   \n",
       "wve           colocate-colocate-uniform 12                        1.0   3.0   \n",
       "                                        24                        1.0   3.0   \n",
       "                                        48                        1.0   3.0   \n",
       "              colocate-uniform          uniform                   2.0   7.0   \n",
       "\n",
       "                                                                   50%   75%  \\\n",
       "groupSizeDist placementDist             placementNumHostsPerLeaf               \n",
       "uniform       colocate-colocate-uniform 12                         6.0  29.0   \n",
       "                                        24                         6.0  30.0   \n",
       "                                        48                         6.0  27.0   \n",
       "              colocate-uniform          uniform                   46.0  48.0   \n",
       "wve           colocate-colocate-uniform 12                         5.0  18.0   \n",
       "                                        24                         5.0  18.0   \n",
       "                                        48                         5.0  18.0   \n",
       "              colocate-uniform          uniform                   11.0  30.0   \n",
       "\n",
       "                                                                    max  \n",
       "groupSizeDist placementDist             placementNumHostsPerLeaf         \n",
       "uniform       colocate-colocate-uniform 12                         46.0  \n",
       "                                        24                         59.0  \n",
       "                                        48                         46.0  \n",
       "              colocate-uniform          uniform                   192.0  \n",
       "wve           colocate-colocate-uniform 12                         47.0  \n",
       "                                        24                         45.0  \n",
       "                                        48                         62.0  \n",
       "              colocate-uniform          uniform                   240.0  "
      ]
     },
     "execution_count": 25,
     "metadata": {},
     "output_type": "execute_result"
    }
   ],
   "source": [
    "# leafCountPerGroupPerTenant[\n",
    "#     (leafCountPerGroupPerTenant['podsAlgorithm'] == 'exact-match') & \n",
    "#     (leafCountPerGroupPerTenant['podsNumBitmaps'] == 1) & \n",
    "#     (leafCountPerGroupPerTenant['podsNumNodesPerBitmap'] == 3) &\n",
    "#     (leafCountPerGroupPerTenant['podsRedundancyPerBitmap'] == 0) &\n",
    "#     (leafCountPerGroupPerTenant['podsNumRules'] == 10000)\n",
    "# ].groupby(['groupSizeDist', 'placementDist', 'placementNumHostsPerLeaf'])['leafCount'].quantile(\n",
    "#     [0.0, 0.5, 0.8, 0.99, 0.999, 0.9999, 1.0])\n",
    "leafCountPerGroupPerTenant[\n",
    "    (leafCountPerGroupPerTenant['podsAlgorithm'] == 'exact-match') & \n",
    "    (leafCountPerGroupPerTenant['podsNumBitmaps'] == 1) & \n",
    "    (leafCountPerGroupPerTenant['podsNumNodesPerBitmap'] == 3) &\n",
    "    (leafCountPerGroupPerTenant['podsRedundancyPerBitmap'] == 0) &\n",
    "    (leafCountPerGroupPerTenant['podsNumRules'] == 10000)\n",
    "].groupby(['groupSizeDist', 'placementDist', 'placementNumHostsPerLeaf'])['leafCount'].describe()"
   ]
  },
  {
   "cell_type": "code",
   "execution_count": null,
   "metadata": {
    "collapsed": true
   },
   "outputs": [],
   "source": []
  },
  {
   "cell_type": "code",
   "execution_count": 22,
   "metadata": {
    "collapsed": true
   },
   "outputs": [],
   "source": [
    "podCountPerGroupPerTenant = DataSetAsDataFrame('pod_count_per_group_per_tenant.csv', \n",
    "                                                folders, ['podCount'])"
   ]
  },
  {
   "cell_type": "code",
   "execution_count": 32,
   "metadata": {
    "collapsed": false
   },
   "outputs": [
    {
     "data": {
      "text/html": [
       "<div>\n",
       "<style scoped>\n",
       "    .dataframe tbody tr th:only-of-type {\n",
       "        vertical-align: middle;\n",
       "    }\n",
       "\n",
       "    .dataframe tbody tr th {\n",
       "        vertical-align: top;\n",
       "    }\n",
       "\n",
       "    .dataframe thead th {\n",
       "        text-align: right;\n",
       "    }\n",
       "</style>\n",
       "<table border=\"1\" class=\"dataframe\">\n",
       "  <thead>\n",
       "    <tr style=\"text-align: right;\">\n",
       "      <th></th>\n",
       "      <th></th>\n",
       "      <th></th>\n",
       "      <th>count</th>\n",
       "      <th>mean</th>\n",
       "      <th>std</th>\n",
       "      <th>min</th>\n",
       "      <th>25%</th>\n",
       "      <th>50%</th>\n",
       "      <th>75%</th>\n",
       "      <th>max</th>\n",
       "    </tr>\n",
       "    <tr>\n",
       "      <th>groupSizeDist</th>\n",
       "      <th>placementDist</th>\n",
       "      <th>placementNumHostsPerLeaf</th>\n",
       "      <th></th>\n",
       "      <th></th>\n",
       "      <th></th>\n",
       "      <th></th>\n",
       "      <th></th>\n",
       "      <th></th>\n",
       "      <th></th>\n",
       "      <th></th>\n",
       "    </tr>\n",
       "  </thead>\n",
       "  <tbody>\n",
       "    <tr>\n",
       "      <th rowspan=\"4\" valign=\"top\">uniform</th>\n",
       "      <th rowspan=\"3\" valign=\"top\">colocate-colocate-uniform</th>\n",
       "      <th>12</th>\n",
       "      <td>998500.0</td>\n",
       "      <td>1.027799</td>\n",
       "      <td>0.199251</td>\n",
       "      <td>1.0</td>\n",
       "      <td>1.0</td>\n",
       "      <td>1.0</td>\n",
       "      <td>1.0</td>\n",
       "      <td>3.0</td>\n",
       "    </tr>\n",
       "    <tr>\n",
       "      <th>24</th>\n",
       "      <td>998500.0</td>\n",
       "      <td>1.020550</td>\n",
       "      <td>0.194860</td>\n",
       "      <td>1.0</td>\n",
       "      <td>1.0</td>\n",
       "      <td>1.0</td>\n",
       "      <td>1.0</td>\n",
       "      <td>3.0</td>\n",
       "    </tr>\n",
       "    <tr>\n",
       "      <th>48</th>\n",
       "      <td>998500.0</td>\n",
       "      <td>1.012062</td>\n",
       "      <td>0.109163</td>\n",
       "      <td>1.0</td>\n",
       "      <td>1.0</td>\n",
       "      <td>1.0</td>\n",
       "      <td>1.0</td>\n",
       "      <td>2.0</td>\n",
       "    </tr>\n",
       "    <tr>\n",
       "      <th>colocate-uniform</th>\n",
       "      <th>uniform</th>\n",
       "      <td>998500.0</td>\n",
       "      <td>1.357768</td>\n",
       "      <td>0.670669</td>\n",
       "      <td>1.0</td>\n",
       "      <td>1.0</td>\n",
       "      <td>1.0</td>\n",
       "      <td>2.0</td>\n",
       "      <td>4.0</td>\n",
       "    </tr>\n",
       "    <tr>\n",
       "      <th rowspan=\"4\" valign=\"top\">wve</th>\n",
       "      <th rowspan=\"3\" valign=\"top\">colocate-colocate-uniform</th>\n",
       "      <th>12</th>\n",
       "      <td>998500.0</td>\n",
       "      <td>1.003674</td>\n",
       "      <td>0.060498</td>\n",
       "      <td>1.0</td>\n",
       "      <td>1.0</td>\n",
       "      <td>1.0</td>\n",
       "      <td>1.0</td>\n",
       "      <td>2.0</td>\n",
       "    </tr>\n",
       "    <tr>\n",
       "      <th>24</th>\n",
       "      <td>998500.0</td>\n",
       "      <td>1.022657</td>\n",
       "      <td>0.148807</td>\n",
       "      <td>1.0</td>\n",
       "      <td>1.0</td>\n",
       "      <td>1.0</td>\n",
       "      <td>1.0</td>\n",
       "      <td>2.0</td>\n",
       "    </tr>\n",
       "    <tr>\n",
       "      <th>48</th>\n",
       "      <td>998500.0</td>\n",
       "      <td>1.031107</td>\n",
       "      <td>0.218485</td>\n",
       "      <td>1.0</td>\n",
       "      <td>1.0</td>\n",
       "      <td>1.0</td>\n",
       "      <td>1.0</td>\n",
       "      <td>3.0</td>\n",
       "    </tr>\n",
       "    <tr>\n",
       "      <th>colocate-uniform</th>\n",
       "      <th>uniform</th>\n",
       "      <td>998500.0</td>\n",
       "      <td>1.363103</td>\n",
       "      <td>0.701954</td>\n",
       "      <td>1.0</td>\n",
       "      <td>1.0</td>\n",
       "      <td>1.0</td>\n",
       "      <td>2.0</td>\n",
       "      <td>5.0</td>\n",
       "    </tr>\n",
       "  </tbody>\n",
       "</table>\n",
       "</div>"
      ],
      "text/plain": [
       "                                                                     count  \\\n",
       "groupSizeDist placementDist             placementNumHostsPerLeaf             \n",
       "uniform       colocate-colocate-uniform 12                        998500.0   \n",
       "                                        24                        998500.0   \n",
       "                                        48                        998500.0   \n",
       "              colocate-uniform          uniform                   998500.0   \n",
       "wve           colocate-colocate-uniform 12                        998500.0   \n",
       "                                        24                        998500.0   \n",
       "                                        48                        998500.0   \n",
       "              colocate-uniform          uniform                   998500.0   \n",
       "\n",
       "                                                                      mean  \\\n",
       "groupSizeDist placementDist             placementNumHostsPerLeaf             \n",
       "uniform       colocate-colocate-uniform 12                        1.027799   \n",
       "                                        24                        1.020550   \n",
       "                                        48                        1.012062   \n",
       "              colocate-uniform          uniform                   1.357768   \n",
       "wve           colocate-colocate-uniform 12                        1.003674   \n",
       "                                        24                        1.022657   \n",
       "                                        48                        1.031107   \n",
       "              colocate-uniform          uniform                   1.363103   \n",
       "\n",
       "                                                                       std  \\\n",
       "groupSizeDist placementDist             placementNumHostsPerLeaf             \n",
       "uniform       colocate-colocate-uniform 12                        0.199251   \n",
       "                                        24                        0.194860   \n",
       "                                        48                        0.109163   \n",
       "              colocate-uniform          uniform                   0.670669   \n",
       "wve           colocate-colocate-uniform 12                        0.060498   \n",
       "                                        24                        0.148807   \n",
       "                                        48                        0.218485   \n",
       "              colocate-uniform          uniform                   0.701954   \n",
       "\n",
       "                                                                  min  25%  \\\n",
       "groupSizeDist placementDist             placementNumHostsPerLeaf             \n",
       "uniform       colocate-colocate-uniform 12                        1.0  1.0   \n",
       "                                        24                        1.0  1.0   \n",
       "                                        48                        1.0  1.0   \n",
       "              colocate-uniform          uniform                   1.0  1.0   \n",
       "wve           colocate-colocate-uniform 12                        1.0  1.0   \n",
       "                                        24                        1.0  1.0   \n",
       "                                        48                        1.0  1.0   \n",
       "              colocate-uniform          uniform                   1.0  1.0   \n",
       "\n",
       "                                                                  50%  75%  \\\n",
       "groupSizeDist placementDist             placementNumHostsPerLeaf             \n",
       "uniform       colocate-colocate-uniform 12                        1.0  1.0   \n",
       "                                        24                        1.0  1.0   \n",
       "                                        48                        1.0  1.0   \n",
       "              colocate-uniform          uniform                   1.0  2.0   \n",
       "wve           colocate-colocate-uniform 12                        1.0  1.0   \n",
       "                                        24                        1.0  1.0   \n",
       "                                        48                        1.0  1.0   \n",
       "              colocate-uniform          uniform                   1.0  2.0   \n",
       "\n",
       "                                                                  max  \n",
       "groupSizeDist placementDist             placementNumHostsPerLeaf       \n",
       "uniform       colocate-colocate-uniform 12                        3.0  \n",
       "                                        24                        3.0  \n",
       "                                        48                        2.0  \n",
       "              colocate-uniform          uniform                   4.0  \n",
       "wve           colocate-colocate-uniform 12                        2.0  \n",
       "                                        24                        2.0  \n",
       "                                        48                        3.0  \n",
       "              colocate-uniform          uniform                   5.0  "
      ]
     },
     "execution_count": 32,
     "metadata": {},
     "output_type": "execute_result"
    }
   ],
   "source": [
    "# podCountPerGroupPerTenant[\n",
    "#     (podCountPerGroupPerTenant['podsAlgorithm'] == 'exact-match') & \n",
    "#     (podCountPerGroupPerTenant['podsNumBitmaps'] == 1) & \n",
    "#     (podCountPerGroupPerTenant['podsNumNodesPerBitmap'] == 3) &\n",
    "#     (podCountPerGroupPerTenant['podsRedundancyPerBitmap'] == 0) &\n",
    "#     (podCountPerGroupPerTenant['podsNumRules'] == 10000)\n",
    "# ].groupby(['groupSizeDist', 'placementDist', 'placementNumHostsPerLeaf'])['podCount'].quantile(\n",
    "#     [0.0, 0.5, 0.8, 0.99, 0.999, 0.9999, 1.0])\n",
    "podCountPerGroupPerTenant[\n",
    "    (podCountPerGroupPerTenant['podsAlgorithm'] == 'exact-match') & \n",
    "    (podCountPerGroupPerTenant['podsNumBitmaps'] == 1) & \n",
    "    (podCountPerGroupPerTenant['podsNumNodesPerBitmap'] == 3) &\n",
    "    (podCountPerGroupPerTenant['podsRedundancyPerBitmap'] == 0) &\n",
    "    (podCountPerGroupPerTenant['podsNumRules'] == 10000)\n",
    "].groupby(['groupSizeDist', 'placementDist', 'placementNumHostsPerLeaf'])['podCount'].describe()"
   ]
  },
  {
   "cell_type": "code",
   "execution_count": null,
   "metadata": {
    "collapsed": true
   },
   "outputs": [],
   "source": []
  },
  {
   "cell_type": "code",
   "execution_count": 26,
   "metadata": {
    "collapsed": true
   },
   "outputs": [],
   "source": [
    "podsAlgorithmElapseTime = DataSetAsDataFrame('pods_algorithm_elapse_time.csv', \n",
    "                                              folders, ['elapseTime'])"
   ]
  },
  {
   "cell_type": "code",
   "execution_count": 28,
   "metadata": {
    "collapsed": false
   },
   "outputs": [
    {
     "data": {
      "text/plain": [
       "count    1.917120e+08\n",
       "mean     6.133211e-07\n",
       "std      2.687708e-05\n",
       "min      4.377216e-08\n",
       "25%      1.140870e-07\n",
       "50%      1.182780e-07\n",
       "75%      1.867302e-07\n",
       "max      2.069904e-01\n",
       "Name: elapseTime, dtype: float64"
      ]
     },
     "execution_count": 28,
     "metadata": {},
     "output_type": "execute_result"
    }
   ],
   "source": [
    "podsAlgorithmElapseTime['elapseTime'].describe()"
   ]
  },
  {
   "cell_type": "code",
   "execution_count": null,
   "metadata": {
    "collapsed": true
   },
   "outputs": [],
   "source": []
  },
  {
   "cell_type": "code",
   "execution_count": 8,
   "metadata": {
    "collapsed": true
   },
   "outputs": [],
   "source": [
    "groupsCoveredWithBitmapsOnlyForPods = DataSetAsDataFrame('groups_covered_with_bitmaps_only_for_pods.csv', \n",
    "                                                         folders, \n",
    "                                                         ['groupsCovered', 'groupsCoveredWithoutDefaultBitmap'],\n",
    "                                                         header=0)"
   ]
  },
  {
   "cell_type": "code",
   "execution_count": 11,
   "metadata": {
    "collapsed": false
   },
   "outputs": [
    {
     "data": {
      "image/png": "[encoded data removed]"
     },
     "metadata": {},
     "output_type": "display_data"
    }
   ],
   "source": [
    "%%R -i groupsCoveredWithBitmapsOnlyForPods\n",
    "ggplot(groupsCoveredWithBitmapsOnlyForPods) +\n",
    "   geom_bar(aes(y=groupsCoveredWithoutDefaultBitmap, x=factor(podsNumBitmaps), \n",
    "                fill=interaction(podsAlgorithm, podsNumNodesPerBitmap, podsRedundancyPerBitmap)),\n",
    "            stat=\"identity\",position=position_dodge()) +\n",
    "   facet_grid(groupSizeDist * podsNumRules ~ factor(placementNumHostsPerLeaf, levels=c('uniform','12','24','48'))) +\n",
    "   xlab(\"Number of bitmaps\") +\n",
    "   ylab(\"Groups covered (without default bitmap)\") +\n",
    "   plotTheme"
   ]
  },
  {
   "cell_type": "code",
   "execution_count": null,
   "metadata": {
    "collapsed": true
   },
   "outputs": [],
   "source": []
  },
  {
   "cell_type": "code",
   "execution_count": 12,
   "metadata": {
    "collapsed": true
   },
   "outputs": [],
   "source": [
    "ruleCountForPods = DataSetAsDataFrame('rule_count_for_pods.csv', \n",
    "                                      folders, ['numRules'])"
   ]
  },
  {
   "cell_type": "code",
   "execution_count": 13,
   "metadata": {
    "collapsed": false
   },
   "outputs": [
    {
     "data": {
      "image/png": "[encoded data removed]"
     },
     "metadata": {},
     "output_type": "display_data"
    }
   ],
   "source": [
    "%%R -i ruleCountForPods\n",
    "ggplot(ruleCountForPods) +\n",
    "    geom_boxplot(aes(y=numRules, x=factor(podsNumBitmaps), \n",
    "                     fill=interaction(podsAlgorithm, podsNumNodesPerBitmap, podsRedundancyPerBitmap)),\n",
    "                 outlier.size=0.5) +\n",
    "    facet_grid(groupSizeDist * podsNumRules ~ factor(placementNumHostsPerLeaf, levels=c('uniform','12','24','48'))) +\n",
    "    xlab(\"Number of bitmaps\") +\n",
    "    ylab(\"Number of rules\") +\n",
    "    plotTheme"
   ]
  },
  {
   "cell_type": "code",
   "execution_count": null,
   "metadata": {
    "collapsed": true
   },
   "outputs": [],
   "source": []
  },
  {
   "cell_type": "code",
   "execution_count": 14,
   "metadata": {
    "collapsed": true
   },
   "outputs": [],
   "source": [
    "trafficOverheadPerGroupPerTenantForPods = DataSetAsDataFrame(\n",
    "    'traffic_overhead_per_group_per_tenant_for_pods.csv', folders, ['trafficOverhead'])"
   ]
  },
  {
   "cell_type": "code",
   "execution_count": 17,
   "metadata": {
    "collapsed": false
   },
   "outputs": [
    {
     "data": {
      "text/html": [
       "<div>\n",
       "<style scoped>\n",
       "    .dataframe tbody tr th:only-of-type {\n",
       "        vertical-align: middle;\n",
       "    }\n",
       "\n",
       "    .dataframe tbody tr th {\n",
       "        vertical-align: top;\n",
       "    }\n",
       "\n",
       "    .dataframe thead th {\n",
       "        text-align: right;\n",
       "    }\n",
       "</style>\n",
       "<table border=\"1\" class=\"dataframe\">\n",
       "  <thead>\n",
       "    <tr style=\"text-align: right;\">\n",
       "      <th></th>\n",
       "      <th>trafficOverhead</th>\n",
       "      <th>groupSizeDist</th>\n",
       "      <th>placementDist</th>\n",
       "      <th>placementNumHostsPerLeaf</th>\n",
       "      <th>seed</th>\n",
       "      <th>podsAlgorithm</th>\n",
       "      <th>podsNumBitmaps</th>\n",
       "      <th>podsNumNodesPerBitmap</th>\n",
       "      <th>podsRedundancyPerBitmap</th>\n",
       "      <th>podsNumRules</th>\n",
       "    </tr>\n",
       "  </thead>\n",
       "  <tbody>\n",
       "    <tr>\n",
       "      <th>0</th>\n",
       "      <td>0.0</td>\n",
       "      <td>uniform</td>\n",
       "      <td>colocate-uniform</td>\n",
       "      <td>uniform</td>\n",
       "      <td>0</td>\n",
       "      <td>exact-match</td>\n",
       "      <td>1</td>\n",
       "      <td>3</td>\n",
       "      <td>0</td>\n",
       "      <td>10000</td>\n",
       "    </tr>\n",
       "    <tr>\n",
       "      <th>1</th>\n",
       "      <td>0.0</td>\n",
       "      <td>uniform</td>\n",
       "      <td>colocate-uniform</td>\n",
       "      <td>uniform</td>\n",
       "      <td>0</td>\n",
       "      <td>exact-match</td>\n",
       "      <td>1</td>\n",
       "      <td>3</td>\n",
       "      <td>0</td>\n",
       "      <td>10000</td>\n",
       "    </tr>\n",
       "  </tbody>\n",
       "</table>\n",
       "</div>"
      ],
      "text/plain": [
       "   trafficOverhead groupSizeDist     placementDist placementNumHostsPerLeaf  \\\n",
       "0              0.0       uniform  colocate-uniform                  uniform   \n",
       "1              0.0       uniform  colocate-uniform                  uniform   \n",
       "\n",
       "   seed podsAlgorithm  podsNumBitmaps  podsNumNodesPerBitmap  \\\n",
       "0     0   exact-match               1                      3   \n",
       "1     0   exact-match               1                      3   \n",
       "\n",
       "   podsRedundancyPerBitmap  podsNumRules  \n",
       "0                        0         10000  \n",
       "1                        0         10000  "
      ]
     },
     "execution_count": 17,
     "metadata": {},
     "output_type": "execute_result"
    }
   ],
   "source": [
    "trafficOverheadPerGroupPerTenantForPods.head(2)"
   ]
  },
  {
   "cell_type": "code",
   "execution_count": 19,
   "metadata": {
    "collapsed": false
   },
   "outputs": [],
   "source": [
    "# %%R -i trafficOverheadPerGroupPerTenantForPods\n",
    "# ggplot(trafficOverheadPerGroupPerTenantForPods) +\n",
    "#     geom_boxplot(aes(y=trafficOverhead, x=factor(podsNumBitmaps), \n",
    "#                      fill=interaction(podsAlgorithm, podsNumNodesPerBitmap, podsRedundancyPerBitmap))) +\n",
    "#     facet_grid(groupSizeDist * podsNumRules ~ factor(placementNumHostsPerLeaf, levels=c('uniform','12','24','48'))) +\n",
    "#     xlab(\"Number of bitmaps\") +\n",
    "#     ylab(\"Traffic overhead per group\") +\n",
    "#     plotTheme"
   ]
  },
  {
   "cell_type": "code",
   "execution_count": 31,
   "metadata": {
    "collapsed": false
   },
   "outputs": [],
   "source": [
    "overhead = trafficOverheadPerGroupPerTenantForPods.groupby(\n",
    "    ['groupSizeDist', 'placementDist', 'placementNumHostsPerLeaf', 'seed',\n",
    "     'podsAlgorithm', 'podsNumBitmaps', 'podsNumNodesPerBitmap', 'podsRedundancyPerBitmap',\n",
    "    'podsNumRules']).mean()"
   ]
  },
  {
   "cell_type": "code",
   "execution_count": 33,
   "metadata": {
    "collapsed": true
   },
   "outputs": [],
   "source": [
    "overhead = overhead.reset_index()"
   ]
  },
  {
   "cell_type": "code",
   "execution_count": 34,
   "metadata": {
    "collapsed": false
   },
   "outputs": [
    {
     "data": {
      "image/png": "[encoded data removed]"
     },
     "metadata": {},
     "output_type": "display_data"
    }
   ],
   "source": [
    "%%R -i overhead\n",
    "ggplot(overhead) +\n",
    "    geom_boxplot(aes(y=trafficOverhead, x=factor(podsNumBitmaps), \n",
    "                     fill=interaction(podsAlgorithm, podsNumNodesPerBitmap, podsRedundancyPerBitmap))) +\n",
    "    facet_grid(groupSizeDist * podsNumRules ~ factor(placementNumHostsPerLeaf, levels=c('uniform','12','24','48'))) +\n",
    "    xlab(\"Number of bitmaps\") +\n",
    "    ylab(\"Traffic overhead per group\") +\n",
    "    plotTheme"
   ]
  },
  {
   "cell_type": "code",
   "execution_count": null,
   "metadata": {
    "collapsed": true
   },
   "outputs": [],
   "source": []
  },
  {
   "cell_type": "code",
   "execution_count": null,
   "metadata": {
    "collapsed": true
   },
   "outputs": [],
   "source": []
  },
  {
   "cell_type": "code",
   "execution_count": null,
   "metadata": {
    "collapsed": true
   },
   "outputs": [],
   "source": []
  },
  {
   "cell_type": "code",
   "execution_count": null,
   "metadata": {
    "collapsed": true
   },
   "outputs": [],
   "source": []
  },
  {
   "cell_type": "code",
   "execution_count": 8,
   "metadata": {
    "collapsed": false
   },
   "outputs": [
    {
     "ename": "FileNotFoundError",
     "evalue": "File b'/mnt/sdb1/baseerat/numerical-evals/12-11-2017/logs-1M/logs.12_48_48_20_3000_10_5000_expon_1000000_5_uniform_colocate-uniform_-1_True_5_0.exact-match_1_3_0_10000_2_3_pods/rule_count_per_leaf.csv' does not exist",
     "output_type": "error",
     "traceback": [
      "\u001b[0;31m---------------------------------------------------------------------------\u001b[0m",
      "\u001b[0;31mFileNotFoundError\u001b[0m                         Traceback (most recent call last)",
      "\u001b[0;32m<ipython-input-8-316d1ac7bf4a>\u001b[0m in \u001b[0;36m<module>\u001b[0;34m()\u001b[0m\n\u001b[1;32m      1\u001b[0m ruleCountPerLeaf = DataSetAsDataFrame('rule_count_per_leaf.csv', \n\u001b[0;32m----> 2\u001b[0;31m                                       folders, ['leafId', 'numRules'])\n\u001b[0m",
      "\u001b[0;32m<ipython-input-5-15e73faa9b54>\u001b[0m in \u001b[0;36mDataSetAsDataFrame\u001b[0;34m(filename, folders, headers, header)\u001b[0m\n\u001b[1;32m     36\u001b[0m     \u001b[0mdfs\u001b[0m \u001b[0;34m=\u001b[0m \u001b[0mmap\u001b[0m\u001b[0;34m(\u001b[0m\u001b[0mReadDataSet\u001b[0m\u001b[0;34m,\u001b[0m \u001b[0mfolders\u001b[0m\u001b[0;34m)\u001b[0m\u001b[0;34m\u001b[0m\u001b[0m\n\u001b[1;32m     37\u001b[0m     \u001b[0;31m# Combine into a single dataframe\u001b[0m\u001b[0;34m\u001b[0m\u001b[0;34m\u001b[0m\u001b[0m\n\u001b[0;32m---> 38\u001b[0;31m     \u001b[0mdf\u001b[0m \u001b[0;34m=\u001b[0m \u001b[0mpd\u001b[0m\u001b[0;34m.\u001b[0m\u001b[0mconcat\u001b[0m\u001b[0;34m(\u001b[0m\u001b[0mdfs\u001b[0m\u001b[0;34m)\u001b[0m\u001b[0;34m\u001b[0m\u001b[0m\n\u001b[0m\u001b[1;32m     39\u001b[0m     \u001b[0;32mreturn\u001b[0m \u001b[0mdf\u001b[0m\u001b[0;34m\u001b[0m\u001b[0m\n",
      "\u001b[0;32m/opt/conda/lib/python3.5/site-packages/pandas/core/reshape/concat.py\u001b[0m in \u001b[0;36mconcat\u001b[0;34m(objs, axis, join, join_axes, ignore_index, keys, levels, names, verify_integrity, copy)\u001b[0m\n\u001b[1;32m    210\u001b[0m                        \u001b[0mkeys\u001b[0m\u001b[0;34m=\u001b[0m\u001b[0mkeys\u001b[0m\u001b[0;34m,\u001b[0m \u001b[0mlevels\u001b[0m\u001b[0;34m=\u001b[0m\u001b[0mlevels\u001b[0m\u001b[0;34m,\u001b[0m \u001b[0mnames\u001b[0m\u001b[0;34m=\u001b[0m\u001b[0mnames\u001b[0m\u001b[0;34m,\u001b[0m\u001b[0;34m\u001b[0m\u001b[0m\n\u001b[1;32m    211\u001b[0m                        \u001b[0mverify_integrity\u001b[0m\u001b[0;34m=\u001b[0m\u001b[0mverify_integrity\u001b[0m\u001b[0;34m,\u001b[0m\u001b[0;34m\u001b[0m\u001b[0m\n\u001b[0;32m--> 212\u001b[0;31m                        copy=copy)\n\u001b[0m\u001b[1;32m    213\u001b[0m     \u001b[0;32mreturn\u001b[0m \u001b[0mop\u001b[0m\u001b[0;34m.\u001b[0m\u001b[0mget_result\u001b[0m\u001b[0;34m(\u001b[0m\u001b[0;34m)\u001b[0m\u001b[0;34m\u001b[0m\u001b[0m\n\u001b[1;32m    214\u001b[0m \u001b[0;34m\u001b[0m\u001b[0m\n",
      "\u001b[0;32m/opt/conda/lib/python3.5/site-packages/pandas/core/reshape/concat.py\u001b[0m in \u001b[0;36m__init__\u001b[0;34m(self, objs, axis, join, join_axes, keys, levels, names, ignore_index, verify_integrity, copy)\u001b[0m\n\u001b[1;32m    240\u001b[0m             \u001b[0mobjs\u001b[0m \u001b[0;34m=\u001b[0m \u001b[0;34m[\u001b[0m\u001b[0mobjs\u001b[0m\u001b[0;34m[\u001b[0m\u001b[0mk\u001b[0m\u001b[0;34m]\u001b[0m \u001b[0;32mfor\u001b[0m \u001b[0mk\u001b[0m \u001b[0;32min\u001b[0m \u001b[0mkeys\u001b[0m\u001b[0;34m]\u001b[0m\u001b[0;34m\u001b[0m\u001b[0m\n\u001b[1;32m    241\u001b[0m         \u001b[0;32melse\u001b[0m\u001b[0;34m:\u001b[0m\u001b[0;34m\u001b[0m\u001b[0m\n\u001b[0;32m--> 242\u001b[0;31m             \u001b[0mobjs\u001b[0m \u001b[0;34m=\u001b[0m \u001b[0mlist\u001b[0m\u001b[0;34m(\u001b[0m\u001b[0mobjs\u001b[0m\u001b[0;34m)\u001b[0m\u001b[0;34m\u001b[0m\u001b[0m\n\u001b[0m\u001b[1;32m    243\u001b[0m \u001b[0;34m\u001b[0m\u001b[0m\n\u001b[1;32m    244\u001b[0m         \u001b[0;32mif\u001b[0m \u001b[0mlen\u001b[0m\u001b[0;34m(\u001b[0m\u001b[0mobjs\u001b[0m\u001b[0;34m)\u001b[0m \u001b[0;34m==\u001b[0m \u001b[0;36m0\u001b[0m\u001b[0;34m:\u001b[0m\u001b[0;34m\u001b[0m\u001b[0m\n",
      "\u001b[0;32m<ipython-input-5-15e73faa9b54>\u001b[0m in \u001b[0;36mReadDataSet\u001b[0;34m(folder)\u001b[0m\n\u001b[1;32m     30\u001b[0m     \u001b[0;31m# Read dataset as dataframe\u001b[0m\u001b[0;34m\u001b[0m\u001b[0;34m\u001b[0m\u001b[0m\n\u001b[1;32m     31\u001b[0m     \u001b[0;32mdef\u001b[0m \u001b[0mReadDataSet\u001b[0m\u001b[0;34m(\u001b[0m\u001b[0mfolder\u001b[0m\u001b[0;34m)\u001b[0m\u001b[0;34m:\u001b[0m\u001b[0;34m\u001b[0m\u001b[0m\n\u001b[0;32m---> 32\u001b[0;31m         \u001b[0mdf\u001b[0m \u001b[0;34m=\u001b[0m \u001b[0mpd\u001b[0m\u001b[0;34m.\u001b[0m\u001b[0mread_csv\u001b[0m\u001b[0;34m(\u001b[0m\u001b[0mfolder\u001b[0m \u001b[0;34m+\u001b[0m \u001b[0;34m'/'\u001b[0m \u001b[0;34m+\u001b[0m \u001b[0mfilename\u001b[0m\u001b[0;34m,\u001b[0m \u001b[0msep\u001b[0m\u001b[0;34m=\u001b[0m\u001b[0;34m','\u001b[0m\u001b[0;34m,\u001b[0m \u001b[0mheader\u001b[0m\u001b[0;34m=\u001b[0m\u001b[0mheader\u001b[0m\u001b[0;34m,\u001b[0m \u001b[0mnames\u001b[0m\u001b[0;34m=\u001b[0m\u001b[0mheaders\u001b[0m\u001b[0;34m)\u001b[0m\u001b[0;34m\u001b[0m\u001b[0m\n\u001b[0m\u001b[1;32m     33\u001b[0m         \u001b[0mAddParametersAsColumns\u001b[0m\u001b[0;34m(\u001b[0m\u001b[0mdf\u001b[0m\u001b[0;34m,\u001b[0m \u001b[0mfolder\u001b[0m\u001b[0;34m)\u001b[0m\u001b[0;34m\u001b[0m\u001b[0m\n\u001b[1;32m     34\u001b[0m         \u001b[0;32mreturn\u001b[0m \u001b[0mdf\u001b[0m\u001b[0;34m\u001b[0m\u001b[0m\n",
      "\u001b[0;32m/opt/conda/lib/python3.5/site-packages/pandas/io/parsers.py\u001b[0m in \u001b[0;36mparser_f\u001b[0;34m(filepath_or_buffer, sep, delimiter, header, names, index_col, usecols, squeeze, prefix, mangle_dupe_cols, dtype, engine, converters, true_values, false_values, skipinitialspace, skiprows, nrows, na_values, keep_default_na, na_filter, verbose, skip_blank_lines, parse_dates, infer_datetime_format, keep_date_col, date_parser, dayfirst, iterator, chunksize, compression, thousands, decimal, lineterminator, quotechar, quoting, escapechar, comment, encoding, dialect, tupleize_cols, error_bad_lines, warn_bad_lines, skipfooter, skip_footer, doublequote, delim_whitespace, as_recarray, compact_ints, use_unsigned, low_memory, buffer_lines, memory_map, float_precision)\u001b[0m\n\u001b[1;32m    703\u001b[0m                     skip_blank_lines=skip_blank_lines)\n\u001b[1;32m    704\u001b[0m \u001b[0;34m\u001b[0m\u001b[0m\n\u001b[0;32m--> 705\u001b[0;31m         \u001b[0;32mreturn\u001b[0m \u001b[0m_read\u001b[0m\u001b[0;34m(\u001b[0m\u001b[0mfilepath_or_buffer\u001b[0m\u001b[0;34m,\u001b[0m \u001b[0mkwds\u001b[0m\u001b[0;34m)\u001b[0m\u001b[0;34m\u001b[0m\u001b[0m\n\u001b[0m\u001b[1;32m    706\u001b[0m \u001b[0;34m\u001b[0m\u001b[0m\n\u001b[1;32m    707\u001b[0m     \u001b[0mparser_f\u001b[0m\u001b[0;34m.\u001b[0m\u001b[0m__name__\u001b[0m \u001b[0;34m=\u001b[0m \u001b[0mname\u001b[0m\u001b[0;34m\u001b[0m\u001b[0m\n",
      "\u001b[0;32m/opt/conda/lib/python3.5/site-packages/pandas/io/parsers.py\u001b[0m in \u001b[0;36m_read\u001b[0;34m(filepath_or_buffer, kwds)\u001b[0m\n\u001b[1;32m    443\u001b[0m \u001b[0;34m\u001b[0m\u001b[0m\n\u001b[1;32m    444\u001b[0m     \u001b[0;31m# Create the parser.\u001b[0m\u001b[0;34m\u001b[0m\u001b[0;34m\u001b[0m\u001b[0m\n\u001b[0;32m--> 445\u001b[0;31m     \u001b[0mparser\u001b[0m \u001b[0;34m=\u001b[0m \u001b[0mTextFileReader\u001b[0m\u001b[0;34m(\u001b[0m\u001b[0mfilepath_or_buffer\u001b[0m\u001b[0;34m,\u001b[0m \u001b[0;34m**\u001b[0m\u001b[0mkwds\u001b[0m\u001b[0;34m)\u001b[0m\u001b[0;34m\u001b[0m\u001b[0m\n\u001b[0m\u001b[1;32m    446\u001b[0m \u001b[0;34m\u001b[0m\u001b[0m\n\u001b[1;32m    447\u001b[0m     \u001b[0;32mif\u001b[0m \u001b[0mchunksize\u001b[0m \u001b[0;32mor\u001b[0m \u001b[0miterator\u001b[0m\u001b[0;34m:\u001b[0m\u001b[0;34m\u001b[0m\u001b[0m\n",
      "\u001b[0;32m/opt/conda/lib/python3.5/site-packages/pandas/io/parsers.py\u001b[0m in \u001b[0;36m__init__\u001b[0;34m(self, f, engine, **kwds)\u001b[0m\n\u001b[1;32m    812\u001b[0m             \u001b[0mself\u001b[0m\u001b[0;34m.\u001b[0m\u001b[0moptions\u001b[0m\u001b[0;34m[\u001b[0m\u001b[0;34m'has_index_names'\u001b[0m\u001b[0;34m]\u001b[0m \u001b[0;34m=\u001b[0m \u001b[0mkwds\u001b[0m\u001b[0;34m[\u001b[0m\u001b[0;34m'has_index_names'\u001b[0m\u001b[0;34m]\u001b[0m\u001b[0;34m\u001b[0m\u001b[0m\n\u001b[1;32m    813\u001b[0m \u001b[0;34m\u001b[0m\u001b[0m\n\u001b[0;32m--> 814\u001b[0;31m         \u001b[0mself\u001b[0m\u001b[0;34m.\u001b[0m\u001b[0m_make_engine\u001b[0m\u001b[0;34m(\u001b[0m\u001b[0mself\u001b[0m\u001b[0;34m.\u001b[0m\u001b[0mengine\u001b[0m\u001b[0;34m)\u001b[0m\u001b[0;34m\u001b[0m\u001b[0m\n\u001b[0m\u001b[1;32m    815\u001b[0m \u001b[0;34m\u001b[0m\u001b[0m\n\u001b[1;32m    816\u001b[0m     \u001b[0;32mdef\u001b[0m \u001b[0mclose\u001b[0m\u001b[0;34m(\u001b[0m\u001b[0mself\u001b[0m\u001b[0;34m)\u001b[0m\u001b[0;34m:\u001b[0m\u001b[0;34m\u001b[0m\u001b[0m\n",
      "\u001b[0;32m/opt/conda/lib/python3.5/site-packages/pandas/io/parsers.py\u001b[0m in \u001b[0;36m_make_engine\u001b[0;34m(self, engine)\u001b[0m\n\u001b[1;32m   1043\u001b[0m     \u001b[0;32mdef\u001b[0m \u001b[0m_make_engine\u001b[0m\u001b[0;34m(\u001b[0m\u001b[0mself\u001b[0m\u001b[0;34m,\u001b[0m \u001b[0mengine\u001b[0m\u001b[0;34m=\u001b[0m\u001b[0;34m'c'\u001b[0m\u001b[0;34m)\u001b[0m\u001b[0;34m:\u001b[0m\u001b[0;34m\u001b[0m\u001b[0m\n\u001b[1;32m   1044\u001b[0m         \u001b[0;32mif\u001b[0m \u001b[0mengine\u001b[0m \u001b[0;34m==\u001b[0m \u001b[0;34m'c'\u001b[0m\u001b[0;34m:\u001b[0m\u001b[0;34m\u001b[0m\u001b[0m\n\u001b[0;32m-> 1045\u001b[0;31m             \u001b[0mself\u001b[0m\u001b[0;34m.\u001b[0m\u001b[0m_engine\u001b[0m \u001b[0;34m=\u001b[0m \u001b[0mCParserWrapper\u001b[0m\u001b[0;34m(\u001b[0m\u001b[0mself\u001b[0m\u001b[0;34m.\u001b[0m\u001b[0mf\u001b[0m\u001b[0;34m,\u001b[0m \u001b[0;34m**\u001b[0m\u001b[0mself\u001b[0m\u001b[0;34m.\u001b[0m\u001b[0moptions\u001b[0m\u001b[0;34m)\u001b[0m\u001b[0;34m\u001b[0m\u001b[0m\n\u001b[0m\u001b[1;32m   1046\u001b[0m         \u001b[0;32melse\u001b[0m\u001b[0;34m:\u001b[0m\u001b[0;34m\u001b[0m\u001b[0m\n\u001b[1;32m   1047\u001b[0m             \u001b[0;32mif\u001b[0m \u001b[0mengine\u001b[0m \u001b[0;34m==\u001b[0m \u001b[0;34m'python'\u001b[0m\u001b[0;34m:\u001b[0m\u001b[0;34m\u001b[0m\u001b[0m\n",
      "\u001b[0;32m/opt/conda/lib/python3.5/site-packages/pandas/io/parsers.py\u001b[0m in \u001b[0;36m__init__\u001b[0;34m(self, src, **kwds)\u001b[0m\n\u001b[1;32m   1682\u001b[0m         \u001b[0mkwds\u001b[0m\u001b[0;34m[\u001b[0m\u001b[0;34m'allow_leading_cols'\u001b[0m\u001b[0;34m]\u001b[0m \u001b[0;34m=\u001b[0m \u001b[0mself\u001b[0m\u001b[0;34m.\u001b[0m\u001b[0mindex_col\u001b[0m \u001b[0;32mis\u001b[0m \u001b[0;32mnot\u001b[0m \u001b[0;32mFalse\u001b[0m\u001b[0;34m\u001b[0m\u001b[0m\n\u001b[1;32m   1683\u001b[0m \u001b[0;34m\u001b[0m\u001b[0m\n\u001b[0;32m-> 1684\u001b[0;31m         \u001b[0mself\u001b[0m\u001b[0;34m.\u001b[0m\u001b[0m_reader\u001b[0m \u001b[0;34m=\u001b[0m \u001b[0mparsers\u001b[0m\u001b[0;34m.\u001b[0m\u001b[0mTextReader\u001b[0m\u001b[0;34m(\u001b[0m\u001b[0msrc\u001b[0m\u001b[0;34m,\u001b[0m \u001b[0;34m**\u001b[0m\u001b[0mkwds\u001b[0m\u001b[0;34m)\u001b[0m\u001b[0;34m\u001b[0m\u001b[0m\n\u001b[0m\u001b[1;32m   1685\u001b[0m \u001b[0;34m\u001b[0m\u001b[0m\n\u001b[1;32m   1686\u001b[0m         \u001b[0;31m# XXX\u001b[0m\u001b[0;34m\u001b[0m\u001b[0;34m\u001b[0m\u001b[0m\n",
      "\u001b[0;32mpandas/_libs/parsers.pyx\u001b[0m in \u001b[0;36mpandas._libs.parsers.TextReader.__cinit__\u001b[0;34m()\u001b[0m\n",
      "\u001b[0;32mpandas/_libs/parsers.pyx\u001b[0m in \u001b[0;36mpandas._libs.parsers.TextReader._setup_parser_source\u001b[0;34m()\u001b[0m\n",
      "\u001b[0;31mFileNotFoundError\u001b[0m: File b'/mnt/sdb1/baseerat/numerical-evals/12-11-2017/logs-1M/logs.12_48_48_20_3000_10_5000_expon_1000000_5_uniform_colocate-uniform_-1_True_5_0.exact-match_1_3_0_10000_2_3_pods/rule_count_per_leaf.csv' does not exist"
     ]
    }
   ],
   "source": [
    "ruleCountPerLeaf = DataSetAsDataFrame('rule_count_per_leaf.csv', \n",
    "                                      folders, ['leafId', 'numRules'])"
   ]
  },
  {
   "cell_type": "code",
   "execution_count": 9,
   "metadata": {
    "collapsed": false
   },
   "outputs": [
    {
     "data": {
      "text/html": [
       "<div>\n",
       "<style scoped>\n",
       "    .dataframe tbody tr th:only-of-type {\n",
       "        vertical-align: middle;\n",
       "    }\n",
       "\n",
       "    .dataframe tbody tr th {\n",
       "        vertical-align: top;\n",
       "    }\n",
       "\n",
       "    .dataframe thead th {\n",
       "        text-align: right;\n",
       "    }\n",
       "</style>\n",
       "<table border=\"1\" class=\"dataframe\">\n",
       "  <thead>\n",
       "    <tr style=\"text-align: right;\">\n",
       "      <th></th>\n",
       "      <th>leafId</th>\n",
       "      <th>numRules</th>\n",
       "      <th>groupSizeDist</th>\n",
       "      <th>placementDist</th>\n",
       "      <th>colocateNumHostsPerLeaf</th>\n",
       "      <th>seed</th>\n",
       "      <th>algorithm</th>\n",
       "      <th>numBitmaps</th>\n",
       "      <th>numLeafsPerBitmap</th>\n",
       "      <th>redundancyPerBitmap</th>\n",
       "      <th>numRulesPerLeaf</th>\n",
       "    </tr>\n",
       "  </thead>\n",
       "  <tbody>\n",
       "    <tr>\n",
       "      <th>0</th>\n",
       "      <td>0</td>\n",
       "      <td>10000</td>\n",
       "      <td>uniform</td>\n",
       "      <td>colocate-random-random</td>\n",
       "      <td>12</td>\n",
       "      <td>0</td>\n",
       "      <td>exact-match</td>\n",
       "      <td>10</td>\n",
       "      <td>3</td>\n",
       "      <td>0</td>\n",
       "      <td>10000</td>\n",
       "    </tr>\n",
       "    <tr>\n",
       "      <th>1</th>\n",
       "      <td>1</td>\n",
       "      <td>10000</td>\n",
       "      <td>uniform</td>\n",
       "      <td>colocate-random-random</td>\n",
       "      <td>12</td>\n",
       "      <td>0</td>\n",
       "      <td>exact-match</td>\n",
       "      <td>10</td>\n",
       "      <td>3</td>\n",
       "      <td>0</td>\n",
       "      <td>10000</td>\n",
       "    </tr>\n",
       "  </tbody>\n",
       "</table>\n",
       "</div>"
      ],
      "text/plain": [
       "   leafId  numRules groupSizeDist           placementDist  \\\n",
       "0       0     10000       uniform  colocate-random-random   \n",
       "1       1     10000       uniform  colocate-random-random   \n",
       "\n",
       "  colocateNumHostsPerLeaf  seed    algorithm  numBitmaps  numLeafsPerBitmap  \\\n",
       "0                      12     0  exact-match          10                  3   \n",
       "1                      12     0  exact-match          10                  3   \n",
       "\n",
       "   redundancyPerBitmap  numRulesPerLeaf  \n",
       "0                    0            10000  \n",
       "1                    0            10000  "
      ]
     },
     "execution_count": 9,
     "metadata": {},
     "output_type": "execute_result"
    }
   ],
   "source": [
    "ruleCountPerLeaf.head(2)"
   ]
  },
  {
   "cell_type": "code",
   "execution_count": 10,
   "metadata": {
    "collapsed": false
   },
   "outputs": [],
   "source": [
    "plotRuleCountPerLeaf = ruleCountPerLeaf[ruleCountPerLeaf['numRulesPerLeaf'] != 32000]"
   ]
  },
  {
   "cell_type": "code",
   "execution_count": 12,
   "metadata": {
    "collapsed": true
   },
   "outputs": [],
   "source": [
    "plotRuleCountPerLeaf.to_csv(directory + 'rule_count_per_leaf.csv', index=False)"
   ]
  },
  {
   "cell_type": "code",
   "execution_count": 11,
   "metadata": {
    "collapsed": false
   },
   "outputs": [],
   "source": [
    "# %%R -i plotRuleCountPerLeaf\n",
    "# plt <- ggplot(plotRuleCountPerLeaf) +\n",
    "#    geom_boxplot(aes(y=numRules, x=factor(numBitmaps), \n",
    "#                     fill=interaction(algorithm, numLeafsPerBitmap, redundancyPerBitmap)),\n",
    "#                 outlier.size=0.5) +\n",
    "#    facet_grid(groupSizeDist * numRulesPerLeaf ~ colocateNumHostsPerLeaf) +\n",
    "#    xlab(\"Number of bitmaps\") +\n",
    "#    ylab(\"Number of rules\") +\n",
    "#    plotTheme\n",
    "# ggsave(plt, file=\"rule_count_per_leaf.pdf\", height=5, width=7)"
   ]
  },
  {
   "cell_type": "code",
   "execution_count": null,
   "metadata": {
    "collapsed": true
   },
   "outputs": [],
   "source": []
  },
  {
   "cell_type": "code",
   "execution_count": 19,
   "metadata": {
    "collapsed": true
   },
   "outputs": [],
   "source": [
    "groupCountPerTenant = DataSetAsDataFrame('group_count_per_tenant.csv', \n",
    "                                         folders, ['tenantId', 'groupCount'])"
   ]
  },
  {
   "cell_type": "code",
   "execution_count": 22,
   "metadata": {
    "collapsed": false
   },
   "outputs": [
    {
     "data": {
      "text/html": [
       "<div>\n",
       "<style scoped>\n",
       "    .dataframe tbody tr th:only-of-type {\n",
       "        vertical-align: middle;\n",
       "    }\n",
       "\n",
       "    .dataframe tbody tr th {\n",
       "        vertical-align: top;\n",
       "    }\n",
       "\n",
       "    .dataframe thead th {\n",
       "        text-align: right;\n",
       "    }\n",
       "</style>\n",
       "<table border=\"1\" class=\"dataframe\">\n",
       "  <thead>\n",
       "    <tr style=\"text-align: right;\">\n",
       "      <th></th>\n",
       "      <th>tenantId</th>\n",
       "      <th>groupCount</th>\n",
       "      <th>groupSizeDist</th>\n",
       "      <th>placementDist</th>\n",
       "      <th>colocateNumHostsPerLeaf</th>\n",
       "      <th>seed</th>\n",
       "      <th>algorithm</th>\n",
       "      <th>numBitmaps</th>\n",
       "      <th>numLeafsPerBitmap</th>\n",
       "      <th>redundancyPerBitmap</th>\n",
       "      <th>numRulesPerLeaf</th>\n",
       "    </tr>\n",
       "  </thead>\n",
       "  <tbody>\n",
       "    <tr>\n",
       "      <th>0</th>\n",
       "      <td>0</td>\n",
       "      <td>341</td>\n",
       "      <td>uniform</td>\n",
       "      <td>colocate-random-random</td>\n",
       "      <td>12</td>\n",
       "      <td>0</td>\n",
       "      <td>exact-match</td>\n",
       "      <td>10</td>\n",
       "      <td>3</td>\n",
       "      <td>0</td>\n",
       "      <td>10000</td>\n",
       "    </tr>\n",
       "    <tr>\n",
       "      <th>1</th>\n",
       "      <td>1</td>\n",
       "      <td>85</td>\n",
       "      <td>uniform</td>\n",
       "      <td>colocate-random-random</td>\n",
       "      <td>12</td>\n",
       "      <td>0</td>\n",
       "      <td>exact-match</td>\n",
       "      <td>10</td>\n",
       "      <td>3</td>\n",
       "      <td>0</td>\n",
       "      <td>10000</td>\n",
       "    </tr>\n",
       "  </tbody>\n",
       "</table>\n",
       "</div>"
      ],
      "text/plain": [
       "   tenantId  groupCount groupSizeDist           placementDist  \\\n",
       "0         0         341       uniform  colocate-random-random   \n",
       "1         1          85       uniform  colocate-random-random   \n",
       "\n",
       "  colocateNumHostsPerLeaf  seed    algorithm  numBitmaps  numLeafsPerBitmap  \\\n",
       "0                      12     0  exact-match          10                  3   \n",
       "1                      12     0  exact-match          10                  3   \n",
       "\n",
       "   redundancyPerBitmap  numRulesPerLeaf  \n",
       "0                    0            10000  \n",
       "1                    0            10000  "
      ]
     },
     "execution_count": 22,
     "metadata": {},
     "output_type": "execute_result"
    }
   ],
   "source": [
    "groupCountPerTenant.head(2)"
   ]
  },
  {
   "cell_type": "code",
   "execution_count": 27,
   "metadata": {
    "collapsed": false
   },
   "outputs": [
    {
     "data": {
      "text/plain": [
       "count    3000.000000\n",
       "mean      332.833333\n",
       "std       802.921490\n",
       "min        18.000000\n",
       "25%        85.000000\n",
       "50%       179.000000\n",
       "75%       337.000000\n",
       "max      9272.000000\n",
       "Name: groupCount, dtype: float64"
      ]
     },
     "execution_count": 27,
     "metadata": {},
     "output_type": "execute_result"
    }
   ],
   "source": [
    "# groupCountPerTenant[\n",
    "#     (groupCountPerTenant['algorithm'] == 'exact-match') &\n",
    "#     (groupCountPerTenant['groupSizeDist'] == 'wve') &\n",
    "#     (groupCountPerTenant['colocateNumHostsPerLeaf'] == '48') & \n",
    "#     (groupCountPerTenant['numBitmaps'] == 10) & \n",
    "#     (groupCountPerTenant['numLeafsPerBitmap'] == 3) &\n",
    "#     (groupCountPerTenant['numRulesPerLeaf'] == 10000)\n",
    "# ]['groupCount'].quantile([0.0, 0.5, 0.99, 0.999, 0.9999, 1.0])\n",
    "groupCountPerTenant[\n",
    "    (groupCountPerTenant['algorithm'] == 'exact-match') &\n",
    "    (groupCountPerTenant['groupSizeDist'] == 'wve') &\n",
    "    (groupCountPerTenant['colocateNumHostsPerLeaf'] == '48') & \n",
    "    (groupCountPerTenant['numBitmaps'] == 10) & \n",
    "    (groupCountPerTenant['numLeafsPerBitmap'] == 3) &\n",
    "    (groupCountPerTenant['numRulesPerLeaf'] == 10000)\n",
    "]['groupCount'].describe()"
   ]
  },
  {
   "cell_type": "code",
   "execution_count": null,
   "metadata": {
    "collapsed": true
   },
   "outputs": [],
   "source": []
  },
  {
   "cell_type": "code",
   "execution_count": 28,
   "metadata": {
    "collapsed": true
   },
   "outputs": [],
   "source": [
    "vmCountPerTenant = DataSetAsDataFrame('vm_count_per_tenant.csv', \n",
    "                                      folders, \n",
    "                                      ['tenantId', 'vmCount'])"
   ]
  },
  {
   "cell_type": "code",
   "execution_count": 19,
   "metadata": {
    "collapsed": false
   },
   "outputs": [
    {
     "data": {
      "text/html": [
       "<div>\n",
       "<style>\n",
       "    .dataframe thead tr:only-child th {\n",
       "        text-align: right;\n",
       "    }\n",
       "\n",
       "    .dataframe thead th {\n",
       "        text-align: left;\n",
       "    }\n",
       "\n",
       "    .dataframe tbody tr th {\n",
       "        vertical-align: top;\n",
       "    }\n",
       "</style>\n",
       "<table border=\"1\" class=\"dataframe\">\n",
       "  <thead>\n",
       "    <tr style=\"text-align: right;\">\n",
       "      <th></th>\n",
       "      <th>tenantId</th>\n",
       "      <th>vmCount</th>\n",
       "      <th>groupSizeDist</th>\n",
       "      <th>placementDist</th>\n",
       "      <th>colocateNumHostsPerLeaf</th>\n",
       "      <th>seed</th>\n",
       "      <th>algorithm</th>\n",
       "      <th>numBitmaps</th>\n",
       "      <th>numLeafsPerBitmap</th>\n",
       "      <th>redundancyPerBitmap</th>\n",
       "      <th>numRulesPerLeaf</th>\n",
       "    </tr>\n",
       "  </thead>\n",
       "  <tbody>\n",
       "    <tr>\n",
       "      <th>0</th>\n",
       "      <td>0</td>\n",
       "      <td>184</td>\n",
       "      <td>uniform</td>\n",
       "      <td>colocate-random-random</td>\n",
       "      <td>12</td>\n",
       "      <td>0</td>\n",
       "      <td>exact-match</td>\n",
       "      <td>10</td>\n",
       "      <td>1</td>\n",
       "      <td>0</td>\n",
       "      <td>10000</td>\n",
       "    </tr>\n",
       "    <tr>\n",
       "      <th>1</th>\n",
       "      <td>1</td>\n",
       "      <td>46</td>\n",
       "      <td>uniform</td>\n",
       "      <td>colocate-random-random</td>\n",
       "      <td>12</td>\n",
       "      <td>0</td>\n",
       "      <td>exact-match</td>\n",
       "      <td>10</td>\n",
       "      <td>1</td>\n",
       "      <td>0</td>\n",
       "      <td>10000</td>\n",
       "    </tr>\n",
       "  </tbody>\n",
       "</table>\n",
       "</div>"
      ],
      "text/plain": [
       "   tenantId  vmCount groupSizeDist           placementDist  \\\n",
       "0         0      184       uniform  colocate-random-random   \n",
       "1         1       46       uniform  colocate-random-random   \n",
       "\n",
       "   colocateNumHostsPerLeaf  seed    algorithm  numBitmaps  numLeafsPerBitmap  \\\n",
       "0                       12     0  exact-match          10                  1   \n",
       "1                       12     0  exact-match          10                  1   \n",
       "\n",
       "   redundancyPerBitmap  numRulesPerLeaf  \n",
       "0                    0            10000  \n",
       "1                    0            10000  "
      ]
     },
     "execution_count": 19,
     "metadata": {},
     "output_type": "execute_result"
    }
   ],
   "source": [
    "vmCountPerTenant.head(2)"
   ]
  },
  {
   "cell_type": "code",
   "execution_count": 32,
   "metadata": {
    "collapsed": false
   },
   "outputs": [
    {
     "data": {
      "text/plain": [
       "count    3000.000000\n",
       "mean      179.701000\n",
       "std       432.859193\n",
       "min        10.000000\n",
       "25%        46.000000\n",
       "50%        97.000000\n",
       "75%       182.000000\n",
       "max      4999.000000\n",
       "Name: vmCount, dtype: float64"
      ]
     },
     "execution_count": 32,
     "metadata": {},
     "output_type": "execute_result"
    }
   ],
   "source": [
    "# vmCountPerTenant[\n",
    "#     (vmCountPerTenant['algorithm'] == 'exact-match') & \n",
    "#     (vmCountPerTenant['groupSizeDist'] == 'wve') & \n",
    "#     (vmCountPerTenant['colocateNumHostsPerLeaf'] == '24') & \n",
    "#     (vmCountPerTenant['numBitmaps'] == 10) & \n",
    "#     (vmCountPerTenant['numLeafsPerBitmap'] == 3) &\n",
    "#     (vmCountPerTenant['numRulesPerLeaf'] == 10000)\n",
    "# ]['vmCount'].quantile([0.0, 0.5, 0.99, 0.999, 0.9999, 1.0])\n",
    "vmCountPerTenant[\n",
    "    (vmCountPerTenant['algorithm'] == 'exact-match') & \n",
    "    (vmCountPerTenant['groupSizeDist'] == 'wve') & \n",
    "    (vmCountPerTenant['colocateNumHostsPerLeaf'] == '24') & \n",
    "    (vmCountPerTenant['numBitmaps'] == 10) & \n",
    "    (vmCountPerTenant['numLeafsPerBitmap'] == 3) &\n",
    "    (vmCountPerTenant['numRulesPerLeaf'] == 10000)\n",
    "]['vmCount'].describe()"
   ]
  },
  {
   "cell_type": "code",
   "execution_count": null,
   "metadata": {
    "collapsed": true
   },
   "outputs": [],
   "source": []
  },
  {
   "cell_type": "code",
   "execution_count": 8,
   "metadata": {
    "collapsed": true
   },
   "outputs": [],
   "source": [
    "groupSizePerGroupPerTenant = DataSetAsDataFrame('group_size_per_group_per_tenant.csv', \n",
    "                                                folders, ['groupId', 'groupSize'])"
   ]
  },
  {
   "cell_type": "code",
   "execution_count": 12,
   "metadata": {
    "collapsed": false
   },
   "outputs": [
    {
     "data": {
      "text/html": [
       "<div>\n",
       "<style scoped>\n",
       "    .dataframe tbody tr th:only-of-type {\n",
       "        vertical-align: middle;\n",
       "    }\n",
       "\n",
       "    .dataframe tbody tr th {\n",
       "        vertical-align: top;\n",
       "    }\n",
       "\n",
       "    .dataframe thead th {\n",
       "        text-align: right;\n",
       "    }\n",
       "</style>\n",
       "<table border=\"1\" class=\"dataframe\">\n",
       "  <thead>\n",
       "    <tr style=\"text-align: right;\">\n",
       "      <th></th>\n",
       "      <th>groupId</th>\n",
       "      <th>groupSize</th>\n",
       "      <th>groupSizeDist</th>\n",
       "      <th>placementDist</th>\n",
       "      <th>colocateNumHostsPerLeaf</th>\n",
       "      <th>seed</th>\n",
       "      <th>algorithm</th>\n",
       "      <th>numBitmaps</th>\n",
       "      <th>numLeafsPerBitmap</th>\n",
       "      <th>redundancyPerBitmap</th>\n",
       "      <th>numRulesPerLeaf</th>\n",
       "    </tr>\n",
       "  </thead>\n",
       "  <tbody>\n",
       "    <tr>\n",
       "      <th>0</th>\n",
       "      <td>0</td>\n",
       "      <td>103</td>\n",
       "      <td>uniform</td>\n",
       "      <td>colocate-random-random</td>\n",
       "      <td>12</td>\n",
       "      <td>0</td>\n",
       "      <td>exact-match</td>\n",
       "      <td>10</td>\n",
       "      <td>3</td>\n",
       "      <td>0</td>\n",
       "      <td>10000</td>\n",
       "    </tr>\n",
       "    <tr>\n",
       "      <th>1</th>\n",
       "      <td>1</td>\n",
       "      <td>107</td>\n",
       "      <td>uniform</td>\n",
       "      <td>colocate-random-random</td>\n",
       "      <td>12</td>\n",
       "      <td>0</td>\n",
       "      <td>exact-match</td>\n",
       "      <td>10</td>\n",
       "      <td>3</td>\n",
       "      <td>0</td>\n",
       "      <td>10000</td>\n",
       "    </tr>\n",
       "  </tbody>\n",
       "</table>\n",
       "</div>"
      ],
      "text/plain": [
       "   groupId  groupSize groupSizeDist           placementDist  \\\n",
       "0        0        103       uniform  colocate-random-random   \n",
       "1        1        107       uniform  colocate-random-random   \n",
       "\n",
       "  colocateNumHostsPerLeaf  seed    algorithm  numBitmaps  numLeafsPerBitmap  \\\n",
       "0                      12     0  exact-match          10                  3   \n",
       "1                      12     0  exact-match          10                  3   \n",
       "\n",
       "   redundancyPerBitmap  numRulesPerLeaf  \n",
       "0                    0            10000  \n",
       "1                    0            10000  "
      ]
     },
     "execution_count": 12,
     "metadata": {},
     "output_type": "execute_result"
    }
   ],
   "source": [
    "groupSizePerGroupPerTenant.head(2)"
   ]
  },
  {
   "cell_type": "code",
   "execution_count": 10,
   "metadata": {
    "collapsed": false
   },
   "outputs": [
    {
     "data": {
      "text/plain": [
       "groupSizeDist        \n",
       "uniform        0.0000       5.000\n",
       "               0.5000     141.000\n",
       "               0.8000     977.000\n",
       "               0.9900    4291.000\n",
       "               0.9910    4346.000\n",
       "               0.9920    4400.000\n",
       "               0.9930    4458.000\n",
       "               0.9940    4512.000\n",
       "               0.9950    4566.000\n",
       "               0.9960    4621.000\n",
       "               0.9990    4834.000\n",
       "               0.9999    4972.000\n",
       "               1.0000    4999.000\n",
       "wve            0.0000       5.000\n",
       "               0.5000      12.000\n",
       "               0.8000      61.000\n",
       "               0.9900     390.000\n",
       "               0.9910     417.000\n",
       "               0.9920     457.000\n",
       "               0.9930     520.000\n",
       "               0.9940     694.000\n",
       "               0.9950    2395.505\n",
       "               0.9960    3146.000\n",
       "               0.9990    4742.000\n",
       "               0.9999    4962.000\n",
       "               1.0000    4998.000\n",
       "Name: groupSize, dtype: float64"
      ]
     },
     "execution_count": 10,
     "metadata": {},
     "output_type": "execute_result"
    }
   ],
   "source": [
    "groupSizePerGroupPerTenant[\n",
    "    (groupSizePerGroupPerTenant['algorithm'] == 'exact-match') &\n",
    "    (groupSizePerGroupPerTenant['colocateNumHostsPerLeaf'] == '24') & \n",
    "    (groupSizePerGroupPerTenant['numBitmaps'] == 10) & \n",
    "    (groupSizePerGroupPerTenant['numLeafsPerBitmap'] == 3) &\n",
    "    (groupSizePerGroupPerTenant['numRulesPerLeaf'] == 10000)\n",
    "].groupby('groupSizeDist')['groupSize'].quantile(\n",
    "    [0.0, 0.5, 0.8, 0.99, 0.991, 0.992, 0.993, 0.994, 0.995, 0.996, 0.999, 0.9999, 1.0])"
   ]
  },
  {
   "cell_type": "code",
   "execution_count": 11,
   "metadata": {
    "collapsed": true
   },
   "outputs": [],
   "source": [
    "plotGroupSizePerGroupPerTenant = groupSizePerGroupPerTenant[\n",
    "    (groupSizePerGroupPerTenant['algorithm'] == 'exact-match') &\n",
    "    (groupSizePerGroupPerTenant['colocateNumHostsPerLeaf'] == '24') & \n",
    "    (groupSizePerGroupPerTenant['numBitmaps'] == 10) & \n",
    "    (groupSizePerGroupPerTenant['numLeafsPerBitmap'] == 3) &\n",
    "    (groupSizePerGroupPerTenant['numRulesPerLeaf'] == 10000)]"
   ]
  },
  {
   "cell_type": "code",
   "execution_count": 13,
   "metadata": {
    "collapsed": true
   },
   "outputs": [],
   "source": [
    "plotGroupSizePerGroupPerTenant.to_csv(directory + 'group_size_per_group_per_tenant.csv', index=False)"
   ]
  },
  {
   "cell_type": "code",
   "execution_count": null,
   "metadata": {
    "collapsed": true
   },
   "outputs": [],
   "source": []
  },
  {
   "cell_type": "code",
   "execution_count": 9,
   "metadata": {
    "collapsed": false
   },
   "outputs": [],
   "source": [
    "groupsCoveredWithBitmapsOnly = DataSetAsDataFrame('groups_covered_with_bitmaps_only.csv', \n",
    "                                                  folders, \n",
    "                                                  ['index', 'groupsCovered', 'groupsCoveredWithoutDefaultBitmap'],\n",
    "                                                  header=0)"
   ]
  },
  {
   "cell_type": "code",
   "execution_count": 10,
   "metadata": {
    "collapsed": true
   },
   "outputs": [],
   "source": [
    "plotGroupsCoveredWithBitmapsOnly = groupsCoveredWithBitmapsOnly[\n",
    "    groupsCoveredWithBitmapsOnly['numRulesPerLeaf'] != 32000]"
   ]
  },
  {
   "cell_type": "code",
   "execution_count": 11,
   "metadata": {
    "collapsed": true
   },
   "outputs": [],
   "source": [
    "plotGroupsCoveredWithBitmapsOnly.to_csv(directory + 'groups_covered_with_bitmaps_only.csv', index=False)"
   ]
  },
  {
   "cell_type": "code",
   "execution_count": null,
   "metadata": {
    "collapsed": true
   },
   "outputs": [],
   "source": [
    "# %%R -i plotGroupsCoveredWithBitmapsOnly\n",
    "# plt <- ggplot(plotGroupsCoveredWithBitmapsOnly) +\n",
    "#    geom_bar(aes(y=groupsCoveredWithoutDefaultBitmap, x=factor(numBitmaps), \n",
    "#                 fill=interaction(algorithm, numLeafsPerBitmap, redundancyPerBitmap)),\n",
    "#             stat=\"identity\",position=position_dodge()) +\n",
    "#    facet_grid(groupSizeDist * numRulesPerLeaf ~ colocateNumHostsPerLeaf) +\n",
    "#    xlab(\"Number of bitmaps\") +\n",
    "#    ylab(\"Groups covered (without default bitmap)\") +\n",
    "#    plotTheme\n",
    "# ggsave(plt, file=\"groups_covered_with_bitmaps_only.pdf\")"
   ]
  },
  {
   "cell_type": "code",
   "execution_count": 8,
   "metadata": {
    "collapsed": true
   },
   "outputs": [],
   "source": []
  },
  {
   "cell_type": "code",
   "execution_count": 30,
   "metadata": {
    "collapsed": true
   },
   "outputs": [],
   "source": [
    "# trafficOverhead = DataSetAsDataFrame('traffic_overhead.csv', \n",
    "#                                      folders, \n",
    "#                                      ['index', 'trafficOverhead'])"
   ]
  },
  {
   "cell_type": "code",
   "execution_count": 9,
   "metadata": {
    "collapsed": false
   },
   "outputs": [],
   "source": [
    "# %%R -i trafficOverhead\n",
    "# ggplot(trafficOverhead) +\n",
    "#    geom_bar(aes(y=trafficOverhead, x=factor(numBitmaps), \n",
    "#                 fill=interaction(algorithm, numLeafsPerBitmap, redundancyPerBitmap)),\n",
    "#             stat=\"identity\",position=position_dodge()) +\n",
    "#    facet_grid(groupSizeDist * numRulesPerLeaf ~ colocateNumHostsPerLeaf) +\n",
    "#    xlab(\"Number of bitmaps\") +\n",
    "#    ylab(\"Traffic Overhead\") +\n",
    "#    plotTheme"
   ]
  },
  {
   "cell_type": "code",
   "execution_count": null,
   "metadata": {
    "collapsed": true
   },
   "outputs": [],
   "source": []
  },
  {
   "cell_type": "code",
   "execution_count": 8,
   "metadata": {
    "collapsed": false
   },
   "outputs": [],
   "source": [
    "leafSpineTraffic = DataSetAsDataFrame('leaf_spine_traffic_per_group_per_tenant.csv', \n",
    "                                      folders, \n",
    "                                      ['groupId', 'multicastTraffic', 'unicastTraffic', 'overlayTraffic',\n",
    "                                       'baseeratTraffic'],\n",
    "                                       header=0)"
   ]
  },
  {
   "cell_type": "code",
   "execution_count": 9,
   "metadata": {
    "collapsed": false
   },
   "outputs": [
    {
     "data": {
      "text/html": [
       "<div>\n",
       "<style scoped>\n",
       "    .dataframe tbody tr th:only-of-type {\n",
       "        vertical-align: middle;\n",
       "    }\n",
       "\n",
       "    .dataframe tbody tr th {\n",
       "        vertical-align: top;\n",
       "    }\n",
       "\n",
       "    .dataframe thead th {\n",
       "        text-align: right;\n",
       "    }\n",
       "</style>\n",
       "<table border=\"1\" class=\"dataframe\">\n",
       "  <thead>\n",
       "    <tr style=\"text-align: right;\">\n",
       "      <th></th>\n",
       "      <th>groupId</th>\n",
       "      <th>multicastTraffic</th>\n",
       "      <th>unicastTraffic</th>\n",
       "      <th>overlayTraffic</th>\n",
       "      <th>baseeratTraffic</th>\n",
       "      <th>groupSizeDist</th>\n",
       "      <th>placementDist</th>\n",
       "      <th>colocateNumHostsPerLeaf</th>\n",
       "      <th>seed</th>\n",
       "      <th>algorithm</th>\n",
       "      <th>numBitmaps</th>\n",
       "      <th>numLeafsPerBitmap</th>\n",
       "      <th>redundancyPerBitmap</th>\n",
       "      <th>numRulesPerLeaf</th>\n",
       "    </tr>\n",
       "  </thead>\n",
       "  <tbody>\n",
       "    <tr>\n",
       "      <th>0</th>\n",
       "      <td>0</td>\n",
       "      <td>121</td>\n",
       "      <td>412</td>\n",
       "      <td>238</td>\n",
       "      <td>121</td>\n",
       "      <td>uniform</td>\n",
       "      <td>colocate-random-random</td>\n",
       "      <td>12</td>\n",
       "      <td>0</td>\n",
       "      <td>exact-match</td>\n",
       "      <td>10</td>\n",
       "      <td>3</td>\n",
       "      <td>0</td>\n",
       "      <td>10000</td>\n",
       "    </tr>\n",
       "    <tr>\n",
       "      <th>1</th>\n",
       "      <td>1</td>\n",
       "      <td>125</td>\n",
       "      <td>428</td>\n",
       "      <td>246</td>\n",
       "      <td>125</td>\n",
       "      <td>uniform</td>\n",
       "      <td>colocate-random-random</td>\n",
       "      <td>12</td>\n",
       "      <td>0</td>\n",
       "      <td>exact-match</td>\n",
       "      <td>10</td>\n",
       "      <td>3</td>\n",
       "      <td>0</td>\n",
       "      <td>10000</td>\n",
       "    </tr>\n",
       "  </tbody>\n",
       "</table>\n",
       "</div>"
      ],
      "text/plain": [
       "   groupId  multicastTraffic  unicastTraffic  overlayTraffic  baseeratTraffic  \\\n",
       "0        0               121             412             238              121   \n",
       "1        1               125             428             246              125   \n",
       "\n",
       "  groupSizeDist           placementDist colocateNumHostsPerLeaf  seed  \\\n",
       "0       uniform  colocate-random-random                      12     0   \n",
       "1       uniform  colocate-random-random                      12     0   \n",
       "\n",
       "     algorithm  numBitmaps  numLeafsPerBitmap  redundancyPerBitmap  \\\n",
       "0  exact-match          10                  3                    0   \n",
       "1  exact-match          10                  3                    0   \n",
       "\n",
       "   numRulesPerLeaf  \n",
       "0            10000  \n",
       "1            10000  "
      ]
     },
     "execution_count": 9,
     "metadata": {},
     "output_type": "execute_result"
    }
   ],
   "source": [
    "leafSpineTraffic.head(2)"
   ]
  },
  {
   "cell_type": "code",
   "execution_count": 10,
   "metadata": {
    "collapsed": false
   },
   "outputs": [],
   "source": [
    "# leafSpineTraffic.to_csv(directory + 'leaf_spine_traffic_per_group_per_tenant.csv', index=False)"
   ]
  },
  {
   "cell_type": "code",
   "execution_count": null,
   "metadata": {
    "collapsed": true
   },
   "outputs": [],
   "source": []
  },
  {
   "cell_type": "code",
   "execution_count": 11,
   "metadata": {
    "collapsed": true
   },
   "outputs": [],
   "source": [
    "leafSpineOverhead = leafSpineTraffic.groupby([\n",
    "    'groupSizeDist', 'placementDist', 'colocateNumHostsPerLeaf', 'algorithm', 'numBitmaps', 'numLeafsPerBitmap', \n",
    "    'redundancyPerBitmap', 'numRulesPerLeaf', 'seed'])[\n",
    "    ['unicastTraffic', 'multicastTraffic', 'baseeratTraffic', 'overlayTraffic']].agg('sum')\n",
    "leafSpineOverhead.reset_index(inplace=True)"
   ]
  },
  {
   "cell_type": "code",
   "execution_count": 12,
   "metadata": {
    "collapsed": false
   },
   "outputs": [
    {
     "data": {
      "text/html": [
       "<div>\n",
       "<style scoped>\n",
       "    .dataframe tbody tr th:only-of-type {\n",
       "        vertical-align: middle;\n",
       "    }\n",
       "\n",
       "    .dataframe tbody tr th {\n",
       "        vertical-align: top;\n",
       "    }\n",
       "\n",
       "    .dataframe thead th {\n",
       "        text-align: right;\n",
       "    }\n",
       "</style>\n",
       "<table border=\"1\" class=\"dataframe\">\n",
       "  <thead>\n",
       "    <tr style=\"text-align: right;\">\n",
       "      <th></th>\n",
       "      <th>groupSizeDist</th>\n",
       "      <th>placementDist</th>\n",
       "      <th>colocateNumHostsPerLeaf</th>\n",
       "      <th>algorithm</th>\n",
       "      <th>numBitmaps</th>\n",
       "      <th>numLeafsPerBitmap</th>\n",
       "      <th>redundancyPerBitmap</th>\n",
       "      <th>numRulesPerLeaf</th>\n",
       "      <th>seed</th>\n",
       "      <th>unicastTraffic</th>\n",
       "      <th>multicastTraffic</th>\n",
       "      <th>baseeratTraffic</th>\n",
       "      <th>overlayTraffic</th>\n",
       "    </tr>\n",
       "  </thead>\n",
       "  <tbody>\n",
       "    <tr>\n",
       "      <th>0</th>\n",
       "      <td>uniform</td>\n",
       "      <td>colocate-random-random</td>\n",
       "      <td>12</td>\n",
       "      <td>exact-match</td>\n",
       "      <td>10</td>\n",
       "      <td>3</td>\n",
       "      <td>0</td>\n",
       "      <td>10000</td>\n",
       "      <td>0</td>\n",
       "      <td>2345430212</td>\n",
       "      <td>664912636</td>\n",
       "      <td>3022179814</td>\n",
       "      <td>1325831272</td>\n",
       "    </tr>\n",
       "    <tr>\n",
       "      <th>1</th>\n",
       "      <td>uniform</td>\n",
       "      <td>colocate-random-random</td>\n",
       "      <td>12</td>\n",
       "      <td>exact-match</td>\n",
       "      <td>10</td>\n",
       "      <td>3</td>\n",
       "      <td>0</td>\n",
       "      <td>32000</td>\n",
       "      <td>0</td>\n",
       "      <td>2345430212</td>\n",
       "      <td>664912636</td>\n",
       "      <td>2524882904</td>\n",
       "      <td>1325831272</td>\n",
       "    </tr>\n",
       "  </tbody>\n",
       "</table>\n",
       "</div>"
      ],
      "text/plain": [
       "  groupSizeDist           placementDist colocateNumHostsPerLeaf    algorithm  \\\n",
       "0       uniform  colocate-random-random                      12  exact-match   \n",
       "1       uniform  colocate-random-random                      12  exact-match   \n",
       "\n",
       "   numBitmaps  numLeafsPerBitmap  redundancyPerBitmap  numRulesPerLeaf  seed  \\\n",
       "0          10                  3                    0            10000     0   \n",
       "1          10                  3                    0            32000     0   \n",
       "\n",
       "   unicastTraffic  multicastTraffic  baseeratTraffic  overlayTraffic  \n",
       "0      2345430212         664912636       3022179814      1325831272  \n",
       "1      2345430212         664912636       2524882904      1325831272  "
      ]
     },
     "execution_count": 12,
     "metadata": {},
     "output_type": "execute_result"
    }
   ],
   "source": [
    "leafSpineOverhead.head(2)"
   ]
  },
  {
   "cell_type": "code",
   "execution_count": 15,
   "metadata": {
    "collapsed": true
   },
   "outputs": [],
   "source": [
    "plotLeafSpineOverhead = leafSpineOverhead[leafSpineOverhead['numRulesPerLeaf'] != 32000]"
   ]
  },
  {
   "cell_type": "code",
   "execution_count": 16,
   "metadata": {
    "collapsed": true
   },
   "outputs": [],
   "source": [
    "plotLeafSpineOverhead.to_csv(directory + 'leaf_spine_overhead_per_group_per_tenant.csv', index=False)"
   ]
  },
  {
   "cell_type": "code",
   "execution_count": null,
   "metadata": {
    "collapsed": true
   },
   "outputs": [],
   "source": []
  }
 ],
 "metadata": {
  "kernelspec": {
   "display_name": "Python 3",
   "language": "python",
   "name": "python3"
  },
  "language_info": {
   "codemirror_mode": {
    "name": "ipython",
    "version": 3
   },
   "file_extension": ".py",
   "mimetype": "text/x-python",
   "name": "python",
   "nbconvert_exporter": "python",
   "pygments_lexer": "ipython3",
   "version": "3.5.2"
  }
 },
 "nbformat": 4,
 "nbformat_minor": 2
}
