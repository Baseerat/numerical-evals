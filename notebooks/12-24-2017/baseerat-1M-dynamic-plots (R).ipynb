{
 "cells": [
  {
   "cell_type": "code",
   "execution_count": 1,
   "metadata": {
    "collapsed": false
   },
   "outputs": [
    {
     "name": "stderr",
     "output_type": "stream",
     "text": [
      "Loading required package: ggplot2\n",
      "Loading required package: data.table\n",
      "Loading required package: Hmisc\n",
      "Loading required package: lattice\n",
      "Loading required package: survival\n",
      "Loading required package: Formula\n",
      "\n",
      "Attaching package: ‘Hmisc’\n",
      "\n",
      "The following objects are masked from ‘package:base’:\n",
      "\n",
      "    format.pval, round.POSIXt, trunc.POSIXt, units\n",
      "\n"
     ]
    }
   ],
   "source": [
    "require(ggplot2)\n",
    "require(data.table)\n",
    "require(Hmisc)"
   ]
  },
  {
   "cell_type": "code",
   "execution_count": 2,
   "metadata": {
    "collapsed": false
   },
   "outputs": [],
   "source": [
    "# install.packages('bit64')"
   ]
  },
  {
   "cell_type": "code",
   "execution_count": null,
   "metadata": {
    "collapsed": true
   },
   "outputs": [],
   "source": []
  },
  {
   "cell_type": "code",
   "execution_count": 3,
   "metadata": {
    "collapsed": true
   },
   "outputs": [],
   "source": [
    "directory = \"/mnt/sdb1/baseerat/numerical-evals/12-24-2017/logs-1M/\"\n",
    "plotTheme <- theme(legend.title=element_blank(), legend.position=\"top\", legend.text=element_text(size=6))"
   ]
  },
  {
   "cell_type": "code",
   "execution_count": null,
   "metadata": {
    "collapsed": true
   },
   "outputs": [],
   "source": []
  },
  {
   "cell_type": "code",
   "execution_count": 4,
   "metadata": {
    "collapsed": false
   },
   "outputs": [
    {
     "name": "stdout",
     "output_type": "stream",
     "text": [
      "\r",
      "Read 0.0% of 17088456 rows\r",
      "Read 4.7% of 17088456 rows\r",
      "Read 9.4% of 17088456 rows\r",
      "Read 14.2% of 17088456 rows\r",
      "Read 18.6% of 17088456 rows\r",
      "Read 23.1% of 17088456 rows\r",
      "Read 27.8% of 17088456 rows\r",
      "Read 32.7% of 17088456 rows\r",
      "Read 37.6% of 17088456 rows\r",
      "Read 42.1% of 17088456 rows\r",
      "Read 46.7% of 17088456 rows\r",
      "Read 51.3% of 17088456 rows\r",
      "Read 56.1% of 17088456 rows\r",
      "Read 60.9% of 17088456 rows\r",
      "Read 65.5% of 17088456 rows\r",
      "Read 69.9% of 17088456 rows\r",
      "Read 74.4% of 17088456 rows\r",
      "Read 79.2% of 17088456 rows\r",
      "Read 84.0% of 17088456 rows\r",
      "Read 88.8% of 17088456 rows\r",
      "Read 93.3% of 17088456 rows\r",
      "Read 97.9% of 17088456 rows\r",
      "Read 17088456 rows and 18 (of 18) columns from 1.828 GB file in 00:00:31\n"
     ]
    }
   ],
   "source": [
    "switchUpdateCount <- fread(paste(directory, \"switch_update_count.csv\", sep=\"/\"), sep=\",\", header=TRUE)"
   ]
  },
  {
   "cell_type": "code",
   "execution_count": 5,
   "metadata": {
    "collapsed": false
   },
   "outputs": [
    {
     "data": {
      "text/html": [
       "<table>\n",
       "<thead><tr><th></th><th scope=col>updates</th><th scope=col>switch</th><th scope=col>event</th><th scope=col>groupSizeDist</th><th scope=col>placementDist</th><th scope=col>placementNumHostsPerLeaf</th><th scope=col>seed</th><th scope=col>podsAlgorithm</th><th scope=col>podsNumBitmaps</th><th scope=col>podsNumNodesPerBitmap</th><th scope=col>podsRedundancyPerBitmap</th><th scope=col>podsNumRules</th><th scope=col>leafsAlgorithm</th><th scope=col>leafsNumBitmaps</th><th scope=col>leafsNumNodesPerBitmap</th><th scope=col>leafsRedundancyPerBitmap</th><th scope=col>leafsNumRules</th><th scope=col>numEvents</th></tr></thead>\n",
       "<tbody>\n",
       "\t<tr><th scope=row>1</th><td>1                 </td><td>virtual           </td><td>join              </td><td>uniform           </td><td>colocate-uniform  </td><td>uniform           </td><td>0                 </td><td>random-fuzzy-match</td><td>2                 </td><td>3                 </td><td>6                 </td><td>64000             </td><td>exact-match       </td><td>30                </td><td>3                 </td><td>0                 </td><td>64000             </td><td>1000000           </td></tr>\n",
       "\t<tr><th scope=row>2</th><td>1941              </td><td>virtual           </td><td>join              </td><td>uniform           </td><td>colocate-uniform  </td><td>uniform           </td><td>0                 </td><td>random-fuzzy-match</td><td>2                 </td><td>3                 </td><td>6                 </td><td>64000             </td><td>exact-match       </td><td>30                </td><td>3                 </td><td>0                 </td><td>64000             </td><td>1000000           </td></tr>\n",
       "\t<tr><th scope=row>3</th><td>1942              </td><td>virtual           </td><td>join              </td><td>uniform           </td><td>colocate-uniform  </td><td>uniform           </td><td>0                 </td><td>random-fuzzy-match</td><td>2                 </td><td>3                 </td><td>6                 </td><td>64000             </td><td>exact-match       </td><td>30                </td><td>3                 </td><td>0                 </td><td>64000             </td><td>1000000           </td></tr>\n",
       "\t<tr><th scope=row>4</th><td>2029              </td><td>virtual           </td><td>join              </td><td>uniform           </td><td>colocate-uniform  </td><td>uniform           </td><td>0                 </td><td>random-fuzzy-match</td><td>2                 </td><td>3                 </td><td>6                 </td><td>64000             </td><td>exact-match       </td><td>30                </td><td>3                 </td><td>0                 </td><td>64000             </td><td>1000000           </td></tr>\n",
       "\t<tr><th scope=row>5</th><td>2027              </td><td>virtual           </td><td>join              </td><td>uniform           </td><td>colocate-uniform  </td><td>uniform           </td><td>0                 </td><td>random-fuzzy-match</td><td>2                 </td><td>3                 </td><td>6                 </td><td>64000             </td><td>exact-match       </td><td>30                </td><td>3                 </td><td>0                 </td><td>64000             </td><td>1000000           </td></tr>\n",
       "\t<tr><th scope=row>6</th><td>2028              </td><td>virtual           </td><td>join              </td><td>uniform           </td><td>colocate-uniform  </td><td>uniform           </td><td>0                 </td><td>random-fuzzy-match</td><td>2                 </td><td>3                 </td><td>6                 </td><td>64000             </td><td>exact-match       </td><td>30                </td><td>3                 </td><td>0                 </td><td>64000             </td><td>1000000           </td></tr>\n",
       "</tbody>\n",
       "</table>\n"
      ],
      "text/latex": [
       "\\begin{tabular}{r|llllllllllllllllll}\n",
       "  & updates & switch & event & groupSizeDist & placementDist & placementNumHostsPerLeaf & seed & podsAlgorithm & podsNumBitmaps & podsNumNodesPerBitmap & podsRedundancyPerBitmap & podsNumRules & leafsAlgorithm & leafsNumBitmaps & leafsNumNodesPerBitmap & leafsRedundancyPerBitmap & leafsNumRules & numEvents\\\\\n",
       "\\hline\n",
       "\t1 & 1                  & virtual            & join               & uniform            & colocate-uniform   & uniform            & 0                  & random-fuzzy-match & 2                  & 3                  & 6                  & 64000              & exact-match        & 30                 & 3                  & 0                  & 64000              & 1000000           \\\\\n",
       "\t2 & 1941               & virtual            & join               & uniform            & colocate-uniform   & uniform            & 0                  & random-fuzzy-match & 2                  & 3                  & 6                  & 64000              & exact-match        & 30                 & 3                  & 0                  & 64000              & 1000000           \\\\\n",
       "\t3 & 1942               & virtual            & join               & uniform            & colocate-uniform   & uniform            & 0                  & random-fuzzy-match & 2                  & 3                  & 6                  & 64000              & exact-match        & 30                 & 3                  & 0                  & 64000              & 1000000           \\\\\n",
       "\t4 & 2029               & virtual            & join               & uniform            & colocate-uniform   & uniform            & 0                  & random-fuzzy-match & 2                  & 3                  & 6                  & 64000              & exact-match        & 30                 & 3                  & 0                  & 64000              & 1000000           \\\\\n",
       "\t5 & 2027               & virtual            & join               & uniform            & colocate-uniform   & uniform            & 0                  & random-fuzzy-match & 2                  & 3                  & 6                  & 64000              & exact-match        & 30                 & 3                  & 0                  & 64000              & 1000000           \\\\\n",
       "\t6 & 2028               & virtual            & join               & uniform            & colocate-uniform   & uniform            & 0                  & random-fuzzy-match & 2                  & 3                  & 6                  & 64000              & exact-match        & 30                 & 3                  & 0                  & 64000              & 1000000           \\\\\n",
       "\\end{tabular}\n"
      ],
      "text/plain": [
       "  updates  switch event groupSizeDist    placementDist placementNumHostsPerLeaf\n",
       "1       1 virtual  join       uniform colocate-uniform                  uniform\n",
       "2    1941 virtual  join       uniform colocate-uniform                  uniform\n",
       "3    1942 virtual  join       uniform colocate-uniform                  uniform\n",
       "4    2029 virtual  join       uniform colocate-uniform                  uniform\n",
       "5    2027 virtual  join       uniform colocate-uniform                  uniform\n",
       "6    2028 virtual  join       uniform colocate-uniform                  uniform\n",
       "  seed      podsAlgorithm podsNumBitmaps podsNumNodesPerBitmap\n",
       "1    0 random-fuzzy-match              2                     3\n",
       "2    0 random-fuzzy-match              2                     3\n",
       "3    0 random-fuzzy-match              2                     3\n",
       "4    0 random-fuzzy-match              2                     3\n",
       "5    0 random-fuzzy-match              2                     3\n",
       "6    0 random-fuzzy-match              2                     3\n",
       "  podsRedundancyPerBitmap podsNumRules leafsAlgorithm leafsNumBitmaps\n",
       "1                       6        64000    exact-match              30\n",
       "2                       6        64000    exact-match              30\n",
       "3                       6        64000    exact-match              30\n",
       "4                       6        64000    exact-match              30\n",
       "5                       6        64000    exact-match              30\n",
       "6                       6        64000    exact-match              30\n",
       "  leafsNumNodesPerBitmap leafsRedundancyPerBitmap leafsNumRules numEvents\n",
       "1                      3                        0         64000   1000000\n",
       "2                      3                        0         64000   1000000\n",
       "3                      3                        0         64000   1000000\n",
       "4                      3                        0         64000   1000000\n",
       "5                      3                        0         64000   1000000\n",
       "6                      3                        0         64000   1000000"
      ]
     },
     "metadata": {},
     "output_type": "display_data"
    }
   ],
   "source": [
    "head(switchUpdateCount)"
   ]
  },
  {
   "cell_type": "code",
   "execution_count": 6,
   "metadata": {
    "collapsed": false
   },
   "outputs": [],
   "source": [
    "plt <- ggplot(switchUpdateCount) +\n",
    "   geom_boxplot(aes(y=updates, x=factor(event), \n",
    "                    fill=interaction(leafsAlgorithm, leafsNumBitmaps, leafsNumNodesPerBitmap, leafsRedundancyPerBitmap,\n",
    "                                     leafsNumRules, placementNumHostsPerLeaf)),\n",
    "                outlier.size=0.5) +\n",
    "   facet_grid(groupSizeDist ~ factor(switch, levels=c('pod','leaf','virtual'))) +\n",
    "   xlab(\"Event Type\") +\n",
    "   ylab(\"Number of updates\") +\n",
    "   plotTheme"
   ]
  },
  {
   "cell_type": "code",
   "execution_count": 7,
   "metadata": {
    "collapsed": false
   },
   "outputs": [],
   "source": [
    "# ggsave(plt, file=\"switch_update_count.pdf\", height=5, width=7)\n",
    "ggsave(plt, file=\"switch_update_count.jpg\", height=5, width=7)"
   ]
  },
  {
   "cell_type": "code",
   "execution_count": null,
   "metadata": {
    "collapsed": true
   },
   "outputs": [],
   "source": []
  },
  {
   "cell_type": "code",
   "execution_count": 8,
   "metadata": {
    "collapsed": false
   },
   "outputs": [
    {
     "name": "stdout",
     "output_type": "stream",
     "text": [
      "\r",
      "Read 0.0% of 17088456 rows\r",
      "Read 4.2% of 17088456 rows\r",
      "Read 8.7% of 17088456 rows\r",
      "Read 13.4% of 17088456 rows\r",
      "Read 17.6% of 17088456 rows\r",
      "Read 21.8% of 17088456 rows\r",
      "Read 26.5% of 17088456 rows\r",
      "Read 31.0% of 17088456 rows\r",
      "Read 35.8% of 17088456 rows\r",
      "Read 40.4% of 17088456 rows\r",
      "Read 44.8% of 17088456 rows\r",
      "Read 49.4% of 17088456 rows\r",
      "Read 53.8% of 17088456 rows\r",
      "Read 58.3% of 17088456 rows\r",
      "Read 63.2% of 17088456 rows\r",
      "Read 67.4% of 17088456 rows\r",
      "Read 71.7% of 17088456 rows\r",
      "Read 76.3% of 17088456 rows\r",
      "Read 80.8% of 17088456 rows\r",
      "Read 85.7% of 17088456 rows\r",
      "Read 90.2% of 17088456 rows\r",
      "Read 94.7% of 17088456 rows\r",
      "Read 99.4% of 17088456 rows\r",
      "Read 17088456 rows and 18 (of 18) columns from 1.978 GB file in 00:00:29\n"
     ]
    }
   ],
   "source": [
    "switchUpdateCountNormalized <- fread(paste(directory, \"switch_update_count_normalized.csv\", sep=\"/\"), sep=\",\", header=TRUE)"
   ]
  },
  {
   "cell_type": "code",
   "execution_count": 9,
   "metadata": {
    "collapsed": false
   },
   "outputs": [
    {
     "data": {
      "text/html": [
       "<table>\n",
       "<thead><tr><th></th><th scope=col>updates</th><th scope=col>switch</th><th scope=col>event</th><th scope=col>groupSizeDist</th><th scope=col>placementDist</th><th scope=col>placementNumHostsPerLeaf</th><th scope=col>seed</th><th scope=col>podsAlgorithm</th><th scope=col>podsNumBitmaps</th><th scope=col>podsNumNodesPerBitmap</th><th scope=col>podsRedundancyPerBitmap</th><th scope=col>podsNumRules</th><th scope=col>leafsAlgorithm</th><th scope=col>leafsNumBitmaps</th><th scope=col>leafsNumNodesPerBitmap</th><th scope=col>leafsRedundancyPerBitmap</th><th scope=col>leafsNumRules</th><th scope=col>numEvents</th></tr></thead>\n",
       "<tbody>\n",
       "\t<tr><th scope=row>1</th><td>0.000259470679813181</td><td>virtual             </td><td>join                </td><td>uniform             </td><td>colocate-uniform    </td><td>uniform             </td><td>0                   </td><td>random-fuzzy-match  </td><td>2                   </td><td>3                   </td><td>6                   </td><td>64000               </td><td>exact-match         </td><td>30                  </td><td>3                   </td><td>0                   </td><td>64000               </td><td>1000000             </td></tr>\n",
       "\t<tr><th scope=row>2</th><td>0.503501945525292 </td><td>virtual           </td><td>join              </td><td>uniform           </td><td>colocate-uniform  </td><td>uniform           </td><td>0                 </td><td>random-fuzzy-match</td><td>2                 </td><td>3                 </td><td>6                 </td><td>64000             </td><td>exact-match       </td><td>30                </td><td>3                 </td><td>0                 </td><td>64000             </td><td>1000000           </td></tr>\n",
       "\t<tr><th scope=row>3</th><td>0.503630705394191 </td><td>virtual           </td><td>join              </td><td>uniform           </td><td>colocate-uniform  </td><td>uniform           </td><td>0                 </td><td>random-fuzzy-match</td><td>2                 </td><td>3                 </td><td>6                 </td><td>64000             </td><td>exact-match       </td><td>30                </td><td>3                 </td><td>0                 </td><td>64000             </td><td>1000000           </td></tr>\n",
       "\t<tr><th scope=row>4</th><td>0.523342790817642 </td><td>virtual           </td><td>join              </td><td>uniform           </td><td>colocate-uniform  </td><td>uniform           </td><td>0                 </td><td>random-fuzzy-match</td><td>2                 </td><td>3                 </td><td>6                 </td><td>64000             </td><td>exact-match       </td><td>30                </td><td>3                 </td><td>0                 </td><td>64000             </td><td>1000000           </td></tr>\n",
       "\t<tr><th scope=row>5</th><td>0.52296181630547  </td><td>virtual           </td><td>join              </td><td>uniform           </td><td>colocate-uniform  </td><td>uniform           </td><td>0                 </td><td>random-fuzzy-match</td><td>2                 </td><td>3                 </td><td>6                 </td><td>64000             </td><td>exact-match       </td><td>30                </td><td>3                 </td><td>0                 </td><td>64000             </td><td>1000000           </td></tr>\n",
       "\t<tr><th scope=row>6</th><td>0.523084859427392 </td><td>virtual           </td><td>join              </td><td>uniform           </td><td>colocate-uniform  </td><td>uniform           </td><td>0                 </td><td>random-fuzzy-match</td><td>2                 </td><td>3                 </td><td>6                 </td><td>64000             </td><td>exact-match       </td><td>30                </td><td>3                 </td><td>0                 </td><td>64000             </td><td>1000000           </td></tr>\n",
       "</tbody>\n",
       "</table>\n"
      ],
      "text/latex": [
       "\\begin{tabular}{r|llllllllllllllllll}\n",
       "  & updates & switch & event & groupSizeDist & placementDist & placementNumHostsPerLeaf & seed & podsAlgorithm & podsNumBitmaps & podsNumNodesPerBitmap & podsRedundancyPerBitmap & podsNumRules & leafsAlgorithm & leafsNumBitmaps & leafsNumNodesPerBitmap & leafsRedundancyPerBitmap & leafsNumRules & numEvents\\\\\n",
       "\\hline\n",
       "\t1 & 0.000259470679813181 & virtual              & join                 & uniform              & colocate-uniform     & uniform              & 0                    & random-fuzzy-match   & 2                    & 3                    & 6                    & 64000                & exact-match          & 30                   & 3                    & 0                    & 64000                & 1000000             \\\\\n",
       "\t2 & 0.503501945525292  & virtual            & join               & uniform            & colocate-uniform   & uniform            & 0                  & random-fuzzy-match & 2                  & 3                  & 6                  & 64000              & exact-match        & 30                 & 3                  & 0                  & 64000              & 1000000           \\\\\n",
       "\t3 & 0.503630705394191  & virtual            & join               & uniform            & colocate-uniform   & uniform            & 0                  & random-fuzzy-match & 2                  & 3                  & 6                  & 64000              & exact-match        & 30                 & 3                  & 0                  & 64000              & 1000000           \\\\\n",
       "\t4 & 0.523342790817642  & virtual            & join               & uniform            & colocate-uniform   & uniform            & 0                  & random-fuzzy-match & 2                  & 3                  & 6                  & 64000              & exact-match        & 30                 & 3                  & 0                  & 64000              & 1000000           \\\\\n",
       "\t5 & 0.52296181630547   & virtual            & join               & uniform            & colocate-uniform   & uniform            & 0                  & random-fuzzy-match & 2                  & 3                  & 6                  & 64000              & exact-match        & 30                 & 3                  & 0                  & 64000              & 1000000           \\\\\n",
       "\t6 & 0.523084859427392  & virtual            & join               & uniform            & colocate-uniform   & uniform            & 0                  & random-fuzzy-match & 2                  & 3                  & 6                  & 64000              & exact-match        & 30                 & 3                  & 0                  & 64000              & 1000000           \\\\\n",
       "\\end{tabular}\n"
      ],
      "text/plain": [
       "       updates  switch event groupSizeDist    placementDist\n",
       "1 0.0002594707 virtual  join       uniform colocate-uniform\n",
       "2 0.5035019455 virtual  join       uniform colocate-uniform\n",
       "3 0.5036307054 virtual  join       uniform colocate-uniform\n",
       "4 0.5233427908 virtual  join       uniform colocate-uniform\n",
       "5 0.5229618163 virtual  join       uniform colocate-uniform\n",
       "6 0.5230848594 virtual  join       uniform colocate-uniform\n",
       "  placementNumHostsPerLeaf seed      podsAlgorithm podsNumBitmaps\n",
       "1                  uniform    0 random-fuzzy-match              2\n",
       "2                  uniform    0 random-fuzzy-match              2\n",
       "3                  uniform    0 random-fuzzy-match              2\n",
       "4                  uniform    0 random-fuzzy-match              2\n",
       "5                  uniform    0 random-fuzzy-match              2\n",
       "6                  uniform    0 random-fuzzy-match              2\n",
       "  podsNumNodesPerBitmap podsRedundancyPerBitmap podsNumRules leafsAlgorithm\n",
       "1                     3                       6        64000    exact-match\n",
       "2                     3                       6        64000    exact-match\n",
       "3                     3                       6        64000    exact-match\n",
       "4                     3                       6        64000    exact-match\n",
       "5                     3                       6        64000    exact-match\n",
       "6                     3                       6        64000    exact-match\n",
       "  leafsNumBitmaps leafsNumNodesPerBitmap leafsRedundancyPerBitmap leafsNumRules\n",
       "1              30                      3                        0         64000\n",
       "2              30                      3                        0         64000\n",
       "3              30                      3                        0         64000\n",
       "4              30                      3                        0         64000\n",
       "5              30                      3                        0         64000\n",
       "6              30                      3                        0         64000\n",
       "  numEvents\n",
       "1   1000000\n",
       "2   1000000\n",
       "3   1000000\n",
       "4   1000000\n",
       "5   1000000\n",
       "6   1000000"
      ]
     },
     "metadata": {},
     "output_type": "display_data"
    }
   ],
   "source": [
    "head(switchUpdateCountNormalized)"
   ]
  },
  {
   "cell_type": "code",
   "execution_count": 10,
   "metadata": {
    "collapsed": false
   },
   "outputs": [],
   "source": [
    "plt <- ggplot(switchUpdateCountNormalized) +\n",
    "   geom_boxplot(aes(y=updates, x=factor(event), \n",
    "                    fill=interaction(leafsAlgorithm, leafsNumBitmaps, leafsNumNodesPerBitmap, leafsRedundancyPerBitmap,\n",
    "                                     leafsNumRules, placementNumHostsPerLeaf)),\n",
    "                outlier.size=0.5) +\n",
    "   facet_grid(groupSizeDist ~ factor(switch, levels=c('pod','leaf','virtual'))) +\n",
    "   xlab(\"Event Type\") +\n",
    "   ylab(\"Number of updates\") +\n",
    "   plotTheme"
   ]
  },
  {
   "cell_type": "code",
   "execution_count": 11,
   "metadata": {
    "collapsed": false
   },
   "outputs": [],
   "source": [
    "# ggsave(plt, file=\"switch_update_count_normalized.pdf\", height=5, width=7)\n",
    "ggsave(plt, file=\"switch_update_count_normalized.jpg\", height=5, width=7)"
   ]
  },
  {
   "cell_type": "code",
   "execution_count": null,
   "metadata": {
    "collapsed": true
   },
   "outputs": [],
   "source": []
  }
 ],
 "metadata": {
  "kernelspec": {
   "display_name": "R",
   "language": "R",
   "name": "ir"
  },
  "language_info": {
   "codemirror_mode": "r",
   "file_extension": ".r",
   "mimetype": "text/x-r-source",
   "name": "R",
   "pygments_lexer": "r",
   "version": "3.3.1"
  }
 },
 "nbformat": 4,
 "nbformat_minor": 2
}
