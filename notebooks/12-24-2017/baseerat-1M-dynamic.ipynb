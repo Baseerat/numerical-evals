{
 "cells": [
  {
   "cell_type": "code",
   "execution_count": 1,
   "metadata": {
    "collapsed": true
   },
   "outputs": [],
   "source": [
    "import warnings\n",
    "warnings.filterwarnings('ignore')\n",
    "# For ignoring warnings printed by R magic commands"
   ]
  },
  {
   "cell_type": "code",
   "execution_count": 2,
   "metadata": {
    "collapsed": true
   },
   "outputs": [],
   "source": [
    "import os\n",
    "import glob"
   ]
  },
  {
   "cell_type": "code",
   "execution_count": 3,
   "metadata": {
    "collapsed": true
   },
   "outputs": [],
   "source": [
    "# Import pandas\n",
    "import pandas as pd"
   ]
  },
  {
   "cell_type": "code",
   "execution_count": 4,
   "metadata": {
    "collapsed": true
   },
   "outputs": [],
   "source": [
    "# Load R magic\n",
    "%load_ext rpy2.ipython\n",
    "# Import ggplot2\n",
    "%R require(ggplot2);"
   ]
  },
  {
   "cell_type": "code",
   "execution_count": null,
   "metadata": {
    "collapsed": true
   },
   "outputs": [],
   "source": []
  },
  {
   "cell_type": "code",
   "execution_count": 5,
   "metadata": {
    "collapsed": true
   },
   "outputs": [],
   "source": [
    "# If experiment parameters change, modify this function\n",
    "def AddParametersAsColumns(df, folder):\n",
    "    expParams = folder.split('/')[-1].split('.')\n",
    "    \n",
    "    cloudParams = expParams[1].split('_')\n",
    "    df['groupSizeDist'] = cloudParams[10]\n",
    "    df['placementDist'] = cloudParams[11]\n",
    "    df['placementNumHostsPerLeaf'] = 'uniform' if cloudParams[12] == '-1' else cloudParams[12]\n",
    "    df['seed'] = int(cloudParams[15])\n",
    "    \n",
    "    optimizerParams_0 = expParams[2].split('_')\n",
    "    node_type_0 = optimizerParams_0[7]\n",
    "    df['%sAlgorithm' % node_type_0] = optimizerParams_0[0]\n",
    "    df['%sNumBitmaps' % node_type_0] = int(optimizerParams_0[1])\n",
    "    df['%sNumNodesPerBitmap' % node_type_0] = int(optimizerParams_0[2])\n",
    "    df['%sRedundancyPerBitmap' % node_type_0] = int(optimizerParams_0[3])\n",
    "    df['%sNumRules' % node_type_0] = int(optimizerParams_0[4])\n",
    "    \n",
    "    if len(expParams) > 3:\n",
    "        optimizerParams_1 = expParams[3].split('_')\n",
    "        node_type_1 = optimizerParams_1[7]\n",
    "        df['%sAlgorithm' % node_type_1] = optimizerParams_1[0]\n",
    "        df['%sNumBitmaps' % node_type_1] = int(optimizerParams_1[1])\n",
    "        df['%sNumNodesPerBitmap' % node_type_1] = int(optimizerParams_1[2])\n",
    "        df['%sRedundancyPerBitmap' % node_type_1] = int(optimizerParams_1[3])\n",
    "        df['%sNumRules' % node_type_1] = int(optimizerParams_1[4])\n",
    "        \n",
    "        dynamicParams = expParams[4].split('_')\n",
    "        df['numEvents'] = int(dynamicParams[0])\n",
    "    else:\n",
    "        dynamicParams = expParams[3].split('_')\n",
    "        df['numEvents'] = int(dynamicParams[0])\n",
    "    \n",
    "# Turns all files of a given filname across a set of folders into a single dataframe\n",
    "def DataSetAsDataFrame(filename, folders, headers, header=None, reset_index=True):\n",
    "    # Read dataset as dataframe\n",
    "    def ReadDataSet(folder):\n",
    "        df = pd.read_csv(folder + '/' + filename, sep=',', header=header, names=headers)\n",
    "        AddParametersAsColumns(df, folder)\n",
    "        return df\n",
    "    # Get the list of dataframes\n",
    "    dfs = map(ReadDataSet, folders)\n",
    "    # Combine into a single dataframe\n",
    "    df = pd.concat(dfs)\n",
    "    if reset_index:\n",
    "        df.reset_index(inplace=True)\n",
    "        df.drop('index', axis=1, inplace=True)\n",
    "    return df"
   ]
  },
  {
   "cell_type": "code",
   "execution_count": null,
   "metadata": {
    "collapsed": true
   },
   "outputs": [],
   "source": []
  },
  {
   "cell_type": "code",
   "execution_count": 6,
   "metadata": {
    "collapsed": true
   },
   "outputs": [],
   "source": [
    "%%R \n",
    "plotTheme <- theme(legend.title=element_blank(), legend.position=\"top\", legend.text=element_text(size=6))"
   ]
  },
  {
   "cell_type": "code",
   "execution_count": 7,
   "metadata": {
    "collapsed": true
   },
   "outputs": [],
   "source": [
    "directory = '/mnt/sdb1/baseerat/numerical-evals/12-24-2017/logs-1M/'\n",
    "# folders = glob.glob(\"logs*_0.*\")\n",
    "folders = glob.glob(directory + \"dynamic-logs.*_0.*\") + glob.glob(directory + \"dynamic-logs.*_1.*\")\n",
    "# Note: dynamic-logs.*_2.* is corrupted. \n",
    "# Specifically, this run: pypy3 run_dynamic_with_data.py 1000000 /mnt/sdb1/baseerat/numerical-evals/12-24-2017/output-1M/optimizer.12_48_48_20_3000_10_5000_expon_1000000_5_wve_colocate-uniform_-1_True_5_2.random-fuzzy-match_2_3_6_64000_2_3_pods.exact-match_30_3_0_64000_2_3_leafs /mnt/sdb1/baseerat/numerical-evals/12-24-2017/logs-1M/dynamic-logs"
   ]
  },
  {
   "cell_type": "code",
   "execution_count": null,
   "metadata": {
    "collapsed": true
   },
   "outputs": [],
   "source": []
  },
  {
   "cell_type": "code",
   "execution_count": null,
   "metadata": {
    "collapsed": false
   },
   "outputs": [],
   "source": [
    "switchUpdateCount = DataSetAsDataFrame('switch_update_count.csv',\n",
    "                                       folders, ['updates', 'switch', 'event'],\n",
    "                                       header=0)"
   ]
  },
  {
   "cell_type": "code",
   "execution_count": null,
   "metadata": {
    "collapsed": false
   },
   "outputs": [],
   "source": [
    "switchUpdateCount.head(2)"
   ]
  },
  {
   "cell_type": "code",
   "execution_count": null,
   "metadata": {
    "collapsed": false
   },
   "outputs": [],
   "source": [
    "switchUpdateCount[\n",
    "    (switchUpdateCount['switch'] == 'pod') & \n",
    "    (switchUpdateCount['event'] == 'join')\n",
    "]['updates'].describe()"
   ]
  },
  {
   "cell_type": "code",
   "execution_count": null,
   "metadata": {
    "collapsed": false
   },
   "outputs": [],
   "source": [
    "switchUpdateCount[\n",
    "    (switchUpdateCount['switch'] == 'pod') & \n",
    "    (switchUpdateCount['event'] == 'leave')\n",
    "]['updates'].describe()"
   ]
  },
  {
   "cell_type": "code",
   "execution_count": null,
   "metadata": {
    "collapsed": false
   },
   "outputs": [],
   "source": [
    "%%R -i switchUpdateCount\n",
    "ggplot(switchUpdateCount) +\n",
    "   geom_boxplot(aes(y=updates, x=factor(event), \n",
    "                    fill=interaction(leafsAlgorithm, leafsNumBitmaps, leafsNumNodesPerBitmap, leafsRedundancyPerBitmap,\n",
    "                                     leafsNumRules, placementNumHostsPerLeaf)),\n",
    "                outlier.size=0.5) +\n",
    "   facet_grid(groupSizeDist ~ factor(switch, levels=c('pod','leaf','virtual'))) +\n",
    "   xlab(\"Event Type\") +\n",
    "   ylab(\"Number of updates\") +\n",
    "   plotTheme"
   ]
  },
  {
   "cell_type": "code",
   "execution_count": 13,
   "metadata": {
    "collapsed": false
   },
   "outputs": [],
   "source": [
    "# %%R -i switchUpdateCount\n",
    "# ggplot(switchUpdateCount) +\n",
    "#    stat_ecdf(aes(x=updates, col=interaction(leafsAlgorithm, leafsNumNodesPerBitmap, leafsRedundancyPerBitmap,\n",
    "#                                      leafsNumRules, placementNumHostsPerLeaf))) +\n",
    "#    facet_grid(groupSizeDist * leafsNumBitmaps ~ factor(switch, levels=c('pod','leaf','virtual')) * event) +\n",
    "#    ggtitle(\"Event updates distribution\") +\n",
    "#    xlab(\"Number of updates\") +\n",
    "#    plotTheme"
   ]
  },
  {
   "cell_type": "code",
   "execution_count": 14,
   "metadata": {
    "collapsed": true
   },
   "outputs": [],
   "source": [
    "switchUpdateCount.to_csv(directory + 'switch_update_count.csv', index=False)"
   ]
  },
  {
   "cell_type": "code",
   "execution_count": null,
   "metadata": {
    "collapsed": true
   },
   "outputs": [],
   "source": []
  },
  {
   "cell_type": "code",
   "execution_count": 8,
   "metadata": {
    "collapsed": true
   },
   "outputs": [],
   "source": [
    "switchUpdateCountNormalized = DataSetAsDataFrame('switch_update_count_normalized.csv',\n",
    "                                                 folders, ['updates', 'switch', 'event'],\n",
    "                                                 header=0)"
   ]
  },
  {
   "cell_type": "code",
   "execution_count": 9,
   "metadata": {
    "collapsed": false
   },
   "outputs": [
    {
     "data": {
      "text/html": [
       "<div>\n",
       "<style scoped>\n",
       "    .dataframe tbody tr th:only-of-type {\n",
       "        vertical-align: middle;\n",
       "    }\n",
       "\n",
       "    .dataframe tbody tr th {\n",
       "        vertical-align: top;\n",
       "    }\n",
       "\n",
       "    .dataframe thead th {\n",
       "        text-align: right;\n",
       "    }\n",
       "</style>\n",
       "<table border=\"1\" class=\"dataframe\">\n",
       "  <thead>\n",
       "    <tr style=\"text-align: right;\">\n",
       "      <th></th>\n",
       "      <th>updates</th>\n",
       "      <th>switch</th>\n",
       "      <th>event</th>\n",
       "      <th>groupSizeDist</th>\n",
       "      <th>placementDist</th>\n",
       "      <th>placementNumHostsPerLeaf</th>\n",
       "      <th>seed</th>\n",
       "      <th>podsAlgorithm</th>\n",
       "      <th>podsNumBitmaps</th>\n",
       "      <th>podsNumNodesPerBitmap</th>\n",
       "      <th>podsRedundancyPerBitmap</th>\n",
       "      <th>podsNumRules</th>\n",
       "      <th>leafsAlgorithm</th>\n",
       "      <th>leafsNumBitmaps</th>\n",
       "      <th>leafsNumNodesPerBitmap</th>\n",
       "      <th>leafsRedundancyPerBitmap</th>\n",
       "      <th>leafsNumRules</th>\n",
       "      <th>numEvents</th>\n",
       "    </tr>\n",
       "  </thead>\n",
       "  <tbody>\n",
       "    <tr>\n",
       "      <th>0</th>\n",
       "      <td>0.000259</td>\n",
       "      <td>virtual</td>\n",
       "      <td>join</td>\n",
       "      <td>uniform</td>\n",
       "      <td>colocate-uniform</td>\n",
       "      <td>uniform</td>\n",
       "      <td>0</td>\n",
       "      <td>random-fuzzy-match</td>\n",
       "      <td>2</td>\n",
       "      <td>3</td>\n",
       "      <td>6</td>\n",
       "      <td>64000</td>\n",
       "      <td>exact-match</td>\n",
       "      <td>30</td>\n",
       "      <td>3</td>\n",
       "      <td>0</td>\n",
       "      <td>64000</td>\n",
       "      <td>1000000</td>\n",
       "    </tr>\n",
       "    <tr>\n",
       "      <th>1</th>\n",
       "      <td>0.503502</td>\n",
       "      <td>virtual</td>\n",
       "      <td>join</td>\n",
       "      <td>uniform</td>\n",
       "      <td>colocate-uniform</td>\n",
       "      <td>uniform</td>\n",
       "      <td>0</td>\n",
       "      <td>random-fuzzy-match</td>\n",
       "      <td>2</td>\n",
       "      <td>3</td>\n",
       "      <td>6</td>\n",
       "      <td>64000</td>\n",
       "      <td>exact-match</td>\n",
       "      <td>30</td>\n",
       "      <td>3</td>\n",
       "      <td>0</td>\n",
       "      <td>64000</td>\n",
       "      <td>1000000</td>\n",
       "    </tr>\n",
       "  </tbody>\n",
       "</table>\n",
       "</div>"
      ],
      "text/plain": [
       "    updates   switch event groupSizeDist     placementDist  \\\n",
       "0  0.000259  virtual  join       uniform  colocate-uniform   \n",
       "1  0.503502  virtual  join       uniform  colocate-uniform   \n",
       "\n",
       "  placementNumHostsPerLeaf  seed       podsAlgorithm  podsNumBitmaps  \\\n",
       "0                  uniform     0  random-fuzzy-match               2   \n",
       "1                  uniform     0  random-fuzzy-match               2   \n",
       "\n",
       "   podsNumNodesPerBitmap  podsRedundancyPerBitmap  podsNumRules  \\\n",
       "0                      3                        6         64000   \n",
       "1                      3                        6         64000   \n",
       "\n",
       "  leafsAlgorithm  leafsNumBitmaps  leafsNumNodesPerBitmap  \\\n",
       "0    exact-match               30                       3   \n",
       "1    exact-match               30                       3   \n",
       "\n",
       "   leafsRedundancyPerBitmap  leafsNumRules  numEvents  \n",
       "0                         0          64000    1000000  \n",
       "1                         0          64000    1000000  "
      ]
     },
     "execution_count": 9,
     "metadata": {},
     "output_type": "execute_result"
    }
   ],
   "source": [
    "switchUpdateCountNormalized.head(2)"
   ]
  },
  {
   "cell_type": "code",
   "execution_count": null,
   "metadata": {
    "collapsed": true
   },
   "outputs": [],
   "source": []
  },
  {
   "cell_type": "code",
   "execution_count": 10,
   "metadata": {
    "collapsed": false
   },
   "outputs": [
    {
     "data": {
      "text/html": [
       "<div>\n",
       "<style scoped>\n",
       "    .dataframe tbody tr th:only-of-type {\n",
       "        vertical-align: middle;\n",
       "    }\n",
       "\n",
       "    .dataframe tbody tr th {\n",
       "        vertical-align: top;\n",
       "    }\n",
       "\n",
       "    .dataframe thead th {\n",
       "        text-align: right;\n",
       "    }\n",
       "</style>\n",
       "<table border=\"1\" class=\"dataframe\">\n",
       "  <thead>\n",
       "    <tr style=\"text-align: right;\">\n",
       "      <th></th>\n",
       "      <th>updates</th>\n",
       "      <th>switch</th>\n",
       "      <th>event</th>\n",
       "      <th>groupSizeDist</th>\n",
       "      <th>placementDist</th>\n",
       "      <th>placementNumHostsPerLeaf</th>\n",
       "      <th>seed</th>\n",
       "      <th>podsAlgorithm</th>\n",
       "      <th>podsNumBitmaps</th>\n",
       "      <th>podsNumNodesPerBitmap</th>\n",
       "      <th>podsRedundancyPerBitmap</th>\n",
       "      <th>podsNumRules</th>\n",
       "      <th>leafsAlgorithm</th>\n",
       "      <th>leafsNumBitmaps</th>\n",
       "      <th>leafsNumNodesPerBitmap</th>\n",
       "      <th>leafsRedundancyPerBitmap</th>\n",
       "      <th>leafsNumRules</th>\n",
       "      <th>numEvents</th>\n",
       "    </tr>\n",
       "  </thead>\n",
       "  <tbody>\n",
       "  </tbody>\n",
       "</table>\n",
       "</div>"
      ],
      "text/plain": [
       "Empty DataFrame\n",
       "Columns: [updates, switch, event, groupSizeDist, placementDist, placementNumHostsPerLeaf, seed, podsAlgorithm, podsNumBitmaps, podsNumNodesPerBitmap, podsRedundancyPerBitmap, podsNumRules, leafsAlgorithm, leafsNumBitmaps, leafsNumNodesPerBitmap, leafsRedundancyPerBitmap, leafsNumRules, numEvents]\n",
       "Index: []"
      ]
     },
     "execution_count": 10,
     "metadata": {},
     "output_type": "execute_result"
    }
   ],
   "source": [
    "switchUpdateCountNormalized[\n",
    "    (switchUpdateCountNormalized['groupSizeDist'] == 'wve') &\n",
    "    (switchUpdateCountNormalized['switch'] == 'virtual') &\n",
    "    (switchUpdateCountNormalized['event'] == 'join') &\n",
    "    (switchUpdateCountNormalized['updates'] > 1)\n",
    "]"
   ]
  },
  {
   "cell_type": "code",
   "execution_count": null,
   "metadata": {
    "collapsed": true
   },
   "outputs": [],
   "source": []
  },
  {
   "cell_type": "code",
   "execution_count": 11,
   "metadata": {
    "collapsed": false
   },
   "outputs": [
    {
     "data": {
      "text/plain": [
       "count    1.412260e+06\n",
       "mean     3.360687e-01\n",
       "std      2.364679e-01\n",
       "min      2.000400e-04\n",
       "25%      6.493506e-03\n",
       "50%      4.905030e-01\n",
       "75%      5.061884e-01\n",
       "max      7.611940e-01\n",
       "Name: updates, dtype: float64"
      ]
     },
     "execution_count": 11,
     "metadata": {},
     "output_type": "execute_result"
    }
   ],
   "source": [
    "switchUpdateCountNormalized[\n",
    "    (switchUpdateCountNormalized['groupSizeDist'] == 'wve') &\n",
    "    (switchUpdateCountNormalized['switch'] == 'virtual') &\n",
    "    (switchUpdateCountNormalized['event'] == 'join')\n",
    "]['updates'].describe()"
   ]
  },
  {
   "cell_type": "code",
   "execution_count": 12,
   "metadata": {
    "collapsed": false
   },
   "outputs": [
    {
     "data": {
      "text/plain": [
       "count    1.441414e+06\n",
       "mean     4.999598e-01\n",
       "std      3.570731e-02\n",
       "min      2.006421e-04\n",
       "25%      4.891304e-01\n",
       "50%      5.004182e-01\n",
       "75%      5.118613e-01\n",
       "max      7.727273e-01\n",
       "Name: updates, dtype: float64"
      ]
     },
     "execution_count": 12,
     "metadata": {},
     "output_type": "execute_result"
    }
   ],
   "source": [
    "switchUpdateCountNormalized[\n",
    "    (switchUpdateCountNormalized['groupSizeDist'] == 'wve') &\n",
    "    (switchUpdateCountNormalized['switch'] == 'virtual') &\n",
    "    (switchUpdateCountNormalized['event'] == 'leave')\n",
    "]['updates'].describe()"
   ]
  },
  {
   "cell_type": "code",
   "execution_count": 13,
   "metadata": {
    "collapsed": false
   },
   "outputs": [
    {
     "data": {
      "image/png": "[encoded data removed]"
     },
     "metadata": {},
     "output_type": "display_data"
    }
   ],
   "source": [
    "%%R -i switchUpdateCountNormalized\n",
    "ggplot(switchUpdateCountNormalized) +\n",
    "   geom_boxplot(aes(y=updates, x=factor(event), \n",
    "                    fill=interaction(leafsAlgorithm, leafsNumBitmaps, leafsNumNodesPerBitmap, leafsRedundancyPerBitmap,\n",
    "                                     leafsNumRules, placementNumHostsPerLeaf)),\n",
    "                outlier.size=0.5) +\n",
    "   facet_grid(groupSizeDist ~ factor(switch, levels=c('pod','leaf','virtual'))) +\n",
    "   xlab(\"Event Type\") +\n",
    "   ylab(\"Number of updates\") +\n",
    "   plotTheme"
   ]
  },
  {
   "cell_type": "code",
   "execution_count": 17,
   "metadata": {
    "collapsed": false
   },
   "outputs": [],
   "source": [
    "# %%R -i switchUpdateCountNormalized\n",
    "# ggplot(switchUpdateCountNormalized) +\n",
    "#    stat_ecdf(aes(x=updates, col=interaction(leafsAlgorithm, leafsNumNodesPerBitmap, leafsRedundancyPerBitmap,\n",
    "#                                      leafsNumRules, placementNumHostsPerLeaf))) +\n",
    "#    facet_grid(groupSizeDist * leafsNumBitmaps ~ factor(switch, levels=c('pod','leaf','virtual')) * event) +\n",
    "#    ggtitle(\"Event updates distribution\") +\n",
    "#    xlab(\"Number of updates\") +\n",
    "#    plotTheme"
   ]
  },
  {
   "cell_type": "code",
   "execution_count": 14,
   "metadata": {
    "collapsed": true
   },
   "outputs": [],
   "source": [
    "switchUpdateCountNormalized.to_csv(directory + 'switch_update_count_normalized.csv', index=False)"
   ]
  },
  {
   "cell_type": "code",
   "execution_count": null,
   "metadata": {
    "collapsed": true
   },
   "outputs": [],
   "source": []
  }
 ],
 "metadata": {
  "kernelspec": {
   "display_name": "Python 3",
   "language": "python",
   "name": "python3"
  },
  "language_info": {
   "codemirror_mode": {
    "name": "ipython",
    "version": 3
   },
   "file_extension": ".py",
   "mimetype": "text/x-python",
   "name": "python",
   "nbconvert_exporter": "python",
   "pygments_lexer": "ipython3",
   "version": "3.5.2"
  }
 },
 "nbformat": 4,
 "nbformat_minor": 2
}
