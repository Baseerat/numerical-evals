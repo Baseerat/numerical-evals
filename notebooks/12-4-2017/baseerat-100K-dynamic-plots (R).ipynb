{
 "cells": [
  {
   "cell_type": "code",
   "execution_count": 1,
   "metadata": {
    "collapsed": false
   },
   "outputs": [
    {
     "name": "stderr",
     "output_type": "stream",
     "text": [
      "Loading required package: ggplot2\n",
      "Loading required package: data.table\n",
      "Loading required package: Hmisc\n",
      "Loading required package: lattice\n",
      "Loading required package: survival\n",
      "Loading required package: Formula\n",
      "\n",
      "Attaching package: ‘Hmisc’\n",
      "\n",
      "The following objects are masked from ‘package:base’:\n",
      "\n",
      "    format.pval, round.POSIXt, trunc.POSIXt, units\n",
      "\n"
     ]
    }
   ],
   "source": [
    "require(ggplot2)\n",
    "require(data.table)\n",
    "require(Hmisc)"
   ]
  },
  {
   "cell_type": "code",
   "execution_count": 2,
   "metadata": {
    "collapsed": false
   },
   "outputs": [],
   "source": [
    "# install.packages('bit64')"
   ]
  },
  {
   "cell_type": "code",
   "execution_count": null,
   "metadata": {
    "collapsed": true
   },
   "outputs": [],
   "source": []
  },
  {
   "cell_type": "code",
   "execution_count": 3,
   "metadata": {
    "collapsed": true
   },
   "outputs": [],
   "source": [
    "directory = \"/mnt/sdb1/baseerat/numerical-evals/12-4-2017/logs-100K-random/\"\n",
    "plotTheme <- theme(legend.title=element_blank(), legend.position=\"top\", legend.text=element_text(size=6))"
   ]
  },
  {
   "cell_type": "code",
   "execution_count": null,
   "metadata": {
    "collapsed": true
   },
   "outputs": [],
   "source": []
  },
  {
   "cell_type": "code",
   "execution_count": 4,
   "metadata": {
    "collapsed": false
   },
   "outputs": [
    {
     "name": "stdout",
     "output_type": "stream",
     "text": [
      "\r",
      "Read 0.0% of 7637468 rows\r",
      "Read 15.1% of 7637468 rows\r",
      "Read 29.9% of 7637468 rows\r",
      "Read 44.1% of 7637468 rows\r",
      "Read 59.2% of 7637468 rows\r",
      "Read 74.5% of 7637468 rows\r",
      "Read 89.0% of 7637468 rows\r",
      "Read 7637468 rows and 13 (of 13) columns from 0.612 GB file in 00:00:11\n"
     ]
    }
   ],
   "source": [
    "switchEventTypesToUpdateCount <- fread(paste(\n",
    "    directory, \"switch_event_types_to_update_count.csv\", sep=\"/\"), sep=\",\", header=TRUE)"
   ]
  },
  {
   "cell_type": "code",
   "execution_count": 5,
   "metadata": {
    "collapsed": false
   },
   "outputs": [
    {
     "data": {
      "text/html": [
       "<table>\n",
       "<thead><tr><th></th><th scope=col>updates</th><th scope=col>switch</th><th scope=col>event</th><th scope=col>groupSizeDist</th><th scope=col>placementDist</th><th scope=col>colocateNumHostsPerLeaf</th><th scope=col>seed</th><th scope=col>algorithm</th><th scope=col>numBitmaps</th><th scope=col>numLeafsPerBitmap</th><th scope=col>redundancyPerBitmap</th><th scope=col>numRulesPerLeaf</th><th scope=col>numEvents</th></tr></thead>\n",
       "<tbody>\n",
       "\t<tr><th scope=row>1</th><td>1                     </td><td>virtual               </td><td>join                  </td><td>uniform               </td><td>colocate-random-random</td><td>12                    </td><td>0                     </td><td>exact-match           </td><td>30                    </td><td>3                     </td><td>0                     </td><td>64000                 </td><td>1000000               </td></tr>\n",
       "\t<tr><th scope=row>2</th><td>46                    </td><td>virtual               </td><td>join                  </td><td>uniform               </td><td>colocate-random-random</td><td>12                    </td><td>0                     </td><td>exact-match           </td><td>30                    </td><td>3                     </td><td>0                     </td><td>64000                 </td><td>1000000               </td></tr>\n",
       "\t<tr><th scope=row>3</th><td>62                    </td><td>virtual               </td><td>join                  </td><td>uniform               </td><td>colocate-random-random</td><td>12                    </td><td>0                     </td><td>exact-match           </td><td>30                    </td><td>3                     </td><td>0                     </td><td>64000                 </td><td>1000000               </td></tr>\n",
       "\t<tr><th scope=row>4</th><td>88                    </td><td>virtual               </td><td>join                  </td><td>uniform               </td><td>colocate-random-random</td><td>12                    </td><td>0                     </td><td>exact-match           </td><td>30                    </td><td>3                     </td><td>0                     </td><td>64000                 </td><td>1000000               </td></tr>\n",
       "\t<tr><th scope=row>5</th><td>31                    </td><td>virtual               </td><td>join                  </td><td>uniform               </td><td>colocate-random-random</td><td>12                    </td><td>0                     </td><td>exact-match           </td><td>30                    </td><td>3                     </td><td>0                     </td><td>64000                 </td><td>1000000               </td></tr>\n",
       "\t<tr><th scope=row>6</th><td>65                    </td><td>virtual               </td><td>join                  </td><td>uniform               </td><td>colocate-random-random</td><td>12                    </td><td>0                     </td><td>exact-match           </td><td>30                    </td><td>3                     </td><td>0                     </td><td>64000                 </td><td>1000000               </td></tr>\n",
       "</tbody>\n",
       "</table>\n"
      ],
      "text/latex": [
       "\\begin{tabular}{r|lllllllllllll}\n",
       "  & updates & switch & event & groupSizeDist & placementDist & colocateNumHostsPerLeaf & seed & algorithm & numBitmaps & numLeafsPerBitmap & redundancyPerBitmap & numRulesPerLeaf & numEvents\\\\\n",
       "\\hline\n",
       "\t1 & 1                      & virtual                & join                   & uniform                & colocate-random-random & 12                     & 0                      & exact-match            & 30                     & 3                      & 0                      & 64000                  & 1000000               \\\\\n",
       "\t2 & 46                     & virtual                & join                   & uniform                & colocate-random-random & 12                     & 0                      & exact-match            & 30                     & 3                      & 0                      & 64000                  & 1000000               \\\\\n",
       "\t3 & 62                     & virtual                & join                   & uniform                & colocate-random-random & 12                     & 0                      & exact-match            & 30                     & 3                      & 0                      & 64000                  & 1000000               \\\\\n",
       "\t4 & 88                     & virtual                & join                   & uniform                & colocate-random-random & 12                     & 0                      & exact-match            & 30                     & 3                      & 0                      & 64000                  & 1000000               \\\\\n",
       "\t5 & 31                     & virtual                & join                   & uniform                & colocate-random-random & 12                     & 0                      & exact-match            & 30                     & 3                      & 0                      & 64000                  & 1000000               \\\\\n",
       "\t6 & 65                     & virtual                & join                   & uniform                & colocate-random-random & 12                     & 0                      & exact-match            & 30                     & 3                      & 0                      & 64000                  & 1000000               \\\\\n",
       "\\end{tabular}\n"
      ],
      "text/plain": [
       "  updates  switch event groupSizeDist          placementDist\n",
       "1       1 virtual  join       uniform colocate-random-random\n",
       "2      46 virtual  join       uniform colocate-random-random\n",
       "3      62 virtual  join       uniform colocate-random-random\n",
       "4      88 virtual  join       uniform colocate-random-random\n",
       "5      31 virtual  join       uniform colocate-random-random\n",
       "6      65 virtual  join       uniform colocate-random-random\n",
       "  colocateNumHostsPerLeaf seed   algorithm numBitmaps numLeafsPerBitmap\n",
       "1                      12    0 exact-match         30                 3\n",
       "2                      12    0 exact-match         30                 3\n",
       "3                      12    0 exact-match         30                 3\n",
       "4                      12    0 exact-match         30                 3\n",
       "5                      12    0 exact-match         30                 3\n",
       "6                      12    0 exact-match         30                 3\n",
       "  redundancyPerBitmap numRulesPerLeaf numEvents\n",
       "1                   0           64000   1000000\n",
       "2                   0           64000   1000000\n",
       "3                   0           64000   1000000\n",
       "4                   0           64000   1000000\n",
       "5                   0           64000   1000000\n",
       "6                   0           64000   1000000"
      ]
     },
     "metadata": {},
     "output_type": "display_data"
    }
   ],
   "source": [
    "head(switchEventTypesToUpdateCount)"
   ]
  },
  {
   "cell_type": "code",
   "execution_count": 10,
   "metadata": {
    "collapsed": false
   },
   "outputs": [
    {
     "name": "stderr",
     "output_type": "stream",
     "text": [
      "Saving 6.67 x 6.67 in image\n"
     ]
    }
   ],
   "source": [
    "plt <- ggplot(switchEventTypesToUpdateCount) +\n",
    "   geom_boxplot(aes(y=updates, x=factor(event), \n",
    "                    fill=interaction(algorithm, numLeafsPerBitmap, redundancyPerBitmap,\n",
    "                                     numRulesPerLeaf, colocateNumHostsPerLeaf)),\n",
    "                outlier.size=0.5) +\n",
    "   facet_grid(groupSizeDist ~ switch) +\n",
    "   xlab(\"Event Type\") +\n",
    "   ylab(\"Number of updates\") +\n",
    "   plotTheme\n",
    "# ggsave(plt, file=\"switch_event_types_to_update_count.pdf\")\n",
    "ggsave(plt, file=\"switch_event_types_to_update_count.jpg\")"
   ]
  },
  {
   "cell_type": "code",
   "execution_count": null,
   "metadata": {
    "collapsed": true
   },
   "outputs": [],
   "source": []
  },
  {
   "cell_type": "code",
   "execution_count": 7,
   "metadata": {
    "collapsed": false
   },
   "outputs": [
    {
     "name": "stdout",
     "output_type": "stream",
     "text": [
      "\r",
      "Read 0.0% of 7637468 rows\r",
      "Read 13.4% of 7637468 rows\r",
      "Read 27.1% of 7637468 rows\r",
      "Read 39.7% of 7637468 rows\r",
      "Read 52.9% of 7637468 rows\r",
      "Read 67.3% of 7637468 rows\r",
      "Read 81.0% of 7637468 rows\r",
      "Read 94.5% of 7637468 rows\r",
      "Read 7637468 rows and 13 (of 13) columns from 0.709 GB file in 00:00:10\n"
     ]
    }
   ],
   "source": [
    "switchEventTypesToUpdateCountNormalized <- fread(paste(\n",
    "    directory, \"switch_event_types_to_update_count_normalized.csv\", sep=\"/\"), sep=\",\", header=TRUE)"
   ]
  },
  {
   "cell_type": "code",
   "execution_count": 8,
   "metadata": {
    "collapsed": false
   },
   "outputs": [
    {
     "data": {
      "text/html": [
       "<table>\n",
       "<thead><tr><th></th><th scope=col>updates</th><th scope=col>switch</th><th scope=col>event</th><th scope=col>groupSizeDist</th><th scope=col>placementDist</th><th scope=col>colocateNumHostsPerLeaf</th><th scope=col>seed</th><th scope=col>algorithm</th><th scope=col>numBitmaps</th><th scope=col>numLeafsPerBitmap</th><th scope=col>redundancyPerBitmap</th><th scope=col>numRulesPerLeaf</th><th scope=col>numEvents</th></tr></thead>\n",
       "<tbody>\n",
       "\t<tr><th scope=row>1</th><td>0.00925925925925926   </td><td>virtual               </td><td>join                  </td><td>uniform               </td><td>colocate-random-random</td><td>12                    </td><td>0                     </td><td>exact-match           </td><td>30                    </td><td>3                     </td><td>0                     </td><td>64000                 </td><td>1000000               </td></tr>\n",
       "\t<tr><th scope=row>2</th><td>0.5                   </td><td>virtual               </td><td>join                  </td><td>uniform               </td><td>colocate-random-random</td><td>12                    </td><td>0                     </td><td>exact-match           </td><td>30                    </td><td>3                     </td><td>0                     </td><td>64000                 </td><td>1000000               </td></tr>\n",
       "\t<tr><th scope=row>3</th><td>0.5                   </td><td>virtual               </td><td>join                  </td><td>uniform               </td><td>colocate-random-random</td><td>12                    </td><td>0                     </td><td>exact-match           </td><td>30                    </td><td>3                     </td><td>0                     </td><td>64000                 </td><td>1000000               </td></tr>\n",
       "\t<tr><th scope=row>4</th><td>0.5                   </td><td>virtual               </td><td>join                  </td><td>uniform               </td><td>colocate-random-random</td><td>12                    </td><td>0                     </td><td>exact-match           </td><td>30                    </td><td>3                     </td><td>0                     </td><td>64000                 </td><td>1000000               </td></tr>\n",
       "\t<tr><th scope=row>5</th><td>0.455882352941177     </td><td>virtual               </td><td>join                  </td><td>uniform               </td><td>colocate-random-random</td><td>12                    </td><td>0                     </td><td>exact-match           </td><td>30                    </td><td>3                     </td><td>0                     </td><td>64000                 </td><td>1000000               </td></tr>\n",
       "\t<tr><th scope=row>6</th><td>0.528455284552846     </td><td>virtual               </td><td>join                  </td><td>uniform               </td><td>colocate-random-random</td><td>12                    </td><td>0                     </td><td>exact-match           </td><td>30                    </td><td>3                     </td><td>0                     </td><td>64000                 </td><td>1000000               </td></tr>\n",
       "</tbody>\n",
       "</table>\n"
      ],
      "text/latex": [
       "\\begin{tabular}{r|lllllllllllll}\n",
       "  & updates & switch & event & groupSizeDist & placementDist & colocateNumHostsPerLeaf & seed & algorithm & numBitmaps & numLeafsPerBitmap & redundancyPerBitmap & numRulesPerLeaf & numEvents\\\\\n",
       "\\hline\n",
       "\t1 & 0.00925925925925926    & virtual                & join                   & uniform                & colocate-random-random & 12                     & 0                      & exact-match            & 30                     & 3                      & 0                      & 64000                  & 1000000               \\\\\n",
       "\t2 & 0.5                    & virtual                & join                   & uniform                & colocate-random-random & 12                     & 0                      & exact-match            & 30                     & 3                      & 0                      & 64000                  & 1000000               \\\\\n",
       "\t3 & 0.5                    & virtual                & join                   & uniform                & colocate-random-random & 12                     & 0                      & exact-match            & 30                     & 3                      & 0                      & 64000                  & 1000000               \\\\\n",
       "\t4 & 0.5                    & virtual                & join                   & uniform                & colocate-random-random & 12                     & 0                      & exact-match            & 30                     & 3                      & 0                      & 64000                  & 1000000               \\\\\n",
       "\t5 & 0.455882352941177      & virtual                & join                   & uniform                & colocate-random-random & 12                     & 0                      & exact-match            & 30                     & 3                      & 0                      & 64000                  & 1000000               \\\\\n",
       "\t6 & 0.528455284552846      & virtual                & join                   & uniform                & colocate-random-random & 12                     & 0                      & exact-match            & 30                     & 3                      & 0                      & 64000                  & 1000000               \\\\\n",
       "\\end{tabular}\n"
      ],
      "text/plain": [
       "      updates  switch event groupSizeDist          placementDist\n",
       "1 0.009259259 virtual  join       uniform colocate-random-random\n",
       "2 0.500000000 virtual  join       uniform colocate-random-random\n",
       "3 0.500000000 virtual  join       uniform colocate-random-random\n",
       "4 0.500000000 virtual  join       uniform colocate-random-random\n",
       "5 0.455882353 virtual  join       uniform colocate-random-random\n",
       "6 0.528455285 virtual  join       uniform colocate-random-random\n",
       "  colocateNumHostsPerLeaf seed   algorithm numBitmaps numLeafsPerBitmap\n",
       "1                      12    0 exact-match         30                 3\n",
       "2                      12    0 exact-match         30                 3\n",
       "3                      12    0 exact-match         30                 3\n",
       "4                      12    0 exact-match         30                 3\n",
       "5                      12    0 exact-match         30                 3\n",
       "6                      12    0 exact-match         30                 3\n",
       "  redundancyPerBitmap numRulesPerLeaf numEvents\n",
       "1                   0           64000   1000000\n",
       "2                   0           64000   1000000\n",
       "3                   0           64000   1000000\n",
       "4                   0           64000   1000000\n",
       "5                   0           64000   1000000\n",
       "6                   0           64000   1000000"
      ]
     },
     "metadata": {},
     "output_type": "display_data"
    }
   ],
   "source": [
    "head(switchEventTypesToUpdateCountNormalized)"
   ]
  },
  {
   "cell_type": "code",
   "execution_count": 11,
   "metadata": {
    "collapsed": false
   },
   "outputs": [
    {
     "name": "stderr",
     "output_type": "stream",
     "text": [
      "Saving 6.67 x 6.67 in image\n"
     ]
    }
   ],
   "source": [
    "plt <- ggplot(switchEventTypesToUpdateCountNormalized) +\n",
    "   geom_boxplot(aes(y=updates, x=factor(event), \n",
    "                    fill=interaction(algorithm, numLeafsPerBitmap, redundancyPerBitmap,\n",
    "                                     numRulesPerLeaf, colocateNumHostsPerLeaf)),\n",
    "                outlier.size=0.5) +\n",
    "   facet_grid(groupSizeDist ~ switch) +\n",
    "   xlab(\"Event Type\") +\n",
    "   ylab(\"Number of updates\") +\n",
    "   plotTheme\n",
    "# ggsave(plt, file=\"switch_event_types_to_update_count_normalized.pdf\")\n",
    "ggsave(plt, file=\"switch_event_types_to_update_count_normalized.jpg\")"
   ]
  },
  {
   "cell_type": "code",
   "execution_count": null,
   "metadata": {
    "collapsed": true
   },
   "outputs": [],
   "source": []
  }
 ],
 "metadata": {
  "kernelspec": {
   "display_name": "R",
   "language": "R",
   "name": "ir"
  },
  "language_info": {
   "codemirror_mode": "r",
   "file_extension": ".r",
   "mimetype": "text/x-r-source",
   "name": "R",
   "pygments_lexer": "r",
   "version": "3.3.1"
  }
 },
 "nbformat": 4,
 "nbformat_minor": 2
}
