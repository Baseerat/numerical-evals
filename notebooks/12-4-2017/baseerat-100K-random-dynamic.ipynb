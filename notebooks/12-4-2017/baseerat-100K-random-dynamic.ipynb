{
 "cells": [
  {
   "cell_type": "code",
   "execution_count": 1,
   "metadata": {},
   "outputs": [
    {
     "data": {
      "application/javascript": [
       "IPython.notebook.set_autosave_interval(0)"
      ]
     },
     "metadata": {},
     "output_type": "display_data"
    },
    {
     "name": "stdout",
     "output_type": "stream",
     "text": [
      "Autosave disabled\n"
     ]
    }
   ],
   "source": [
    "%autosave 0"
   ]
  },
  {
   "cell_type": "code",
   "execution_count": 2,
   "metadata": {
    "collapsed": true
   },
   "outputs": [],
   "source": [
    "import warnings\n",
    "warnings.filterwarnings('ignore')\n",
    "# For ignoring warnings printed by R magic commands"
   ]
  },
  {
   "cell_type": "code",
   "execution_count": 3,
   "metadata": {
    "collapsed": true
   },
   "outputs": [],
   "source": [
    "import os\n",
    "import glob"
   ]
  },
  {
   "cell_type": "code",
   "execution_count": 4,
   "metadata": {
    "collapsed": true
   },
   "outputs": [],
   "source": [
    "# Import pandas\n",
    "import pandas as pd"
   ]
  },
  {
   "cell_type": "code",
   "execution_count": 5,
   "metadata": {
    "collapsed": true
   },
   "outputs": [],
   "source": [
    "# Load R magic\n",
    "%load_ext rpy2.ipython\n",
    "# Import ggplot2\n",
    "%R require(ggplot2);"
   ]
  },
  {
   "cell_type": "code",
   "execution_count": null,
   "metadata": {
    "collapsed": true
   },
   "outputs": [],
   "source": []
  },
  {
   "cell_type": "code",
   "execution_count": 6,
   "metadata": {
    "collapsed": true
   },
   "outputs": [],
   "source": [
    "# If experiment parameters change, modify this function\n",
    "def AddParametersAsColumns(df, folder):\n",
    "    expParams = folder.split('.')\n",
    "    cloudParams = expParams[1].split('_')\n",
    "    optimizerParams = expParams[2].split('_')\n",
    "    dynamicParams = expParams[3].split('_')\n",
    "    df['groupSizeDist'] = cloudParams[9]\n",
    "    df['placementDist'] = cloudParams[10]\n",
    "    df['colocateNumHostsPerLeaf'] = int(cloudParams[11])\n",
    "    df['seed'] = int(cloudParams[14])\n",
    "    df['algorithm'] = optimizerParams[1]\n",
    "    df['numBitmaps'] = int(optimizerParams[2])\n",
    "    df['numLeafsPerBitmap'] = int(optimizerParams[3])\n",
    "    df['redundancyPerBitmap'] = int(optimizerParams[4])\n",
    "    df['numRulesPerLeaf'] = int(optimizerParams[5])\n",
    "    df['numEvents'] = int(dynamicParams[0])\n",
    "    \n",
    "# Turns all files of a given filname across a set of folders into a single dataframe\n",
    "def DataSetAsDataFrame(filename, folders, headers, header=None):\n",
    "    # Read dataset as dataframe\n",
    "    def ReadDataSet(folder):\n",
    "        df = pd.read_csv(folder + '/' + filename, sep=',', header=header, names=headers)\n",
    "        AddParametersAsColumns(df, folder)\n",
    "        return df\n",
    "    # Get the list of dataframes\n",
    "    dfs = map(ReadDataSet, folders)\n",
    "    # Combine into a single dataframe\n",
    "    df = pd.concat(dfs)\n",
    "    return df"
   ]
  },
  {
   "cell_type": "code",
   "execution_count": null,
   "metadata": {
    "collapsed": true
   },
   "outputs": [],
   "source": []
  },
  {
   "cell_type": "code",
   "execution_count": 7,
   "metadata": {
    "collapsed": true
   },
   "outputs": [],
   "source": [
    "%%R \n",
    "plotTheme <- theme(legend.title=element_blank(), legend.position=\"top\", legend.text=element_text(size=6))"
   ]
  },
  {
   "cell_type": "code",
   "execution_count": 8,
   "metadata": {
    "collapsed": true
   },
   "outputs": [],
   "source": [
    "os.chdir('/mnt/sdb1/baseerat/numerical-evals/12-4-2017/logs-100K-random')\n",
    "# folders = glob.glob(\"logs*_0.*\")\n",
    "folders = glob.glob(\"dynamic-logs.*\")"
   ]
  },
  {
   "cell_type": "code",
   "execution_count": null,
   "metadata": {
    "collapsed": true
   },
   "outputs": [],
   "source": []
  },
  {
   "cell_type": "code",
   "execution_count": 9,
   "metadata": {
    "collapsed": true
   },
   "outputs": [],
   "source": [
    "switch_event_types_to_update_count = DataSetAsDataFrame('switch_event_types_to_update_count.csv',\n",
    "                                                       folders, ['updates', 'switch', 'event'],\n",
    "                                                       header=0)"
   ]
  },
  {
   "cell_type": "code",
   "execution_count": 10,
   "metadata": {},
   "outputs": [
    {
     "data": {
      "text/html": [
       "<div>\n",
       "<style>\n",
       "    .dataframe thead tr:only-child th {\n",
       "        text-align: right;\n",
       "    }\n",
       "\n",
       "    .dataframe thead th {\n",
       "        text-align: left;\n",
       "    }\n",
       "\n",
       "    .dataframe tbody tr th {\n",
       "        vertical-align: top;\n",
       "    }\n",
       "</style>\n",
       "<table border=\"1\" class=\"dataframe\">\n",
       "  <thead>\n",
       "    <tr style=\"text-align: right;\">\n",
       "      <th></th>\n",
       "      <th>updates</th>\n",
       "      <th>switch</th>\n",
       "      <th>event</th>\n",
       "      <th>groupSizeDist</th>\n",
       "      <th>placementDist</th>\n",
       "      <th>colocateNumHostsPerLeaf</th>\n",
       "      <th>seed</th>\n",
       "      <th>algorithm</th>\n",
       "      <th>numBitmaps</th>\n",
       "      <th>numLeafsPerBitmap</th>\n",
       "      <th>redundancyPerBitmap</th>\n",
       "      <th>numRulesPerLeaf</th>\n",
       "      <th>numEvents</th>\n",
       "    </tr>\n",
       "  </thead>\n",
       "  <tbody>\n",
       "    <tr>\n",
       "      <th>0</th>\n",
       "      <td>1</td>\n",
       "      <td>virtual</td>\n",
       "      <td>join</td>\n",
       "      <td>uniform</td>\n",
       "      <td>colocate-random-random</td>\n",
       "      <td>12</td>\n",
       "      <td>0</td>\n",
       "      <td>exact-match</td>\n",
       "      <td>30</td>\n",
       "      <td>3</td>\n",
       "      <td>0</td>\n",
       "      <td>64000</td>\n",
       "      <td>1000000</td>\n",
       "    </tr>\n",
       "    <tr>\n",
       "      <th>1</th>\n",
       "      <td>46</td>\n",
       "      <td>virtual</td>\n",
       "      <td>join</td>\n",
       "      <td>uniform</td>\n",
       "      <td>colocate-random-random</td>\n",
       "      <td>12</td>\n",
       "      <td>0</td>\n",
       "      <td>exact-match</td>\n",
       "      <td>30</td>\n",
       "      <td>3</td>\n",
       "      <td>0</td>\n",
       "      <td>64000</td>\n",
       "      <td>1000000</td>\n",
       "    </tr>\n",
       "    <tr>\n",
       "      <th>2</th>\n",
       "      <td>63</td>\n",
       "      <td>virtual</td>\n",
       "      <td>join</td>\n",
       "      <td>uniform</td>\n",
       "      <td>colocate-random-random</td>\n",
       "      <td>12</td>\n",
       "      <td>0</td>\n",
       "      <td>exact-match</td>\n",
       "      <td>30</td>\n",
       "      <td>3</td>\n",
       "      <td>0</td>\n",
       "      <td>64000</td>\n",
       "      <td>1000000</td>\n",
       "    </tr>\n",
       "    <tr>\n",
       "      <th>3</th>\n",
       "      <td>88</td>\n",
       "      <td>virtual</td>\n",
       "      <td>join</td>\n",
       "      <td>uniform</td>\n",
       "      <td>colocate-random-random</td>\n",
       "      <td>12</td>\n",
       "      <td>0</td>\n",
       "      <td>exact-match</td>\n",
       "      <td>30</td>\n",
       "      <td>3</td>\n",
       "      <td>0</td>\n",
       "      <td>64000</td>\n",
       "      <td>1000000</td>\n",
       "    </tr>\n",
       "    <tr>\n",
       "      <th>4</th>\n",
       "      <td>31</td>\n",
       "      <td>virtual</td>\n",
       "      <td>join</td>\n",
       "      <td>uniform</td>\n",
       "      <td>colocate-random-random</td>\n",
       "      <td>12</td>\n",
       "      <td>0</td>\n",
       "      <td>exact-match</td>\n",
       "      <td>30</td>\n",
       "      <td>3</td>\n",
       "      <td>0</td>\n",
       "      <td>64000</td>\n",
       "      <td>1000000</td>\n",
       "    </tr>\n",
       "  </tbody>\n",
       "</table>\n",
       "</div>"
      ],
      "text/plain": [
       "   updates   switch event groupSizeDist           placementDist  \\\n",
       "0        1  virtual  join       uniform  colocate-random-random   \n",
       "1       46  virtual  join       uniform  colocate-random-random   \n",
       "2       63  virtual  join       uniform  colocate-random-random   \n",
       "3       88  virtual  join       uniform  colocate-random-random   \n",
       "4       31  virtual  join       uniform  colocate-random-random   \n",
       "\n",
       "   colocateNumHostsPerLeaf  seed    algorithm  numBitmaps  numLeafsPerBitmap  \\\n",
       "0                       12     0  exact-match          30                  3   \n",
       "1                       12     0  exact-match          30                  3   \n",
       "2                       12     0  exact-match          30                  3   \n",
       "3                       12     0  exact-match          30                  3   \n",
       "4                       12     0  exact-match          30                  3   \n",
       "\n",
       "   redundancyPerBitmap  numRulesPerLeaf  numEvents  \n",
       "0                    0            64000    1000000  \n",
       "1                    0            64000    1000000  \n",
       "2                    0            64000    1000000  \n",
       "3                    0            64000    1000000  \n",
       "4                    0            64000    1000000  "
      ]
     },
     "execution_count": 10,
     "metadata": {},
     "output_type": "execute_result"
    }
   ],
   "source": [
    "switch_event_types_to_update_count.head()"
   ]
  },
  {
   "cell_type": "code",
   "execution_count": null,
   "metadata": {
    "collapsed": true
   },
   "outputs": [],
   "source": []
  },
  {
   "cell_type": "code",
   "execution_count": 12,
   "metadata": {},
   "outputs": [
    {
     "data": {
      "image/png": "[encoded data removed]"
     },
     "metadata": {},
     "output_type": "display_data"
    }
   ],
   "source": [
    "%%R -i switch_event_types_to_update_count\n",
    "ggplot(switch_event_types_to_update_count) +\n",
    "   geom_boxplot(aes(y=updates, x=factor(event), \n",
    "                    fill=interaction(algorithm, numLeafsPerBitmap, redundancyPerBitmap,\n",
    "                                    numRulesPerLeaf, colocateNumHostsPerLeaf)),\n",
    "                outlier.size=0.5) +\n",
    "   facet_grid(groupSizeDist ~ switch) +\n",
    "   xlab(\"Event Type\") +\n",
    "   ylab(\"Number of updates\") +\n",
    "   plotTheme"
   ]
  },
  {
   "cell_type": "code",
   "execution_count": 14,
   "metadata": {},
   "outputs": [
    {
     "data": {
      "image/png": "[encoded data removed]"
     },
     "metadata": {},
     "output_type": "display_data"
    }
   ],
   "source": [
    "%%R -i switch_event_types_to_update_count\n",
    "ggplot(switch_event_types_to_update_count) +\n",
    "   stat_ecdf(aes(x=updates, col=interaction(algorithm, numLeafsPerBitmap, redundancyPerBitmap, \n",
    "                                            numRulesPerLeaf, colocateNumHostsPerLeaf))) +\n",
    "   facet_grid(groupSizeDist * numBitmaps ~ switch * event) +\n",
    "   ggtitle(\"Event updates distribution\") +\n",
    "   xlab(\"Number of updates\") +\n",
    "   plotTheme"
   ]
  },
  {
   "cell_type": "code",
   "execution_count": null,
   "metadata": {
    "collapsed": true
   },
   "outputs": [],
   "source": []
  }
 ],
 "metadata": {
  "kernelspec": {
   "display_name": "Python 3",
   "language": "python",
   "name": "python3"
  },
  "language_info": {
   "codemirror_mode": {
    "name": "ipython",
    "version": 3
   },
   "file_extension": ".py",
   "mimetype": "text/x-python",
   "name": "python",
   "nbconvert_exporter": "python",
   "pygments_lexer": "ipython3",
   "version": "3.6.2"
  }
 },
 "nbformat": 4,
 "nbformat_minor": 2
}
