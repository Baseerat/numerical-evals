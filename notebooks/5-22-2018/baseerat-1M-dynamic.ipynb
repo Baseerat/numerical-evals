{
 "cells": [
  {
   "cell_type": "code",
   "execution_count": 1,
   "metadata": {
    "collapsed": true
   },
   "outputs": [],
   "source": [
    "import warnings\n",
    "warnings.filterwarnings('ignore')\n",
    "# For ignoring warnings printed by R magic commands"
   ]
  },
  {
   "cell_type": "code",
   "execution_count": 2,
   "metadata": {
    "collapsed": true
   },
   "outputs": [],
   "source": [
    "import os\n",
    "import glob"
   ]
  },
  {
   "cell_type": "code",
   "execution_count": 3,
   "metadata": {
    "collapsed": true
   },
   "outputs": [],
   "source": [
    "# Import pandas\n",
    "import pandas as pd"
   ]
  },
  {
   "cell_type": "code",
   "execution_count": 4,
   "metadata": {
    "collapsed": true
   },
   "outputs": [],
   "source": [
    "# Load R magic\n",
    "%load_ext rpy2.ipython\n",
    "# Import ggplot2\n",
    "%R require(ggplot2);"
   ]
  },
  {
   "cell_type": "code",
   "execution_count": null,
   "metadata": {
    "collapsed": true
   },
   "outputs": [],
   "source": []
  },
  {
   "cell_type": "code",
   "execution_count": 5,
   "metadata": {
    "collapsed": true
   },
   "outputs": [],
   "source": [
    "# If experiment parameters change, modify this function\n",
    "def AddParametersAsColumns(df, folder):\n",
    "    expParams = folder.split('/')[-1].split('.')\n",
    "    \n",
    "    cloudParams = expParams[1].split('_')\n",
    "    df['groupSizeDist'] = cloudParams[10]\n",
    "    df['placementDist'] = cloudParams[11]\n",
    "    df['placementNumHostsPerLeaf'] = 'uniform' if cloudParams[12] == '-1' else cloudParams[12]\n",
    "    df['seed'] = int(cloudParams[15])\n",
    "    \n",
    "    optimizerParams_0 = expParams[2].split('_')\n",
    "    node_type_0 = optimizerParams_0[7]\n",
    "    df['%sAlgorithm' % node_type_0] = optimizerParams_0[0]\n",
    "    df['%sNumBitmaps' % node_type_0] = int(optimizerParams_0[1])\n",
    "    df['%sNumNodesPerBitmap' % node_type_0] = int(optimizerParams_0[2])\n",
    "    df['%sRedundancyPerBitmap' % node_type_0] = int(optimizerParams_0[3])\n",
    "    df['%sNumRules' % node_type_0] = int(optimizerParams_0[4])\n",
    "    \n",
    "    if len(expParams) > 3:\n",
    "        optimizerParams_1 = expParams[3].split('_')\n",
    "        node_type_1 = optimizerParams_1[7]\n",
    "        df['%sAlgorithm' % node_type_1] = optimizerParams_1[0]\n",
    "        df['%sNumBitmaps' % node_type_1] = int(optimizerParams_1[1])\n",
    "        df['%sNumNodesPerBitmap' % node_type_1] = int(optimizerParams_1[2])\n",
    "        df['%sRedundancyPerBitmap' % node_type_1] = int(optimizerParams_1[3])\n",
    "        df['%sNumRules' % node_type_1] = int(optimizerParams_1[4])\n",
    "        \n",
    "        dynamicParams = expParams[4].split('_')\n",
    "        df['numEvents'] = int(dynamicParams[0])\n",
    "    else:\n",
    "        dynamicParams = expParams[3].split('_')\n",
    "        df['numEvents'] = int(dynamicParams[0])\n",
    "    \n",
    "# Turns all files of a given filname across a set of folders into a single dataframe\n",
    "def DataSetAsDataFrame(filename, folders, headers, header=None, reset_index=True):\n",
    "    # Read dataset as dataframe\n",
    "    def ReadDataSet(folder):\n",
    "        df = pd.read_csv(folder + '/' + filename, sep=',', header=header, names=headers)\n",
    "        AddParametersAsColumns(df, folder)\n",
    "        return df\n",
    "    # Get the list of dataframes\n",
    "    dfs = map(ReadDataSet, folders)\n",
    "    # Combine into a single dataframe\n",
    "    df = pd.concat(dfs)\n",
    "    if reset_index:\n",
    "        df.reset_index(inplace=True)\n",
    "        df.drop('index', axis=1, inplace=True)\n",
    "    return df"
   ]
  },
  {
   "cell_type": "code",
   "execution_count": null,
   "metadata": {
    "collapsed": true
   },
   "outputs": [],
   "source": []
  },
  {
   "cell_type": "code",
   "execution_count": 6,
   "metadata": {
    "collapsed": true
   },
   "outputs": [],
   "source": [
    "%%R \n",
    "plotTheme <- theme(legend.title=element_blank(), legend.position=\"top\", legend.text=element_text(size=6))"
   ]
  },
  {
   "cell_type": "code",
   "execution_count": 7,
   "metadata": {
    "collapsed": true
   },
   "outputs": [],
   "source": [
    "directory = '/mnt/sdb1/baseerat/numerical-evals/5-22-2018/logs-1M/'\n",
    "# folders = glob.glob(\"logs*_0.*\")\n",
    "folders = glob.glob(directory + \"dynamic-logs.*_0.*\")"
   ]
  },
  {
   "cell_type": "code",
   "execution_count": null,
   "metadata": {
    "collapsed": true
   },
   "outputs": [],
   "source": []
  },
  {
   "cell_type": "code",
   "execution_count": 8,
   "metadata": {
    "collapsed": true
   },
   "outputs": [],
   "source": [
    "perSwitchUpdateCount = DataSetAsDataFrame('per_switch_update_count.csv',\n",
    "                                          folders, ['updates', 'switch'],\n",
    "                                          header=0)"
   ]
  },
  {
   "cell_type": "code",
   "execution_count": 9,
   "metadata": {
    "collapsed": false
   },
   "outputs": [
    {
     "data": {
      "text/html": [
       "<div>\n",
       "<style scoped>\n",
       "    .dataframe tbody tr th:only-of-type {\n",
       "        vertical-align: middle;\n",
       "    }\n",
       "\n",
       "    .dataframe tbody tr th {\n",
       "        vertical-align: top;\n",
       "    }\n",
       "\n",
       "    .dataframe thead th {\n",
       "        text-align: right;\n",
       "    }\n",
       "</style>\n",
       "<table border=\"1\" class=\"dataframe\">\n",
       "  <thead>\n",
       "    <tr style=\"text-align: right;\">\n",
       "      <th></th>\n",
       "      <th>updates</th>\n",
       "      <th>switch</th>\n",
       "      <th>groupSizeDist</th>\n",
       "      <th>placementDist</th>\n",
       "      <th>placementNumHostsPerLeaf</th>\n",
       "      <th>seed</th>\n",
       "      <th>podsAlgorithm</th>\n",
       "      <th>podsNumBitmaps</th>\n",
       "      <th>podsNumNodesPerBitmap</th>\n",
       "      <th>podsRedundancyPerBitmap</th>\n",
       "      <th>podsNumRules</th>\n",
       "      <th>leafsAlgorithm</th>\n",
       "      <th>leafsNumBitmaps</th>\n",
       "      <th>leafsNumNodesPerBitmap</th>\n",
       "      <th>leafsRedundancyPerBitmap</th>\n",
       "      <th>leafsNumRules</th>\n",
       "      <th>numEvents</th>\n",
       "    </tr>\n",
       "  </thead>\n",
       "  <tbody>\n",
       "    <tr>\n",
       "      <th>0</th>\n",
       "      <td>25660</td>\n",
       "      <td>virtual</td>\n",
       "      <td>uniform</td>\n",
       "      <td>colocate-uniform</td>\n",
       "      <td>uniform</td>\n",
       "      <td>0</td>\n",
       "      <td>random-fuzzy-match</td>\n",
       "      <td>2</td>\n",
       "      <td>3</td>\n",
       "      <td>6</td>\n",
       "      <td>64000</td>\n",
       "      <td>random-fuzzy-match</td>\n",
       "      <td>30</td>\n",
       "      <td>3</td>\n",
       "      <td>12</td>\n",
       "      <td>64000</td>\n",
       "      <td>1000000</td>\n",
       "    </tr>\n",
       "    <tr>\n",
       "      <th>1</th>\n",
       "      <td>20488</td>\n",
       "      <td>virtual</td>\n",
       "      <td>uniform</td>\n",
       "      <td>colocate-uniform</td>\n",
       "      <td>uniform</td>\n",
       "      <td>0</td>\n",
       "      <td>random-fuzzy-match</td>\n",
       "      <td>2</td>\n",
       "      <td>3</td>\n",
       "      <td>6</td>\n",
       "      <td>64000</td>\n",
       "      <td>random-fuzzy-match</td>\n",
       "      <td>30</td>\n",
       "      <td>3</td>\n",
       "      <td>12</td>\n",
       "      <td>64000</td>\n",
       "      <td>1000000</td>\n",
       "    </tr>\n",
       "    <tr>\n",
       "      <th>2</th>\n",
       "      <td>25888</td>\n",
       "      <td>virtual</td>\n",
       "      <td>uniform</td>\n",
       "      <td>colocate-uniform</td>\n",
       "      <td>uniform</td>\n",
       "      <td>0</td>\n",
       "      <td>random-fuzzy-match</td>\n",
       "      <td>2</td>\n",
       "      <td>3</td>\n",
       "      <td>6</td>\n",
       "      <td>64000</td>\n",
       "      <td>random-fuzzy-match</td>\n",
       "      <td>30</td>\n",
       "      <td>3</td>\n",
       "      <td>12</td>\n",
       "      <td>64000</td>\n",
       "      <td>1000000</td>\n",
       "    </tr>\n",
       "    <tr>\n",
       "      <th>3</th>\n",
       "      <td>15690</td>\n",
       "      <td>virtual</td>\n",
       "      <td>uniform</td>\n",
       "      <td>colocate-uniform</td>\n",
       "      <td>uniform</td>\n",
       "      <td>0</td>\n",
       "      <td>random-fuzzy-match</td>\n",
       "      <td>2</td>\n",
       "      <td>3</td>\n",
       "      <td>6</td>\n",
       "      <td>64000</td>\n",
       "      <td>random-fuzzy-match</td>\n",
       "      <td>30</td>\n",
       "      <td>3</td>\n",
       "      <td>12</td>\n",
       "      <td>64000</td>\n",
       "      <td>1000000</td>\n",
       "    </tr>\n",
       "    <tr>\n",
       "      <th>4</th>\n",
       "      <td>21804</td>\n",
       "      <td>virtual</td>\n",
       "      <td>uniform</td>\n",
       "      <td>colocate-uniform</td>\n",
       "      <td>uniform</td>\n",
       "      <td>0</td>\n",
       "      <td>random-fuzzy-match</td>\n",
       "      <td>2</td>\n",
       "      <td>3</td>\n",
       "      <td>6</td>\n",
       "      <td>64000</td>\n",
       "      <td>random-fuzzy-match</td>\n",
       "      <td>30</td>\n",
       "      <td>3</td>\n",
       "      <td>12</td>\n",
       "      <td>64000</td>\n",
       "      <td>1000000</td>\n",
       "    </tr>\n",
       "  </tbody>\n",
       "</table>\n",
       "</div>"
      ],
      "text/plain": [
       "   updates   switch groupSizeDist     placementDist placementNumHostsPerLeaf  \\\n",
       "0    25660  virtual       uniform  colocate-uniform                  uniform   \n",
       "1    20488  virtual       uniform  colocate-uniform                  uniform   \n",
       "2    25888  virtual       uniform  colocate-uniform                  uniform   \n",
       "3    15690  virtual       uniform  colocate-uniform                  uniform   \n",
       "4    21804  virtual       uniform  colocate-uniform                  uniform   \n",
       "\n",
       "   seed       podsAlgorithm  podsNumBitmaps  podsNumNodesPerBitmap  \\\n",
       "0     0  random-fuzzy-match               2                      3   \n",
       "1     0  random-fuzzy-match               2                      3   \n",
       "2     0  random-fuzzy-match               2                      3   \n",
       "3     0  random-fuzzy-match               2                      3   \n",
       "4     0  random-fuzzy-match               2                      3   \n",
       "\n",
       "   podsRedundancyPerBitmap  podsNumRules      leafsAlgorithm  leafsNumBitmaps  \\\n",
       "0                        6         64000  random-fuzzy-match               30   \n",
       "1                        6         64000  random-fuzzy-match               30   \n",
       "2                        6         64000  random-fuzzy-match               30   \n",
       "3                        6         64000  random-fuzzy-match               30   \n",
       "4                        6         64000  random-fuzzy-match               30   \n",
       "\n",
       "   leafsNumNodesPerBitmap  leafsRedundancyPerBitmap  leafsNumRules  numEvents  \n",
       "0                       3                        12          64000    1000000  \n",
       "1                       3                        12          64000    1000000  \n",
       "2                       3                        12          64000    1000000  \n",
       "3                       3                        12          64000    1000000  \n",
       "4                       3                        12          64000    1000000  "
      ]
     },
     "execution_count": 9,
     "metadata": {},
     "output_type": "execute_result"
    }
   ],
   "source": [
    "perSwitchUpdateCount.head()"
   ]
  },
  {
   "cell_type": "code",
   "execution_count": 13,
   "metadata": {
    "collapsed": true
   },
   "outputs": [],
   "source": [
    "num_events = 1000000\n",
    "events_per_sec = 1000"
   ]
  },
  {
   "cell_type": "code",
   "execution_count": null,
   "metadata": {
    "collapsed": true
   },
   "outputs": [],
   "source": []
  },
  {
   "cell_type": "code",
   "execution_count": 10,
   "metadata": {
    "collapsed": false
   },
   "outputs": [
    {
     "data": {
      "text/plain": [
       "count    27648.000000\n",
       "mean     20956.514034\n",
       "std       7948.062247\n",
       "min       3043.000000\n",
       "25%      14998.750000\n",
       "50%      20784.500000\n",
       "75%      27248.250000\n",
       "max      45099.000000\n",
       "Name: updates, dtype: float64"
      ]
     },
     "execution_count": 10,
     "metadata": {},
     "output_type": "execute_result"
    }
   ],
   "source": [
    "perSwitchUpdateCount[\n",
    "    (perSwitchUpdateCount['groupSizeDist'] == 'wve') &\n",
    "    (perSwitchUpdateCount['switch'] == 'virtual')]['updates'].describe()"
   ]
  },
  {
   "cell_type": "code",
   "execution_count": 11,
   "metadata": {
    "collapsed": false
   },
   "outputs": [
    {
     "data": {
      "text/plain": [
       "count    27648.000000\n",
       "mean     30137.885634\n",
       "std      13531.281889\n",
       "min        941.000000\n",
       "25%      19371.250000\n",
       "50%      27691.500000\n",
       "75%      40172.000000\n",
       "max      72382.000000\n",
       "Name: updates, dtype: float64"
      ]
     },
     "execution_count": 11,
     "metadata": {},
     "output_type": "execute_result"
    }
   ],
   "source": [
    "perSwitchUpdateCount[\n",
    "    (perSwitchUpdateCount['groupSizeDist'] == 'uniform') &\n",
    "    (perSwitchUpdateCount['switch'] == 'virtual')]['updates'].describe()"
   ]
  },
  {
   "cell_type": "code",
   "execution_count": 20,
   "metadata": {
    "collapsed": false
   },
   "outputs": [
    {
     "name": "stdout",
     "output_type": "stream",
     "text": [
      "virtual switch updates with 1000 events per seconds: 45.099000000000004\n"
     ]
    }
   ],
   "source": [
    "max_updates = perSwitchUpdateCount[\n",
    "    (perSwitchUpdateCount['groupSizeDist'] == 'wve') &\n",
    "    (perSwitchUpdateCount['switch'] == 'virtual')]['updates'].max()\n",
    "print(\"virtual switch updates with %s events per seconds: \" % (events_per_sec) + str(max_updates/num_events*events_per_sec))"
   ]
  },
  {
   "cell_type": "code",
   "execution_count": null,
   "metadata": {
    "collapsed": true
   },
   "outputs": [],
   "source": []
  },
  {
   "cell_type": "code",
   "execution_count": 15,
   "metadata": {
    "collapsed": false
   },
   "outputs": [
    {
     "data": {
      "text/plain": [
       "count      576.000000\n",
       "mean      4297.439236\n",
       "std       2281.949367\n",
       "min        432.000000\n",
       "25%       2816.750000\n",
       "50%       3915.000000\n",
       "75%       5807.500000\n",
       "max      12670.000000\n",
       "Name: updates, dtype: float64"
      ]
     },
     "execution_count": 15,
     "metadata": {},
     "output_type": "execute_result"
    }
   ],
   "source": [
    "perSwitchUpdateCount[\n",
    "    (perSwitchUpdateCount['groupSizeDist'] == 'wve') &\n",
    "    (perSwitchUpdateCount['switch'] == 'leaf')]['updates'].describe()"
   ]
  },
  {
   "cell_type": "code",
   "execution_count": 16,
   "metadata": {
    "collapsed": false
   },
   "outputs": [
    {
     "data": {
      "text/plain": [
       "count      576.000000\n",
       "mean      5337.942708\n",
       "std       2327.189449\n",
       "min        730.000000\n",
       "25%       3280.500000\n",
       "50%       5618.500000\n",
       "75%       6879.000000\n",
       "max      11756.000000\n",
       "Name: updates, dtype: float64"
      ]
     },
     "execution_count": 16,
     "metadata": {},
     "output_type": "execute_result"
    }
   ],
   "source": [
    "perSwitchUpdateCount[\n",
    "    (perSwitchUpdateCount['groupSizeDist'] == 'uniform') &\n",
    "    (perSwitchUpdateCount['switch'] == 'leaf')]['updates'].describe()"
   ]
  },
  {
   "cell_type": "code",
   "execution_count": 21,
   "metadata": {
    "collapsed": false
   },
   "outputs": [
    {
     "name": "stdout",
     "output_type": "stream",
     "text": [
      "leaf switch updates with 1000 events per seconds: 12.67\n"
     ]
    }
   ],
   "source": [
    "max_updates = perSwitchUpdateCount[\n",
    "    (perSwitchUpdateCount['groupSizeDist'] == 'wve') &\n",
    "    (perSwitchUpdateCount['switch'] == 'leaf')]['updates'].max()\n",
    "print(\"leaf switch updates with %s events per seconds: \" % (events_per_sec) + str(max_updates/num_events*events_per_sec))"
   ]
  },
  {
   "cell_type": "code",
   "execution_count": null,
   "metadata": {
    "collapsed": true
   },
   "outputs": [],
   "source": []
  },
  {
   "cell_type": "code",
   "execution_count": 22,
   "metadata": {
    "collapsed": false
   },
   "outputs": [
    {
     "data": {
      "text/plain": [
       "count      12.000000\n",
       "mean     3584.166667\n",
       "std      2170.420271\n",
       "min       609.000000\n",
       "25%      1864.000000\n",
       "50%      3293.500000\n",
       "75%      5601.250000\n",
       "max      6601.000000\n",
       "Name: updates, dtype: float64"
      ]
     },
     "execution_count": 22,
     "metadata": {},
     "output_type": "execute_result"
    }
   ],
   "source": [
    "perSwitchUpdateCount[\n",
    "    (perSwitchUpdateCount['groupSizeDist'] == 'wve') &\n",
    "    (perSwitchUpdateCount['switch'] == 'pod')]['updates'].describe()"
   ]
  },
  {
   "cell_type": "code",
   "execution_count": 24,
   "metadata": {
    "collapsed": false
   },
   "outputs": [
    {
     "data": {
      "text/plain": [
       "count    12.000000\n",
       "mean     16.916667\n",
       "std      10.672465\n",
       "min       0.000000\n",
       "25%       8.750000\n",
       "50%      16.500000\n",
       "75%      23.250000\n",
       "max      39.000000\n",
       "Name: updates, dtype: float64"
      ]
     },
     "execution_count": 24,
     "metadata": {},
     "output_type": "execute_result"
    }
   ],
   "source": [
    "perSwitchUpdateCount[\n",
    "    (perSwitchUpdateCount['groupSizeDist'] == 'uniform') &\n",
    "    (perSwitchUpdateCount['switch'] == 'pod')]['updates'].describe()"
   ]
  },
  {
   "cell_type": "code",
   "execution_count": 25,
   "metadata": {
    "collapsed": false
   },
   "outputs": [
    {
     "name": "stdout",
     "output_type": "stream",
     "text": [
      "spine switch updates with 1000 events per seconds: 6.601\n"
     ]
    }
   ],
   "source": [
    "max_updates = perSwitchUpdateCount[\n",
    "    (perSwitchUpdateCount['groupSizeDist'] == 'wve') &\n",
    "    (perSwitchUpdateCount['switch'] == 'pod')]['updates'].max()\n",
    "print(\"spine switch updates with %s events per seconds: \" % (events_per_sec) + str(max_updates/num_events*events_per_sec))"
   ]
  },
  {
   "cell_type": "code",
   "execution_count": null,
   "metadata": {
    "collapsed": true
   },
   "outputs": [],
   "source": []
  }
 ],
 "metadata": {
  "kernelspec": {
   "display_name": "Python 3",
   "language": "python",
   "name": "python3"
  },
  "language_info": {
   "codemirror_mode": {
    "name": "ipython",
    "version": 3
   },
   "file_extension": ".py",
   "mimetype": "text/x-python",
   "name": "python",
   "nbconvert_exporter": "python",
   "pygments_lexer": "ipython3",
   "version": "3.5.2"
  }
 },
 "nbformat": 4,
 "nbformat_minor": 2
}
