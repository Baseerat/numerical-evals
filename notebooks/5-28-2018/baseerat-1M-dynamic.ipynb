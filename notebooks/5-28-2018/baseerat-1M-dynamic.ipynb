{
 "cells": [
  {
   "cell_type": "code",
   "execution_count": 1,
   "metadata": {
    "collapsed": true
   },
   "outputs": [],
   "source": [
    "import warnings\n",
    "warnings.filterwarnings('ignore')\n",
    "# For ignoring warnings printed by R magic commands"
   ]
  },
  {
   "cell_type": "code",
   "execution_count": 2,
   "metadata": {
    "collapsed": true
   },
   "outputs": [],
   "source": [
    "import os\n",
    "import glob\n",
    "from math import ceil"
   ]
  },
  {
   "cell_type": "code",
   "execution_count": 3,
   "metadata": {
    "collapsed": true
   },
   "outputs": [],
   "source": [
    "# Import pandas\n",
    "import pandas as pd"
   ]
  },
  {
   "cell_type": "code",
   "execution_count": 4,
   "metadata": {
    "collapsed": true
   },
   "outputs": [],
   "source": [
    "# Load R magic\n",
    "%load_ext rpy2.ipython\n",
    "# Import ggplot2\n",
    "%R require(ggplot2);"
   ]
  },
  {
   "cell_type": "code",
   "execution_count": null,
   "metadata": {
    "collapsed": true
   },
   "outputs": [],
   "source": []
  },
  {
   "cell_type": "code",
   "execution_count": 5,
   "metadata": {
    "collapsed": true
   },
   "outputs": [],
   "source": [
    "# If experiment parameters change, modify this function\n",
    "def AddParametersAsColumns(df, folder):\n",
    "    expParams = folder.split('/')[-1].split('.')\n",
    "    \n",
    "    cloudParams = expParams[1].split('_')\n",
    "    df['groupSizeDist'] = cloudParams[10]\n",
    "    df['placementDist'] = cloudParams[11]\n",
    "    df['placementNumHostsPerLeaf'] = 'uniform' if cloudParams[12] == '-1' else cloudParams[12]\n",
    "    df['seed'] = int(cloudParams[15])\n",
    "    \n",
    "    optimizerParams_0 = expParams[2].split('_')\n",
    "    node_type_0 = optimizerParams_0[7]\n",
    "    df['%sAlgorithm' % node_type_0] = optimizerParams_0[0]\n",
    "    df['%sNumBitmaps' % node_type_0] = int(optimizerParams_0[1])\n",
    "    df['%sNumNodesPerBitmap' % node_type_0] = int(optimizerParams_0[2])\n",
    "    df['%sRedundancyPerBitmap' % node_type_0] = int(optimizerParams_0[3])\n",
    "    df['%sNumRules' % node_type_0] = int(optimizerParams_0[4])\n",
    "    \n",
    "    if len(expParams) > 3:\n",
    "        optimizerParams_1 = expParams[3].split('_')\n",
    "        node_type_1 = optimizerParams_1[7]\n",
    "        df['%sAlgorithm' % node_type_1] = optimizerParams_1[0]\n",
    "        df['%sNumBitmaps' % node_type_1] = int(optimizerParams_1[1])\n",
    "        df['%sNumNodesPerBitmap' % node_type_1] = int(optimizerParams_1[2])\n",
    "        df['%sRedundancyPerBitmap' % node_type_1] = int(optimizerParams_1[3])\n",
    "        df['%sNumRules' % node_type_1] = int(optimizerParams_1[4])\n",
    "        \n",
    "        dynamicParams = expParams[4].split('_')\n",
    "        df['numEvents'] = int(dynamicParams[0])\n",
    "        df['failedNodeType'] = dynamicParams[1]\n",
    "        df['numSpinesPerPod'] = dynamicParams[2]\n",
    "    else:\n",
    "        dynamicParams = expParams[3].split('_')\n",
    "        df['numEvents'] = int(dynamicParams[0])\n",
    "        df['failedNodeType'] = dynamicParams[1]\n",
    "        df['numSpinesPerPod'] = dynamicParams[2]\n",
    "    \n",
    "# Turns all files of a given filname across a set of folders into a single dataframe\n",
    "def DataSetAsDataFrame(filename, folders, headers, header=None, reset_index=True):\n",
    "    # Read dataset as dataframe\n",
    "    def ReadDataSet(folder):\n",
    "        df = pd.read_csv(folder + '/' + filename, sep=',', header=header, names=headers)\n",
    "        AddParametersAsColumns(df, folder)\n",
    "        return df\n",
    "    # Get the list of dataframes\n",
    "    dfs = map(ReadDataSet, folders)\n",
    "    # Combine into a single dataframe\n",
    "    df = pd.concat(dfs)\n",
    "    if reset_index:\n",
    "        df.reset_index(inplace=True)\n",
    "        df.drop('index', axis=1, inplace=True)\n",
    "    return df"
   ]
  },
  {
   "cell_type": "code",
   "execution_count": null,
   "metadata": {
    "collapsed": true
   },
   "outputs": [],
   "source": []
  },
  {
   "cell_type": "code",
   "execution_count": 6,
   "metadata": {
    "collapsed": true
   },
   "outputs": [],
   "source": [
    "%%R \n",
    "plotTheme <- theme(legend.title=element_blank(), legend.position=\"top\", legend.text=element_text(size=6))"
   ]
  },
  {
   "cell_type": "code",
   "execution_count": 10,
   "metadata": {
    "collapsed": true
   },
   "outputs": [],
   "source": [
    "directory = '/mnt/sdb1/baseerat/numerical-evals/5-28-2018/logs-1M/'\n",
    "# folders = glob.glob(\"logs*_0.*\")\n",
    "folders = glob.glob(directory + \"dynamic-logs.*.*\")"
   ]
  },
  {
   "cell_type": "code",
   "execution_count": null,
   "metadata": {
    "collapsed": true
   },
   "outputs": [],
   "source": []
  },
  {
   "cell_type": "code",
   "execution_count": 11,
   "metadata": {
    "collapsed": true
   },
   "outputs": [],
   "source": [
    "groupCount = DataSetAsDataFrame('group_count.csv',\n",
    "                                 folders, ['count'])"
   ]
  },
  {
   "cell_type": "code",
   "execution_count": 12,
   "metadata": {
    "collapsed": false
   },
   "outputs": [
    {
     "data": {
      "text/html": [
       "<div>\n",
       "<style scoped>\n",
       "    .dataframe tbody tr th:only-of-type {\n",
       "        vertical-align: middle;\n",
       "    }\n",
       "\n",
       "    .dataframe tbody tr th {\n",
       "        vertical-align: top;\n",
       "    }\n",
       "\n",
       "    .dataframe thead th {\n",
       "        text-align: right;\n",
       "    }\n",
       "</style>\n",
       "<table border=\"1\" class=\"dataframe\">\n",
       "  <thead>\n",
       "    <tr style=\"text-align: right;\">\n",
       "      <th></th>\n",
       "      <th>count</th>\n",
       "      <th>groupSizeDist</th>\n",
       "      <th>placementDist</th>\n",
       "      <th>placementNumHostsPerLeaf</th>\n",
       "      <th>seed</th>\n",
       "      <th>podsAlgorithm</th>\n",
       "      <th>podsNumBitmaps</th>\n",
       "      <th>podsNumNodesPerBitmap</th>\n",
       "      <th>podsRedundancyPerBitmap</th>\n",
       "      <th>podsNumRules</th>\n",
       "      <th>leafsAlgorithm</th>\n",
       "      <th>leafsNumBitmaps</th>\n",
       "      <th>leafsNumNodesPerBitmap</th>\n",
       "      <th>leafsRedundancyPerBitmap</th>\n",
       "      <th>leafsNumRules</th>\n",
       "      <th>numEvents</th>\n",
       "      <th>failedNodeType</th>\n",
       "      <th>numSpinesPerPod</th>\n",
       "    </tr>\n",
       "  </thead>\n",
       "  <tbody>\n",
       "    <tr>\n",
       "      <th>0</th>\n",
       "      <td>258110</td>\n",
       "      <td>wve</td>\n",
       "      <td>colocate-uniform</td>\n",
       "      <td>uniform</td>\n",
       "      <td>0</td>\n",
       "      <td>random-fuzzy-match</td>\n",
       "      <td>2</td>\n",
       "      <td>3</td>\n",
       "      <td>6</td>\n",
       "      <td>64000</td>\n",
       "      <td>random-fuzzy-match</td>\n",
       "      <td>30</td>\n",
       "      <td>3</td>\n",
       "      <td>12</td>\n",
       "      <td>64000</td>\n",
       "      <td>10000</td>\n",
       "      <td>core</td>\n",
       "      <td>4</td>\n",
       "    </tr>\n",
       "    <tr>\n",
       "      <th>1</th>\n",
       "      <td>122536</td>\n",
       "      <td>wve</td>\n",
       "      <td>colocate-uniform</td>\n",
       "      <td>uniform</td>\n",
       "      <td>0</td>\n",
       "      <td>random-fuzzy-match</td>\n",
       "      <td>2</td>\n",
       "      <td>3</td>\n",
       "      <td>6</td>\n",
       "      <td>64000</td>\n",
       "      <td>random-fuzzy-match</td>\n",
       "      <td>30</td>\n",
       "      <td>3</td>\n",
       "      <td>12</td>\n",
       "      <td>64000</td>\n",
       "      <td>10000</td>\n",
       "      <td>spine</td>\n",
       "      <td>4</td>\n",
       "    </tr>\n",
       "    <tr>\n",
       "      <th>2</th>\n",
       "      <td>183937</td>\n",
       "      <td>wve</td>\n",
       "      <td>colocate-uniform</td>\n",
       "      <td>uniform</td>\n",
       "      <td>1</td>\n",
       "      <td>random-fuzzy-match</td>\n",
       "      <td>2</td>\n",
       "      <td>3</td>\n",
       "      <td>6</td>\n",
       "      <td>64000</td>\n",
       "      <td>random-fuzzy-match</td>\n",
       "      <td>30</td>\n",
       "      <td>3</td>\n",
       "      <td>48</td>\n",
       "      <td>64000</td>\n",
       "      <td>10000</td>\n",
       "      <td>core</td>\n",
       "      <td>4</td>\n",
       "    </tr>\n",
       "    <tr>\n",
       "      <th>3</th>\n",
       "      <td>105598</td>\n",
       "      <td>wve</td>\n",
       "      <td>colocate-uniform</td>\n",
       "      <td>uniform</td>\n",
       "      <td>1</td>\n",
       "      <td>random-fuzzy-match</td>\n",
       "      <td>2</td>\n",
       "      <td>3</td>\n",
       "      <td>6</td>\n",
       "      <td>64000</td>\n",
       "      <td>random-fuzzy-match</td>\n",
       "      <td>30</td>\n",
       "      <td>3</td>\n",
       "      <td>48</td>\n",
       "      <td>64000</td>\n",
       "      <td>10000</td>\n",
       "      <td>spine</td>\n",
       "      <td>4</td>\n",
       "    </tr>\n",
       "    <tr>\n",
       "      <th>4</th>\n",
       "      <td>226816</td>\n",
       "      <td>wve</td>\n",
       "      <td>colocate-uniform</td>\n",
       "      <td>uniform</td>\n",
       "      <td>2</td>\n",
       "      <td>random-fuzzy-match</td>\n",
       "      <td>2</td>\n",
       "      <td>3</td>\n",
       "      <td>6</td>\n",
       "      <td>64000</td>\n",
       "      <td>random-fuzzy-match</td>\n",
       "      <td>30</td>\n",
       "      <td>3</td>\n",
       "      <td>48</td>\n",
       "      <td>64000</td>\n",
       "      <td>10000</td>\n",
       "      <td>core</td>\n",
       "      <td>4</td>\n",
       "    </tr>\n",
       "    <tr>\n",
       "      <th>5</th>\n",
       "      <td>104691</td>\n",
       "      <td>wve</td>\n",
       "      <td>colocate-uniform</td>\n",
       "      <td>uniform</td>\n",
       "      <td>2</td>\n",
       "      <td>random-fuzzy-match</td>\n",
       "      <td>2</td>\n",
       "      <td>3</td>\n",
       "      <td>6</td>\n",
       "      <td>64000</td>\n",
       "      <td>random-fuzzy-match</td>\n",
       "      <td>30</td>\n",
       "      <td>3</td>\n",
       "      <td>48</td>\n",
       "      <td>64000</td>\n",
       "      <td>10000</td>\n",
       "      <td>spine</td>\n",
       "      <td>4</td>\n",
       "    </tr>\n",
       "  </tbody>\n",
       "</table>\n",
       "</div>"
      ],
      "text/plain": [
       "    count groupSizeDist     placementDist placementNumHostsPerLeaf  seed  \\\n",
       "0  258110           wve  colocate-uniform                  uniform     0   \n",
       "1  122536           wve  colocate-uniform                  uniform     0   \n",
       "2  183937           wve  colocate-uniform                  uniform     1   \n",
       "3  105598           wve  colocate-uniform                  uniform     1   \n",
       "4  226816           wve  colocate-uniform                  uniform     2   \n",
       "5  104691           wve  colocate-uniform                  uniform     2   \n",
       "\n",
       "        podsAlgorithm  podsNumBitmaps  podsNumNodesPerBitmap  \\\n",
       "0  random-fuzzy-match               2                      3   \n",
       "1  random-fuzzy-match               2                      3   \n",
       "2  random-fuzzy-match               2                      3   \n",
       "3  random-fuzzy-match               2                      3   \n",
       "4  random-fuzzy-match               2                      3   \n",
       "5  random-fuzzy-match               2                      3   \n",
       "\n",
       "   podsRedundancyPerBitmap  podsNumRules      leafsAlgorithm  leafsNumBitmaps  \\\n",
       "0                        6         64000  random-fuzzy-match               30   \n",
       "1                        6         64000  random-fuzzy-match               30   \n",
       "2                        6         64000  random-fuzzy-match               30   \n",
       "3                        6         64000  random-fuzzy-match               30   \n",
       "4                        6         64000  random-fuzzy-match               30   \n",
       "5                        6         64000  random-fuzzy-match               30   \n",
       "\n",
       "   leafsNumNodesPerBitmap  leafsRedundancyPerBitmap  leafsNumRules  numEvents  \\\n",
       "0                       3                        12          64000      10000   \n",
       "1                       3                        12          64000      10000   \n",
       "2                       3                        48          64000      10000   \n",
       "3                       3                        48          64000      10000   \n",
       "4                       3                        48          64000      10000   \n",
       "5                       3                        48          64000      10000   \n",
       "\n",
       "  failedNodeType numSpinesPerPod  \n",
       "0           core               4  \n",
       "1          spine               4  \n",
       "2           core               4  \n",
       "3          spine               4  \n",
       "4           core               4  \n",
       "5          spine               4  "
      ]
     },
     "execution_count": 12,
     "metadata": {},
     "output_type": "execute_result"
    }
   ],
   "source": [
    "groupCount"
   ]
  },
  {
   "cell_type": "code",
   "execution_count": 13,
   "metadata": {
    "collapsed": true
   },
   "outputs": [],
   "source": [
    "groupCount['%count'] = groupCount['count'] / 1000000 * 100.0"
   ]
  },
  {
   "cell_type": "code",
   "execution_count": 14,
   "metadata": {
    "collapsed": false
   },
   "outputs": [
    {
     "data": {
      "text/html": [
       "<div>\n",
       "<style scoped>\n",
       "    .dataframe tbody tr th:only-of-type {\n",
       "        vertical-align: middle;\n",
       "    }\n",
       "\n",
       "    .dataframe tbody tr th {\n",
       "        vertical-align: top;\n",
       "    }\n",
       "\n",
       "    .dataframe thead th {\n",
       "        text-align: right;\n",
       "    }\n",
       "</style>\n",
       "<table border=\"1\" class=\"dataframe\">\n",
       "  <thead>\n",
       "    <tr style=\"text-align: right;\">\n",
       "      <th></th>\n",
       "      <th>count</th>\n",
       "      <th>%count</th>\n",
       "    </tr>\n",
       "  </thead>\n",
       "  <tbody>\n",
       "    <tr>\n",
       "      <th>0</th>\n",
       "      <td>258110</td>\n",
       "      <td>25.8110</td>\n",
       "    </tr>\n",
       "    <tr>\n",
       "      <th>1</th>\n",
       "      <td>122536</td>\n",
       "      <td>12.2536</td>\n",
       "    </tr>\n",
       "    <tr>\n",
       "      <th>2</th>\n",
       "      <td>183937</td>\n",
       "      <td>18.3937</td>\n",
       "    </tr>\n",
       "    <tr>\n",
       "      <th>3</th>\n",
       "      <td>105598</td>\n",
       "      <td>10.5598</td>\n",
       "    </tr>\n",
       "    <tr>\n",
       "      <th>4</th>\n",
       "      <td>226816</td>\n",
       "      <td>22.6816</td>\n",
       "    </tr>\n",
       "    <tr>\n",
       "      <th>5</th>\n",
       "      <td>104691</td>\n",
       "      <td>10.4691</td>\n",
       "    </tr>\n",
       "  </tbody>\n",
       "</table>\n",
       "</div>"
      ],
      "text/plain": [
       "    count   %count\n",
       "0  258110  25.8110\n",
       "1  122536  12.2536\n",
       "2  183937  18.3937\n",
       "3  105598  10.5598\n",
       "4  226816  22.6816\n",
       "5  104691  10.4691"
      ]
     },
     "execution_count": 14,
     "metadata": {},
     "output_type": "execute_result"
    }
   ],
   "source": [
    "groupCount[['count', '%count']]"
   ]
  },
  {
   "cell_type": "code",
   "execution_count": 16,
   "metadata": {
    "collapsed": false
   },
   "outputs": [
    {
     "data": {
      "text/html": [
       "<div>\n",
       "<style scoped>\n",
       "    .dataframe tbody tr th:only-of-type {\n",
       "        vertical-align: middle;\n",
       "    }\n",
       "\n",
       "    .dataframe tbody tr th {\n",
       "        vertical-align: top;\n",
       "    }\n",
       "\n",
       "    .dataframe thead th {\n",
       "        text-align: right;\n",
       "    }\n",
       "</style>\n",
       "<table border=\"1\" class=\"dataframe\">\n",
       "  <thead>\n",
       "    <tr style=\"text-align: right;\">\n",
       "      <th></th>\n",
       "      <th>count</th>\n",
       "      <th>%count</th>\n",
       "    </tr>\n",
       "  </thead>\n",
       "  <tbody>\n",
       "    <tr>\n",
       "      <th>count</th>\n",
       "      <td>3.000000</td>\n",
       "      <td>3.000000</td>\n",
       "    </tr>\n",
       "    <tr>\n",
       "      <th>mean</th>\n",
       "      <td>222954.333333</td>\n",
       "      <td>22.295433</td>\n",
       "    </tr>\n",
       "    <tr>\n",
       "      <th>std</th>\n",
       "      <td>37236.982079</td>\n",
       "      <td>3.723698</td>\n",
       "    </tr>\n",
       "    <tr>\n",
       "      <th>min</th>\n",
       "      <td>183937.000000</td>\n",
       "      <td>18.393700</td>\n",
       "    </tr>\n",
       "    <tr>\n",
       "      <th>25%</th>\n",
       "      <td>205376.500000</td>\n",
       "      <td>20.537650</td>\n",
       "    </tr>\n",
       "    <tr>\n",
       "      <th>50%</th>\n",
       "      <td>226816.000000</td>\n",
       "      <td>22.681600</td>\n",
       "    </tr>\n",
       "    <tr>\n",
       "      <th>75%</th>\n",
       "      <td>242463.000000</td>\n",
       "      <td>24.246300</td>\n",
       "    </tr>\n",
       "    <tr>\n",
       "      <th>max</th>\n",
       "      <td>258110.000000</td>\n",
       "      <td>25.811000</td>\n",
       "    </tr>\n",
       "  </tbody>\n",
       "</table>\n",
       "</div>"
      ],
      "text/plain": [
       "               count     %count\n",
       "count       3.000000   3.000000\n",
       "mean   222954.333333  22.295433\n",
       "std     37236.982079   3.723698\n",
       "min    183937.000000  18.393700\n",
       "25%    205376.500000  20.537650\n",
       "50%    226816.000000  22.681600\n",
       "75%    242463.000000  24.246300\n",
       "max    258110.000000  25.811000"
      ]
     },
     "execution_count": 16,
     "metadata": {},
     "output_type": "execute_result"
    }
   ],
   "source": [
    "groupCount[groupCount['failedNodeType'] == 'core'][['count', '%count']].describe()"
   ]
  },
  {
   "cell_type": "code",
   "execution_count": 17,
   "metadata": {
    "collapsed": false
   },
   "outputs": [
    {
     "data": {
      "text/html": [
       "<div>\n",
       "<style scoped>\n",
       "    .dataframe tbody tr th:only-of-type {\n",
       "        vertical-align: middle;\n",
       "    }\n",
       "\n",
       "    .dataframe tbody tr th {\n",
       "        vertical-align: top;\n",
       "    }\n",
       "\n",
       "    .dataframe thead th {\n",
       "        text-align: right;\n",
       "    }\n",
       "</style>\n",
       "<table border=\"1\" class=\"dataframe\">\n",
       "  <thead>\n",
       "    <tr style=\"text-align: right;\">\n",
       "      <th></th>\n",
       "      <th>count</th>\n",
       "      <th>%count</th>\n",
       "    </tr>\n",
       "  </thead>\n",
       "  <tbody>\n",
       "    <tr>\n",
       "      <th>count</th>\n",
       "      <td>3.000000</td>\n",
       "      <td>3.000000</td>\n",
       "    </tr>\n",
       "    <tr>\n",
       "      <th>mean</th>\n",
       "      <td>110941.666667</td>\n",
       "      <td>11.094167</td>\n",
       "    </tr>\n",
       "    <tr>\n",
       "      <th>std</th>\n",
       "      <td>10051.223126</td>\n",
       "      <td>1.005122</td>\n",
       "    </tr>\n",
       "    <tr>\n",
       "      <th>min</th>\n",
       "      <td>104691.000000</td>\n",
       "      <td>10.469100</td>\n",
       "    </tr>\n",
       "    <tr>\n",
       "      <th>25%</th>\n",
       "      <td>105144.500000</td>\n",
       "      <td>10.514450</td>\n",
       "    </tr>\n",
       "    <tr>\n",
       "      <th>50%</th>\n",
       "      <td>105598.000000</td>\n",
       "      <td>10.559800</td>\n",
       "    </tr>\n",
       "    <tr>\n",
       "      <th>75%</th>\n",
       "      <td>114067.000000</td>\n",
       "      <td>11.406700</td>\n",
       "    </tr>\n",
       "    <tr>\n",
       "      <th>max</th>\n",
       "      <td>122536.000000</td>\n",
       "      <td>12.253600</td>\n",
       "    </tr>\n",
       "  </tbody>\n",
       "</table>\n",
       "</div>"
      ],
      "text/plain": [
       "               count     %count\n",
       "count       3.000000   3.000000\n",
       "mean   110941.666667  11.094167\n",
       "std     10051.223126   1.005122\n",
       "min    104691.000000  10.469100\n",
       "25%    105144.500000  10.514450\n",
       "50%    105598.000000  10.559800\n",
       "75%    114067.000000  11.406700\n",
       "max    122536.000000  12.253600"
      ]
     },
     "execution_count": 17,
     "metadata": {},
     "output_type": "execute_result"
    }
   ],
   "source": [
    "groupCount[groupCount['failedNodeType'] == 'spine'][['count', '%count']].describe()"
   ]
  },
  {
   "cell_type": "code",
   "execution_count": null,
   "metadata": {
    "collapsed": true
   },
   "outputs": [],
   "source": []
  },
  {
   "cell_type": "code",
   "execution_count": 18,
   "metadata": {
    "collapsed": true
   },
   "outputs": [],
   "source": [
    "perSwitchUpdateCount = DataSetAsDataFrame('per_switch_update_count.csv',\n",
    "                                          folders, ['updates', 'switch'],\n",
    "                                          header=0)"
   ]
  },
  {
   "cell_type": "code",
   "execution_count": 19,
   "metadata": {
    "collapsed": false
   },
   "outputs": [
    {
     "data": {
      "text/html": [
       "<div>\n",
       "<style scoped>\n",
       "    .dataframe tbody tr th:only-of-type {\n",
       "        vertical-align: middle;\n",
       "    }\n",
       "\n",
       "    .dataframe tbody tr th {\n",
       "        vertical-align: top;\n",
       "    }\n",
       "\n",
       "    .dataframe thead th {\n",
       "        text-align: right;\n",
       "    }\n",
       "</style>\n",
       "<table border=\"1\" class=\"dataframe\">\n",
       "  <thead>\n",
       "    <tr style=\"text-align: right;\">\n",
       "      <th></th>\n",
       "      <th>updates</th>\n",
       "      <th>switch</th>\n",
       "      <th>groupSizeDist</th>\n",
       "      <th>placementDist</th>\n",
       "      <th>placementNumHostsPerLeaf</th>\n",
       "      <th>seed</th>\n",
       "      <th>podsAlgorithm</th>\n",
       "      <th>podsNumBitmaps</th>\n",
       "      <th>podsNumNodesPerBitmap</th>\n",
       "      <th>podsRedundancyPerBitmap</th>\n",
       "      <th>podsNumRules</th>\n",
       "      <th>leafsAlgorithm</th>\n",
       "      <th>leafsNumBitmaps</th>\n",
       "      <th>leafsNumNodesPerBitmap</th>\n",
       "      <th>leafsRedundancyPerBitmap</th>\n",
       "      <th>leafsNumRules</th>\n",
       "      <th>numEvents</th>\n",
       "      <th>failedNodeType</th>\n",
       "      <th>numSpinesPerPod</th>\n",
       "    </tr>\n",
       "  </thead>\n",
       "  <tbody>\n",
       "    <tr>\n",
       "      <th>0</th>\n",
       "      <td>805</td>\n",
       "      <td>virtual</td>\n",
       "      <td>wve</td>\n",
       "      <td>colocate-uniform</td>\n",
       "      <td>uniform</td>\n",
       "      <td>0</td>\n",
       "      <td>random-fuzzy-match</td>\n",
       "      <td>2</td>\n",
       "      <td>3</td>\n",
       "      <td>6</td>\n",
       "      <td>64000</td>\n",
       "      <td>random-fuzzy-match</td>\n",
       "      <td>30</td>\n",
       "      <td>3</td>\n",
       "      <td>12</td>\n",
       "      <td>64000</td>\n",
       "      <td>10000</td>\n",
       "      <td>core</td>\n",
       "      <td>4</td>\n",
       "    </tr>\n",
       "    <tr>\n",
       "      <th>1</th>\n",
       "      <td>703</td>\n",
       "      <td>virtual</td>\n",
       "      <td>wve</td>\n",
       "      <td>colocate-uniform</td>\n",
       "      <td>uniform</td>\n",
       "      <td>0</td>\n",
       "      <td>random-fuzzy-match</td>\n",
       "      <td>2</td>\n",
       "      <td>3</td>\n",
       "      <td>6</td>\n",
       "      <td>64000</td>\n",
       "      <td>random-fuzzy-match</td>\n",
       "      <td>30</td>\n",
       "      <td>3</td>\n",
       "      <td>12</td>\n",
       "      <td>64000</td>\n",
       "      <td>10000</td>\n",
       "      <td>core</td>\n",
       "      <td>4</td>\n",
       "    </tr>\n",
       "    <tr>\n",
       "      <th>2</th>\n",
       "      <td>1126</td>\n",
       "      <td>virtual</td>\n",
       "      <td>wve</td>\n",
       "      <td>colocate-uniform</td>\n",
       "      <td>uniform</td>\n",
       "      <td>0</td>\n",
       "      <td>random-fuzzy-match</td>\n",
       "      <td>2</td>\n",
       "      <td>3</td>\n",
       "      <td>6</td>\n",
       "      <td>64000</td>\n",
       "      <td>random-fuzzy-match</td>\n",
       "      <td>30</td>\n",
       "      <td>3</td>\n",
       "      <td>12</td>\n",
       "      <td>64000</td>\n",
       "      <td>10000</td>\n",
       "      <td>core</td>\n",
       "      <td>4</td>\n",
       "    </tr>\n",
       "    <tr>\n",
       "      <th>3</th>\n",
       "      <td>526</td>\n",
       "      <td>virtual</td>\n",
       "      <td>wve</td>\n",
       "      <td>colocate-uniform</td>\n",
       "      <td>uniform</td>\n",
       "      <td>0</td>\n",
       "      <td>random-fuzzy-match</td>\n",
       "      <td>2</td>\n",
       "      <td>3</td>\n",
       "      <td>6</td>\n",
       "      <td>64000</td>\n",
       "      <td>random-fuzzy-match</td>\n",
       "      <td>30</td>\n",
       "      <td>3</td>\n",
       "      <td>12</td>\n",
       "      <td>64000</td>\n",
       "      <td>10000</td>\n",
       "      <td>core</td>\n",
       "      <td>4</td>\n",
       "    </tr>\n",
       "    <tr>\n",
       "      <th>4</th>\n",
       "      <td>863</td>\n",
       "      <td>virtual</td>\n",
       "      <td>wve</td>\n",
       "      <td>colocate-uniform</td>\n",
       "      <td>uniform</td>\n",
       "      <td>0</td>\n",
       "      <td>random-fuzzy-match</td>\n",
       "      <td>2</td>\n",
       "      <td>3</td>\n",
       "      <td>6</td>\n",
       "      <td>64000</td>\n",
       "      <td>random-fuzzy-match</td>\n",
       "      <td>30</td>\n",
       "      <td>3</td>\n",
       "      <td>12</td>\n",
       "      <td>64000</td>\n",
       "      <td>10000</td>\n",
       "      <td>core</td>\n",
       "      <td>4</td>\n",
       "    </tr>\n",
       "  </tbody>\n",
       "</table>\n",
       "</div>"
      ],
      "text/plain": [
       "   updates   switch groupSizeDist     placementDist placementNumHostsPerLeaf  \\\n",
       "0      805  virtual           wve  colocate-uniform                  uniform   \n",
       "1      703  virtual           wve  colocate-uniform                  uniform   \n",
       "2     1126  virtual           wve  colocate-uniform                  uniform   \n",
       "3      526  virtual           wve  colocate-uniform                  uniform   \n",
       "4      863  virtual           wve  colocate-uniform                  uniform   \n",
       "\n",
       "   seed       podsAlgorithm  podsNumBitmaps  podsNumNodesPerBitmap  \\\n",
       "0     0  random-fuzzy-match               2                      3   \n",
       "1     0  random-fuzzy-match               2                      3   \n",
       "2     0  random-fuzzy-match               2                      3   \n",
       "3     0  random-fuzzy-match               2                      3   \n",
       "4     0  random-fuzzy-match               2                      3   \n",
       "\n",
       "   podsRedundancyPerBitmap  podsNumRules      leafsAlgorithm  leafsNumBitmaps  \\\n",
       "0                        6         64000  random-fuzzy-match               30   \n",
       "1                        6         64000  random-fuzzy-match               30   \n",
       "2                        6         64000  random-fuzzy-match               30   \n",
       "3                        6         64000  random-fuzzy-match               30   \n",
       "4                        6         64000  random-fuzzy-match               30   \n",
       "\n",
       "   leafsNumNodesPerBitmap  leafsRedundancyPerBitmap  leafsNumRules  numEvents  \\\n",
       "0                       3                        12          64000      10000   \n",
       "1                       3                        12          64000      10000   \n",
       "2                       3                        12          64000      10000   \n",
       "3                       3                        12          64000      10000   \n",
       "4                       3                        12          64000      10000   \n",
       "\n",
       "  failedNodeType numSpinesPerPod  \n",
       "0           core               4  \n",
       "1           core               4  \n",
       "2           core               4  \n",
       "3           core               4  \n",
       "4           core               4  "
      ]
     },
     "execution_count": 19,
     "metadata": {},
     "output_type": "execute_result"
    }
   ],
   "source": [
    "perSwitchUpdateCount.head()"
   ]
  },
  {
   "cell_type": "code",
   "execution_count": null,
   "metadata": {
    "collapsed": true
   },
   "outputs": [],
   "source": []
  },
  {
   "cell_type": "code",
   "execution_count": 24,
   "metadata": {
    "collapsed": false
   },
   "outputs": [
    {
     "name": "stdout",
     "output_type": "stream",
     "text": [
      "27491.666666666668 99.43455825617285\n"
     ]
    }
   ],
   "source": [
    "s = sum([1 for i in perSwitchUpdateCount[\n",
    "                (perSwitchUpdateCount['failedNodeType'] == 'core') &\n",
    "                (perSwitchUpdateCount['switch'] == 'virtual')]['updates'] if i > 0]) / 3\n",
    "\n",
    "print(s, s / 27648 * 100.0)"
   ]
  },
  {
   "cell_type": "code",
   "execution_count": 25,
   "metadata": {
    "collapsed": false
   },
   "outputs": [
    {
     "data": {
      "text/plain": [
       "count    82944.000000\n",
       "mean       674.899233\n",
       "std        324.732786\n",
       "min          0.000000\n",
       "25%        450.000000\n",
       "50%        629.000000\n",
       "75%        883.000000\n",
       "max       1853.000000\n",
       "Name: updates, dtype: float64"
      ]
     },
     "execution_count": 25,
     "metadata": {},
     "output_type": "execute_result"
    }
   ],
   "source": [
    "perSwitchUpdateCount[\n",
    "    (perSwitchUpdateCount['failedNodeType'] == 'core') &\n",
    "    (perSwitchUpdateCount['switch'] == 'virtual')]['updates'].describe()"
   ]
  },
  {
   "cell_type": "code",
   "execution_count": null,
   "metadata": {
    "collapsed": true
   },
   "outputs": [],
   "source": []
  },
  {
   "cell_type": "code",
   "execution_count": 26,
   "metadata": {
    "collapsed": false
   },
   "outputs": [
    {
     "name": "stdout",
     "output_type": "stream",
     "text": [
      "13146.0 47.54774305555556\n"
     ]
    }
   ],
   "source": [
    "s = sum([1 for i in perSwitchUpdateCount[\n",
    "                (perSwitchUpdateCount['failedNodeType'] == 'spine') &\n",
    "                (perSwitchUpdateCount['switch'] == 'virtual')]['updates'] if i > 0]) / 3\n",
    "\n",
    "print(s, s / 27648 * 100.0)"
   ]
  },
  {
   "cell_type": "code",
   "execution_count": 27,
   "metadata": {
    "collapsed": false
   },
   "outputs": [
    {
     "data": {
      "text/plain": [
       "count    82944.000000\n",
       "mean       176.868490\n",
       "std        320.046861\n",
       "min          0.000000\n",
       "25%          0.000000\n",
       "50%          0.000000\n",
       "75%        195.000000\n",
       "max       1712.000000\n",
       "Name: updates, dtype: float64"
      ]
     },
     "execution_count": 27,
     "metadata": {},
     "output_type": "execute_result"
    }
   ],
   "source": [
    "perSwitchUpdateCount[\n",
    "    (perSwitchUpdateCount['failedNodeType'] == 'spine') &\n",
    "    (perSwitchUpdateCount['switch'] == 'virtual')]['updates'].describe()"
   ]
  },
  {
   "cell_type": "code",
   "execution_count": null,
   "metadata": {
    "collapsed": true
   },
   "outputs": [],
   "source": []
  }
 ],
 "metadata": {
  "kernelspec": {
   "display_name": "Python 3",
   "language": "python",
   "name": "python3"
  },
  "language_info": {
   "codemirror_mode": {
    "name": "ipython",
    "version": 3
   },
   "file_extension": ".py",
   "mimetype": "text/x-python",
   "name": "python",
   "nbconvert_exporter": "python",
   "pygments_lexer": "ipython3",
   "version": "3.5.2"
  }
 },
 "nbformat": 4,
 "nbformat_minor": 2
}
