{
 "cells": [
  {
   "cell_type": "code",
   "execution_count": 1,
   "metadata": {
    "collapsed": true
   },
   "outputs": [],
   "source": [
    "import warnings\n",
    "warnings.filterwarnings('ignore')\n",
    "# For ignoring warnings printed by R magic commands"
   ]
  },
  {
   "cell_type": "code",
   "execution_count": 2,
   "metadata": {
    "collapsed": true
   },
   "outputs": [],
   "source": [
    "import os\n",
    "import glob"
   ]
  },
  {
   "cell_type": "code",
   "execution_count": 3,
   "metadata": {
    "collapsed": true
   },
   "outputs": [],
   "source": [
    "# Import pandas\n",
    "import pandas as pd"
   ]
  },
  {
   "cell_type": "code",
   "execution_count": 4,
   "metadata": {
    "collapsed": true
   },
   "outputs": [],
   "source": [
    "# Load R magic\n",
    "%load_ext rpy2.ipython\n",
    "# Import ggplot2\n",
    "%R require(ggplot2);"
   ]
  },
  {
   "cell_type": "code",
   "execution_count": null,
   "metadata": {
    "collapsed": true
   },
   "outputs": [],
   "source": []
  },
  {
   "cell_type": "code",
   "execution_count": 5,
   "metadata": {
    "collapsed": true
   },
   "outputs": [],
   "source": [
    "# If experiment parameters change, modify this function\n",
    "def AddParametersAsColumns(df, folder):\n",
    "    expParams = folder.split('.')\n",
    "    cloudParams = expParams[1].split('_')\n",
    "    optimizerParams = expParams[2].split('_')\n",
    "    df['groupSizeDist'] = cloudParams[9]\n",
    "    df['placementDist'] = cloudParams[10]\n",
    "    df['colocateNumHostsPerLeaf'] = 'uniform' if cloudParams[11] == '-1' else cloudParams[11]\n",
    "    df['seed'] = int(cloudParams[14])\n",
    "    df['algorithm'] = optimizerParams[1]\n",
    "    df['numBitmaps'] = int(optimizerParams[2])\n",
    "    df['numLeafsPerBitmap'] = int(optimizerParams[3])\n",
    "    df['redundancyPerBitmap'] = int(optimizerParams[4])\n",
    "    df['numRulesPerLeaf'] = int(optimizerParams[5])\n",
    "    \n",
    "# Turns all files of a given filname across a set of folders into a single dataframe\n",
    "def DataSetAsDataFrame(filename, folders, headers, header=None):\n",
    "    # Read dataset as dataframe\n",
    "    def ReadDataSet(folder):\n",
    "        df = pd.read_csv(folder + '/' + filename, sep=',', header=header, names=headers)\n",
    "        AddParametersAsColumns(df, folder)\n",
    "        return df\n",
    "    # Get the list of dataframes\n",
    "    dfs = map(ReadDataSet, folders)\n",
    "    # Combine into a single dataframe\n",
    "    df = pd.concat(dfs)\n",
    "    return df"
   ]
  },
  {
   "cell_type": "code",
   "execution_count": null,
   "metadata": {
    "collapsed": true
   },
   "outputs": [],
   "source": []
  },
  {
   "cell_type": "code",
   "execution_count": 6,
   "metadata": {
    "collapsed": true
   },
   "outputs": [],
   "source": [
    "%%R \n",
    "plotTheme <- theme(legend.title=element_blank(), legend.position=\"top\", legend.text=element_text(size=6))"
   ]
  },
  {
   "cell_type": "code",
   "execution_count": 7,
   "metadata": {
    "collapsed": true
   },
   "outputs": [],
   "source": [
    "directory = '/mnt/sdb1/baseerat/numerical-evals/11-29-2017/logs-1M/'\n",
    "folders = glob.glob(directory + \"logs*_0.*\")"
   ]
  },
  {
   "cell_type": "code",
   "execution_count": null,
   "metadata": {
    "collapsed": true
   },
   "outputs": [],
   "source": []
  },
  {
   "cell_type": "code",
   "execution_count": 8,
   "metadata": {
    "collapsed": true
   },
   "outputs": [],
   "source": [
    "ruleCountPerLeaf = DataSetAsDataFrame('rule_count_per_leaf.csv', \n",
    "                                      folders, ['leafId', 'numRules'])"
   ]
  },
  {
   "cell_type": "code",
   "execution_count": 9,
   "metadata": {
    "collapsed": false
   },
   "outputs": [
    {
     "data": {
      "text/html": [
       "<div>\n",
       "<style scoped>\n",
       "    .dataframe tbody tr th:only-of-type {\n",
       "        vertical-align: middle;\n",
       "    }\n",
       "\n",
       "    .dataframe tbody tr th {\n",
       "        vertical-align: top;\n",
       "    }\n",
       "\n",
       "    .dataframe thead th {\n",
       "        text-align: right;\n",
       "    }\n",
       "</style>\n",
       "<table border=\"1\" class=\"dataframe\">\n",
       "  <thead>\n",
       "    <tr style=\"text-align: right;\">\n",
       "      <th></th>\n",
       "      <th>leafId</th>\n",
       "      <th>numRules</th>\n",
       "      <th>groupSizeDist</th>\n",
       "      <th>placementDist</th>\n",
       "      <th>colocateNumHostsPerLeaf</th>\n",
       "      <th>seed</th>\n",
       "      <th>algorithm</th>\n",
       "      <th>numBitmaps</th>\n",
       "      <th>numLeafsPerBitmap</th>\n",
       "      <th>redundancyPerBitmap</th>\n",
       "      <th>numRulesPerLeaf</th>\n",
       "    </tr>\n",
       "  </thead>\n",
       "  <tbody>\n",
       "    <tr>\n",
       "      <th>0</th>\n",
       "      <td>0</td>\n",
       "      <td>10000</td>\n",
       "      <td>uniform</td>\n",
       "      <td>colocate-random-random</td>\n",
       "      <td>12</td>\n",
       "      <td>0</td>\n",
       "      <td>exact-match</td>\n",
       "      <td>10</td>\n",
       "      <td>3</td>\n",
       "      <td>0</td>\n",
       "      <td>10000</td>\n",
       "    </tr>\n",
       "    <tr>\n",
       "      <th>1</th>\n",
       "      <td>1</td>\n",
       "      <td>10000</td>\n",
       "      <td>uniform</td>\n",
       "      <td>colocate-random-random</td>\n",
       "      <td>12</td>\n",
       "      <td>0</td>\n",
       "      <td>exact-match</td>\n",
       "      <td>10</td>\n",
       "      <td>3</td>\n",
       "      <td>0</td>\n",
       "      <td>10000</td>\n",
       "    </tr>\n",
       "  </tbody>\n",
       "</table>\n",
       "</div>"
      ],
      "text/plain": [
       "   leafId  numRules groupSizeDist           placementDist  \\\n",
       "0       0     10000       uniform  colocate-random-random   \n",
       "1       1     10000       uniform  colocate-random-random   \n",
       "\n",
       "  colocateNumHostsPerLeaf  seed    algorithm  numBitmaps  numLeafsPerBitmap  \\\n",
       "0                      12     0  exact-match          10                  3   \n",
       "1                      12     0  exact-match          10                  3   \n",
       "\n",
       "   redundancyPerBitmap  numRulesPerLeaf  \n",
       "0                    0            10000  \n",
       "1                    0            10000  "
      ]
     },
     "execution_count": 9,
     "metadata": {},
     "output_type": "execute_result"
    }
   ],
   "source": [
    "ruleCountPerLeaf.head(2)"
   ]
  },
  {
   "cell_type": "code",
   "execution_count": 10,
   "metadata": {
    "collapsed": false
   },
   "outputs": [],
   "source": [
    "plotRuleCountPerLeaf = ruleCountPerLeaf[ruleCountPerLeaf['numRulesPerLeaf'] != 32000]"
   ]
  },
  {
   "cell_type": "code",
   "execution_count": 12,
   "metadata": {
    "collapsed": true
   },
   "outputs": [],
   "source": [
    "plotRuleCountPerLeaf.to_csv(directory + 'rule_count_per_leaf.csv', index=False)"
   ]
  },
  {
   "cell_type": "code",
   "execution_count": 11,
   "metadata": {
    "collapsed": false
   },
   "outputs": [],
   "source": [
    "# %%R -i plotRuleCountPerLeaf\n",
    "# plt <- ggplot(plotRuleCountPerLeaf) +\n",
    "#    geom_boxplot(aes(y=numRules, x=factor(numBitmaps), \n",
    "#                     fill=interaction(algorithm, numLeafsPerBitmap, redundancyPerBitmap)),\n",
    "#                 outlier.size=0.5) +\n",
    "#    facet_grid(groupSizeDist * numRulesPerLeaf ~ colocateNumHostsPerLeaf) +\n",
    "#    xlab(\"Number of bitmaps\") +\n",
    "#    ylab(\"Number of rules\") +\n",
    "#    plotTheme\n",
    "# ggsave(plt, file=\"rule_count_per_leaf.pdf\", height=5, width=7)"
   ]
  },
  {
   "cell_type": "code",
   "execution_count": null,
   "metadata": {
    "collapsed": true
   },
   "outputs": [],
   "source": []
  },
  {
   "cell_type": "code",
   "execution_count": 19,
   "metadata": {
    "collapsed": true
   },
   "outputs": [],
   "source": [
    "groupCountPerTenant = DataSetAsDataFrame('group_count_per_tenant.csv', \n",
    "                                         folders, ['tenantId', 'groupCount'])"
   ]
  },
  {
   "cell_type": "code",
   "execution_count": 22,
   "metadata": {
    "collapsed": false
   },
   "outputs": [
    {
     "data": {
      "text/html": [
       "<div>\n",
       "<style scoped>\n",
       "    .dataframe tbody tr th:only-of-type {\n",
       "        vertical-align: middle;\n",
       "    }\n",
       "\n",
       "    .dataframe tbody tr th {\n",
       "        vertical-align: top;\n",
       "    }\n",
       "\n",
       "    .dataframe thead th {\n",
       "        text-align: right;\n",
       "    }\n",
       "</style>\n",
       "<table border=\"1\" class=\"dataframe\">\n",
       "  <thead>\n",
       "    <tr style=\"text-align: right;\">\n",
       "      <th></th>\n",
       "      <th>tenantId</th>\n",
       "      <th>groupCount</th>\n",
       "      <th>groupSizeDist</th>\n",
       "      <th>placementDist</th>\n",
       "      <th>colocateNumHostsPerLeaf</th>\n",
       "      <th>seed</th>\n",
       "      <th>algorithm</th>\n",
       "      <th>numBitmaps</th>\n",
       "      <th>numLeafsPerBitmap</th>\n",
       "      <th>redundancyPerBitmap</th>\n",
       "      <th>numRulesPerLeaf</th>\n",
       "    </tr>\n",
       "  </thead>\n",
       "  <tbody>\n",
       "    <tr>\n",
       "      <th>0</th>\n",
       "      <td>0</td>\n",
       "      <td>341</td>\n",
       "      <td>uniform</td>\n",
       "      <td>colocate-random-random</td>\n",
       "      <td>12</td>\n",
       "      <td>0</td>\n",
       "      <td>exact-match</td>\n",
       "      <td>10</td>\n",
       "      <td>3</td>\n",
       "      <td>0</td>\n",
       "      <td>10000</td>\n",
       "    </tr>\n",
       "    <tr>\n",
       "      <th>1</th>\n",
       "      <td>1</td>\n",
       "      <td>85</td>\n",
       "      <td>uniform</td>\n",
       "      <td>colocate-random-random</td>\n",
       "      <td>12</td>\n",
       "      <td>0</td>\n",
       "      <td>exact-match</td>\n",
       "      <td>10</td>\n",
       "      <td>3</td>\n",
       "      <td>0</td>\n",
       "      <td>10000</td>\n",
       "    </tr>\n",
       "  </tbody>\n",
       "</table>\n",
       "</div>"
      ],
      "text/plain": [
       "   tenantId  groupCount groupSizeDist           placementDist  \\\n",
       "0         0         341       uniform  colocate-random-random   \n",
       "1         1          85       uniform  colocate-random-random   \n",
       "\n",
       "  colocateNumHostsPerLeaf  seed    algorithm  numBitmaps  numLeafsPerBitmap  \\\n",
       "0                      12     0  exact-match          10                  3   \n",
       "1                      12     0  exact-match          10                  3   \n",
       "\n",
       "   redundancyPerBitmap  numRulesPerLeaf  \n",
       "0                    0            10000  \n",
       "1                    0            10000  "
      ]
     },
     "execution_count": 22,
     "metadata": {},
     "output_type": "execute_result"
    }
   ],
   "source": [
    "groupCountPerTenant.head(2)"
   ]
  },
  {
   "cell_type": "code",
   "execution_count": 27,
   "metadata": {
    "collapsed": false
   },
   "outputs": [
    {
     "data": {
      "text/plain": [
       "count    3000.000000\n",
       "mean      332.833333\n",
       "std       802.921490\n",
       "min        18.000000\n",
       "25%        85.000000\n",
       "50%       179.000000\n",
       "75%       337.000000\n",
       "max      9272.000000\n",
       "Name: groupCount, dtype: float64"
      ]
     },
     "execution_count": 27,
     "metadata": {},
     "output_type": "execute_result"
    }
   ],
   "source": [
    "# groupCountPerTenant[\n",
    "#     (groupCountPerTenant['algorithm'] == 'exact-match') &\n",
    "#     (groupCountPerTenant['groupSizeDist'] == 'wve') &\n",
    "#     (groupCountPerTenant['colocateNumHostsPerLeaf'] == '48') & \n",
    "#     (groupCountPerTenant['numBitmaps'] == 10) & \n",
    "#     (groupCountPerTenant['numLeafsPerBitmap'] == 3) &\n",
    "#     (groupCountPerTenant['numRulesPerLeaf'] == 10000)\n",
    "# ]['groupCount'].quantile([0.0, 0.5, 0.99, 0.999, 0.9999, 1.0])\n",
    "groupCountPerTenant[\n",
    "    (groupCountPerTenant['algorithm'] == 'exact-match') &\n",
    "    (groupCountPerTenant['groupSizeDist'] == 'wve') &\n",
    "    (groupCountPerTenant['colocateNumHostsPerLeaf'] == '48') & \n",
    "    (groupCountPerTenant['numBitmaps'] == 10) & \n",
    "    (groupCountPerTenant['numLeafsPerBitmap'] == 3) &\n",
    "    (groupCountPerTenant['numRulesPerLeaf'] == 10000)\n",
    "]['groupCount'].describe()"
   ]
  },
  {
   "cell_type": "code",
   "execution_count": null,
   "metadata": {
    "collapsed": true
   },
   "outputs": [],
   "source": []
  },
  {
   "cell_type": "code",
   "execution_count": 28,
   "metadata": {
    "collapsed": true
   },
   "outputs": [],
   "source": [
    "vmCountPerTenant = DataSetAsDataFrame('vm_count_per_tenant.csv', \n",
    "                                      folders, \n",
    "                                      ['tenantId', 'vmCount'])"
   ]
  },
  {
   "cell_type": "code",
   "execution_count": 19,
   "metadata": {
    "collapsed": false
   },
   "outputs": [
    {
     "data": {
      "text/html": [
       "<div>\n",
       "<style>\n",
       "    .dataframe thead tr:only-child th {\n",
       "        text-align: right;\n",
       "    }\n",
       "\n",
       "    .dataframe thead th {\n",
       "        text-align: left;\n",
       "    }\n",
       "\n",
       "    .dataframe tbody tr th {\n",
       "        vertical-align: top;\n",
       "    }\n",
       "</style>\n",
       "<table border=\"1\" class=\"dataframe\">\n",
       "  <thead>\n",
       "    <tr style=\"text-align: right;\">\n",
       "      <th></th>\n",
       "      <th>tenantId</th>\n",
       "      <th>vmCount</th>\n",
       "      <th>groupSizeDist</th>\n",
       "      <th>placementDist</th>\n",
       "      <th>colocateNumHostsPerLeaf</th>\n",
       "      <th>seed</th>\n",
       "      <th>algorithm</th>\n",
       "      <th>numBitmaps</th>\n",
       "      <th>numLeafsPerBitmap</th>\n",
       "      <th>redundancyPerBitmap</th>\n",
       "      <th>numRulesPerLeaf</th>\n",
       "    </tr>\n",
       "  </thead>\n",
       "  <tbody>\n",
       "    <tr>\n",
       "      <th>0</th>\n",
       "      <td>0</td>\n",
       "      <td>184</td>\n",
       "      <td>uniform</td>\n",
       "      <td>colocate-random-random</td>\n",
       "      <td>12</td>\n",
       "      <td>0</td>\n",
       "      <td>exact-match</td>\n",
       "      <td>10</td>\n",
       "      <td>1</td>\n",
       "      <td>0</td>\n",
       "      <td>10000</td>\n",
       "    </tr>\n",
       "    <tr>\n",
       "      <th>1</th>\n",
       "      <td>1</td>\n",
       "      <td>46</td>\n",
       "      <td>uniform</td>\n",
       "      <td>colocate-random-random</td>\n",
       "      <td>12</td>\n",
       "      <td>0</td>\n",
       "      <td>exact-match</td>\n",
       "      <td>10</td>\n",
       "      <td>1</td>\n",
       "      <td>0</td>\n",
       "      <td>10000</td>\n",
       "    </tr>\n",
       "  </tbody>\n",
       "</table>\n",
       "</div>"
      ],
      "text/plain": [
       "   tenantId  vmCount groupSizeDist           placementDist  \\\n",
       "0         0      184       uniform  colocate-random-random   \n",
       "1         1       46       uniform  colocate-random-random   \n",
       "\n",
       "   colocateNumHostsPerLeaf  seed    algorithm  numBitmaps  numLeafsPerBitmap  \\\n",
       "0                       12     0  exact-match          10                  1   \n",
       "1                       12     0  exact-match          10                  1   \n",
       "\n",
       "   redundancyPerBitmap  numRulesPerLeaf  \n",
       "0                    0            10000  \n",
       "1                    0            10000  "
      ]
     },
     "execution_count": 19,
     "metadata": {},
     "output_type": "execute_result"
    }
   ],
   "source": [
    "vmCountPerTenant.head(2)"
   ]
  },
  {
   "cell_type": "code",
   "execution_count": 32,
   "metadata": {
    "collapsed": false
   },
   "outputs": [
    {
     "data": {
      "text/plain": [
       "count    3000.000000\n",
       "mean      179.701000\n",
       "std       432.859193\n",
       "min        10.000000\n",
       "25%        46.000000\n",
       "50%        97.000000\n",
       "75%       182.000000\n",
       "max      4999.000000\n",
       "Name: vmCount, dtype: float64"
      ]
     },
     "execution_count": 32,
     "metadata": {},
     "output_type": "execute_result"
    }
   ],
   "source": [
    "# vmCountPerTenant[\n",
    "#     (vmCountPerTenant['algorithm'] == 'exact-match') & \n",
    "#     (vmCountPerTenant['groupSizeDist'] == 'wve') & \n",
    "#     (vmCountPerTenant['colocateNumHostsPerLeaf'] == '24') & \n",
    "#     (vmCountPerTenant['numBitmaps'] == 10) & \n",
    "#     (vmCountPerTenant['numLeafsPerBitmap'] == 3) &\n",
    "#     (vmCountPerTenant['numRulesPerLeaf'] == 10000)\n",
    "# ]['vmCount'].quantile([0.0, 0.5, 0.99, 0.999, 0.9999, 1.0])\n",
    "vmCountPerTenant[\n",
    "    (vmCountPerTenant['algorithm'] == 'exact-match') & \n",
    "    (vmCountPerTenant['groupSizeDist'] == 'wve') & \n",
    "    (vmCountPerTenant['colocateNumHostsPerLeaf'] == '24') & \n",
    "    (vmCountPerTenant['numBitmaps'] == 10) & \n",
    "    (vmCountPerTenant['numLeafsPerBitmap'] == 3) &\n",
    "    (vmCountPerTenant['numRulesPerLeaf'] == 10000)\n",
    "]['vmCount'].describe()"
   ]
  },
  {
   "cell_type": "code",
   "execution_count": null,
   "metadata": {
    "collapsed": true
   },
   "outputs": [],
   "source": []
  },
  {
   "cell_type": "code",
   "execution_count": 8,
   "metadata": {
    "collapsed": true
   },
   "outputs": [],
   "source": [
    "groupSizePerGroupPerTenant = DataSetAsDataFrame('group_size_per_group_per_tenant.csv', \n",
    "                                                folders, ['groupId', 'groupSize'])"
   ]
  },
  {
   "cell_type": "code",
   "execution_count": 12,
   "metadata": {
    "collapsed": false
   },
   "outputs": [
    {
     "data": {
      "text/html": [
       "<div>\n",
       "<style scoped>\n",
       "    .dataframe tbody tr th:only-of-type {\n",
       "        vertical-align: middle;\n",
       "    }\n",
       "\n",
       "    .dataframe tbody tr th {\n",
       "        vertical-align: top;\n",
       "    }\n",
       "\n",
       "    .dataframe thead th {\n",
       "        text-align: right;\n",
       "    }\n",
       "</style>\n",
       "<table border=\"1\" class=\"dataframe\">\n",
       "  <thead>\n",
       "    <tr style=\"text-align: right;\">\n",
       "      <th></th>\n",
       "      <th>groupId</th>\n",
       "      <th>groupSize</th>\n",
       "      <th>groupSizeDist</th>\n",
       "      <th>placementDist</th>\n",
       "      <th>colocateNumHostsPerLeaf</th>\n",
       "      <th>seed</th>\n",
       "      <th>algorithm</th>\n",
       "      <th>numBitmaps</th>\n",
       "      <th>numLeafsPerBitmap</th>\n",
       "      <th>redundancyPerBitmap</th>\n",
       "      <th>numRulesPerLeaf</th>\n",
       "    </tr>\n",
       "  </thead>\n",
       "  <tbody>\n",
       "    <tr>\n",
       "      <th>0</th>\n",
       "      <td>0</td>\n",
       "      <td>103</td>\n",
       "      <td>uniform</td>\n",
       "      <td>colocate-random-random</td>\n",
       "      <td>12</td>\n",
       "      <td>0</td>\n",
       "      <td>exact-match</td>\n",
       "      <td>10</td>\n",
       "      <td>3</td>\n",
       "      <td>0</td>\n",
       "      <td>10000</td>\n",
       "    </tr>\n",
       "    <tr>\n",
       "      <th>1</th>\n",
       "      <td>1</td>\n",
       "      <td>107</td>\n",
       "      <td>uniform</td>\n",
       "      <td>colocate-random-random</td>\n",
       "      <td>12</td>\n",
       "      <td>0</td>\n",
       "      <td>exact-match</td>\n",
       "      <td>10</td>\n",
       "      <td>3</td>\n",
       "      <td>0</td>\n",
       "      <td>10000</td>\n",
       "    </tr>\n",
       "  </tbody>\n",
       "</table>\n",
       "</div>"
      ],
      "text/plain": [
       "   groupId  groupSize groupSizeDist           placementDist  \\\n",
       "0        0        103       uniform  colocate-random-random   \n",
       "1        1        107       uniform  colocate-random-random   \n",
       "\n",
       "  colocateNumHostsPerLeaf  seed    algorithm  numBitmaps  numLeafsPerBitmap  \\\n",
       "0                      12     0  exact-match          10                  3   \n",
       "1                      12     0  exact-match          10                  3   \n",
       "\n",
       "   redundancyPerBitmap  numRulesPerLeaf  \n",
       "0                    0            10000  \n",
       "1                    0            10000  "
      ]
     },
     "execution_count": 12,
     "metadata": {},
     "output_type": "execute_result"
    }
   ],
   "source": [
    "groupSizePerGroupPerTenant.head(2)"
   ]
  },
  {
   "cell_type": "code",
   "execution_count": 10,
   "metadata": {
    "collapsed": false
   },
   "outputs": [
    {
     "data": {
      "text/plain": [
       "groupSizeDist        \n",
       "uniform        0.0000       5.000\n",
       "               0.5000     141.000\n",
       "               0.8000     977.000\n",
       "               0.9900    4291.000\n",
       "               0.9910    4346.000\n",
       "               0.9920    4400.000\n",
       "               0.9930    4458.000\n",
       "               0.9940    4512.000\n",
       "               0.9950    4566.000\n",
       "               0.9960    4621.000\n",
       "               0.9990    4834.000\n",
       "               0.9999    4972.000\n",
       "               1.0000    4999.000\n",
       "wve            0.0000       5.000\n",
       "               0.5000      12.000\n",
       "               0.8000      61.000\n",
       "               0.9900     390.000\n",
       "               0.9910     417.000\n",
       "               0.9920     457.000\n",
       "               0.9930     520.000\n",
       "               0.9940     694.000\n",
       "               0.9950    2395.505\n",
       "               0.9960    3146.000\n",
       "               0.9990    4742.000\n",
       "               0.9999    4962.000\n",
       "               1.0000    4998.000\n",
       "Name: groupSize, dtype: float64"
      ]
     },
     "execution_count": 10,
     "metadata": {},
     "output_type": "execute_result"
    }
   ],
   "source": [
    "groupSizePerGroupPerTenant[\n",
    "    (groupSizePerGroupPerTenant['algorithm'] == 'exact-match') &\n",
    "    (groupSizePerGroupPerTenant['colocateNumHostsPerLeaf'] == '24') & \n",
    "    (groupSizePerGroupPerTenant['numBitmaps'] == 10) & \n",
    "    (groupSizePerGroupPerTenant['numLeafsPerBitmap'] == 3) &\n",
    "    (groupSizePerGroupPerTenant['numRulesPerLeaf'] == 10000)\n",
    "].groupby('groupSizeDist')['groupSize'].quantile(\n",
    "    [0.0, 0.5, 0.8, 0.99, 0.991, 0.992, 0.993, 0.994, 0.995, 0.996, 0.999, 0.9999, 1.0])"
   ]
  },
  {
   "cell_type": "code",
   "execution_count": 11,
   "metadata": {
    "collapsed": true
   },
   "outputs": [],
   "source": [
    "plotGroupSizePerGroupPerTenant = groupSizePerGroupPerTenant[\n",
    "    (groupSizePerGroupPerTenant['algorithm'] == 'exact-match') &\n",
    "    (groupSizePerGroupPerTenant['colocateNumHostsPerLeaf'] == '24') & \n",
    "    (groupSizePerGroupPerTenant['numBitmaps'] == 10) & \n",
    "    (groupSizePerGroupPerTenant['numLeafsPerBitmap'] == 3) &\n",
    "    (groupSizePerGroupPerTenant['numRulesPerLeaf'] == 10000)]"
   ]
  },
  {
   "cell_type": "code",
   "execution_count": 13,
   "metadata": {
    "collapsed": true
   },
   "outputs": [],
   "source": [
    "plotGroupSizePerGroupPerTenant.to_csv(directory + 'group_size_per_group_per_tenant.csv', index=False)"
   ]
  },
  {
   "cell_type": "code",
   "execution_count": null,
   "metadata": {
    "collapsed": true
   },
   "outputs": [],
   "source": []
  },
  {
   "cell_type": "code",
   "execution_count": 9,
   "metadata": {
    "collapsed": false
   },
   "outputs": [],
   "source": [
    "groupsCoveredWithBitmapsOnly = DataSetAsDataFrame('groups_covered_with_bitmaps_only.csv', \n",
    "                                                  folders, \n",
    "                                                  ['index', 'groupsCovered', 'groupsCoveredWithoutDefaultBitmap'],\n",
    "                                                  header=0)"
   ]
  },
  {
   "cell_type": "code",
   "execution_count": 10,
   "metadata": {
    "collapsed": true
   },
   "outputs": [],
   "source": [
    "plotGroupsCoveredWithBitmapsOnly = groupsCoveredWithBitmapsOnly[\n",
    "    groupsCoveredWithBitmapsOnly['numRulesPerLeaf'] != 32000]"
   ]
  },
  {
   "cell_type": "code",
   "execution_count": 11,
   "metadata": {
    "collapsed": true
   },
   "outputs": [],
   "source": [
    "plotGroupsCoveredWithBitmapsOnly.to_csv(directory + 'groups_covered_with_bitmaps_only.csv', index=False)"
   ]
  },
  {
   "cell_type": "code",
   "execution_count": null,
   "metadata": {
    "collapsed": true
   },
   "outputs": [],
   "source": [
    "# %%R -i plotGroupsCoveredWithBitmapsOnly\n",
    "# plt <- ggplot(plotGroupsCoveredWithBitmapsOnly) +\n",
    "#    geom_bar(aes(y=groupsCoveredWithoutDefaultBitmap, x=factor(numBitmaps), \n",
    "#                 fill=interaction(algorithm, numLeafsPerBitmap, redundancyPerBitmap)),\n",
    "#             stat=\"identity\",position=position_dodge()) +\n",
    "#    facet_grid(groupSizeDist * numRulesPerLeaf ~ colocateNumHostsPerLeaf) +\n",
    "#    xlab(\"Number of bitmaps\") +\n",
    "#    ylab(\"Groups covered (without default bitmap)\") +\n",
    "#    plotTheme\n",
    "# ggsave(plt, file=\"groups_covered_with_bitmaps_only.pdf\")"
   ]
  },
  {
   "cell_type": "code",
   "execution_count": 8,
   "metadata": {
    "collapsed": true
   },
   "outputs": [],
   "source": []
  },
  {
   "cell_type": "code",
   "execution_count": 30,
   "metadata": {
    "collapsed": true
   },
   "outputs": [],
   "source": [
    "# trafficOverhead = DataSetAsDataFrame('traffic_overhead.csv', \n",
    "#                                      folders, \n",
    "#                                      ['index', 'trafficOverhead'])"
   ]
  },
  {
   "cell_type": "code",
   "execution_count": 9,
   "metadata": {
    "collapsed": false
   },
   "outputs": [],
   "source": [
    "# %%R -i trafficOverhead\n",
    "# ggplot(trafficOverhead) +\n",
    "#    geom_bar(aes(y=trafficOverhead, x=factor(numBitmaps), \n",
    "#                 fill=interaction(algorithm, numLeafsPerBitmap, redundancyPerBitmap)),\n",
    "#             stat=\"identity\",position=position_dodge()) +\n",
    "#    facet_grid(groupSizeDist * numRulesPerLeaf ~ colocateNumHostsPerLeaf) +\n",
    "#    xlab(\"Number of bitmaps\") +\n",
    "#    ylab(\"Traffic Overhead\") +\n",
    "#    plotTheme"
   ]
  },
  {
   "cell_type": "code",
   "execution_count": null,
   "metadata": {
    "collapsed": true
   },
   "outputs": [],
   "source": []
  },
  {
   "cell_type": "code",
   "execution_count": 8,
   "metadata": {
    "collapsed": false
   },
   "outputs": [],
   "source": [
    "leafSpineTraffic = DataSetAsDataFrame('leaf_spine_traffic_per_group_per_tenant.csv', \n",
    "                                      folders, \n",
    "                                      ['groupId', 'multicastTraffic', 'unicastTraffic', 'overlayTraffic',\n",
    "                                       'baseeratTraffic'],\n",
    "                                       header=0)"
   ]
  },
  {
   "cell_type": "code",
   "execution_count": 9,
   "metadata": {
    "collapsed": false
   },
   "outputs": [
    {
     "data": {
      "text/html": [
       "<div>\n",
       "<style scoped>\n",
       "    .dataframe tbody tr th:only-of-type {\n",
       "        vertical-align: middle;\n",
       "    }\n",
       "\n",
       "    .dataframe tbody tr th {\n",
       "        vertical-align: top;\n",
       "    }\n",
       "\n",
       "    .dataframe thead th {\n",
       "        text-align: right;\n",
       "    }\n",
       "</style>\n",
       "<table border=\"1\" class=\"dataframe\">\n",
       "  <thead>\n",
       "    <tr style=\"text-align: right;\">\n",
       "      <th></th>\n",
       "      <th>groupId</th>\n",
       "      <th>multicastTraffic</th>\n",
       "      <th>unicastTraffic</th>\n",
       "      <th>overlayTraffic</th>\n",
       "      <th>baseeratTraffic</th>\n",
       "      <th>groupSizeDist</th>\n",
       "      <th>placementDist</th>\n",
       "      <th>colocateNumHostsPerLeaf</th>\n",
       "      <th>seed</th>\n",
       "      <th>algorithm</th>\n",
       "      <th>numBitmaps</th>\n",
       "      <th>numLeafsPerBitmap</th>\n",
       "      <th>redundancyPerBitmap</th>\n",
       "      <th>numRulesPerLeaf</th>\n",
       "    </tr>\n",
       "  </thead>\n",
       "  <tbody>\n",
       "    <tr>\n",
       "      <th>0</th>\n",
       "      <td>0</td>\n",
       "      <td>121</td>\n",
       "      <td>412</td>\n",
       "      <td>238</td>\n",
       "      <td>121</td>\n",
       "      <td>uniform</td>\n",
       "      <td>colocate-random-random</td>\n",
       "      <td>12</td>\n",
       "      <td>0</td>\n",
       "      <td>exact-match</td>\n",
       "      <td>10</td>\n",
       "      <td>3</td>\n",
       "      <td>0</td>\n",
       "      <td>10000</td>\n",
       "    </tr>\n",
       "    <tr>\n",
       "      <th>1</th>\n",
       "      <td>1</td>\n",
       "      <td>125</td>\n",
       "      <td>428</td>\n",
       "      <td>246</td>\n",
       "      <td>125</td>\n",
       "      <td>uniform</td>\n",
       "      <td>colocate-random-random</td>\n",
       "      <td>12</td>\n",
       "      <td>0</td>\n",
       "      <td>exact-match</td>\n",
       "      <td>10</td>\n",
       "      <td>3</td>\n",
       "      <td>0</td>\n",
       "      <td>10000</td>\n",
       "    </tr>\n",
       "  </tbody>\n",
       "</table>\n",
       "</div>"
      ],
      "text/plain": [
       "   groupId  multicastTraffic  unicastTraffic  overlayTraffic  baseeratTraffic  \\\n",
       "0        0               121             412             238              121   \n",
       "1        1               125             428             246              125   \n",
       "\n",
       "  groupSizeDist           placementDist colocateNumHostsPerLeaf  seed  \\\n",
       "0       uniform  colocate-random-random                      12     0   \n",
       "1       uniform  colocate-random-random                      12     0   \n",
       "\n",
       "     algorithm  numBitmaps  numLeafsPerBitmap  redundancyPerBitmap  \\\n",
       "0  exact-match          10                  3                    0   \n",
       "1  exact-match          10                  3                    0   \n",
       "\n",
       "   numRulesPerLeaf  \n",
       "0            10000  \n",
       "1            10000  "
      ]
     },
     "execution_count": 9,
     "metadata": {},
     "output_type": "execute_result"
    }
   ],
   "source": [
    "leafSpineTraffic.head(2)"
   ]
  },
  {
   "cell_type": "code",
   "execution_count": 10,
   "metadata": {
    "collapsed": false
   },
   "outputs": [],
   "source": [
    "# leafSpineTraffic.to_csv(directory + 'leaf_spine_traffic_per_group_per_tenant.csv', index=False)"
   ]
  },
  {
   "cell_type": "code",
   "execution_count": null,
   "metadata": {
    "collapsed": true
   },
   "outputs": [],
   "source": []
  },
  {
   "cell_type": "code",
   "execution_count": 11,
   "metadata": {
    "collapsed": true
   },
   "outputs": [],
   "source": [
    "leafSpineOverhead = leafSpineTraffic.groupby([\n",
    "    'groupSizeDist', 'placementDist', 'colocateNumHostsPerLeaf', 'algorithm', 'numBitmaps', 'numLeafsPerBitmap', \n",
    "    'redundancyPerBitmap', 'numRulesPerLeaf', 'seed'])[\n",
    "    ['unicastTraffic', 'multicastTraffic', 'baseeratTraffic', 'overlayTraffic']].agg('sum')\n",
    "leafSpineOverhead.reset_index(inplace=True)"
   ]
  },
  {
   "cell_type": "code",
   "execution_count": 12,
   "metadata": {
    "collapsed": false
   },
   "outputs": [
    {
     "data": {
      "text/html": [
       "<div>\n",
       "<style scoped>\n",
       "    .dataframe tbody tr th:only-of-type {\n",
       "        vertical-align: middle;\n",
       "    }\n",
       "\n",
       "    .dataframe tbody tr th {\n",
       "        vertical-align: top;\n",
       "    }\n",
       "\n",
       "    .dataframe thead th {\n",
       "        text-align: right;\n",
       "    }\n",
       "</style>\n",
       "<table border=\"1\" class=\"dataframe\">\n",
       "  <thead>\n",
       "    <tr style=\"text-align: right;\">\n",
       "      <th></th>\n",
       "      <th>groupSizeDist</th>\n",
       "      <th>placementDist</th>\n",
       "      <th>colocateNumHostsPerLeaf</th>\n",
       "      <th>algorithm</th>\n",
       "      <th>numBitmaps</th>\n",
       "      <th>numLeafsPerBitmap</th>\n",
       "      <th>redundancyPerBitmap</th>\n",
       "      <th>numRulesPerLeaf</th>\n",
       "      <th>seed</th>\n",
       "      <th>unicastTraffic</th>\n",
       "      <th>multicastTraffic</th>\n",
       "      <th>baseeratTraffic</th>\n",
       "      <th>overlayTraffic</th>\n",
       "    </tr>\n",
       "  </thead>\n",
       "  <tbody>\n",
       "    <tr>\n",
       "      <th>0</th>\n",
       "      <td>uniform</td>\n",
       "      <td>colocate-random-random</td>\n",
       "      <td>12</td>\n",
       "      <td>exact-match</td>\n",
       "      <td>10</td>\n",
       "      <td>3</td>\n",
       "      <td>0</td>\n",
       "      <td>10000</td>\n",
       "      <td>0</td>\n",
       "      <td>2345430212</td>\n",
       "      <td>664912636</td>\n",
       "      <td>3022179814</td>\n",
       "      <td>1325831272</td>\n",
       "    </tr>\n",
       "    <tr>\n",
       "      <th>1</th>\n",
       "      <td>uniform</td>\n",
       "      <td>colocate-random-random</td>\n",
       "      <td>12</td>\n",
       "      <td>exact-match</td>\n",
       "      <td>10</td>\n",
       "      <td>3</td>\n",
       "      <td>0</td>\n",
       "      <td>32000</td>\n",
       "      <td>0</td>\n",
       "      <td>2345430212</td>\n",
       "      <td>664912636</td>\n",
       "      <td>2524882904</td>\n",
       "      <td>1325831272</td>\n",
       "    </tr>\n",
       "  </tbody>\n",
       "</table>\n",
       "</div>"
      ],
      "text/plain": [
       "  groupSizeDist           placementDist colocateNumHostsPerLeaf    algorithm  \\\n",
       "0       uniform  colocate-random-random                      12  exact-match   \n",
       "1       uniform  colocate-random-random                      12  exact-match   \n",
       "\n",
       "   numBitmaps  numLeafsPerBitmap  redundancyPerBitmap  numRulesPerLeaf  seed  \\\n",
       "0          10                  3                    0            10000     0   \n",
       "1          10                  3                    0            32000     0   \n",
       "\n",
       "   unicastTraffic  multicastTraffic  baseeratTraffic  overlayTraffic  \n",
       "0      2345430212         664912636       3022179814      1325831272  \n",
       "1      2345430212         664912636       2524882904      1325831272  "
      ]
     },
     "execution_count": 12,
     "metadata": {},
     "output_type": "execute_result"
    }
   ],
   "source": [
    "leafSpineOverhead.head(2)"
   ]
  },
  {
   "cell_type": "code",
   "execution_count": 15,
   "metadata": {
    "collapsed": true
   },
   "outputs": [],
   "source": [
    "plotLeafSpineOverhead = leafSpineOverhead[leafSpineOverhead['numRulesPerLeaf'] != 32000]"
   ]
  },
  {
   "cell_type": "code",
   "execution_count": 16,
   "metadata": {
    "collapsed": true
   },
   "outputs": [],
   "source": [
    "plotLeafSpineOverhead.to_csv(directory + 'leaf_spine_overhead_per_group_per_tenant.csv', index=False)"
   ]
  },
  {
   "cell_type": "code",
   "execution_count": null,
   "metadata": {
    "collapsed": true
   },
   "outputs": [],
   "source": []
  }
 ],
 "metadata": {
  "kernelspec": {
   "display_name": "Python 3",
   "language": "python",
   "name": "python3"
  },
  "language_info": {
   "codemirror_mode": {
    "name": "ipython",
    "version": 3
   },
   "file_extension": ".py",
   "mimetype": "text/x-python",
   "name": "python",
   "nbconvert_exporter": "python",
   "pygments_lexer": "ipython3",
   "version": "3.5.2"
  }
 },
 "nbformat": 4,
 "nbformat_minor": 2
}
