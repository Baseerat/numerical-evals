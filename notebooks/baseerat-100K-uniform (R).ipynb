{
 "cells": [
  {
   "cell_type": "code",
   "execution_count": 1,
   "metadata": {},
   "outputs": [
    {
     "name": "stderr",
     "output_type": "stream",
     "text": [
      "Loading required package: ggplot2\n",
      "Loading required package: data.table\n"
     ]
    }
   ],
   "source": [
    "require(ggplot2)\n",
    "require(data.table)"
   ]
  },
  {
   "cell_type": "code",
   "execution_count": 2,
   "metadata": {
    "collapsed": true
   },
   "outputs": [],
   "source": [
    "# If experiment parameters change, modify this function\n",
    "AddParametersAsColumns <- function(df, folderName) {\n",
    "    expParams <- strsplit(folderName, \"_\")[[1]]\n",
    "    df$groupSizeDist <- expParams[10]\n",
    "    df$placementDist <- expParams[11]\n",
    "    df$numColocateHosts <- expParams[12]\n",
    "    df$algorithm <- expParams[16]\n",
    "    df$numBitmaps <- expParams[17]\n",
    "    df$numLeafsPerBitmap <- expParams[18]\n",
    "    df$redundancyPerBitmap <- expParams[19]\n",
    "    df$numRulesPerLeaf <- expParams[20] # Shahbaz: added this new param\n",
    "    return(df)\n",
    "}\n",
    "\n",
    "\n",
    "# Turns all files of a given filname across a set of folders into a single dataset\n",
    "DatasetAsDataTable <- function(filename, folders, headers, header=FALSE) {\n",
    "    # Get list of data.frames\n",
    "    dfList <- lapply(folders, function(folder) {\n",
    "           tmp <- read.table(paste(folder, filename, sep=\"/\"), sep=\",\", header=header)\n",
    "           tmp <- AddParametersAsColumns(tmp, folder)\n",
    "    })\n",
    "    \n",
    "    # Combine into a single data.table\n",
    "    dt <- data.table(do.call(rbind, dfList))\n",
    "    \n",
    "    # Rename columns according to headers\n",
    "    for (colIndex in seq(1, length(headers))) {\n",
    "        setnames(dt, colnames(dt)[colIndex], headers[colIndex])\n",
    "    }\n",
    "    return(dt)\n",
    "}\n",
    "\n",
    "setwd('/mnt/sdb1/baseerat/numerical-evals/logs-100K-uniform')\n",
    "folders <- Sys.glob(\"logs*\")\n",
    "plotTheme <- theme(legend.title=element_blank(), legend.position=\"top\", legend.text=element_text(size=6))"
   ]
  },
  {
   "cell_type": "code",
   "execution_count": 3,
   "metadata": {
    "collapsed": true
   },
   "outputs": [],
   "source": [
    "ruleCountPerLeaf <- DatasetAsDataTable(\"rule_count_per_leaf.csv\", \n",
    "                                       folders, c(\"leafId\", \"numRules\"))"
   ]
  },
  {
   "cell_type": "code",
   "execution_count": 4,
   "metadata": {
    "collapsed": true
   },
   "outputs": [],
   "source": [
    "groupCountPerTenant <- DatasetAsDataTable(\"group_count_per_tenant.csv\", \n",
    "                                          folders, c(\"tenantId\", \"groupCount\"))"
   ]
  },
  {
   "cell_type": "code",
   "execution_count": 5,
   "metadata": {
    "collapsed": true
   },
   "outputs": [],
   "source": [
    "groupSizePerGroupPerTenant <- DatasetAsDataTable(\"group_size_per_group_per_tenant.csv\", \n",
    "                                                 folders, c(\"groupId\", \"groupSize\"))"
   ]
  },
  {
   "cell_type": "code",
   "execution_count": 6,
   "metadata": {
    "collapsed": true
   },
   "outputs": [],
   "source": [
    "groupsCoveredWithBitmapsOnly <- DatasetAsDataTable(\"groups_covered_with_bitmaps_only.csv\", \n",
    "                                                   folders, c(\"index\", \"groupsCovered\", \"groupsCoveredWithoutDefaultBitmap\"),\n",
    "                                                   TRUE) # Shahbaz: adding this param as this file contains header line"
   ]
  },
  {
   "cell_type": "code",
   "execution_count": 7,
   "metadata": {
    "collapsed": true
   },
   "outputs": [],
   "source": [
    "trafficOverhead <- DatasetAsDataTable(\"traffic_overhead.csv\", \n",
    "                                      folders, c(\"index\", \"trafficOverhead\"))"
   ]
  },
  {
   "cell_type": "code",
   "execution_count": 8,
   "metadata": {
    "collapsed": true
   },
   "outputs": [],
   "source": [
    "leafSpineTraffic <- DatasetAsDataTable(\"leaf_spine_traffic_per_group_per_tenant.csv\", \n",
    "                                       folders, c(\"groupId\", \"multicastTraffic\", \"unicastTraffic\", \"overlayTraffic\",\n",
    "                                                 \"baseeratTraffic\"),\n",
    "                                       TRUE) # Shahbaz: adding this param as this file contains header line"
   ]
  },
  {
   "cell_type": "code",
   "execution_count": 9,
   "metadata": {
    "collapsed": true
   },
   "outputs": [],
   "source": [
    "# mergedDt <- merge(leafSpineMulticast, leafSpineUnicast, \n",
    "#                   by=c('groupId', 'groupSizeDist', 'placementDist', 'numColocateHosts', 'algorithm',\n",
    "#                        'numBitmaps', 'numLeafsPerBitmap', 'redundancyPerBitmap'))\n",
    "# mergedDt <- merge(mergedDt, leafSpineOverlay, \n",
    "#                   by=c('groupId', 'groupSizeDist', 'placementDist', 'numColocateHosts', 'algorithm',\n",
    "#                        'numBitmaps', 'numLeafsPerBitmap', 'redundancyPerBitmap'))\n",
    "# mergedDt <- merge(mergedDt, leafSpineBaseerat, \n",
    "#                   by=c('groupId', 'groupSizeDist', 'placementDist', 'numColocateHosts', 'algorithm',\n",
    "#                        'numBitmaps', 'numLeafsPerBitmap', 'redundancyPerBitmap'))"
   ]
  },
  {
   "cell_type": "code",
   "execution_count": 10,
   "metadata": {},
   "outputs": [
    {
     "data": {
      "text/html": [
       "<table>\n",
       "<thead><tr><th scope=col>groupId</th><th scope=col>multicastTraffic</th><th scope=col>unicastTraffic</th><th scope=col>overlayTraffic</th><th scope=col>baseeratTraffic</th><th scope=col>groupSizeDist</th><th scope=col>placementDist</th><th scope=col>numColocateHosts</th><th scope=col>algorithm</th><th scope=col>numBitmaps</th><th scope=col>numLeafsPerBitmap</th><th scope=col>redundancyPerBitmap</th><th scope=col>numRulesPerLeaf</th></tr></thead>\n",
       "<tbody>\n",
       "\t<tr><td>0          </td><td>198        </td><td>412        </td><td>392        </td><td>198        </td><td>uniform    </td><td>uniform    </td><td>0          </td><td>exact-match</td><td>10         </td><td>1          </td><td>0          </td><td>1000       </td></tr>\n",
       "\t<tr><td>1          </td><td>204        </td><td>428        </td><td>404        </td><td>204        </td><td>uniform    </td><td>uniform    </td><td>0          </td><td>exact-match</td><td>10         </td><td>1          </td><td>0          </td><td>1000       </td></tr>\n",
       "\t<tr><td>2          </td><td>176        </td><td>364        </td><td>348        </td><td>176        </td><td>uniform    </td><td>uniform    </td><td>0          </td><td>exact-match</td><td>10         </td><td>1          </td><td>0          </td><td>1000       </td></tr>\n",
       "\t<tr><td>3          </td><td>235        </td><td>496        </td><td>466        </td><td>235        </td><td>uniform    </td><td>uniform    </td><td>0          </td><td>exact-match</td><td>10         </td><td>1          </td><td>0          </td><td>1000       </td></tr>\n",
       "\t<tr><td>4          </td><td> 59        </td><td>116        </td><td>114        </td><td> 59        </td><td>uniform    </td><td>uniform    </td><td>0          </td><td>exact-match</td><td>10         </td><td>1          </td><td>0          </td><td>1000       </td></tr>\n",
       "\t<tr><td>5          </td><td>325        </td><td>704        </td><td>646        </td><td>325        </td><td>uniform    </td><td>uniform    </td><td>0          </td><td>exact-match</td><td>10         </td><td>1          </td><td>0          </td><td>1000       </td></tr>\n",
       "</tbody>\n",
       "</table>\n"
      ],
      "text/latex": [
       "\\begin{tabular}{r|lllllllllllll}\n",
       " groupId & multicastTraffic & unicastTraffic & overlayTraffic & baseeratTraffic & groupSizeDist & placementDist & numColocateHosts & algorithm & numBitmaps & numLeafsPerBitmap & redundancyPerBitmap & numRulesPerLeaf\\\\\n",
       "\\hline\n",
       "\t 0           & 198         & 412         & 392         & 198         & uniform     & uniform     & 0           & exact-match & 10          & 1           & 0           & 1000       \\\\\n",
       "\t 1           & 204         & 428         & 404         & 204         & uniform     & uniform     & 0           & exact-match & 10          & 1           & 0           & 1000       \\\\\n",
       "\t 2           & 176         & 364         & 348         & 176         & uniform     & uniform     & 0           & exact-match & 10          & 1           & 0           & 1000       \\\\\n",
       "\t 3           & 235         & 496         & 466         & 235         & uniform     & uniform     & 0           & exact-match & 10          & 1           & 0           & 1000       \\\\\n",
       "\t 4           &  59         & 116         & 114         &  59         & uniform     & uniform     & 0           & exact-match & 10          & 1           & 0           & 1000       \\\\\n",
       "\t 5           & 325         & 704         & 646         & 325         & uniform     & uniform     & 0           & exact-match & 10          & 1           & 0           & 1000       \\\\\n",
       "\\end{tabular}\n"
      ],
      "text/markdown": [
       "\n",
       "groupId | multicastTraffic | unicastTraffic | overlayTraffic | baseeratTraffic | groupSizeDist | placementDist | numColocateHosts | algorithm | numBitmaps | numLeafsPerBitmap | redundancyPerBitmap | numRulesPerLeaf | \n",
       "|---|---|---|---|---|---|\n",
       "| 0           | 198         | 412         | 392         | 198         | uniform     | uniform     | 0           | exact-match | 10          | 1           | 0           | 1000        | \n",
       "| 1           | 204         | 428         | 404         | 204         | uniform     | uniform     | 0           | exact-match | 10          | 1           | 0           | 1000        | \n",
       "| 2           | 176         | 364         | 348         | 176         | uniform     | uniform     | 0           | exact-match | 10          | 1           | 0           | 1000        | \n",
       "| 3           | 235         | 496         | 466         | 235         | uniform     | uniform     | 0           | exact-match | 10          | 1           | 0           | 1000        | \n",
       "| 4           |  59         | 116         | 114         |  59         | uniform     | uniform     | 0           | exact-match | 10          | 1           | 0           | 1000        | \n",
       "| 5           | 325         | 704         | 646         | 325         | uniform     | uniform     | 0           | exact-match | 10          | 1           | 0           | 1000        | \n",
       "\n",
       "\n"
      ],
      "text/plain": [
       "  groupId multicastTraffic unicastTraffic overlayTraffic baseeratTraffic\n",
       "1 0       198              412            392            198            \n",
       "2 1       204              428            404            204            \n",
       "3 2       176              364            348            176            \n",
       "4 3       235              496            466            235            \n",
       "5 4        59              116            114             59            \n",
       "6 5       325              704            646            325            \n",
       "  groupSizeDist placementDist numColocateHosts algorithm   numBitmaps\n",
       "1 uniform       uniform       0                exact-match 10        \n",
       "2 uniform       uniform       0                exact-match 10        \n",
       "3 uniform       uniform       0                exact-match 10        \n",
       "4 uniform       uniform       0                exact-match 10        \n",
       "5 uniform       uniform       0                exact-match 10        \n",
       "6 uniform       uniform       0                exact-match 10        \n",
       "  numLeafsPerBitmap redundancyPerBitmap numRulesPerLeaf\n",
       "1 1                 0                   1000           \n",
       "2 1                 0                   1000           \n",
       "3 1                 0                   1000           \n",
       "4 1                 0                   1000           \n",
       "5 1                 0                   1000           \n",
       "6 1                 0                   1000           "
      ]
     },
     "metadata": {},
     "output_type": "display_data"
    }
   ],
   "source": [
    "head(leafSpineTraffic)"
   ]
  },
  {
   "cell_type": "code",
   "execution_count": 11,
   "metadata": {
    "collapsed": true
   },
   "outputs": [],
   "source": [
    "vmCountPerTenant <- DatasetAsDataTable(\"vm_count_per_tenant.csv\", folders, c(\"tenantId\", \"vmCount\"))"
   ]
  },
  {
   "cell_type": "code",
   "execution_count": 12,
   "metadata": {},
   "outputs": [
    {
     "data": {
      "text/html": [
       "<table>\n",
       "<thead><tr><th scope=col>leafId</th><th scope=col>numRules</th><th scope=col>groupSizeDist</th><th scope=col>placementDist</th><th scope=col>numColocateHosts</th><th scope=col>algorithm</th><th scope=col>numBitmaps</th><th scope=col>numLeafsPerBitmap</th><th scope=col>redundancyPerBitmap</th><th scope=col>numRulesPerLeaf</th></tr></thead>\n",
       "<tbody>\n",
       "\t<tr><td>0          </td><td>1000       </td><td>uniform    </td><td>uniform    </td><td>0          </td><td>exact-match</td><td>10         </td><td>1          </td><td>0          </td><td>1000       </td></tr>\n",
       "\t<tr><td>1          </td><td>1000       </td><td>uniform    </td><td>uniform    </td><td>0          </td><td>exact-match</td><td>10         </td><td>1          </td><td>0          </td><td>1000       </td></tr>\n",
       "\t<tr><td>2          </td><td>1000       </td><td>uniform    </td><td>uniform    </td><td>0          </td><td>exact-match</td><td>10         </td><td>1          </td><td>0          </td><td>1000       </td></tr>\n",
       "\t<tr><td>3          </td><td>1000       </td><td>uniform    </td><td>uniform    </td><td>0          </td><td>exact-match</td><td>10         </td><td>1          </td><td>0          </td><td>1000       </td></tr>\n",
       "\t<tr><td>4          </td><td>1000       </td><td>uniform    </td><td>uniform    </td><td>0          </td><td>exact-match</td><td>10         </td><td>1          </td><td>0          </td><td>1000       </td></tr>\n",
       "\t<tr><td>5          </td><td>1000       </td><td>uniform    </td><td>uniform    </td><td>0          </td><td>exact-match</td><td>10         </td><td>1          </td><td>0          </td><td>1000       </td></tr>\n",
       "</tbody>\n",
       "</table>\n"
      ],
      "text/latex": [
       "\\begin{tabular}{r|llllllllll}\n",
       " leafId & numRules & groupSizeDist & placementDist & numColocateHosts & algorithm & numBitmaps & numLeafsPerBitmap & redundancyPerBitmap & numRulesPerLeaf\\\\\n",
       "\\hline\n",
       "\t 0           & 1000        & uniform     & uniform     & 0           & exact-match & 10          & 1           & 0           & 1000       \\\\\n",
       "\t 1           & 1000        & uniform     & uniform     & 0           & exact-match & 10          & 1           & 0           & 1000       \\\\\n",
       "\t 2           & 1000        & uniform     & uniform     & 0           & exact-match & 10          & 1           & 0           & 1000       \\\\\n",
       "\t 3           & 1000        & uniform     & uniform     & 0           & exact-match & 10          & 1           & 0           & 1000       \\\\\n",
       "\t 4           & 1000        & uniform     & uniform     & 0           & exact-match & 10          & 1           & 0           & 1000       \\\\\n",
       "\t 5           & 1000        & uniform     & uniform     & 0           & exact-match & 10          & 1           & 0           & 1000       \\\\\n",
       "\\end{tabular}\n"
      ],
      "text/markdown": [
       "\n",
       "leafId | numRules | groupSizeDist | placementDist | numColocateHosts | algorithm | numBitmaps | numLeafsPerBitmap | redundancyPerBitmap | numRulesPerLeaf | \n",
       "|---|---|---|---|---|---|\n",
       "| 0           | 1000        | uniform     | uniform     | 0           | exact-match | 10          | 1           | 0           | 1000        | \n",
       "| 1           | 1000        | uniform     | uniform     | 0           | exact-match | 10          | 1           | 0           | 1000        | \n",
       "| 2           | 1000        | uniform     | uniform     | 0           | exact-match | 10          | 1           | 0           | 1000        | \n",
       "| 3           | 1000        | uniform     | uniform     | 0           | exact-match | 10          | 1           | 0           | 1000        | \n",
       "| 4           | 1000        | uniform     | uniform     | 0           | exact-match | 10          | 1           | 0           | 1000        | \n",
       "| 5           | 1000        | uniform     | uniform     | 0           | exact-match | 10          | 1           | 0           | 1000        | \n",
       "\n",
       "\n"
      ],
      "text/plain": [
       "  leafId numRules groupSizeDist placementDist numColocateHosts algorithm  \n",
       "1 0      1000     uniform       uniform       0                exact-match\n",
       "2 1      1000     uniform       uniform       0                exact-match\n",
       "3 2      1000     uniform       uniform       0                exact-match\n",
       "4 3      1000     uniform       uniform       0                exact-match\n",
       "5 4      1000     uniform       uniform       0                exact-match\n",
       "6 5      1000     uniform       uniform       0                exact-match\n",
       "  numBitmaps numLeafsPerBitmap redundancyPerBitmap numRulesPerLeaf\n",
       "1 10         1                 0                   1000           \n",
       "2 10         1                 0                   1000           \n",
       "3 10         1                 0                   1000           \n",
       "4 10         1                 0                   1000           \n",
       "5 10         1                 0                   1000           \n",
       "6 10         1                 0                   1000           "
      ]
     },
     "metadata": {},
     "output_type": "display_data"
    },
    {
     "data": {
      "text/html": [
       "<table>\n",
       "<thead><tr><th scope=col>tenantId</th><th scope=col>groupCount</th><th scope=col>groupSizeDist</th><th scope=col>placementDist</th><th scope=col>numColocateHosts</th><th scope=col>algorithm</th><th scope=col>numBitmaps</th><th scope=col>numLeafsPerBitmap</th><th scope=col>redundancyPerBitmap</th><th scope=col>numRulesPerLeaf</th></tr></thead>\n",
       "<tbody>\n",
       "\t<tr><td>0          </td><td>34         </td><td>uniform    </td><td>uniform    </td><td>0          </td><td>exact-match</td><td>10         </td><td>1          </td><td>0          </td><td>1000       </td></tr>\n",
       "\t<tr><td>1          </td><td> 8         </td><td>uniform    </td><td>uniform    </td><td>0          </td><td>exact-match</td><td>10         </td><td>1          </td><td>0          </td><td>1000       </td></tr>\n",
       "\t<tr><td>2          </td><td>13         </td><td>uniform    </td><td>uniform    </td><td>0          </td><td>exact-match</td><td>10         </td><td>1          </td><td>0          </td><td>1000       </td></tr>\n",
       "\t<tr><td>3          </td><td>10         </td><td>uniform    </td><td>uniform    </td><td>0          </td><td>exact-match</td><td>10         </td><td>1          </td><td>0          </td><td>1000       </td></tr>\n",
       "\t<tr><td>4          </td><td>21         </td><td>uniform    </td><td>uniform    </td><td>0          </td><td>exact-match</td><td>10         </td><td>1          </td><td>0          </td><td>1000       </td></tr>\n",
       "\t<tr><td>5          </td><td>17         </td><td>uniform    </td><td>uniform    </td><td>0          </td><td>exact-match</td><td>10         </td><td>1          </td><td>0          </td><td>1000       </td></tr>\n",
       "</tbody>\n",
       "</table>\n"
      ],
      "text/latex": [
       "\\begin{tabular}{r|llllllllll}\n",
       " tenantId & groupCount & groupSizeDist & placementDist & numColocateHosts & algorithm & numBitmaps & numLeafsPerBitmap & redundancyPerBitmap & numRulesPerLeaf\\\\\n",
       "\\hline\n",
       "\t 0           & 34          & uniform     & uniform     & 0           & exact-match & 10          & 1           & 0           & 1000       \\\\\n",
       "\t 1           &  8          & uniform     & uniform     & 0           & exact-match & 10          & 1           & 0           & 1000       \\\\\n",
       "\t 2           & 13          & uniform     & uniform     & 0           & exact-match & 10          & 1           & 0           & 1000       \\\\\n",
       "\t 3           & 10          & uniform     & uniform     & 0           & exact-match & 10          & 1           & 0           & 1000       \\\\\n",
       "\t 4           & 21          & uniform     & uniform     & 0           & exact-match & 10          & 1           & 0           & 1000       \\\\\n",
       "\t 5           & 17          & uniform     & uniform     & 0           & exact-match & 10          & 1           & 0           & 1000       \\\\\n",
       "\\end{tabular}\n"
      ],
      "text/markdown": [
       "\n",
       "tenantId | groupCount | groupSizeDist | placementDist | numColocateHosts | algorithm | numBitmaps | numLeafsPerBitmap | redundancyPerBitmap | numRulesPerLeaf | \n",
       "|---|---|---|---|---|---|\n",
       "| 0           | 34          | uniform     | uniform     | 0           | exact-match | 10          | 1           | 0           | 1000        | \n",
       "| 1           |  8          | uniform     | uniform     | 0           | exact-match | 10          | 1           | 0           | 1000        | \n",
       "| 2           | 13          | uniform     | uniform     | 0           | exact-match | 10          | 1           | 0           | 1000        | \n",
       "| 3           | 10          | uniform     | uniform     | 0           | exact-match | 10          | 1           | 0           | 1000        | \n",
       "| 4           | 21          | uniform     | uniform     | 0           | exact-match | 10          | 1           | 0           | 1000        | \n",
       "| 5           | 17          | uniform     | uniform     | 0           | exact-match | 10          | 1           | 0           | 1000        | \n",
       "\n",
       "\n"
      ],
      "text/plain": [
       "  tenantId groupCount groupSizeDist placementDist numColocateHosts algorithm  \n",
       "1 0        34         uniform       uniform       0                exact-match\n",
       "2 1         8         uniform       uniform       0                exact-match\n",
       "3 2        13         uniform       uniform       0                exact-match\n",
       "4 3        10         uniform       uniform       0                exact-match\n",
       "5 4        21         uniform       uniform       0                exact-match\n",
       "6 5        17         uniform       uniform       0                exact-match\n",
       "  numBitmaps numLeafsPerBitmap redundancyPerBitmap numRulesPerLeaf\n",
       "1 10         1                 0                   1000           \n",
       "2 10         1                 0                   1000           \n",
       "3 10         1                 0                   1000           \n",
       "4 10         1                 0                   1000           \n",
       "5 10         1                 0                   1000           \n",
       "6 10         1                 0                   1000           "
      ]
     },
     "metadata": {},
     "output_type": "display_data"
    },
    {
     "data": {
      "text/html": [
       "<table>\n",
       "<thead><tr><th scope=col>groupId</th><th scope=col>groupSize</th><th scope=col>groupSizeDist</th><th scope=col>placementDist</th><th scope=col>numColocateHosts</th><th scope=col>algorithm</th><th scope=col>numBitmaps</th><th scope=col>numLeafsPerBitmap</th><th scope=col>redundancyPerBitmap</th><th scope=col>numRulesPerLeaf</th></tr></thead>\n",
       "<tbody>\n",
       "\t<tr><td>0          </td><td>103        </td><td>uniform    </td><td>uniform    </td><td>0          </td><td>exact-match</td><td>10         </td><td>1          </td><td>0          </td><td>1000       </td></tr>\n",
       "\t<tr><td>1          </td><td>107        </td><td>uniform    </td><td>uniform    </td><td>0          </td><td>exact-match</td><td>10         </td><td>1          </td><td>0          </td><td>1000       </td></tr>\n",
       "\t<tr><td>2          </td><td> 91        </td><td>uniform    </td><td>uniform    </td><td>0          </td><td>exact-match</td><td>10         </td><td>1          </td><td>0          </td><td>1000       </td></tr>\n",
       "\t<tr><td>3          </td><td>124        </td><td>uniform    </td><td>uniform    </td><td>0          </td><td>exact-match</td><td>10         </td><td>1          </td><td>0          </td><td>1000       </td></tr>\n",
       "\t<tr><td>4          </td><td> 29        </td><td>uniform    </td><td>uniform    </td><td>0          </td><td>exact-match</td><td>10         </td><td>1          </td><td>0          </td><td>1000       </td></tr>\n",
       "\t<tr><td>5          </td><td>176        </td><td>uniform    </td><td>uniform    </td><td>0          </td><td>exact-match</td><td>10         </td><td>1          </td><td>0          </td><td>1000       </td></tr>\n",
       "</tbody>\n",
       "</table>\n"
      ],
      "text/latex": [
       "\\begin{tabular}{r|llllllllll}\n",
       " groupId & groupSize & groupSizeDist & placementDist & numColocateHosts & algorithm & numBitmaps & numLeafsPerBitmap & redundancyPerBitmap & numRulesPerLeaf\\\\\n",
       "\\hline\n",
       "\t 0           & 103         & uniform     & uniform     & 0           & exact-match & 10          & 1           & 0           & 1000       \\\\\n",
       "\t 1           & 107         & uniform     & uniform     & 0           & exact-match & 10          & 1           & 0           & 1000       \\\\\n",
       "\t 2           &  91         & uniform     & uniform     & 0           & exact-match & 10          & 1           & 0           & 1000       \\\\\n",
       "\t 3           & 124         & uniform     & uniform     & 0           & exact-match & 10          & 1           & 0           & 1000       \\\\\n",
       "\t 4           &  29         & uniform     & uniform     & 0           & exact-match & 10          & 1           & 0           & 1000       \\\\\n",
       "\t 5           & 176         & uniform     & uniform     & 0           & exact-match & 10          & 1           & 0           & 1000       \\\\\n",
       "\\end{tabular}\n"
      ],
      "text/markdown": [
       "\n",
       "groupId | groupSize | groupSizeDist | placementDist | numColocateHosts | algorithm | numBitmaps | numLeafsPerBitmap | redundancyPerBitmap | numRulesPerLeaf | \n",
       "|---|---|---|---|---|---|\n",
       "| 0           | 103         | uniform     | uniform     | 0           | exact-match | 10          | 1           | 0           | 1000        | \n",
       "| 1           | 107         | uniform     | uniform     | 0           | exact-match | 10          | 1           | 0           | 1000        | \n",
       "| 2           |  91         | uniform     | uniform     | 0           | exact-match | 10          | 1           | 0           | 1000        | \n",
       "| 3           | 124         | uniform     | uniform     | 0           | exact-match | 10          | 1           | 0           | 1000        | \n",
       "| 4           |  29         | uniform     | uniform     | 0           | exact-match | 10          | 1           | 0           | 1000        | \n",
       "| 5           | 176         | uniform     | uniform     | 0           | exact-match | 10          | 1           | 0           | 1000        | \n",
       "\n",
       "\n"
      ],
      "text/plain": [
       "  groupId groupSize groupSizeDist placementDist numColocateHosts algorithm  \n",
       "1 0       103       uniform       uniform       0                exact-match\n",
       "2 1       107       uniform       uniform       0                exact-match\n",
       "3 2        91       uniform       uniform       0                exact-match\n",
       "4 3       124       uniform       uniform       0                exact-match\n",
       "5 4        29       uniform       uniform       0                exact-match\n",
       "6 5       176       uniform       uniform       0                exact-match\n",
       "  numBitmaps numLeafsPerBitmap redundancyPerBitmap numRulesPerLeaf\n",
       "1 10         1                 0                   1000           \n",
       "2 10         1                 0                   1000           \n",
       "3 10         1                 0                   1000           \n",
       "4 10         1                 0                   1000           \n",
       "5 10         1                 0                   1000           \n",
       "6 10         1                 0                   1000           "
      ]
     },
     "metadata": {},
     "output_type": "display_data"
    },
    {
     "data": {
      "text/html": [
       "<table>\n",
       "<thead><tr><th scope=col>tenantId</th><th scope=col>vmCount</th><th scope=col>groupSizeDist</th><th scope=col>placementDist</th><th scope=col>numColocateHosts</th><th scope=col>algorithm</th><th scope=col>numBitmaps</th><th scope=col>numLeafsPerBitmap</th><th scope=col>redundancyPerBitmap</th><th scope=col>numRulesPerLeaf</th></tr></thead>\n",
       "<tbody>\n",
       "\t<tr><td>0          </td><td>186        </td><td>uniform    </td><td>uniform    </td><td>0          </td><td>exact-match</td><td>10         </td><td>1          </td><td>0          </td><td>1000       </td></tr>\n",
       "\t<tr><td>1          </td><td> 47        </td><td>uniform    </td><td>uniform    </td><td>0          </td><td>exact-match</td><td>10         </td><td>1          </td><td>0          </td><td>1000       </td></tr>\n",
       "\t<tr><td>2          </td><td> 74        </td><td>uniform    </td><td>uniform    </td><td>0          </td><td>exact-match</td><td>10         </td><td>1          </td><td>0          </td><td>1000       </td></tr>\n",
       "\t<tr><td>3          </td><td> 55        </td><td>uniform    </td><td>uniform    </td><td>0          </td><td>exact-match</td><td>10         </td><td>1          </td><td>0          </td><td>1000       </td></tr>\n",
       "\t<tr><td>4          </td><td>119        </td><td>uniform    </td><td>uniform    </td><td>0          </td><td>exact-match</td><td>10         </td><td>1          </td><td>0          </td><td>1000       </td></tr>\n",
       "\t<tr><td>5          </td><td> 97        </td><td>uniform    </td><td>uniform    </td><td>0          </td><td>exact-match</td><td>10         </td><td>1          </td><td>0          </td><td>1000       </td></tr>\n",
       "</tbody>\n",
       "</table>\n"
      ],
      "text/latex": [
       "\\begin{tabular}{r|llllllllll}\n",
       " tenantId & vmCount & groupSizeDist & placementDist & numColocateHosts & algorithm & numBitmaps & numLeafsPerBitmap & redundancyPerBitmap & numRulesPerLeaf\\\\\n",
       "\\hline\n",
       "\t 0           & 186         & uniform     & uniform     & 0           & exact-match & 10          & 1           & 0           & 1000       \\\\\n",
       "\t 1           &  47         & uniform     & uniform     & 0           & exact-match & 10          & 1           & 0           & 1000       \\\\\n",
       "\t 2           &  74         & uniform     & uniform     & 0           & exact-match & 10          & 1           & 0           & 1000       \\\\\n",
       "\t 3           &  55         & uniform     & uniform     & 0           & exact-match & 10          & 1           & 0           & 1000       \\\\\n",
       "\t 4           & 119         & uniform     & uniform     & 0           & exact-match & 10          & 1           & 0           & 1000       \\\\\n",
       "\t 5           &  97         & uniform     & uniform     & 0           & exact-match & 10          & 1           & 0           & 1000       \\\\\n",
       "\\end{tabular}\n"
      ],
      "text/markdown": [
       "\n",
       "tenantId | vmCount | groupSizeDist | placementDist | numColocateHosts | algorithm | numBitmaps | numLeafsPerBitmap | redundancyPerBitmap | numRulesPerLeaf | \n",
       "|---|---|---|---|---|---|\n",
       "| 0           | 186         | uniform     | uniform     | 0           | exact-match | 10          | 1           | 0           | 1000        | \n",
       "| 1           |  47         | uniform     | uniform     | 0           | exact-match | 10          | 1           | 0           | 1000        | \n",
       "| 2           |  74         | uniform     | uniform     | 0           | exact-match | 10          | 1           | 0           | 1000        | \n",
       "| 3           |  55         | uniform     | uniform     | 0           | exact-match | 10          | 1           | 0           | 1000        | \n",
       "| 4           | 119         | uniform     | uniform     | 0           | exact-match | 10          | 1           | 0           | 1000        | \n",
       "| 5           |  97         | uniform     | uniform     | 0           | exact-match | 10          | 1           | 0           | 1000        | \n",
       "\n",
       "\n"
      ],
      "text/plain": [
       "  tenantId vmCount groupSizeDist placementDist numColocateHosts algorithm  \n",
       "1 0        186     uniform       uniform       0                exact-match\n",
       "2 1         47     uniform       uniform       0                exact-match\n",
       "3 2         74     uniform       uniform       0                exact-match\n",
       "4 3         55     uniform       uniform       0                exact-match\n",
       "5 4        119     uniform       uniform       0                exact-match\n",
       "6 5         97     uniform       uniform       0                exact-match\n",
       "  numBitmaps numLeafsPerBitmap redundancyPerBitmap numRulesPerLeaf\n",
       "1 10         1                 0                   1000           \n",
       "2 10         1                 0                   1000           \n",
       "3 10         1                 0                   1000           \n",
       "4 10         1                 0                   1000           \n",
       "5 10         1                 0                   1000           \n",
       "6 10         1                 0                   1000           "
      ]
     },
     "metadata": {},
     "output_type": "display_data"
    }
   ],
   "source": [
    "head(ruleCountPerLeaf)\n",
    "head(groupCountPerTenant)\n",
    "head(groupSizePerGroupPerTenant)\n",
    "head(vmCountPerTenant)"
   ]
  },
  {
   "cell_type": "code",
   "execution_count": 13,
   "metadata": {},
   "outputs": [
    {
     "data": {},
     "metadata": {},
     "output_type": "display_data"
    },
    {
     "data": {
      "image/png": "[encoded data removed]",
      "text/plain": [
       "plot without title"
      ]
     },
     "metadata": {},
     "output_type": "display_data"
    }
   ],
   "source": [
    "ggplot(ruleCountPerLeaf) +\n",
    "   geom_boxplot(aes(y=numRules, x=factor(numBitmaps), \n",
    "                    fill=interaction(algorithm, numLeafsPerBitmap, redundancyPerBitmap)),\n",
    "                outlier.size=0.5) +\n",
    "   facet_grid(groupSizeDist * numRulesPerLeaf ~ numColocateHosts) +\n",
    "   xlab(\"Number of bitmaps\") +\n",
    "   ylab(\"Number of rules\") +\n",
    "   plotTheme"
   ]
  },
  {
   "cell_type": "code",
   "execution_count": 14,
   "metadata": {},
   "outputs": [
    {
     "data": {},
     "metadata": {},
     "output_type": "display_data"
    },
    {
     "data": {
      "image/png": "[encoded data removed]",
      "text/plain": [
       "plot without title"
      ]
     },
     "metadata": {},
     "output_type": "display_data"
    }
   ],
   "source": [
    "ggplot(ruleCountPerLeaf) +\n",
    "   stat_ecdf(aes(x=numRules, col=interaction(algorithm, numLeafsPerBitmap, redundancyPerBitmap))) +\n",
    "   facet_grid(groupSizeDist * numBitmaps ~ numColocateHosts * numRulesPerLeaf) +\n",
    "   ggtitle(\"Rules per leaf distribution\") +\n",
    "   xlab(\"Number of rules\") +\n",
    "   plotTheme"
   ]
  },
  {
   "cell_type": "code",
   "execution_count": 16,
   "metadata": {},
   "outputs": [
    {
     "data": {
      "text/html": [
       "<table>\n",
       "<thead><tr><th scope=col>groupSizeDist</th><th scope=col>numRulesPerLeaf</th><th scope=col>V1</th></tr></thead>\n",
       "<tbody>\n",
       "\t<tr><td>uniform </td><td>1000    </td><td>  1.0000</td></tr>\n",
       "\t<tr><td>uniform </td><td>1000    </td><td> 18.0000</td></tr>\n",
       "\t<tr><td>uniform </td><td>1000    </td><td>512.2400</td></tr>\n",
       "\t<tr><td>uniform </td><td>1000    </td><td>901.0150</td></tr>\n",
       "\t<tr><td>uniform </td><td>1000    </td><td>918.4002</td></tr>\n",
       "\t<tr><td>uniform </td><td>1000    </td><td>919.0000</td></tr>\n",
       "\t<tr><td>uniform </td><td>10000   </td><td>  1.0000</td></tr>\n",
       "\t<tr><td>uniform </td><td>10000   </td><td> 18.0000</td></tr>\n",
       "\t<tr><td>uniform </td><td>10000   </td><td>512.2400</td></tr>\n",
       "\t<tr><td>uniform </td><td>10000   </td><td>901.0150</td></tr>\n",
       "\t<tr><td>uniform </td><td>10000   </td><td>918.4002</td></tr>\n",
       "\t<tr><td>uniform </td><td>10000   </td><td>919.0000</td></tr>\n",
       "\t<tr><td>wve     </td><td>1000    </td><td>  1.0000</td></tr>\n",
       "\t<tr><td>wve     </td><td>1000    </td><td> 18.0000</td></tr>\n",
       "\t<tr><td>wve     </td><td>1000    </td><td>512.2400</td></tr>\n",
       "\t<tr><td>wve     </td><td>1000    </td><td>901.0150</td></tr>\n",
       "\t<tr><td>wve     </td><td>1000    </td><td>918.4002</td></tr>\n",
       "\t<tr><td>wve     </td><td>1000    </td><td>919.0000</td></tr>\n",
       "\t<tr><td>wve     </td><td>10000   </td><td>  1.0000</td></tr>\n",
       "\t<tr><td>wve     </td><td>10000   </td><td> 18.0000</td></tr>\n",
       "\t<tr><td>wve     </td><td>10000   </td><td>512.2400</td></tr>\n",
       "\t<tr><td>wve     </td><td>10000   </td><td>901.0150</td></tr>\n",
       "\t<tr><td>wve     </td><td>10000   </td><td>918.4002</td></tr>\n",
       "\t<tr><td>wve     </td><td>10000   </td><td>919.0000</td></tr>\n",
       "</tbody>\n",
       "</table>\n"
      ],
      "text/latex": [
       "\\begin{tabular}{r|lll}\n",
       " groupSizeDist & numRulesPerLeaf & V1\\\\\n",
       "\\hline\n",
       "\t uniform  & 1000     &   1.0000\\\\\n",
       "\t uniform  & 1000     &  18.0000\\\\\n",
       "\t uniform  & 1000     & 512.2400\\\\\n",
       "\t uniform  & 1000     & 901.0150\\\\\n",
       "\t uniform  & 1000     & 918.4002\\\\\n",
       "\t uniform  & 1000     & 919.0000\\\\\n",
       "\t uniform  & 10000    &   1.0000\\\\\n",
       "\t uniform  & 10000    &  18.0000\\\\\n",
       "\t uniform  & 10000    & 512.2400\\\\\n",
       "\t uniform  & 10000    & 901.0150\\\\\n",
       "\t uniform  & 10000    & 918.4002\\\\\n",
       "\t uniform  & 10000    & 919.0000\\\\\n",
       "\t wve      & 1000     &   1.0000\\\\\n",
       "\t wve      & 1000     &  18.0000\\\\\n",
       "\t wve      & 1000     & 512.2400\\\\\n",
       "\t wve      & 1000     & 901.0150\\\\\n",
       "\t wve      & 1000     & 918.4002\\\\\n",
       "\t wve      & 1000     & 919.0000\\\\\n",
       "\t wve      & 10000    &   1.0000\\\\\n",
       "\t wve      & 10000    &  18.0000\\\\\n",
       "\t wve      & 10000    & 512.2400\\\\\n",
       "\t wve      & 10000    & 901.0150\\\\\n",
       "\t wve      & 10000    & 918.4002\\\\\n",
       "\t wve      & 10000    & 919.0000\\\\\n",
       "\\end{tabular}\n"
      ],
      "text/markdown": [
       "\n",
       "groupSizeDist | numRulesPerLeaf | V1 | \n",
       "|---|---|---|---|---|---|---|---|---|---|---|---|---|---|---|---|---|---|---|---|---|---|---|---|\n",
       "| uniform  | 1000     |   1.0000 | \n",
       "| uniform  | 1000     |  18.0000 | \n",
       "| uniform  | 1000     | 512.2400 | \n",
       "| uniform  | 1000     | 901.0150 | \n",
       "| uniform  | 1000     | 918.4002 | \n",
       "| uniform  | 1000     | 919.0000 | \n",
       "| uniform  | 10000    |   1.0000 | \n",
       "| uniform  | 10000    |  18.0000 | \n",
       "| uniform  | 10000    | 512.2400 | \n",
       "| uniform  | 10000    | 901.0150 | \n",
       "| uniform  | 10000    | 918.4002 | \n",
       "| uniform  | 10000    | 919.0000 | \n",
       "| wve      | 1000     |   1.0000 | \n",
       "| wve      | 1000     |  18.0000 | \n",
       "| wve      | 1000     | 512.2400 | \n",
       "| wve      | 1000     | 901.0150 | \n",
       "| wve      | 1000     | 918.4002 | \n",
       "| wve      | 1000     | 919.0000 | \n",
       "| wve      | 10000    |   1.0000 | \n",
       "| wve      | 10000    |  18.0000 | \n",
       "| wve      | 10000    | 512.2400 | \n",
       "| wve      | 10000    | 901.0150 | \n",
       "| wve      | 10000    | 918.4002 | \n",
       "| wve      | 10000    | 919.0000 | \n",
       "\n",
       "\n"
      ],
      "text/plain": [
       "   groupSizeDist numRulesPerLeaf V1      \n",
       "1  uniform       1000              1.0000\n",
       "2  uniform       1000             18.0000\n",
       "3  uniform       1000            512.2400\n",
       "4  uniform       1000            901.0150\n",
       "5  uniform       1000            918.4002\n",
       "6  uniform       1000            919.0000\n",
       "7  uniform       10000             1.0000\n",
       "8  uniform       10000            18.0000\n",
       "9  uniform       10000           512.2400\n",
       "10 uniform       10000           901.0150\n",
       "11 uniform       10000           918.4002\n",
       "12 uniform       10000           919.0000\n",
       "13 wve           1000              1.0000\n",
       "14 wve           1000             18.0000\n",
       "15 wve           1000            512.2400\n",
       "16 wve           1000            901.0150\n",
       "17 wve           1000            918.4002\n",
       "18 wve           1000            919.0000\n",
       "19 wve           10000             1.0000\n",
       "20 wve           10000            18.0000\n",
       "21 wve           10000           512.2400\n",
       "22 wve           10000           901.0150\n",
       "23 wve           10000           918.4002\n",
       "24 wve           10000           919.0000"
      ]
     },
     "metadata": {},
     "output_type": "display_data"
    }
   ],
   "source": [
    "groupCountPerTenant[algorithm == \"exact-match\" & numColocateHosts == 0 & numBitmaps == 10 & numLeafsPerBitmap == 1,\n",
    "                    quantile(groupCount, c(0.0, 0.5,0.99,0.999,0.9999,1.0)), by=list(groupSizeDist, numRulesPerLeaf)]"
   ]
  },
  {
   "cell_type": "code",
   "execution_count": 17,
   "metadata": {},
   "outputs": [
    {
     "data": {
      "text/html": [
       "<table>\n",
       "<thead><tr><th scope=col>groupSizeDist</th><th scope=col>numRulesPerLeaf</th><th scope=col>V1</th></tr></thead>\n",
       "<tbody>\n",
       "\t<tr><td>uniform </td><td>1000    </td><td>   5.000</td></tr>\n",
       "\t<tr><td>uniform </td><td>1000    </td><td> 143.000</td></tr>\n",
       "\t<tr><td>uniform </td><td>1000    </td><td>4258.000</td></tr>\n",
       "\t<tr><td>uniform </td><td>1000    </td><td>4837.467</td></tr>\n",
       "\t<tr><td>uniform </td><td>1000    </td><td>4976.149</td></tr>\n",
       "\t<tr><td>uniform </td><td>1000    </td><td>4997.000</td></tr>\n",
       "\t<tr><td>uniform </td><td>10000   </td><td>   5.000</td></tr>\n",
       "\t<tr><td>uniform </td><td>10000   </td><td> 143.000</td></tr>\n",
       "\t<tr><td>uniform </td><td>10000   </td><td>4258.000</td></tr>\n",
       "\t<tr><td>uniform </td><td>10000   </td><td>4837.467</td></tr>\n",
       "\t<tr><td>uniform </td><td>10000   </td><td>4976.149</td></tr>\n",
       "\t<tr><td>uniform </td><td>10000   </td><td>4997.000</td></tr>\n",
       "\t<tr><td>wve     </td><td>1000    </td><td>   5.000</td></tr>\n",
       "\t<tr><td>wve     </td><td>1000    </td><td>  12.000</td></tr>\n",
       "\t<tr><td>wve     </td><td>1000    </td><td> 387.000</td></tr>\n",
       "\t<tr><td>wve     </td><td>1000    </td><td>4695.000</td></tr>\n",
       "\t<tr><td>wve     </td><td>1000    </td><td>4959.000</td></tr>\n",
       "\t<tr><td>wve     </td><td>1000    </td><td>4988.000</td></tr>\n",
       "\t<tr><td>wve     </td><td>10000   </td><td>   5.000</td></tr>\n",
       "\t<tr><td>wve     </td><td>10000   </td><td>  12.000</td></tr>\n",
       "\t<tr><td>wve     </td><td>10000   </td><td> 387.000</td></tr>\n",
       "\t<tr><td>wve     </td><td>10000   </td><td>4695.000</td></tr>\n",
       "\t<tr><td>wve     </td><td>10000   </td><td>4959.000</td></tr>\n",
       "\t<tr><td>wve     </td><td>10000   </td><td>4988.000</td></tr>\n",
       "</tbody>\n",
       "</table>\n"
      ],
      "text/latex": [
       "\\begin{tabular}{r|lll}\n",
       " groupSizeDist & numRulesPerLeaf & V1\\\\\n",
       "\\hline\n",
       "\t uniform  & 1000     &    5.000\\\\\n",
       "\t uniform  & 1000     &  143.000\\\\\n",
       "\t uniform  & 1000     & 4258.000\\\\\n",
       "\t uniform  & 1000     & 4837.467\\\\\n",
       "\t uniform  & 1000     & 4976.149\\\\\n",
       "\t uniform  & 1000     & 4997.000\\\\\n",
       "\t uniform  & 10000    &    5.000\\\\\n",
       "\t uniform  & 10000    &  143.000\\\\\n",
       "\t uniform  & 10000    & 4258.000\\\\\n",
       "\t uniform  & 10000    & 4837.467\\\\\n",
       "\t uniform  & 10000    & 4976.149\\\\\n",
       "\t uniform  & 10000    & 4997.000\\\\\n",
       "\t wve      & 1000     &    5.000\\\\\n",
       "\t wve      & 1000     &   12.000\\\\\n",
       "\t wve      & 1000     &  387.000\\\\\n",
       "\t wve      & 1000     & 4695.000\\\\\n",
       "\t wve      & 1000     & 4959.000\\\\\n",
       "\t wve      & 1000     & 4988.000\\\\\n",
       "\t wve      & 10000    &    5.000\\\\\n",
       "\t wve      & 10000    &   12.000\\\\\n",
       "\t wve      & 10000    &  387.000\\\\\n",
       "\t wve      & 10000    & 4695.000\\\\\n",
       "\t wve      & 10000    & 4959.000\\\\\n",
       "\t wve      & 10000    & 4988.000\\\\\n",
       "\\end{tabular}\n"
      ],
      "text/markdown": [
       "\n",
       "groupSizeDist | numRulesPerLeaf | V1 | \n",
       "|---|---|---|---|---|---|---|---|---|---|---|---|---|---|---|---|---|---|---|---|---|---|---|---|\n",
       "| uniform  | 1000     |    5.000 | \n",
       "| uniform  | 1000     |  143.000 | \n",
       "| uniform  | 1000     | 4258.000 | \n",
       "| uniform  | 1000     | 4837.467 | \n",
       "| uniform  | 1000     | 4976.149 | \n",
       "| uniform  | 1000     | 4997.000 | \n",
       "| uniform  | 10000    |    5.000 | \n",
       "| uniform  | 10000    |  143.000 | \n",
       "| uniform  | 10000    | 4258.000 | \n",
       "| uniform  | 10000    | 4837.467 | \n",
       "| uniform  | 10000    | 4976.149 | \n",
       "| uniform  | 10000    | 4997.000 | \n",
       "| wve      | 1000     |    5.000 | \n",
       "| wve      | 1000     |   12.000 | \n",
       "| wve      | 1000     |  387.000 | \n",
       "| wve      | 1000     | 4695.000 | \n",
       "| wve      | 1000     | 4959.000 | \n",
       "| wve      | 1000     | 4988.000 | \n",
       "| wve      | 10000    |    5.000 | \n",
       "| wve      | 10000    |   12.000 | \n",
       "| wve      | 10000    |  387.000 | \n",
       "| wve      | 10000    | 4695.000 | \n",
       "| wve      | 10000    | 4959.000 | \n",
       "| wve      | 10000    | 4988.000 | \n",
       "\n",
       "\n"
      ],
      "text/plain": [
       "   groupSizeDist numRulesPerLeaf V1      \n",
       "1  uniform       1000               5.000\n",
       "2  uniform       1000             143.000\n",
       "3  uniform       1000            4258.000\n",
       "4  uniform       1000            4837.467\n",
       "5  uniform       1000            4976.149\n",
       "6  uniform       1000            4997.000\n",
       "7  uniform       10000              5.000\n",
       "8  uniform       10000            143.000\n",
       "9  uniform       10000           4258.000\n",
       "10 uniform       10000           4837.467\n",
       "11 uniform       10000           4976.149\n",
       "12 uniform       10000           4997.000\n",
       "13 wve           1000               5.000\n",
       "14 wve           1000              12.000\n",
       "15 wve           1000             387.000\n",
       "16 wve           1000            4695.000\n",
       "17 wve           1000            4959.000\n",
       "18 wve           1000            4988.000\n",
       "19 wve           10000              5.000\n",
       "20 wve           10000             12.000\n",
       "21 wve           10000            387.000\n",
       "22 wve           10000           4695.000\n",
       "23 wve           10000           4959.000\n",
       "24 wve           10000           4988.000"
      ]
     },
     "metadata": {},
     "output_type": "display_data"
    }
   ],
   "source": [
    "groupSizePerGroupPerTenant[algorithm == \"exact-match\" & numColocateHosts == 0 & numBitmaps == 10 & numLeafsPerBitmap == 1,\n",
    "                           quantile(groupSize,c(0.0, 0.5,0.99,0.999,0.9999,1.0)), by=list(groupSizeDist, numRulesPerLeaf)]"
   ]
  },
  {
   "cell_type": "code",
   "execution_count": 18,
   "metadata": {},
   "outputs": [
    {
     "data": {
      "text/html": [
       "<dl class=dl-horizontal>\n",
       "\t<dt>0%</dt>\n",
       "\t\t<dd>10</dd>\n",
       "\t<dt>50%</dt>\n",
       "\t\t<dd>98</dd>\n",
       "\t<dt>99%</dt>\n",
       "\t\t<dd>2785.33000000003</dd>\n",
       "\t<dt>99.9%</dt>\n",
       "\t\t<dd>4902.07800000002</dd>\n",
       "\t<dt>99.99%</dt>\n",
       "\t\t<dd>4999</dd>\n",
       "\t<dt>100%</dt>\n",
       "\t\t<dd>4999</dd>\n",
       "</dl>\n"
      ],
      "text/latex": [
       "\\begin{description*}\n",
       "\\item[0\\textbackslash{}\\%] 10\n",
       "\\item[50\\textbackslash{}\\%] 98\n",
       "\\item[99\\textbackslash{}\\%] 2785.33000000003\n",
       "\\item[99.9\\textbackslash{}\\%] 4902.07800000002\n",
       "\\item[99.99\\textbackslash{}\\%] 4999\n",
       "\\item[100\\textbackslash{}\\%] 4999\n",
       "\\end{description*}\n"
      ],
      "text/markdown": [
       "0%\n",
       ":   1050%\n",
       ":   9899%\n",
       ":   2785.3300000000399.9%\n",
       ":   4902.0780000000299.99%\n",
       ":   4999100%\n",
       ":   4999\n",
       "\n"
      ],
      "text/plain": [
       "      0%      50%      99%    99.9%   99.99%     100% \n",
       "  10.000   98.000 2785.330 4902.078 4999.000 4999.000 "
      ]
     },
     "metadata": {},
     "output_type": "display_data"
    }
   ],
   "source": [
    "vmCountPerTenant[algorithm == \"exact-match\" & groupSizeDist == \"wve\" & \n",
    "                 numColocateHosts == 0 & numBitmaps == 10 & numLeafsPerBitmap == 1,\n",
    "                 quantile(vmCount,c(0.0, 0.5,0.99,0.999,0.9999,1.0))]"
   ]
  },
  {
   "cell_type": "code",
   "execution_count": 19,
   "metadata": {},
   "outputs": [
    {
     "data": {},
     "metadata": {},
     "output_type": "display_data"
    },
    {
     "data": {
      "image/png": "[encoded data removed]",
      "text/plain": [
       "plot without title"
      ]
     },
     "metadata": {},
     "output_type": "display_data"
    }
   ],
   "source": [
    "ggplot(groupsCoveredWithBitmapsOnly) +\n",
    "   geom_bar(aes(y=groupsCoveredWithoutDefaultBitmap, x=factor(numBitmaps), \n",
    "                fill=interaction(algorithm, numLeafsPerBitmap, redundancyPerBitmap)),\n",
    "            stat=\"identity\",position=position_dodge()) +\n",
    "   facet_grid(groupSizeDist * numRulesPerLeaf ~ numColocateHosts) +\n",
    "   xlab(\"Number of bitmaps\") +\n",
    "   ylab(\"Groups covered (without default bitmap)\") +\n",
    "   plotTheme"
   ]
  },
  {
   "cell_type": "code",
   "execution_count": 20,
   "metadata": {
    "collapsed": true
   },
   "outputs": [],
   "source": [
    "# ggplot(groupsCoveredWithBitmapsOnly) +\n",
    "#    geom_bar(aes(y=groupsCovered, x=factor(numBitmaps), \n",
    "#                 fill=interaction(algorithm, numLeafsPerBitmap, redundancyPerBitmap)),\n",
    "#             stat=\"identity\",position=position_dodge()) +\n",
    "#    facet_grid(groupSizeDist * numRulesPerLeaf ~ numColocateHosts) +\n",
    "#    xlab(\"Number of bitmaps\") +\n",
    "#    ylab(\"Groups covered\") +\n",
    "#    plotTheme"
   ]
  },
  {
   "cell_type": "code",
   "execution_count": 21,
   "metadata": {},
   "outputs": [
    {
     "data": {},
     "metadata": {},
     "output_type": "display_data"
    },
    {
     "data": {
      "image/png": "[encoded data removed]",
      "text/plain": [
       "plot without title"
      ]
     },
     "metadata": {},
     "output_type": "display_data"
    }
   ],
   "source": [
    "ggplot(trafficOverhead) +\n",
    "   geom_bar(aes(y=trafficOverhead, x=factor(numBitmaps), \n",
    "                fill=interaction(algorithm, numLeafsPerBitmap, redundancyPerBitmap)),\n",
    "            stat=\"identity\",position=position_dodge()) +\n",
    "   facet_grid(groupSizeDist * numRulesPerLeaf ~ numColocateHosts) +\n",
    "   xlab(\"Number of bitmaps\") +\n",
    "   ylab(\"Traffic Overhead\") +\n",
    "   plotTheme"
   ]
  },
  {
   "cell_type": "code",
   "execution_count": 22,
   "metadata": {
    "collapsed": true
   },
   "outputs": [],
   "source": [
    "overheads <- leafSpineTraffic[, list(\"UnicastSum\" = sum(as.numeric(unicastTraffic)), \n",
    "                                     \"MulticastSum\" = sum(as.numeric(multicastTraffic)),\n",
    "                                     \"BaseeratSum\" = sum(as.numeric(baseeratTraffic)),\n",
    "                                     \"OverlaySum\" = sum(as.numeric(overlayTraffic))),\n",
    "                              by=list(groupSizeDist, placementDist, numColocateHosts, algorithm,\n",
    "                                      numBitmaps, numLeafsPerBitmap, redundancyPerBitmap, numRulesPerLeaf)]"
   ]
  },
  {
   "cell_type": "code",
   "execution_count": 23,
   "metadata": {},
   "outputs": [
    {
     "data": {
      "text/html": [
       "<table>\n",
       "<thead><tr><th scope=col>groupSizeDist</th><th scope=col>placementDist</th><th scope=col>numColocateHosts</th><th scope=col>algorithm</th><th scope=col>numBitmaps</th><th scope=col>numLeafsPerBitmap</th><th scope=col>redundancyPerBitmap</th><th scope=col>numRulesPerLeaf</th><th scope=col>UnicastSum</th><th scope=col>MulticastSum</th><th scope=col>BaseeratSum</th><th scope=col>OverlaySum</th></tr></thead>\n",
       "<tbody>\n",
       "\t<tr><td>uniform    </td><td>uniform    </td><td>0          </td><td>exact-match</td><td>10         </td><td>1          </td><td>0          </td><td>1000       </td><td>242669400  </td><td>81740159   </td><td>923100961  </td><td>163086270  </td></tr>\n",
       "\t<tr><td>uniform    </td><td>uniform    </td><td>0          </td><td>exact-match</td><td>10         </td><td>1          </td><td>0          </td><td>10000      </td><td>242669400  </td><td>81740159   </td><td>696780867  </td><td>163086270  </td></tr>\n",
       "\t<tr><td>uniform    </td><td>uniform    </td><td>0          </td><td>exact-match</td><td>10         </td><td>2          </td><td>0          </td><td>1000       </td><td>242669400  </td><td>81740159   </td><td>885224522  </td><td>163086270  </td></tr>\n",
       "\t<tr><td>uniform    </td><td>uniform    </td><td>0          </td><td>exact-match</td><td>10         </td><td>2          </td><td>0          </td><td>10000      </td><td>242669400  </td><td>81740159   </td><td>659996133  </td><td>163086270  </td></tr>\n",
       "\t<tr><td>uniform    </td><td>uniform    </td><td>0          </td><td>exact-match</td><td>20         </td><td>1          </td><td>0          </td><td>1000       </td><td>242669400  </td><td>81740159   </td><td>881992023  </td><td>163086270  </td></tr>\n",
       "\t<tr><td>uniform    </td><td>uniform    </td><td>0          </td><td>exact-match</td><td>20         </td><td>1          </td><td>0          </td><td>10000      </td><td>242669400  </td><td>81740159   </td><td>656339644  </td><td>163086270  </td></tr>\n",
       "</tbody>\n",
       "</table>\n"
      ],
      "text/latex": [
       "\\begin{tabular}{r|llllllllllll}\n",
       " groupSizeDist & placementDist & numColocateHosts & algorithm & numBitmaps & numLeafsPerBitmap & redundancyPerBitmap & numRulesPerLeaf & UnicastSum & MulticastSum & BaseeratSum & OverlaySum\\\\\n",
       "\\hline\n",
       "\t uniform     & uniform     & 0           & exact-match & 10          & 1           & 0           & 1000        & 242669400   & 81740159    & 923100961   & 163086270  \\\\\n",
       "\t uniform     & uniform     & 0           & exact-match & 10          & 1           & 0           & 10000       & 242669400   & 81740159    & 696780867   & 163086270  \\\\\n",
       "\t uniform     & uniform     & 0           & exact-match & 10          & 2           & 0           & 1000        & 242669400   & 81740159    & 885224522   & 163086270  \\\\\n",
       "\t uniform     & uniform     & 0           & exact-match & 10          & 2           & 0           & 10000       & 242669400   & 81740159    & 659996133   & 163086270  \\\\\n",
       "\t uniform     & uniform     & 0           & exact-match & 20          & 1           & 0           & 1000        & 242669400   & 81740159    & 881992023   & 163086270  \\\\\n",
       "\t uniform     & uniform     & 0           & exact-match & 20          & 1           & 0           & 10000       & 242669400   & 81740159    & 656339644   & 163086270  \\\\\n",
       "\\end{tabular}\n"
      ],
      "text/markdown": [
       "\n",
       "groupSizeDist | placementDist | numColocateHosts | algorithm | numBitmaps | numLeafsPerBitmap | redundancyPerBitmap | numRulesPerLeaf | UnicastSum | MulticastSum | BaseeratSum | OverlaySum | \n",
       "|---|---|---|---|---|---|\n",
       "| uniform     | uniform     | 0           | exact-match | 10          | 1           | 0           | 1000        | 242669400   | 81740159    | 923100961   | 163086270   | \n",
       "| uniform     | uniform     | 0           | exact-match | 10          | 1           | 0           | 10000       | 242669400   | 81740159    | 696780867   | 163086270   | \n",
       "| uniform     | uniform     | 0           | exact-match | 10          | 2           | 0           | 1000        | 242669400   | 81740159    | 885224522   | 163086270   | \n",
       "| uniform     | uniform     | 0           | exact-match | 10          | 2           | 0           | 10000       | 242669400   | 81740159    | 659996133   | 163086270   | \n",
       "| uniform     | uniform     | 0           | exact-match | 20          | 1           | 0           | 1000        | 242669400   | 81740159    | 881992023   | 163086270   | \n",
       "| uniform     | uniform     | 0           | exact-match | 20          | 1           | 0           | 10000       | 242669400   | 81740159    | 656339644   | 163086270   | \n",
       "\n",
       "\n"
      ],
      "text/plain": [
       "  groupSizeDist placementDist numColocateHosts algorithm   numBitmaps\n",
       "1 uniform       uniform       0                exact-match 10        \n",
       "2 uniform       uniform       0                exact-match 10        \n",
       "3 uniform       uniform       0                exact-match 10        \n",
       "4 uniform       uniform       0                exact-match 10        \n",
       "5 uniform       uniform       0                exact-match 20        \n",
       "6 uniform       uniform       0                exact-match 20        \n",
       "  numLeafsPerBitmap redundancyPerBitmap numRulesPerLeaf UnicastSum MulticastSum\n",
       "1 1                 0                   1000            242669400  81740159    \n",
       "2 1                 0                   10000           242669400  81740159    \n",
       "3 2                 0                   1000            242669400  81740159    \n",
       "4 2                 0                   10000           242669400  81740159    \n",
       "5 1                 0                   1000            242669400  81740159    \n",
       "6 1                 0                   10000           242669400  81740159    \n",
       "  BaseeratSum OverlaySum\n",
       "1 923100961   163086270 \n",
       "2 696780867   163086270 \n",
       "3 885224522   163086270 \n",
       "4 659996133   163086270 \n",
       "5 881992023   163086270 \n",
       "6 656339644   163086270 "
      ]
     },
     "metadata": {},
     "output_type": "display_data"
    }
   ],
   "source": [
    "head(overheads)"
   ]
  },
  {
   "cell_type": "code",
   "execution_count": 24,
   "metadata": {},
   "outputs": [
    {
     "data": {},
     "metadata": {},
     "output_type": "display_data"
    },
    {
     "data": {
      "image/png": "[encoded data removed]",
      "text/plain": [
       "plot without title"
      ]
     },
     "metadata": {},
     "output_type": "display_data"
    }
   ],
   "source": [
    "ggplot(overheads) +\n",
    "   geom_bar(aes(y=UnicastSum/MulticastSum, x=factor(numBitmaps), \n",
    "                fill=interaction(algorithm, numLeafsPerBitmap, redundancyPerBitmap)),\n",
    "            stat=\"identity\", position=position_dodge(),) +\n",
    "   facet_grid(groupSizeDist * numRulesPerLeaf ~ numColocateHosts) +\n",
    "   ylim(c(0, 6)) +\n",
    "   xlab(\"Number of bitmaps\") +\n",
    "   ylab(\"Traffic Overhead\") +\n",
    "   plotTheme"
   ]
  },
  {
   "cell_type": "code",
   "execution_count": 28,
   "metadata": {},
   "outputs": [
    {
     "data": {},
     "metadata": {},
     "output_type": "display_data"
    },
    {
     "data": {
      "image/png": "[encoded data removed]",
      "text/plain": [
       "plot without title"
      ]
     },
     "metadata": {},
     "output_type": "display_data"
    }
   ],
   "source": [
    "ggplot(overheads) +\n",
    "   geom_bar(aes(y=BaseeratSum/MulticastSum, x=factor(numBitmaps), \n",
    "                fill=interaction(algorithm, numLeafsPerBitmap, redundancyPerBitmap)),\n",
    "            stat=\"identity\", position=position_dodge(),) +\n",
    "   facet_grid(groupSizeDist * numRulesPerLeaf ~ numColocateHosts) +\n",
    "   ylim(c(0, 15)) +\n",
    "   xlab(\"Number of bitmaps\") +\n",
    "   ylab(\"Traffic Overhead\") +\n",
    "   plotTheme"
   ]
  },
  {
   "cell_type": "code",
   "execution_count": 29,
   "metadata": {},
   "outputs": [
    {
     "data": {},
     "metadata": {},
     "output_type": "display_data"
    },
    {
     "data": {
      "image/png": "[encoded data removed]",
      "text/plain": [
       "plot without title"
      ]
     },
     "metadata": {},
     "output_type": "display_data"
    }
   ],
   "source": [
    "ggplot(overheads) +\n",
    "   geom_bar(aes(y=OverlaySum/MulticastSum, x=factor(numBitmaps), \n",
    "                fill=interaction(algorithm, numLeafsPerBitmap, redundancyPerBitmap)),\n",
    "            stat=\"identity\", position=position_dodge(),) +\n",
    "   facet_grid(groupSizeDist * numRulesPerLeaf ~ numColocateHosts) +\n",
    "   ylim(c(0, 6)) +\n",
    "   xlab(\"Number of bitmaps\") +\n",
    "   ylab(\"Traffic Overhead\") +\n",
    "   plotTheme"
   ]
  },
  {
   "cell_type": "code",
   "execution_count": null,
   "metadata": {
    "collapsed": true
   },
   "outputs": [],
   "source": []
  }
 ],
 "metadata": {
  "kernelspec": {
   "display_name": "R",
   "language": "R",
   "name": "ir"
  },
  "language_info": {
   "codemirror_mode": "r",
   "file_extension": ".r",
   "mimetype": "text/x-r-source",
   "name": "R",
   "pygments_lexer": "r",
   "version": "3.4.2"
  }
 },
 "nbformat": 4,
 "nbformat_minor": 2
}
