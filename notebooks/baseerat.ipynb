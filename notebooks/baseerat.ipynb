{
 "cells": [
  {
   "cell_type": "code",
   "execution_count": 1,
   "metadata": {
    "collapsed": true
   },
   "outputs": [],
   "source": [
    "import sys\n",
    "import random\n",
    "import glob\n",
    "import seaborn as sb\n",
    "import pandas as pd\n",
    "import numpy as np\n",
    "from scipy import stats\n",
    "\n",
    "import matplotlib.pyplot as plt\n",
    "plt.style.use('ggplot')\n",
    "# display plots in the notebook\n",
    "%matplotlib inline\n",
    "# increase default figure and font sizes for easier viewing\n",
    "plt.rcParams['figure.figsize'] = (8, 6)\n",
    "plt.rcParams['font.size'] = 14"
   ]
  },
  {
   "cell_type": "code",
   "execution_count": 2,
   "metadata": {},
   "outputs": [],
   "source": [
    "sys.path.append(\"../\")\n",
    "from simulation.utils import bar_range, plot_ecdf"
   ]
  },
  {
   "cell_type": "code",
   "execution_count": null,
   "metadata": {
    "collapsed": true
   },
   "outputs": [],
   "source": []
  },
  {
   "cell_type": "markdown",
   "metadata": {},
   "source": [
    "## Loading data"
   ]
  },
  {
   "cell_type": "code",
   "execution_count": 3,
   "metadata": {
    "collapsed": true
   },
   "outputs": [],
   "source": [
    "logs_dir = '/mnt/sdb1/baseerat/numerical-evals/logs'"
   ]
  },
  {
   "cell_type": "code",
   "execution_count": 15,
   "metadata": {},
   "outputs": [
    {
     "name": "stderr",
     "output_type": "stream",
     "text": [
      "loading: 100% |#################################################| Time: 0:00:49\n"
     ]
    }
   ],
   "source": [
    "data = dict()\n",
    "\n",
    "for i in bar_range(glob.glob(logs_dir + \"/*/*.csv\"), desc='loading'):\n",
    "    _temp = i.split('/')\n",
    "    file_name = _temp[-1]\n",
    "    \n",
    "    _temp_params = _temp[-2].split('.')\n",
    "    cloud_params = _temp_params[0].split('_')\n",
    "    optimizer_params = _temp_params[1].split('_')\n",
    "    \n",
    "    (seed, group_size_dist, placement_dist, num_colocate_hosts, num_bitmaps,\n",
    "     num_leafs_per_bitmap, redundancy_per_bitmap, algoritm) = (\n",
    "        int(cloud_params[-1]), cloud_params[9], cloud_params[10], int(cloud_params[11]), int(optimizer_params[2]), \n",
    "        int(optimizer_params[3]), int(optimizer_params[4]), optimizer_params[1])\n",
    "   \n",
    "    if placement_dist not in data:\n",
    "        data[placement_dist] = dict()\n",
    "    placement_dist_dict = data[placement_dist]\n",
    "\n",
    "    if num_colocate_hosts not in placement_dist_dict:\n",
    "        placement_dist_dict[num_colocate_hosts] = dict()\n",
    "    num_colocate_hosts_dict =  placement_dist_dict[num_colocate_hosts] \n",
    "        \n",
    "    if group_size_dist not in num_colocate_hosts_dict:\n",
    "        num_colocate_hosts_dict[group_size_dist] = dict()\n",
    "    group_size_dist_dict = num_colocate_hosts_dict[group_size_dist]\n",
    "\n",
    "    if num_bitmaps not in group_size_dist_dict:\n",
    "         group_size_dist_dict[num_bitmaps] = dict()\n",
    "    num_bitmaps_dict = group_size_dist_dict[num_bitmaps]\n",
    "    \n",
    "    if num_leafs_per_bitmap == 0:\n",
    "        num_leafs_per_bitmap = 1\n",
    "    if num_leafs_per_bitmap not in num_bitmaps_dict:\n",
    "        num_bitmaps_dict[num_leafs_per_bitmap] = dict()\n",
    "    num_leafs_per_bitmap_dict = num_bitmaps_dict[num_leafs_per_bitmap]\n",
    "    \n",
    "    if redundancy_per_bitmap not in num_leafs_per_bitmap_dict:\n",
    "        num_leafs_per_bitmap_dict[redundancy_per_bitmap] = dict()\n",
    "    redundancy_per_bitmap_dict = num_leafs_per_bitmap_dict[redundancy_per_bitmap]\n",
    "    \n",
    "    if algoritm not in redundancy_per_bitmap_dict:\n",
    "        redundancy_per_bitmap_dict[algoritm] = dict()\n",
    "    algorithm_dict = redundancy_per_bitmap_dict[algoritm]\n",
    "    \n",
    "    try:\n",
    "        algorithm_dict[file_name.split('.')[0]] = pd.Series.from_csv(i)\n",
    "    except pd.io.common.EmptyDataError:\n",
    "        algorithm_dict[file_name.split('.')[0]] = pd.Series()\n",
    "        \n",
    "simulation_setup = {'num_leafs': cloud_params[0], \n",
    "                    'num_hosts_per_leaf': cloud_params[1], \n",
    "                    'max_vms_per_host': cloud_params[2], \n",
    "                    'num_tenants': cloud_params[3], \n",
    "                    'min_vms_per_tenant': cloud_params[4],\n",
    "                    'max_vms_per_tenant': cloud_params[5], \n",
    "                    'vm_dist': cloud_params[6], \n",
    "                    'num_groups': cloud_params[7], \n",
    "                    'num_rules_per_leaf': optimizer_params[-1]}\n",
    "        \n",
    "# data['colocate-random-linear'][24]['uniform'][10][1][0].keys()"
   ]
  },
  {
   "cell_type": "code",
   "execution_count": null,
   "metadata": {
    "collapsed": true
   },
   "outputs": [],
   "source": []
  },
  {
   "cell_type": "markdown",
   "metadata": {},
   "source": [
    "## Simulation setup"
   ]
  },
  {
   "cell_type": "code",
   "execution_count": 16,
   "metadata": {},
   "outputs": [
    {
     "data": {
      "text/plain": [
       "{'max_vms_per_host': '20',\n",
       " 'max_vms_per_tenant': '5000',\n",
       " 'min_vms_per_tenant': '10',\n",
       " 'num_groups': '100000',\n",
       " 'num_hosts_per_leaf': '48',\n",
       " 'num_leafs': '576',\n",
       " 'num_rules_per_leaf': '6400',\n",
       " 'num_tenants': '3000',\n",
       " 'vm_dist': 'expon'}"
      ]
     },
     "execution_count": 16,
     "metadata": {},
     "output_type": "execute_result"
    }
   ],
   "source": [
    "simulation_setup"
   ]
  },
  {
   "cell_type": "code",
   "execution_count": null,
   "metadata": {
    "collapsed": true
   },
   "outputs": [],
   "source": []
  },
  {
   "cell_type": "markdown",
   "metadata": {},
   "source": [
    "## Analysis"
   ]
  },
  {
   "cell_type": "markdown",
   "metadata": {},
   "source": [
    "### 1. VM count for all tenants"
   ]
  },
  {
   "cell_type": "code",
   "execution_count": 17,
   "metadata": {},
   "outputs": [],
   "source": [
    "vm_count_for_all_tenants = data['colocate-random-linear'][24]['uniform'][10][1][0]['single-match']['vm_count_for_all_tenants']\n",
    "# Note: this is same across all runs."
   ]
  },
  {
   "cell_type": "code",
   "execution_count": 18,
   "metadata": {},
   "outputs": [
    {
     "data": {
      "text/plain": [
       "<matplotlib.axes._subplots.AxesSubplot at 0x7feb47658438>"
      ]
     },
     "execution_count": 18,
     "metadata": {},
     "output_type": "execute_result"
    },
    {
     "data": {
      "image/png": "[encoded data removed]",
      "text/plain": [
       "<matplotlib.figure.Figure at 0x7feb478af1d0>"
      ]
     },
     "metadata": {},
     "output_type": "display_data"
    }
   ],
   "source": [
    "sb.set(style='ticks', font_scale=1.3)\n",
    "sb.boxplot(y=vm_count_for_all_tenants)"
   ]
  },
  {
   "cell_type": "code",
   "execution_count": 19,
   "metadata": {},
   "outputs": [
    {
     "data": {
      "text/plain": [
       "543464"
      ]
     },
     "execution_count": 19,
     "metadata": {},
     "output_type": "execute_result"
    }
   ],
   "source": [
    "sum(vm_count_for_all_tenants)"
   ]
  },
  {
   "cell_type": "code",
   "execution_count": 20,
   "metadata": {},
   "outputs": [
    {
     "data": {
      "text/plain": [
       "count    3000.000000\n",
       "mean      181.154667\n",
       "std       433.082649\n",
       "min        10.000000\n",
       "25%        46.000000\n",
       "50%        98.000000\n",
       "75%       184.000000\n",
       "max      4999.000000\n",
       "dtype: float64"
      ]
     },
     "execution_count": 20,
     "metadata": {},
     "output_type": "execute_result"
    }
   ],
   "source": [
    "vm_count_for_all_tenants.describe()"
   ]
  },
  {
   "cell_type": "code",
   "execution_count": null,
   "metadata": {
    "collapsed": true
   },
   "outputs": [],
   "source": []
  },
  {
   "cell_type": "markdown",
   "metadata": {},
   "source": [
    "### 2. Group count for all tenants"
   ]
  },
  {
   "cell_type": "code",
   "execution_count": 21,
   "metadata": {},
   "outputs": [],
   "source": [
    "group_count_for_all_tenants = data['colocate-random-linear'][24]['uniform'][10][1][0]['single-match']['group_count_for_all_tenants']\n",
    "# Note: this is same across all runs."
   ]
  },
  {
   "cell_type": "code",
   "execution_count": 22,
   "metadata": {},
   "outputs": [
    {
     "data": {
      "text/plain": [
       "<matplotlib.axes._subplots.AxesSubplot at 0x7feb47178ba8>"
      ]
     },
     "execution_count": 22,
     "metadata": {},
     "output_type": "execute_result"
    },
    {
     "data": {
      "image/png": "[encoded data removed]",
      "text/plain": [
       "<matplotlib.figure.Figure at 0x7feb478af0f0>"
      ]
     },
     "metadata": {},
     "output_type": "display_data"
    }
   ],
   "source": [
    "sb.set(style='ticks', font_scale=1.3)\n",
    "sb.boxplot(y=group_count_for_all_tenants)"
   ]
  },
  {
   "cell_type": "code",
   "execution_count": 23,
   "metadata": {},
   "outputs": [
    {
     "data": {
      "text/plain": [
       "98512"
      ]
     },
     "execution_count": 23,
     "metadata": {},
     "output_type": "execute_result"
    }
   ],
   "source": [
    "sum(group_count_for_all_tenants)"
   ]
  },
  {
   "cell_type": "code",
   "execution_count": 24,
   "metadata": {},
   "outputs": [
    {
     "data": {
      "text/plain": [
       "count    3000.000000\n",
       "mean       32.837333\n",
       "std        79.683976\n",
       "min         1.000000\n",
       "25%         8.000000\n",
       "50%        18.000000\n",
       "75%        33.000000\n",
       "max       919.000000\n",
       "dtype: float64"
      ]
     },
     "execution_count": 24,
     "metadata": {},
     "output_type": "execute_result"
    }
   ],
   "source": [
    "group_count_for_all_tenants.describe()"
   ]
  },
  {
   "cell_type": "code",
   "execution_count": null,
   "metadata": {
    "collapsed": true
   },
   "outputs": [],
   "source": []
  },
  {
   "cell_type": "markdown",
   "metadata": {},
   "source": [
    "### 3. Group sizes for all tenants"
   ]
  },
  {
   "cell_type": "code",
   "execution_count": 25,
   "metadata": {},
   "outputs": [],
   "source": [
    "group_sizes_for_all_tenants_uniform = data['colocate-random-linear'][24]['uniform'][10][1][0]['single-match']['group_sizes_for_all_tenants']\n",
    "group_sizes_for_all_tenants_wve = data['colocate-random-linear'][48]['wve'][10][1][0]['single-match']['group_sizes_for_all_tenants']"
   ]
  },
  {
   "cell_type": "code",
   "execution_count": 26,
   "metadata": {
    "collapsed": true
   },
   "outputs": [],
   "source": [
    "group_sizes_for_all_tenants = pd.DataFrame()\n",
    "\n",
    "uniform_data = pd.DataFrame()\n",
    "uniform_data['type'] = ['uniform' for _ in range(len(group_sizes_for_all_tenants_uniform))]\n",
    "uniform_data['dist'] = group_sizes_for_all_tenants_uniform\n",
    "group_sizes_for_all_tenants = group_sizes_for_all_tenants.append(uniform_data)\n",
    "\n",
    "wve_data = pd.DataFrame()\n",
    "wve_data['type'] = ['wve' for _ in range(len(group_sizes_for_all_tenants_wve))]\n",
    "wve_data['dist'] = group_sizes_for_all_tenants_wve\n",
    "group_sizes_for_all_tenants = group_sizes_for_all_tenants.append(wve_data)"
   ]
  },
  {
   "cell_type": "code",
   "execution_count": 27,
   "metadata": {},
   "outputs": [
    {
     "data": {
      "text/plain": [
       "<matplotlib.axes._subplots.AxesSubplot at 0x7feb47692358>"
      ]
     },
     "execution_count": 27,
     "metadata": {},
     "output_type": "execute_result"
    },
    {
     "data": {
      "image/png": "[encoded data removed]",
      "text/plain": [
       "<matplotlib.figure.Figure at 0x7feb47697d30>"
      ]
     },
     "metadata": {},
     "output_type": "display_data"
    }
   ],
   "source": [
    "sb.set(style='ticks', font_scale=1.3)\n",
    "sb.boxplot(x='type', y='dist', data=group_sizes_for_all_tenants, palette='Greys')"
   ]
  },
  {
   "cell_type": "code",
   "execution_count": 28,
   "metadata": {},
   "outputs": [
    {
     "data": {
      "text/plain": [
       "count    98512.000000\n",
       "mean       615.837157\n",
       "std       1012.131104\n",
       "min          5.000000\n",
       "25%         56.000000\n",
       "50%        143.000000\n",
       "75%        539.000000\n",
       "max       4997.000000\n",
       "dtype: float64"
      ]
     },
     "execution_count": 28,
     "metadata": {},
     "output_type": "execute_result"
    }
   ],
   "source": [
    "group_sizes_for_all_tenants_uniform.describe()"
   ]
  },
  {
   "cell_type": "code",
   "execution_count": 29,
   "metadata": {},
   "outputs": [
    {
     "data": {
      "text/plain": [
       "count    98512.000000\n",
       "mean        60.217730\n",
       "std        282.936607\n",
       "min          5.000000\n",
       "25%          7.000000\n",
       "50%         12.000000\n",
       "75%         41.000000\n",
       "max       4988.000000\n",
       "dtype: float64"
      ]
     },
     "execution_count": 29,
     "metadata": {},
     "output_type": "execute_result"
    }
   ],
   "source": [
    "group_sizes_for_all_tenants_wve.describe()"
   ]
  },
  {
   "cell_type": "code",
   "execution_count": null,
   "metadata": {
    "collapsed": true
   },
   "outputs": [],
   "source": []
  },
  {
   "cell_type": "markdown",
   "metadata": {},
   "source": [
    "### 4. Leafs for all groups in all tenants"
   ]
  },
  {
   "cell_type": "code",
   "execution_count": 31,
   "metadata": {},
   "outputs": [],
   "source": [
    "leafs_for_all_groups_in_all_tenants_uniform = dict()\n",
    "leafs_for_all_groups_in_all_tenants_wve = dict()\n",
    "\n",
    "for h in data['colocate-random-linear']:\n",
    "    leafs_for_all_groups_in_all_tenants_uniform[h] = data['colocate-random-linear'][h]['uniform'][10][1][0]['single-match']['leafs_for_all_groups_in_all_tenants']\n",
    "    leafs_for_all_groups_in_all_tenants_wve[h] = data['colocate-random-linear'][h]['wve'][10][1][0]['single-match']['leafs_for_all_groups_in_all_tenants']"
   ]
  },
  {
   "cell_type": "code",
   "execution_count": 32,
   "metadata": {
    "collapsed": true
   },
   "outputs": [],
   "source": [
    "leafs_for_all_groups_in_all_tenants = pd.DataFrame()\n",
    "\n",
    "for h in data['colocate-random-linear']:\n",
    "    uniform_data = pd.DataFrame()\n",
    "    uniform_data['type'] = ['uniform' for _ in range(len(leafs_for_all_groups_in_all_tenants_uniform[h]))]\n",
    "    uniform_data['hosts'] = [h for _ in range(len(leafs_for_all_groups_in_all_tenants_uniform[h]))]\n",
    "    uniform_data['dist'] = leafs_for_all_groups_in_all_tenants_uniform[h]\n",
    "    leafs_for_all_groups_in_all_tenants = leafs_for_all_groups_in_all_tenants.append(uniform_data)\n",
    "\n",
    "    wve_data = pd.DataFrame()\n",
    "    wve_data['type'] = ['wve' for _ in range(len(leafs_for_all_groups_in_all_tenants_wve[h]))]\n",
    "    wve_data['hosts'] = [h for _ in range(len(leafs_for_all_groups_in_all_tenants_wve[h]))]\n",
    "    wve_data['dist'] = leafs_for_all_groups_in_all_tenants_wve[h]\n",
    "    leafs_for_all_groups_in_all_tenants = leafs_for_all_groups_in_all_tenants.append(wve_data)"
   ]
  },
  {
   "cell_type": "code",
   "execution_count": 33,
   "metadata": {},
   "outputs": [
    {
     "data": {
      "text/plain": [
       "<matplotlib.axes._subplots.AxesSubplot at 0x7feb466011d0>"
      ]
     },
     "execution_count": 33,
     "metadata": {},
     "output_type": "execute_result"
    },
    {
     "data": {
      "image/png": "[encoded data removed]",
      "text/plain": [
       "<matplotlib.figure.Figure at 0x7feb473c28d0>"
      ]
     },
     "metadata": {},
     "output_type": "display_data"
    }
   ],
   "source": [
    "sb.set(style='ticks', font_scale=1.3)\n",
    "sb.boxplot(x='type', y='dist', hue='hosts', data=leafs_for_all_groups_in_all_tenants, palette='Greys')"
   ]
  },
  {
   "cell_type": "code",
   "execution_count": null,
   "metadata": {
    "collapsed": true
   },
   "outputs": [],
   "source": []
  },
  {
   "cell_type": "markdown",
   "metadata": {},
   "source": [
    "### 5. Rules for all leafs"
   ]
  },
  {
   "cell_type": "code",
   "execution_count": 48,
   "metadata": {
    "collapsed": true
   },
   "outputs": [],
   "source": [
    "def get_rules_for_all_leafs(data, l, r):\n",
    "    _dict = dict()\n",
    "    for b in data:\n",
    "        if b not in _dict:\n",
    "            _dict[b] = dict()\n",
    "        for a in data[b][l][r]:\n",
    "            _dict[b][a] = data[b][l][r][a]['rules_for_all_leafs']\n",
    "                \n",
    "    _df = pd.DataFrame()\n",
    "    for b in _dict:\n",
    "        for a in _dict[b]:\n",
    "            _data = pd.DataFrame()\n",
    "            _data['rules'] = _dict[b][a]\n",
    "            _data['bitmaps'] = [b for _ in range(len(_dict[b][a]))]\n",
    "            _data['algo'] = [a for _ in range(len(_dict[b][a]))]\n",
    "            _df = _df.append(_data)\n",
    "    \n",
    "    return _df        "
   ]
  },
  {
   "cell_type": "code",
   "execution_count": 73,
   "metadata": {
    "collapsed": true
   },
   "outputs": [],
   "source": [
    "def get_traffic_overhead(data, l, r):\n",
    "    _dict = dict()\n",
    "    for b in data:\n",
    "        if b not in _dict:\n",
    "            _dict[b] = dict()\n",
    "        for a in data[b][l][r]:\n",
    "            _dict[b][a] = data[b][l][r][a]['traffic_overhead']\n",
    "                \n",
    "    _df = pd.DataFrame()\n",
    "    for b in _dict:\n",
    "        for a in _dict[b]:\n",
    "            _data = pd.DataFrame()\n",
    "            _data['traffic overhead(%)'] = _dict[b][a]\n",
    "            _data['bitmaps'] = [b for _ in range(len(_dict[b][a]))]\n",
    "            _data['algo'] = [a for _ in range(len(_dict[b][a]))]\n",
    "            _df = _df.append(_data)\n",
    "    \n",
    "    return _df        "
   ]
  },
  {
   "cell_type": "markdown",
   "metadata": {},
   "source": [
    "#### 5.1. With colocate-random-linear placement, 24 colocated hosts per leaf, uniform group sizes distribution ..."
   ]
  },
  {
   "cell_type": "markdown",
   "metadata": {},
   "source": [
    " 5.5.1. With **1** leaf per bitmap, and **0** redundancy ...  "
   ]
  },
  {
   "cell_type": "code",
   "execution_count": 74,
   "metadata": {},
   "outputs": [],
   "source": [
    "rules_for_all_leafs = get_rules_for_all_leafs(data['colocate-random-linear'][24]['uniform'], 1, 0)"
   ]
  },
  {
   "cell_type": "code",
   "execution_count": 75,
   "metadata": {},
   "outputs": [
    {
     "data": {
      "text/plain": [
       "<matplotlib.axes._subplots.AxesSubplot at 0x7feb46783d30>"
      ]
     },
     "execution_count": 75,
     "metadata": {},
     "output_type": "execute_result"
    },
    {
     "data": {
      "image/png": "[encoded data removed]",
      "text/plain": [
       "<matplotlib.figure.Figure at 0x7feb47398630>"
      ]
     },
     "metadata": {},
     "output_type": "display_data"
    }
   ],
   "source": [
    "sb.set(style='ticks', font_scale=1.3)\n",
    "sb.boxplot(x='bitmaps', y='rules', hue='algo', data=rules_for_all_leafs, palette='Greys')"
   ]
  },
  {
   "cell_type": "code",
   "execution_count": 76,
   "metadata": {},
   "outputs": [],
   "source": [
    "traffic_overhead = get_traffic_overhead(data['colocate-random-linear'][24]['uniform'], 1, 0)"
   ]
  },
  {
   "cell_type": "code",
   "execution_count": 77,
   "metadata": {},
   "outputs": [
    {
     "data": {
      "text/plain": [
       "<matplotlib.axes._subplots.AxesSubplot at 0x7feb472aa908>"
      ]
     },
     "execution_count": 77,
     "metadata": {},
     "output_type": "execute_result"
    },
    {
     "data": {
      "image/png": "[encoded data removed]",
      "text/plain": [
       "<matplotlib.figure.Figure at 0x7feb472a6400>"
      ]
     },
     "metadata": {},
     "output_type": "display_data"
    }
   ],
   "source": [
    "sb.set(style='ticks', font_scale=1.3)\n",
    "sb.barplot(x='bitmaps', y='traffic overhead(%)', hue='algo', data=traffic_overhead, palette='Greys')"
   ]
  },
  {
   "cell_type": "markdown",
   "metadata": {},
   "source": [
    "5.5.2. With **2** leafs per bitmap, and **0** redundancy ..."
   ]
  },
  {
   "cell_type": "code",
   "execution_count": 78,
   "metadata": {},
   "outputs": [],
   "source": [
    "rules_for_all_leafs = get_rules_for_all_leafs(data['colocate-random-linear'][24]['uniform'], 2, 0)"
   ]
  },
  {
   "cell_type": "code",
   "execution_count": 79,
   "metadata": {},
   "outputs": [
    {
     "data": {
      "text/plain": [
       "<matplotlib.axes._subplots.AxesSubplot at 0x7feb4660d470>"
      ]
     },
     "execution_count": 79,
     "metadata": {},
     "output_type": "execute_result"
    },
    {
     "data": {
      "image/png": "[encoded data removed]",
      "text/plain": [
       "<matplotlib.figure.Figure at 0x7feb470e8048>"
      ]
     },
     "metadata": {},
     "output_type": "display_data"
    }
   ],
   "source": [
    "sb.set(style='ticks', font_scale=1.3)\n",
    "sb.boxplot(x='bitmaps', y='rules', hue='algo', data=rules_for_all_leafs, palette='Greys')"
   ]
  },
  {
   "cell_type": "code",
   "execution_count": 81,
   "metadata": {
    "collapsed": true
   },
   "outputs": [],
   "source": [
    "traffic_overhead = get_traffic_overhead(data['colocate-random-linear'][24]['uniform'], 2, 0)"
   ]
  },
  {
   "cell_type": "code",
   "execution_count": 82,
   "metadata": {},
   "outputs": [
    {
     "data": {
      "text/plain": [
       "<matplotlib.axes._subplots.AxesSubplot at 0x7feb3e3da5f8>"
      ]
     },
     "execution_count": 82,
     "metadata": {},
     "output_type": "execute_result"
    },
    {
     "data": {
      "image/png": "[encoded data removed]",
      "text/plain": [
       "<matplotlib.figure.Figure at 0x7feb3e436630>"
      ]
     },
     "metadata": {},
     "output_type": "display_data"
    }
   ],
   "source": [
    "sb.set(style='ticks', font_scale=1.3)\n",
    "sb.barplot(x='bitmaps', y='traffic overhead(%)', hue='algo', data=traffic_overhead, palette='Greys')"
   ]
  },
  {
   "cell_type": "markdown",
   "metadata": {},
   "source": [
    "5.5.3. With **4** leafs per bitmap, and **0** redundnacy ..."
   ]
  },
  {
   "cell_type": "code",
   "execution_count": 83,
   "metadata": {
    "collapsed": true
   },
   "outputs": [],
   "source": [
    "rules_for_all_leafs = get_rules_for_all_leafs(data['colocate-random-linear'][24]['uniform'], 4, 0)"
   ]
  },
  {
   "cell_type": "code",
   "execution_count": 84,
   "metadata": {},
   "outputs": [
    {
     "data": {
      "text/plain": [
       "<matplotlib.axes._subplots.AxesSubplot at 0x7feb3e314f60>"
      ]
     },
     "execution_count": 84,
     "metadata": {},
     "output_type": "execute_result"
    },
    {
     "data": {
      "image/png": "[encoded data removed]",
      "text/plain": [
       "<matplotlib.figure.Figure at 0x7feb467d0d30>"
      ]
     },
     "metadata": {},
     "output_type": "display_data"
    }
   ],
   "source": [
    "sb.set(style='ticks', font_scale=1.3)\n",
    "sb.boxplot(x='bitmaps', y='rules', hue='algo', data=rules_for_all_leafs, palette='Greys')"
   ]
  },
  {
   "cell_type": "code",
   "execution_count": 86,
   "metadata": {
    "collapsed": true
   },
   "outputs": [],
   "source": [
    "traffic_overhead = get_traffic_overhead(data['colocate-random-linear'][24]['uniform'], 4, 0)"
   ]
  },
  {
   "cell_type": "code",
   "execution_count": 87,
   "metadata": {},
   "outputs": [
    {
     "data": {
      "text/plain": [
       "<matplotlib.axes._subplots.AxesSubplot at 0x7feb3e1c0f60>"
      ]
     },
     "execution_count": 87,
     "metadata": {},
     "output_type": "execute_result"
    },
    {
     "data": {
      "image/png": "[encoded data removed]",
      "text/plain": [
       "<matplotlib.figure.Figure at 0x7feb3e20d4a8>"
      ]
     },
     "metadata": {},
     "output_type": "display_data"
    }
   ],
   "source": [
    "sb.set(style='ticks', font_scale=1.3)\n",
    "sb.barplot(x='bitmaps', y='traffic overhead(%)', hue='algo', data=traffic_overhead, palette='Greys')"
   ]
  },
  {
   "cell_type": "code",
   "execution_count": null,
   "metadata": {
    "collapsed": true
   },
   "outputs": [],
   "source": []
  }
 ],
 "metadata": {
  "kernelspec": {
   "display_name": "Python 3",
   "language": "python",
   "name": "python3"
  },
  "language_info": {
   "codemirror_mode": {
    "name": "ipython",
    "version": 3
   },
   "file_extension": ".py",
   "mimetype": "text/x-python",
   "name": "python",
   "nbconvert_exporter": "python",
   "pygments_lexer": "ipython3",
   "version": "3.6.2"
  }
 },
 "nbformat": 4,
 "nbformat_minor": 2
}
