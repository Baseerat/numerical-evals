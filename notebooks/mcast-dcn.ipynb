{
 "cells": [
  {
   "cell_type": "code",
   "execution_count": 1,
   "metadata": {
    "collapsed": true
   },
   "outputs": [],
   "source": [
    "import os\n",
    "import sys\n",
    "import glob \n",
    "from functools import reduce\n",
    "import seaborn as sb\n",
    "import pandas as pd\n",
    "import random"
   ]
  },
  {
   "cell_type": "code",
   "execution_count": 2,
   "metadata": {
    "collapsed": true
   },
   "outputs": [],
   "source": [
    "import matplotlib.pyplot as plt\n",
    "plt.style.use('ggplot')\n",
    "# display plots in the notebook\n",
    "%matplotlib inline\n",
    "# increase default figure and font sizes for easier viewing\n",
    "plt.rcParams['figure.figsize'] = (8, 6)\n",
    "plt.rcParams['font.size'] = 14"
   ]
  },
  {
   "cell_type": "code",
   "execution_count": 3,
   "metadata": {},
   "outputs": [],
   "source": [
    "sys.path.append(\"../\")\n",
    "from simulation.cloud import *\n",
    "from simulation.data import *\n",
    "from simulation.plot import *\n",
    "from simulation.log import *\n",
    "from simulation.utils import plot_ecdf, ecdf"
   ]
  },
  {
   "cell_type": "code",
   "execution_count": 4,
   "metadata": {
    "collapsed": true
   },
   "outputs": [],
   "source": [
    "NUM_LEAFS = 576\n",
    "NUM_HOSTS_PER_LEAF = 48\n",
    "NUM_RULES_PER_LEAF = 1000\n",
    "MAX_VMS_PER_HOST = 20\n",
    "NUM_TENANTS = 3000\n",
    "MIN_VMS_PER_TENANT = 10\n",
    "MAX_VMS_PER_TENANT = 5000\n",
    "VM_DIST = \"expon\"  # options: expon\n",
    "NUM_GROUPS = 100000\n",
    "MIN_GROUP_SIZE = 5\n",
    "GROUP_SIZE_DIST = \"uniform\"  # options: uniform and wve\n",
    "PLACEMENT_DIST = \"colocate-random-linear\"  # options: uniform, colocate-random-linear, \n",
    "# colocate-random-random, sorted-colocate-random-linear, and sorted-colocate-random-random\n",
    "COLOCATE_NUM_HOSTS_PER_LEAF = 48\n",
    "NUM_BITMAPS = 28\n",
    "NUM_LEAFS_PER_BITMAP = 3\n",
    "MAX_BATCH_SIZE = 1\n",
    "ALGORITHM = 'greedy_match'  # options: naive, exact_match, fuzzy_match, greedy_match, random_fuzzy_match\n",
    "SEED = 0"
   ]
  },
  {
   "cell_type": "code",
   "execution_count": 5,
   "metadata": {},
   "outputs": [
    {
     "name": "stderr",
     "output_type": "stream",
     "text": [
      "network:leaf->hosts: 100%|██████████| 576/576 [00:00<00:00, 149158.43it/s]\n",
      "network:host->leaf: 100%|██████████| 576/576 [00:00<00:00, 416537.78it/s]\n",
      "tenants:vm count: 100%|██████████| 3000/3000 [00:00<00:00, 585224.50it/s]\n",
      "tenants:group count: 100%|██████████| 3000/3000 [00:00<00:00, 861312.34it/s]\n",
      "tenants:group sizes: 100%|██████████| 3000/3000 [00:00<00:00, 21077.43it/s]\n",
      "tenants:groups->vms: 100%|██████████| 3000/3000 [00:46<00:00, 64.88it/s]\n",
      "placement:vms->host: 100%|██████████| 3000/3000 [00:00<00:00, 13622.71it/s]\n",
      "placement:vms->leaf: 100%|██████████| 3000/3000 [00:00<00:00, 18261.80it/s]\n",
      "placement:groups->leafs: 100%|██████████| 3000/3000 [00:13<00:00, 230.63it/s]\n",
      "placement:leafs->bitmap: 100%|██████████| 3000/3000 [01:38<00:00, 30.54it/s]\n",
      "optimization: 100%|██████████| 3000/3000 [01:54<00:00, 26.23it/s]\n"
     ]
    }
   ],
   "source": [
    "random.seed(SEED)\n",
    "\n",
    "cloud = Cloud(num_leafs=NUM_LEAFS,\n",
    "              num_hosts_per_leaf=NUM_HOSTS_PER_LEAF,\n",
    "              num_rules_per_leaf=NUM_RULES_PER_LEAF,\n",
    "              max_vms_per_host=MAX_VMS_PER_HOST,\n",
    "              num_tenants=NUM_TENANTS,\n",
    "              min_vms_per_tenant=MIN_VMS_PER_TENANT,\n",
    "              max_vms_per_tenant=MAX_VMS_PER_TENANT,\n",
    "              vm_dist=VM_DIST,\n",
    "              num_groups=NUM_GROUPS,\n",
    "              min_group_size=MIN_GROUP_SIZE,\n",
    "              group_size_dist=GROUP_SIZE_DIST,\n",
    "              placement_dist=PLACEMENT_DIST,\n",
    "              colocate_num_hosts_per_leaf=COLOCATE_NUM_HOSTS_PER_LEAF,\n",
    "              num_bitmaps=NUM_BITMAPS,\n",
    "              num_leafs_per_bitmap=NUM_LEAFS_PER_BITMAP,\n",
    "              max_batch_size=MAX_BATCH_SIZE,\n",
    "              algorithm=ALGORITHM)"
   ]
  },
  {
   "cell_type": "code",
   "execution_count": null,
   "metadata": {
    "collapsed": true
   },
   "outputs": [],
   "source": []
  },
  {
   "cell_type": "code",
   "execution_count": 6,
   "metadata": {
    "collapsed": true
   },
   "outputs": [],
   "source": [
    "data = Data(cloud)"
   ]
  },
  {
   "cell_type": "code",
   "execution_count": null,
   "metadata": {
    "collapsed": true
   },
   "outputs": [],
   "source": []
  },
  {
   "cell_type": "code",
   "execution_count": 7,
   "metadata": {},
   "outputs": [
    {
     "data": {
      "text/plain": [
       "<matplotlib.axes._subplots.AxesSubplot at 0x7f7239516358>"
      ]
     },
     "execution_count": 7,
     "metadata": {},
     "output_type": "execute_result"
    },
    {
     "data": {
      "image/png": "[encoded data removed]",
      "text/plain": [
       "<matplotlib.figure.Figure at 0x7f72c24d8240>"
      ]
     },
     "metadata": {},
     "output_type": "display_data"
    }
   ],
   "source": [
    "sb.boxplot(y=data.vm_count_for_all_tenants())"
   ]
  },
  {
   "cell_type": "code",
   "execution_count": 8,
   "metadata": {},
   "outputs": [
    {
     "data": {
      "text/plain": [
       "543464"
      ]
     },
     "execution_count": 8,
     "metadata": {},
     "output_type": "execute_result"
    }
   ],
   "source": [
    "sum(data.vm_count_for_all_tenants())"
   ]
  },
  {
   "cell_type": "code",
   "execution_count": 9,
   "metadata": {
    "collapsed": true
   },
   "outputs": [],
   "source": [
    "# sb.kdeplot(data.vm_count_for_all_tenants(), cumulative=True)"
   ]
  },
  {
   "cell_type": "code",
   "execution_count": 10,
   "metadata": {},
   "outputs": [
    {
     "data": {
      "text/plain": [
       "count    3000.000000\n",
       "mean      181.154667\n",
       "std       433.082649\n",
       "min        10.000000\n",
       "25%        46.000000\n",
       "50%        98.000000\n",
       "75%       184.000000\n",
       "max      4999.000000\n",
       "dtype: float64"
      ]
     },
     "execution_count": 10,
     "metadata": {},
     "output_type": "execute_result"
    }
   ],
   "source": [
    "data.vm_count_for_all_tenants().describe()"
   ]
  },
  {
   "cell_type": "code",
   "execution_count": null,
   "metadata": {
    "collapsed": true
   },
   "outputs": [],
   "source": []
  },
  {
   "cell_type": "code",
   "execution_count": 11,
   "metadata": {},
   "outputs": [
    {
     "data": {
      "text/plain": [
       "<matplotlib.axes._subplots.AxesSubplot at 0x7f7239516208>"
      ]
     },
     "execution_count": 11,
     "metadata": {},
     "output_type": "execute_result"
    },
    {
     "data": {
      "image/png": "[encoded data removed]",
      "text/plain": [
       "<matplotlib.figure.Figure at 0x7f71b9cdb9b0>"
      ]
     },
     "metadata": {},
     "output_type": "display_data"
    }
   ],
   "source": [
    "sb.boxplot(y=data.group_count_for_all_tenants())"
   ]
  },
  {
   "cell_type": "code",
   "execution_count": 12,
   "metadata": {
    "collapsed": true
   },
   "outputs": [],
   "source": [
    "# sb.kdeplot(data.group_count_for_all_tenants(), cumulative=True)"
   ]
  },
  {
   "cell_type": "code",
   "execution_count": 13,
   "metadata": {},
   "outputs": [
    {
     "data": {
      "text/plain": [
       "count    3000.000000\n",
       "mean       32.837333\n",
       "std        79.683976\n",
       "min         1.000000\n",
       "25%         8.000000\n",
       "50%        18.000000\n",
       "75%        33.000000\n",
       "max       919.000000\n",
       "dtype: float64"
      ]
     },
     "execution_count": 13,
     "metadata": {},
     "output_type": "execute_result"
    }
   ],
   "source": [
    "data.group_count_for_all_tenants().describe()"
   ]
  },
  {
   "cell_type": "code",
   "execution_count": null,
   "metadata": {
    "collapsed": true
   },
   "outputs": [],
   "source": []
  },
  {
   "cell_type": "code",
   "execution_count": 14,
   "metadata": {},
   "outputs": [
    {
     "data": {
      "text/plain": [
       "<matplotlib.axes._subplots.AxesSubplot at 0x7f71b9c49c88>"
      ]
     },
     "execution_count": 14,
     "metadata": {},
     "output_type": "execute_result"
    },
    {
     "data": {
      "image/png": "[encoded data removed]",
      "text/plain": [
       "<matplotlib.figure.Figure at 0x7f71c1b2ee80>"
      ]
     },
     "metadata": {},
     "output_type": "display_data"
    }
   ],
   "source": [
    "sb.boxplot(y=data.group_sizes_for_all_tenants())"
   ]
  },
  {
   "cell_type": "code",
   "execution_count": 15,
   "metadata": {
    "collapsed": true
   },
   "outputs": [],
   "source": [
    "# sb.kdeplot(data.group_sizes_for_all_tenants(), cumulative=True)"
   ]
  },
  {
   "cell_type": "code",
   "execution_count": 16,
   "metadata": {},
   "outputs": [
    {
     "data": {
      "text/plain": [
       "count    98512.000000\n",
       "mean       615.837157\n",
       "std       1012.131104\n",
       "min          5.000000\n",
       "25%         56.000000\n",
       "50%        143.000000\n",
       "75%        539.000000\n",
       "max       4997.000000\n",
       "dtype: float64"
      ]
     },
     "execution_count": 16,
     "metadata": {},
     "output_type": "execute_result"
    }
   ],
   "source": [
    "data.group_sizes_for_all_tenants().describe()"
   ]
  },
  {
   "cell_type": "code",
   "execution_count": null,
   "metadata": {
    "collapsed": true
   },
   "outputs": [],
   "source": []
  },
  {
   "cell_type": "code",
   "execution_count": 17,
   "metadata": {},
   "outputs": [
    {
     "data": {
      "text/plain": [
       "<matplotlib.axes._subplots.AxesSubplot at 0x7f71b9b5a3c8>"
      ]
     },
     "execution_count": 17,
     "metadata": {},
     "output_type": "execute_result"
    },
    {
     "data": {
      "image/png": "[encoded data removed]",
      "text/plain": [
       "<matplotlib.figure.Figure at 0x7f72c12ab5c0>"
      ]
     },
     "metadata": {},
     "output_type": "display_data"
    }
   ],
   "source": [
    "sb.boxplot(y=data.leafs_for_all_groups_in_all_tenants())"
   ]
  },
  {
   "cell_type": "code",
   "execution_count": 18,
   "metadata": {
    "collapsed": true
   },
   "outputs": [],
   "source": [
    "# sb.kdeplot(data.leafs_for_all_groups_in_all_tenants(), cumulative=True)"
   ]
  },
  {
   "cell_type": "code",
   "execution_count": 19,
   "metadata": {},
   "outputs": [
    {
     "data": {
      "text/plain": [
       "count    98512.000000\n",
       "mean        25.769520\n",
       "std         33.396661\n",
       "min          1.000000\n",
       "25%          4.000000\n",
       "50%          7.000000\n",
       "75%         48.000000\n",
       "max        125.000000\n",
       "dtype: float64"
      ]
     },
     "execution_count": 19,
     "metadata": {},
     "output_type": "execute_result"
    }
   ],
   "source": [
    "data.leafs_for_all_groups_in_all_tenants().describe()"
   ]
  },
  {
   "cell_type": "code",
   "execution_count": null,
   "metadata": {
    "collapsed": true
   },
   "outputs": [],
   "source": []
  },
  {
   "cell_type": "code",
   "execution_count": 20,
   "metadata": {},
   "outputs": [
    {
     "data": {
      "text/plain": [
       "<seaborn.axisgrid.FacetGrid at 0x7f71b9c29fd0>"
      ]
     },
     "execution_count": 20,
     "metadata": {},
     "output_type": "execute_result"
    },
    {
     "data": {
      "image/png": "[encoded data removed]",
      "text/plain": [
       "<matplotlib.figure.Figure at 0x7f72c1261860>"
      ]
     },
     "metadata": {},
     "output_type": "display_data"
    }
   ],
   "source": [
    "plot_data = pd.DataFrame()\n",
    "\n",
    "plot_data['bitmaps'] = [i for i in range(0, NUM_BITMAPS + 1)]\n",
    "plot_data['leafs covered (%)'] = data.percentage_of_groups_covered_with_varying_bitmaps(NUM_BITMAPS)\n",
    "\n",
    "sb.factorplot(x='bitmaps', y='leafs covered (%)', data=plot_data, size=4, aspect=2)"
   ]
  },
  {
   "cell_type": "code",
   "execution_count": 21,
   "metadata": {},
   "outputs": [
    {
     "data": {
      "text/plain": [
       "count    29.000000\n",
       "mean     56.594401\n",
       "std      22.028137\n",
       "min       0.000000\n",
       "25%      52.600698\n",
       "50%      67.840466\n",
       "75%      70.843146\n",
       "max      72.094770\n",
       "dtype: float64"
      ]
     },
     "execution_count": 21,
     "metadata": {},
     "output_type": "execute_result"
    }
   ],
   "source": [
    "data.percentage_of_groups_covered_with_varying_bitmaps(NUM_BITMAPS).describe()"
   ]
  },
  {
   "cell_type": "code",
   "execution_count": null,
   "metadata": {
    "collapsed": true
   },
   "outputs": [],
   "source": []
  },
  {
   "cell_type": "code",
   "execution_count": 22,
   "metadata": {},
   "outputs": [
    {
     "data": {
      "text/plain": [
       "<matplotlib.axes._subplots.AxesSubplot at 0x7f72c10cf048>"
      ]
     },
     "execution_count": 22,
     "metadata": {},
     "output_type": "execute_result"
    },
    {
     "data": {
      "image/png": "[encoded data removed]",
      "text/plain": [
       "<matplotlib.figure.Figure at 0x7f72c126ca58>"
      ]
     },
     "metadata": {},
     "output_type": "display_data"
    }
   ],
   "source": [
    "sb.boxplot(y=data.rules_for_all_leafs())"
   ]
  },
  {
   "cell_type": "code",
   "execution_count": 23,
   "metadata": {},
   "outputs": [
    {
     "data": {
      "text/plain": [
       "576"
      ]
     },
     "execution_count": 23,
     "metadata": {},
     "output_type": "execute_result"
    }
   ],
   "source": [
    "len(data.rules_for_all_leafs())"
   ]
  },
  {
   "cell_type": "code",
   "execution_count": 24,
   "metadata": {},
   "outputs": [
    {
     "data": {
      "text/plain": [
       "count     576.000000\n",
       "mean      219.501736\n",
       "std       243.649206\n",
       "min         0.000000\n",
       "25%        50.750000\n",
       "50%       128.500000\n",
       "75%       261.250000\n",
       "max      1000.000000\n",
       "dtype: float64"
      ]
     },
     "execution_count": 24,
     "metadata": {},
     "output_type": "execute_result"
    }
   ],
   "source": [
    "data.rules_for_all_leafs().describe()"
   ]
  },
  {
   "cell_type": "code",
   "execution_count": null,
   "metadata": {
    "collapsed": true
   },
   "outputs": [],
   "source": []
  },
  {
   "cell_type": "code",
   "execution_count": 25,
   "metadata": {},
   "outputs": [
    {
     "data": {
      "text/plain": [
       "<matplotlib.axes._subplots.AxesSubplot at 0x7f72c112fd30>"
      ]
     },
     "execution_count": 25,
     "metadata": {},
     "output_type": "execute_result"
    },
    {
     "data": {
      "image/png": "[encoded data removed]",
      "text/plain": [
       "<matplotlib.figure.Figure at 0x7f72c0fcae10>"
      ]
     },
     "metadata": {},
     "output_type": "display_data"
    }
   ],
   "source": [
    "sb.boxplot(y=data.redundancy_for_all_groups_in_all_tenants())"
   ]
  },
  {
   "cell_type": "code",
   "execution_count": 26,
   "metadata": {
    "collapsed": true
   },
   "outputs": [],
   "source": [
    "# data.rules_for_all_groups_pre_optimization().describe()"
   ]
  },
  {
   "cell_type": "code",
   "execution_count": 27,
   "metadata": {
    "collapsed": true
   },
   "outputs": [],
   "source": [
    "# data.rules_for_all_groups_post_optimization().describe()"
   ]
  },
  {
   "cell_type": "code",
   "execution_count": null,
   "metadata": {
    "collapsed": true
   },
   "outputs": [],
   "source": []
  },
  {
   "cell_type": "code",
   "execution_count": 28,
   "metadata": {},
   "outputs": [
    {
     "name": "stderr",
     "output_type": "stream",
     "text": [
      "stats: 100%|██████████| 3000/3000 [00:30<00:00, 99.49it/s] \n"
     ]
    }
   ],
   "source": [
    "at, rt = data.traffic_stats()"
   ]
  },
  {
   "cell_type": "code",
   "execution_count": 29,
   "metadata": {},
   "outputs": [
    {
     "data": {
      "text/plain": [
       "21.01145517620942"
      ]
     },
     "execution_count": 29,
     "metadata": {},
     "output_type": "execute_result"
    }
   ],
   "source": [
    "data.traffic_overhead(at, rt)"
   ]
  },
  {
   "cell_type": "code",
   "execution_count": 30,
   "metadata": {},
   "outputs": [
    {
     "data": {
      "text/plain": [
       "<matplotlib.axes._subplots.AxesSubplot at 0x7f72c0efdc50>"
      ]
     },
     "execution_count": 30,
     "metadata": {},
     "output_type": "execute_result"
    },
    {
     "data": {
      "image/png": "[encoded data removed]",
      "text/plain": [
       "<matplotlib.figure.Figure at 0x7f72c0fa4a58>"
      ]
     },
     "metadata": {},
     "output_type": "display_data"
    }
   ],
   "source": [
    "sb.boxplot(y=data.total_traffic_rate(at, rt))"
   ]
  },
  {
   "cell_type": "code",
   "execution_count": 31,
   "metadata": {},
   "outputs": [
    {
     "data": {
      "text/plain": [
       "<matplotlib.axes._subplots.AxesSubplot at 0x7f72c1094b70>"
      ]
     },
     "execution_count": 31,
     "metadata": {},
     "output_type": "execute_result"
    },
    {
     "data": {
      "image/png": "[encoded data removed]",
      "text/plain": [
       "<matplotlib.figure.Figure at 0x7f72c0c0f8d0>"
      ]
     },
     "metadata": {},
     "output_type": "display_data"
    }
   ],
   "source": [
    "sb.boxplot(y=data.actual_traffic_rate(at))"
   ]
  },
  {
   "cell_type": "code",
   "execution_count": null,
   "metadata": {
    "collapsed": true
   },
   "outputs": [],
   "source": []
  }
 ],
 "metadata": {
  "kernelspec": {
   "display_name": "Python 3",
   "language": "python",
   "name": "python3"
  },
  "language_info": {
   "codemirror_mode": {
    "name": "ipython",
    "version": 3
   },
   "file_extension": ".py",
   "mimetype": "text/x-python",
   "name": "python",
   "nbconvert_exporter": "python",
   "pygments_lexer": "ipython3",
   "version": "3.6.2"
  }
 },
 "nbformat": 4,
 "nbformat_minor": 1
}
