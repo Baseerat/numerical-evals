{
 "cells": [
  {
   "cell_type": "code",
   "execution_count": 1,
   "metadata": {
    "collapsed": true
   },
   "outputs": [],
   "source": [
    "import os\n",
    "import sys\n",
    "import glob \n",
    "from functools import reduce\n",
    "import seaborn as sb\n",
    "import pandas as pd\n",
    "import random"
   ]
  },
  {
   "cell_type": "code",
   "execution_count": 2,
   "metadata": {
    "collapsed": true
   },
   "outputs": [],
   "source": [
    "import matplotlib.pyplot as plt\n",
    "plt.style.use('ggplot')\n",
    "# display plots in the notebook\n",
    "%matplotlib inline\n",
    "# increase default figure and font sizes for easier viewing\n",
    "plt.rcParams['figure.figsize'] = (8, 6)\n",
    "plt.rcParams['font.size'] = 14"
   ]
  },
  {
   "cell_type": "code",
   "execution_count": 3,
   "metadata": {},
   "outputs": [],
   "source": [
    "sys.path.append(\"../\")\n",
    "from simulation.cloud import *\n",
    "from simulation.data import *\n",
    "from simulation.plot import *\n",
    "from simulation.log import *\n",
    "from simulation.utils import plot_ecdf, ecdf"
   ]
  },
  {
   "cell_type": "code",
   "execution_count": null,
   "metadata": {
    "collapsed": true
   },
   "outputs": [],
   "source": []
  },
  {
   "cell_type": "code",
   "execution_count": 4,
   "metadata": {
    "collapsed": true
   },
   "outputs": [],
   "source": [
    "NUM_LEAFS = 576\n",
    "NUM_HOSTS_PER_LEAF = 48\n",
    "NUM_RULES_PER_LEAF = 10000\n",
    "MAX_VMS_PER_HOST = 20\n",
    "NUM_TENANTS = 3000\n",
    "MIN_VMS_PER_TENANT = 10\n",
    "MAX_VMS_PER_TENANT = 5000\n",
    "VM_DIST = \"expon\"  # options: expon\n",
    "NUM_GROUPS = 100000\n",
    "MIN_GROUP_SIZE = 5\n",
    "GROUP_SIZE_DIST = \"uniform\"  # options: uniform and wve\n",
    "PLACEMENT_DIST = \"sorted-colocate-random-linear\"  # options: uniform, colocate-random-linear, \n",
    "                                                  # and colocate-random-random\n",
    "COLOCATE_NUM_HOSTS_PER_LEAF = 48\n",
    "NUM_BITMAPS = 10\n",
    "NUM_LEAFS_PER_BITMAP = 3\n",
    "MAX_BATCH_SIZE = 1\n",
    "ALGORITHM = 'naive'  # options: naive, exact_match\n",
    "SEED = 0"
   ]
  },
  {
   "cell_type": "code",
   "execution_count": 5,
   "metadata": {},
   "outputs": [
    {
     "name": "stdout",
     "output_type": "stream",
     "text": [
      "network[leaf_to_hosts]: initialized.\n",
      "network[host_to_leaf]: initialized.\n",
      "tenants[vm_count]: initialized.\n",
      "tenants[group_count]: initialized.\n",
      "tenants[groups_to_sizes]: initialized.\n",
      "tenants[groups_to_vms]: initialized.\n",
      "placement[tenant_vms_to_host]: initialized.\n",
      "placement[tenant_vms_to_leaf]: initialized.\n",
      "placement[tenant_groups_to_leafs_and_count]: initialized.\n",
      "placement[tenant_groups_leafs_to_hosts_and_bitmap]: initialized.\n",
      "optimization: complete.\n"
     ]
    }
   ],
   "source": [
    "random.seed(SEED)\n",
    "\n",
    "cloud = Cloud(num_leafs=NUM_LEAFS,\n",
    "              num_hosts_per_leaf=NUM_HOSTS_PER_LEAF,\n",
    "              num_rules_per_leaf=NUM_RULES_PER_LEAF,\n",
    "              max_vms_per_host=MAX_VMS_PER_HOST,\n",
    "              num_tenants=NUM_TENANTS,\n",
    "              min_vms_per_tenant=MIN_VMS_PER_TENANT,\n",
    "              max_vms_per_tenant=MAX_VMS_PER_TENANT,\n",
    "              vm_dist=VM_DIST,\n",
    "              num_groups=NUM_GROUPS,\n",
    "              min_group_size=MIN_GROUP_SIZE,\n",
    "              group_size_dist=GROUP_SIZE_DIST,\n",
    "              placement_dist=PLACEMENT_DIST,\n",
    "              colocate_num_hosts_per_leaf=COLOCATE_NUM_HOSTS_PER_LEAF,\n",
    "              num_bitmaps=NUM_BITMAPS,\n",
    "              num_leafs_per_bitmap=NUM_LEAFS_PER_BITMAP,\n",
    "              max_batch_size=MAX_BATCH_SIZE,\n",
    "              algorithm=ALGORITHM)"
   ]
  },
  {
   "cell_type": "code",
   "execution_count": null,
   "metadata": {
    "collapsed": true
   },
   "outputs": [],
   "source": []
  },
  {
   "cell_type": "code",
   "execution_count": 6,
   "metadata": {
    "collapsed": true
   },
   "outputs": [],
   "source": [
    "data = Data(cloud)"
   ]
  },
  {
   "cell_type": "code",
   "execution_count": null,
   "metadata": {
    "collapsed": true
   },
   "outputs": [],
   "source": []
  },
  {
   "cell_type": "code",
   "execution_count": 7,
   "metadata": {},
   "outputs": [
    {
     "data": {
      "text/plain": [
       "<matplotlib.axes._subplots.AxesSubplot at 0x7fb392172898>"
      ]
     },
     "execution_count": 7,
     "metadata": {},
     "output_type": "execute_result"
    },
    {
     "data": {
      "image/png": "[encoded data removed]",
      "text/plain": [
       "<matplotlib.figure.Figure at 0x7fb4b428d898>"
      ]
     },
     "metadata": {},
     "output_type": "display_data"
    }
   ],
   "source": [
    "sb.boxplot(y=data.vm_count_for_all_tenants())"
   ]
  },
  {
   "cell_type": "code",
   "execution_count": 8,
   "metadata": {},
   "outputs": [
    {
     "data": {
      "text/plain": [
       "543464"
      ]
     },
     "execution_count": 8,
     "metadata": {},
     "output_type": "execute_result"
    }
   ],
   "source": [
    "sum(data.vm_count_for_all_tenants())"
   ]
  },
  {
   "cell_type": "code",
   "execution_count": 9,
   "metadata": {
    "collapsed": true
   },
   "outputs": [],
   "source": [
    "# sb.kdeplot(data.vm_count_for_all_tenants(), cumulative=True)"
   ]
  },
  {
   "cell_type": "code",
   "execution_count": 10,
   "metadata": {},
   "outputs": [
    {
     "data": {
      "text/plain": [
       "count    3000.000000\n",
       "mean      181.154667\n",
       "std       433.082649\n",
       "min        10.000000\n",
       "25%        46.000000\n",
       "50%        98.000000\n",
       "75%       184.000000\n",
       "max      4999.000000\n",
       "dtype: float64"
      ]
     },
     "execution_count": 10,
     "metadata": {},
     "output_type": "execute_result"
    }
   ],
   "source": [
    "data.vm_count_for_all_tenants().describe()"
   ]
  },
  {
   "cell_type": "code",
   "execution_count": null,
   "metadata": {
    "collapsed": true
   },
   "outputs": [],
   "source": []
  },
  {
   "cell_type": "code",
   "execution_count": 11,
   "metadata": {},
   "outputs": [
    {
     "data": {
      "text/plain": [
       "<matplotlib.axes._subplots.AxesSubplot at 0x7fb38a270b38>"
      ]
     },
     "execution_count": 11,
     "metadata": {},
     "output_type": "execute_result"
    },
    {
     "data": {
      "image/png": "[encoded data removed]",
      "text/plain": [
       "<matplotlib.figure.Figure at 0x7fb38a254780>"
      ]
     },
     "metadata": {},
     "output_type": "display_data"
    }
   ],
   "source": [
    "sb.boxplot(y=data.group_count_for_all_tenants())"
   ]
  },
  {
   "cell_type": "code",
   "execution_count": 12,
   "metadata": {
    "collapsed": true
   },
   "outputs": [],
   "source": [
    "# sb.kdeplot(data.group_count_for_all_tenants(), cumulative=True)"
   ]
  },
  {
   "cell_type": "code",
   "execution_count": 13,
   "metadata": {},
   "outputs": [
    {
     "data": {
      "text/plain": [
       "count    3000.000000\n",
       "mean       32.837333\n",
       "std        79.683976\n",
       "min         1.000000\n",
       "25%         8.000000\n",
       "50%        18.000000\n",
       "75%        33.000000\n",
       "max       919.000000\n",
       "dtype: float64"
      ]
     },
     "execution_count": 13,
     "metadata": {},
     "output_type": "execute_result"
    }
   ],
   "source": [
    "data.group_count_for_all_tenants().describe()"
   ]
  },
  {
   "cell_type": "code",
   "execution_count": null,
   "metadata": {
    "collapsed": true
   },
   "outputs": [],
   "source": []
  },
  {
   "cell_type": "code",
   "execution_count": 14,
   "metadata": {},
   "outputs": [
    {
     "data": {
      "text/plain": [
       "<matplotlib.axes._subplots.AxesSubplot at 0x7fb38a220b38>"
      ]
     },
     "execution_count": 14,
     "metadata": {},
     "output_type": "execute_result"
    },
    {
     "data": {
      "image/png": "[encoded data removed]",
      "text/plain": [
       "<matplotlib.figure.Figure at 0x7fb4bd4f99b0>"
      ]
     },
     "metadata": {},
     "output_type": "display_data"
    }
   ],
   "source": [
    "sb.boxplot(y=data.group_sizes_for_all_tenants())"
   ]
  },
  {
   "cell_type": "code",
   "execution_count": 15,
   "metadata": {
    "collapsed": true
   },
   "outputs": [],
   "source": [
    "# sb.kdeplot(data.group_sizes_for_all_tenants(), cumulative=True)"
   ]
  },
  {
   "cell_type": "code",
   "execution_count": 16,
   "metadata": {},
   "outputs": [
    {
     "data": {
      "text/plain": [
       "count    98512.000000\n",
       "mean       615.837157\n",
       "std       1012.131104\n",
       "min          5.000000\n",
       "25%         56.000000\n",
       "50%        143.000000\n",
       "75%        539.000000\n",
       "max       4997.000000\n",
       "dtype: float64"
      ]
     },
     "execution_count": 16,
     "metadata": {},
     "output_type": "execute_result"
    }
   ],
   "source": [
    "data.group_sizes_for_all_tenants().describe()"
   ]
  },
  {
   "cell_type": "code",
   "execution_count": null,
   "metadata": {
    "collapsed": true
   },
   "outputs": [],
   "source": []
  },
  {
   "cell_type": "code",
   "execution_count": 17,
   "metadata": {},
   "outputs": [
    {
     "data": {
      "text/plain": [
       "<matplotlib.axes._subplots.AxesSubplot at 0x7fb38a1c1c50>"
      ]
     },
     "execution_count": 17,
     "metadata": {},
     "output_type": "execute_result"
    },
    {
     "data": {
      "image/png": "[encoded data removed]",
      "text/plain": [
       "<matplotlib.figure.Figure at 0x7fb4b428d780>"
      ]
     },
     "metadata": {},
     "output_type": "display_data"
    }
   ],
   "source": [
    "sb.boxplot(y=data.leafs_for_all_groups_in_all_tenants())"
   ]
  },
  {
   "cell_type": "code",
   "execution_count": 18,
   "metadata": {
    "collapsed": true
   },
   "outputs": [],
   "source": [
    "# sb.kdeplot(data.leafs_for_all_groups_in_all_tenants(), cumulative=True)"
   ]
  },
  {
   "cell_type": "code",
   "execution_count": 19,
   "metadata": {},
   "outputs": [
    {
     "data": {
      "text/plain": [
       "count    98512.00000\n",
       "mean        29.78026\n",
       "std         41.93760\n",
       "min          1.00000\n",
       "25%          4.00000\n",
       "50%          7.00000\n",
       "75%         52.00000\n",
       "max        149.00000\n",
       "dtype: float64"
      ]
     },
     "execution_count": 19,
     "metadata": {},
     "output_type": "execute_result"
    }
   ],
   "source": [
    "data.leafs_for_all_groups_in_all_tenants().describe()"
   ]
  },
  {
   "cell_type": "code",
   "execution_count": null,
   "metadata": {
    "collapsed": true
   },
   "outputs": [],
   "source": []
  },
  {
   "cell_type": "code",
   "execution_count": 20,
   "metadata": {},
   "outputs": [
    {
     "data": {
      "text/plain": [
       "<seaborn.axisgrid.FacetGrid at 0x7fb38a1e32b0>"
      ]
     },
     "execution_count": 20,
     "metadata": {},
     "output_type": "execute_result"
    },
    {
     "data": {
      "image/png": "[encoded data removed]",
      "text/plain": [
       "<matplotlib.figure.Figure at 0x7fb389f28ac8>"
      ]
     },
     "metadata": {},
     "output_type": "display_data"
    }
   ],
   "source": [
    "plot_data = pd.DataFrame()\n",
    "\n",
    "plot_data['bitmaps'] = [i for i in range(0, NUM_BITMAPS + 1)]\n",
    "plot_data['leafs covered (%)'] = data.percentage_of_groups_covered_with_varying_bitmaps(NUM_BITMAPS)\n",
    "\n",
    "sb.factorplot(x='bitmaps', y='leafs covered (%)', data=plot_data, size=4, aspect=2)"
   ]
  },
  {
   "cell_type": "code",
   "execution_count": 21,
   "metadata": {},
   "outputs": [
    {
     "data": {
      "text/plain": [
       "count    11.000000\n",
       "mean     36.752698\n",
       "std      23.381930\n",
       "min       0.000000\n",
       "25%      18.463740\n",
       "50%      42.550146\n",
       "75%      56.491595\n",
       "max      63.615600\n",
       "dtype: float64"
      ]
     },
     "execution_count": 21,
     "metadata": {},
     "output_type": "execute_result"
    }
   ],
   "source": [
    "data.percentage_of_groups_covered_with_varying_bitmaps(NUM_BITMAPS).describe()"
   ]
  },
  {
   "cell_type": "code",
   "execution_count": null,
   "metadata": {
    "collapsed": true
   },
   "outputs": [],
   "source": []
  },
  {
   "cell_type": "code",
   "execution_count": 22,
   "metadata": {},
   "outputs": [
    {
     "data": {
      "text/plain": [
       "<matplotlib.axes._subplots.AxesSubplot at 0x7fb389ff4550>"
      ]
     },
     "execution_count": 22,
     "metadata": {},
     "output_type": "execute_result"
    },
    {
     "data": {
      "image/png": "[encoded data removed]",
      "text/plain": [
       "<matplotlib.figure.Figure at 0x7fb38a0facc0>"
      ]
     },
     "metadata": {},
     "output_type": "display_data"
    }
   ],
   "source": [
    "sb.boxplot(y=data.rules_for_all_leafs())"
   ]
  },
  {
   "cell_type": "code",
   "execution_count": 23,
   "metadata": {},
   "outputs": [
    {
     "data": {
      "text/plain": [
       "576"
      ]
     },
     "execution_count": 23,
     "metadata": {},
     "output_type": "execute_result"
    }
   ],
   "source": [
    "len(data.rules_for_all_leafs())"
   ]
  },
  {
   "cell_type": "code",
   "execution_count": 24,
   "metadata": {},
   "outputs": [
    {
     "data": {
      "text/plain": [
       "count     576.000000\n",
       "mean     3795.385417\n",
       "std      1614.058907\n",
       "min         0.000000\n",
       "25%      2655.500000\n",
       "50%      3959.000000\n",
       "75%      5013.500000\n",
       "max      7732.000000\n",
       "dtype: float64"
      ]
     },
     "execution_count": 24,
     "metadata": {},
     "output_type": "execute_result"
    }
   ],
   "source": [
    "data.rules_for_all_leafs().describe()"
   ]
  },
  {
   "cell_type": "code",
   "execution_count": null,
   "metadata": {
    "collapsed": true
   },
   "outputs": [],
   "source": []
  },
  {
   "cell_type": "code",
   "execution_count": 25,
   "metadata": {},
   "outputs": [
    {
     "data": {
      "text/plain": [
       "<matplotlib.axes._subplots.AxesSubplot at 0x7fb389fb7b38>"
      ]
     },
     "execution_count": 25,
     "metadata": {},
     "output_type": "execute_result"
    },
    {
     "data": {
      "image/png": "[encoded data removed]",
      "text/plain": [
       "<matplotlib.figure.Figure at 0x7fb389edc128>"
      ]
     },
     "metadata": {},
     "output_type": "display_data"
    }
   ],
   "source": [
    "sb.boxplot(y=data.redundancy_for_all_groups_in_all_tenants())"
   ]
  },
  {
   "cell_type": "code",
   "execution_count": 13,
   "metadata": {
    "collapsed": true
   },
   "outputs": [],
   "source": [
    "# data.rules_for_all_groups_pre_optimization().describe()"
   ]
  },
  {
   "cell_type": "code",
   "execution_count": 14,
   "metadata": {
    "collapsed": true
   },
   "outputs": [],
   "source": [
    "# data.rules_for_all_groups_post_optimization().describe()"
   ]
  },
  {
   "cell_type": "code",
   "execution_count": null,
   "metadata": {
    "collapsed": true
   },
   "outputs": [],
   "source": []
  }
 ],
 "metadata": {
  "kernelspec": {
   "display_name": "Python 3",
   "language": "python",
   "name": "python3"
  },
  "language_info": {
   "codemirror_mode": {
    "name": "ipython",
    "version": 3
   },
   "file_extension": ".py",
   "mimetype": "text/x-python",
   "name": "python",
   "nbconvert_exporter": "python",
   "pygments_lexer": "ipython3",
   "version": "3.6.2"
  }
 },
 "nbformat": 4,
 "nbformat_minor": 1
}
