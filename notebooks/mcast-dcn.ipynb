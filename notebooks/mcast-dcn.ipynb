{
 "cells": [
  {
   "cell_type": "code",
   "execution_count": 1,
   "metadata": {
    "collapsed": true
   },
   "outputs": [],
   "source": [
    "import os\n",
    "import sys\n",
    "import glob \n",
    "from functools import reduce\n",
    "import seaborn as sb\n",
    "import pandas as pd\n",
    "import random"
   ]
  },
  {
   "cell_type": "code",
   "execution_count": 2,
   "metadata": {
    "collapsed": true
   },
   "outputs": [],
   "source": [
    "import matplotlib.pyplot as plt\n",
    "plt.style.use('ggplot')\n",
    "# display plots in the notebook\n",
    "%matplotlib inline\n",
    "# increase default figure and font sizes for easier viewing\n",
    "plt.rcParams['figure.figsize'] = (8, 6)\n",
    "plt.rcParams['font.size'] = 14"
   ]
  },
  {
   "cell_type": "code",
   "execution_count": 3,
   "metadata": {},
   "outputs": [],
   "source": [
    "sys.path.append(\"../\")\n",
    "from simulation.cloud import *\n",
    "from simulation.data import *\n",
    "from simulation.plot import *\n",
    "from simulation.log import *\n",
    "from simulation.utils import plot_ecdf, ecdf"
   ]
  },
  {
   "cell_type": "code",
   "execution_count": 4,
   "metadata": {
    "collapsed": true
   },
   "outputs": [],
   "source": [
    "NUM_LEAFS = 576\n",
    "NUM_HOSTS_PER_LEAF = 48\n",
    "NUM_RULES_PER_LEAF = 1000\n",
    "MAX_VMS_PER_HOST = 20\n",
    "NUM_TENANTS = 3000\n",
    "MIN_VMS_PER_TENANT = 10\n",
    "MAX_VMS_PER_TENANT = 5000\n",
    "VM_DIST = \"expon\"  # options: expon\n",
    "NUM_GROUPS = 100000\n",
    "MIN_GROUP_SIZE = 5\n",
    "GROUP_SIZE_DIST = \"wve\"  # options: uniform and wve\n",
    "PLACEMENT_DIST = \"colocate-random-linear\"  # options: uniform, colocate-random-linear, \n",
    "# colocate-random-random, sorted-colocate-random-linear, and sorted-colocate-random-random\n",
    "COLOCATE_NUM_HOSTS_PER_LEAF = 48\n",
    "NUM_BITMAPS = 28\n",
    "NUM_LEAFS_PER_BITMAP = 2\n",
    "REDUNDANCY_PER_BITMAP = 1000\n",
    "MAX_BATCH_SIZE = 1\n",
    "ALGORITHM = 'greedy_match'  # options: naive, exact_match, fuzzy_match, greedy_match, random_fuzzy_match\n",
    "SEED = 0"
   ]
  },
  {
   "cell_type": "code",
   "execution_count": 5,
   "metadata": {},
   "outputs": [
    {
     "name": "stderr",
     "output_type": "stream",
     "text": [
      "network:leaf->hosts: 100%|██████████| 576/576 [00:00<00:00, 147078.97it/s]\n",
      "network:host->leaf: 100%|██████████| 576/576 [00:00<00:00, 369011.62it/s]\n",
      "tenants:vm count: 100%|██████████| 3000/3000 [00:00<00:00, 730630.12it/s]\n",
      "tenants:group count: 100%|██████████| 3000/3000 [00:00<00:00, 949295.51it/s]\n",
      "tenants:group sizes: 100%|██████████| 3000/3000 [00:00<00:00, 13768.59it/s]\n",
      "tenants:groups->vms: 100%|██████████| 3000/3000 [00:05<00:00, 570.73it/s]\n",
      "placement:vms->host: 100%|██████████| 3000/3000 [00:00<00:00, 13731.36it/s]\n",
      "placement:vms->leaf: 100%|██████████| 3000/3000 [00:00<00:00, 20486.07it/s]\n",
      "placement:groups->leafs: 100%|██████████| 3000/3000 [00:01<00:00, 1968.69it/s]\n",
      "placement:leafs->bitmap: 100%|██████████| 3000/3000 [00:12<00:00, 246.76it/s]\n",
      "optimization: 100%|██████████| 3000/3000 [00:23<00:00, 128.14it/s]\n"
     ]
    }
   ],
   "source": [
    "random.seed(SEED)\n",
    "\n",
    "cloud = Cloud(num_leafs=NUM_LEAFS,\n",
    "              num_hosts_per_leaf=NUM_HOSTS_PER_LEAF,\n",
    "              num_rules_per_leaf=NUM_RULES_PER_LEAF,\n",
    "              max_vms_per_host=MAX_VMS_PER_HOST,\n",
    "              num_tenants=NUM_TENANTS,\n",
    "              min_vms_per_tenant=MIN_VMS_PER_TENANT,\n",
    "              max_vms_per_tenant=MAX_VMS_PER_TENANT,\n",
    "              vm_dist=VM_DIST,\n",
    "              num_groups=NUM_GROUPS,\n",
    "              min_group_size=MIN_GROUP_SIZE,\n",
    "              group_size_dist=GROUP_SIZE_DIST,\n",
    "              placement_dist=PLACEMENT_DIST,\n",
    "              colocate_num_hosts_per_leaf=COLOCATE_NUM_HOSTS_PER_LEAF,\n",
    "              num_bitmaps=NUM_BITMAPS,\n",
    "              num_leafs_per_bitmap=NUM_LEAFS_PER_BITMAP,\n",
    "              redundancy_per_bitmap=REDUNDANCY_PER_BITMAP,\n",
    "              max_batch_size=MAX_BATCH_SIZE,\n",
    "              algorithm=ALGORITHM)"
   ]
  },
  {
   "cell_type": "code",
   "execution_count": null,
   "metadata": {
    "collapsed": true
   },
   "outputs": [],
   "source": []
  },
  {
   "cell_type": "code",
   "execution_count": 6,
   "metadata": {
    "collapsed": true
   },
   "outputs": [],
   "source": [
    "data = Data(cloud)"
   ]
  },
  {
   "cell_type": "code",
   "execution_count": null,
   "metadata": {
    "collapsed": true
   },
   "outputs": [],
   "source": []
  },
  {
   "cell_type": "code",
   "execution_count": 7,
   "metadata": {},
   "outputs": [
    {
     "data": {
      "text/plain": [
       "<matplotlib.axes._subplots.AxesSubplot at 0x7f66a81efb00>"
      ]
     },
     "execution_count": 7,
     "metadata": {},
     "output_type": "execute_result"
    },
    {
     "data": {
      "image/png": "[encoded data removed]",
      "text/plain": [
       "<matplotlib.figure.Figure at 0x7f66a81ef198>"
      ]
     },
     "metadata": {},
     "output_type": "display_data"
    }
   ],
   "source": [
    "sb.boxplot(y=data.vm_count_for_all_tenants())"
   ]
  },
  {
   "cell_type": "code",
   "execution_count": 8,
   "metadata": {},
   "outputs": [
    {
     "data": {
      "text/plain": [
       "543464"
      ]
     },
     "execution_count": 8,
     "metadata": {},
     "output_type": "execute_result"
    }
   ],
   "source": [
    "sum(data.vm_count_for_all_tenants())"
   ]
  },
  {
   "cell_type": "code",
   "execution_count": 9,
   "metadata": {
    "collapsed": true
   },
   "outputs": [],
   "source": [
    "# sb.kdeplot(data.vm_count_for_all_tenants(), cumulative=True)"
   ]
  },
  {
   "cell_type": "code",
   "execution_count": 10,
   "metadata": {},
   "outputs": [
    {
     "data": {
      "text/plain": [
       "count    3000.000000\n",
       "mean      181.154667\n",
       "std       433.082649\n",
       "min        10.000000\n",
       "25%        46.000000\n",
       "50%        98.000000\n",
       "75%       184.000000\n",
       "max      4999.000000\n",
       "dtype: float64"
      ]
     },
     "execution_count": 10,
     "metadata": {},
     "output_type": "execute_result"
    }
   ],
   "source": [
    "data.vm_count_for_all_tenants().describe()"
   ]
  },
  {
   "cell_type": "code",
   "execution_count": null,
   "metadata": {
    "collapsed": true
   },
   "outputs": [],
   "source": []
  },
  {
   "cell_type": "code",
   "execution_count": 11,
   "metadata": {},
   "outputs": [
    {
     "data": {
      "text/plain": [
       "<matplotlib.axes._subplots.AxesSubplot at 0x7f6630c3f358>"
      ]
     },
     "execution_count": 11,
     "metadata": {},
     "output_type": "execute_result"
    },
    {
     "data": {
      "image/png": "[encoded data removed]",
      "text/plain": [
       "<matplotlib.figure.Figure at 0x7f6628de55c0>"
      ]
     },
     "metadata": {},
     "output_type": "display_data"
    }
   ],
   "source": [
    "sb.boxplot(y=data.group_count_for_all_tenants())"
   ]
  },
  {
   "cell_type": "code",
   "execution_count": 12,
   "metadata": {
    "collapsed": true
   },
   "outputs": [],
   "source": [
    "# sb.kdeplot(data.group_count_for_all_tenants(), cumulative=True)"
   ]
  },
  {
   "cell_type": "code",
   "execution_count": 13,
   "metadata": {},
   "outputs": [
    {
     "data": {
      "text/plain": [
       "count    3000.000000\n",
       "mean       32.837333\n",
       "std        79.683976\n",
       "min         1.000000\n",
       "25%         8.000000\n",
       "50%        18.000000\n",
       "75%        33.000000\n",
       "max       919.000000\n",
       "dtype: float64"
      ]
     },
     "execution_count": 13,
     "metadata": {},
     "output_type": "execute_result"
    }
   ],
   "source": [
    "data.group_count_for_all_tenants().describe()"
   ]
  },
  {
   "cell_type": "code",
   "execution_count": null,
   "metadata": {
    "collapsed": true
   },
   "outputs": [],
   "source": []
  },
  {
   "cell_type": "code",
   "execution_count": 14,
   "metadata": {},
   "outputs": [
    {
     "data": {
      "text/plain": [
       "<matplotlib.axes._subplots.AxesSubplot at 0x7f6628d41358>"
      ]
     },
     "execution_count": 14,
     "metadata": {},
     "output_type": "execute_result"
    },
    {
     "data": {
      "image/png": "[encoded data removed]",
      "text/plain": [
       "<matplotlib.figure.Figure at 0x7f6628cd62b0>"
      ]
     },
     "metadata": {},
     "output_type": "display_data"
    }
   ],
   "source": [
    "sb.boxplot(y=data.group_sizes_for_all_tenants())"
   ]
  },
  {
   "cell_type": "code",
   "execution_count": 15,
   "metadata": {
    "collapsed": true
   },
   "outputs": [],
   "source": [
    "# sb.kdeplot(data.group_sizes_for_all_tenants(), cumulative=True)"
   ]
  },
  {
   "cell_type": "code",
   "execution_count": 16,
   "metadata": {},
   "outputs": [
    {
     "data": {
      "text/plain": [
       "count    98512.000000\n",
       "mean        60.217730\n",
       "std        282.936607\n",
       "min          5.000000\n",
       "25%          7.000000\n",
       "50%         12.000000\n",
       "75%         41.000000\n",
       "max       4988.000000\n",
       "dtype: float64"
      ]
     },
     "execution_count": 16,
     "metadata": {},
     "output_type": "execute_result"
    }
   ],
   "source": [
    "data.group_sizes_for_all_tenants().describe()"
   ]
  },
  {
   "cell_type": "code",
   "execution_count": null,
   "metadata": {
    "collapsed": true
   },
   "outputs": [],
   "source": []
  },
  {
   "cell_type": "code",
   "execution_count": 17,
   "metadata": {},
   "outputs": [
    {
     "data": {
      "text/plain": [
       "<matplotlib.axes._subplots.AxesSubplot at 0x7f6628c6c0b8>"
      ]
     },
     "execution_count": 17,
     "metadata": {},
     "output_type": "execute_result"
    },
    {
     "data": {
      "image/png": "[encoded data removed]",
      "text/plain": [
       "<matplotlib.figure.Figure at 0x7f6628c501d0>"
      ]
     },
     "metadata": {},
     "output_type": "display_data"
    }
   ],
   "source": [
    "sb.boxplot(y=data.leafs_for_all_groups_in_all_tenants())"
   ]
  },
  {
   "cell_type": "code",
   "execution_count": 18,
   "metadata": {
    "collapsed": true
   },
   "outputs": [],
   "source": [
    "# sb.kdeplot(data.leafs_for_all_groups_in_all_tenants(), cumulative=True)"
   ]
  },
  {
   "cell_type": "code",
   "execution_count": 19,
   "metadata": {},
   "outputs": [
    {
     "data": {
      "text/plain": [
       "count    98512.000000\n",
       "mean        17.363773\n",
       "std         23.045701\n",
       "min          1.000000\n",
       "25%          3.000000\n",
       "50%          5.000000\n",
       "75%         23.000000\n",
       "max        125.000000\n",
       "dtype: float64"
      ]
     },
     "execution_count": 19,
     "metadata": {},
     "output_type": "execute_result"
    }
   ],
   "source": [
    "data.leafs_for_all_groups_in_all_tenants().describe()"
   ]
  },
  {
   "cell_type": "code",
   "execution_count": null,
   "metadata": {
    "collapsed": true
   },
   "outputs": [],
   "source": []
  },
  {
   "cell_type": "code",
   "execution_count": 20,
   "metadata": {},
   "outputs": [
    {
     "data": {
      "text/plain": [
       "<seaborn.axisgrid.FacetGrid at 0x7f6628cb25c0>"
      ]
     },
     "execution_count": 20,
     "metadata": {},
     "output_type": "execute_result"
    },
    {
     "data": {
      "image/png": "[encoded data removed]",
      "text/plain": [
       "<matplotlib.figure.Figure at 0x7f6628d44160>"
      ]
     },
     "metadata": {},
     "output_type": "display_data"
    }
   ],
   "source": [
    "plot_data = pd.DataFrame()\n",
    "\n",
    "plot_data['bitmaps'] = [i for i in range(0, NUM_BITMAPS + 1)]\n",
    "plot_data['leafs covered (%)'] = data.percentage_of_groups_covered_with_varying_bitmaps(NUM_BITMAPS)\n",
    "\n",
    "sb.factorplot(x='bitmaps', y='leafs covered (%)', data=plot_data, size=4, aspect=2)"
   ]
  },
  {
   "cell_type": "code",
   "execution_count": 21,
   "metadata": {},
   "outputs": [
    {
     "data": {
      "text/plain": [
       "count    29.000000\n",
       "mean     61.455177\n",
       "std      22.048263\n",
       "min       0.000000\n",
       "25%      61.319433\n",
       "50%      71.457284\n",
       "75%      74.340182\n",
       "max      76.991636\n",
       "dtype: float64"
      ]
     },
     "execution_count": 21,
     "metadata": {},
     "output_type": "execute_result"
    }
   ],
   "source": [
    "data.percentage_of_groups_covered_with_varying_bitmaps(NUM_BITMAPS).describe()"
   ]
  },
  {
   "cell_type": "code",
   "execution_count": null,
   "metadata": {
    "collapsed": true
   },
   "outputs": [],
   "source": []
  },
  {
   "cell_type": "code",
   "execution_count": 22,
   "metadata": {},
   "outputs": [
    {
     "data": {
      "text/plain": [
       "<matplotlib.axes._subplots.AxesSubplot at 0x7f6628d7c748>"
      ]
     },
     "execution_count": 22,
     "metadata": {},
     "output_type": "execute_result"
    },
    {
     "data": {
      "image/png": "[encoded data removed]",
      "text/plain": [
       "<matplotlib.figure.Figure at 0x7f668fe82f98>"
      ]
     },
     "metadata": {},
     "output_type": "display_data"
    }
   ],
   "source": [
    "sb.boxplot(y=data.rules_for_all_leafs())"
   ]
  },
  {
   "cell_type": "code",
   "execution_count": 23,
   "metadata": {},
   "outputs": [
    {
     "data": {
      "text/plain": [
       "576"
      ]
     },
     "execution_count": 23,
     "metadata": {},
     "output_type": "execute_result"
    }
   ],
   "source": [
    "len(data.rules_for_all_leafs())"
   ]
  },
  {
   "cell_type": "code",
   "execution_count": 24,
   "metadata": {},
   "outputs": [
    {
     "data": {
      "text/plain": [
       "count    576.000000\n",
       "mean     279.045139\n",
       "std      155.074416\n",
       "min        0.000000\n",
       "25%      166.750000\n",
       "50%      266.500000\n",
       "75%      376.250000\n",
       "max      950.000000\n",
       "dtype: float64"
      ]
     },
     "execution_count": 24,
     "metadata": {},
     "output_type": "execute_result"
    }
   ],
   "source": [
    "data.rules_for_all_leafs().describe()"
   ]
  },
  {
   "cell_type": "code",
   "execution_count": null,
   "metadata": {
    "collapsed": true
   },
   "outputs": [],
   "source": []
  },
  {
   "cell_type": "code",
   "execution_count": 25,
   "metadata": {},
   "outputs": [
    {
     "name": "stderr",
     "output_type": "stream",
     "text": [
      "progress: 100%|██████████| 3000/3000 [00:02<00:00, 1484.78it/s]\n"
     ]
    },
    {
     "data": {
      "text/plain": [
       "<matplotlib.axes._subplots.AxesSubplot at 0x7f668feebc50>"
      ]
     },
     "execution_count": 25,
     "metadata": {},
     "output_type": "execute_result"
    },
    {
     "data": {
      "image/png": "[encoded data removed]",
      "text/plain": [
       "<matplotlib.figure.Figure at 0x7f66a81ef978>"
      ]
     },
     "metadata": {},
     "output_type": "display_data"
    }
   ],
   "source": [
    "sb.boxplot(y=data.redundancy_for_all_groups_in_all_tenants())"
   ]
  },
  {
   "cell_type": "code",
   "execution_count": 26,
   "metadata": {
    "collapsed": true
   },
   "outputs": [],
   "source": [
    "# data.rules_for_all_groups_pre_optimization().describe()"
   ]
  },
  {
   "cell_type": "code",
   "execution_count": 27,
   "metadata": {
    "collapsed": true
   },
   "outputs": [],
   "source": [
    "# data.rules_for_all_groups_post_optimization().describe()"
   ]
  },
  {
   "cell_type": "code",
   "execution_count": null,
   "metadata": {
    "collapsed": true
   },
   "outputs": [],
   "source": []
  },
  {
   "cell_type": "code",
   "execution_count": 28,
   "metadata": {},
   "outputs": [
    {
     "name": "stderr",
     "output_type": "stream",
     "text": [
      "progress: 100%|██████████| 3000/3000 [00:06<00:00, 496.64it/s]\n"
     ]
    }
   ],
   "source": [
    "at_leaf, ut_leaf = data.traffic_stats()"
   ]
  },
  {
   "cell_type": "code",
   "execution_count": 29,
   "metadata": {},
   "outputs": [
    {
     "data": {
      "text/plain": [
       "14.799939581246113"
      ]
     },
     "execution_count": 29,
     "metadata": {},
     "output_type": "execute_result"
    }
   ],
   "source": [
    "data.traffic_overhead(at_leaf, ut_leaf)"
   ]
  },
  {
   "cell_type": "code",
   "execution_count": 30,
   "metadata": {},
   "outputs": [
    {
     "data": {
      "text/plain": [
       "<matplotlib.axes._subplots.AxesSubplot at 0x7f668fb439b0>"
      ]
     },
     "execution_count": 30,
     "metadata": {},
     "output_type": "execute_result"
    },
    {
     "data": {
      "image/png": "[encoded data removed]",
      "text/plain": [
       "<matplotlib.figure.Figure at 0x7f668fca7b38>"
      ]
     },
     "metadata": {},
     "output_type": "display_data"
    }
   ],
   "source": [
    "tt_link = data.total_traffic_per_link(at_leaf, ut_leaf)\n",
    "sb.boxplot(y=tt_link)"
   ]
  },
  {
   "cell_type": "code",
   "execution_count": 31,
   "metadata": {},
   "outputs": [
    {
     "data": {
      "text/plain": [
       "<matplotlib.axes._subplots.AxesSubplot at 0x7f668fc70dd8>"
      ]
     },
     "execution_count": 31,
     "metadata": {},
     "output_type": "execute_result"
    },
    {
     "data": {
      "image/png": "[encoded data removed]",
      "text/plain": [
       "<matplotlib.figure.Figure at 0x7f668fc44748>"
      ]
     },
     "metadata": {},
     "output_type": "display_data"
    }
   ],
   "source": [
    "at_link = data.actual_traffic_per_link(at_leaf)\n",
    "sb.boxplot(y=at_link)"
   ]
  },
  {
   "cell_type": "code",
   "execution_count": null,
   "metadata": {
    "collapsed": true
   },
   "outputs": [],
   "source": []
  },
  {
   "cell_type": "code",
   "execution_count": 32,
   "metadata": {},
   "outputs": [
    {
     "data": {
      "text/plain": [
       "<matplotlib.axes._subplots.AxesSubplot at 0x7f668fcc4b00>"
      ]
     },
     "execution_count": 32,
     "metadata": {},
     "output_type": "execute_result"
    },
    {
     "data": {
      "image/png": "[encoded data removed]",
      "text/plain": [
       "<matplotlib.figure.Figure at 0x7f668fc109b0>"
      ]
     },
     "metadata": {},
     "output_type": "display_data"
    }
   ],
   "source": [
    "traffic_data = pd.DataFrame(columns=['type', 'traffic'])\n",
    "\n",
    "at_data = pd.DataFrame()\n",
    "at_data['type'] = ['actual' for _ in range(len(at_link))]\n",
    "at_data['traffic'] = at_link\n",
    "traffic_data = traffic_data.append(at_data)\n",
    "\n",
    "tt_data = pd.DataFrame()\n",
    "tt_data['type'] = ['total' for _ in range(len(tt_link))]\n",
    "tt_data['traffic'] = tt_link\n",
    "traffic_data = traffic_data.append(tt_data)\n",
    "\n",
    "sb.boxplot(x='type', y='traffic', data=traffic_data)"
   ]
  },
  {
   "cell_type": "code",
   "execution_count": null,
   "metadata": {
    "collapsed": true
   },
   "outputs": [],
   "source": []
  },
  {
   "cell_type": "code",
   "execution_count": 33,
   "metadata": {},
   "outputs": [
    {
     "name": "stderr",
     "output_type": "stream",
     "text": [
      "progress: 100%|██████████| 27648/27648 [00:00<00:00, 42530.06it/s]\n"
     ]
    }
   ],
   "source": [
    "to_link = data.traffic_overhead_per_link(tt_link, at_link)"
   ]
  },
  {
   "cell_type": "code",
   "execution_count": 34,
   "metadata": {},
   "outputs": [
    {
     "data": {
      "text/plain": [
       "<matplotlib.axes._subplots.AxesSubplot at 0x7f668fde9358>"
      ]
     },
     "execution_count": 34,
     "metadata": {},
     "output_type": "execute_result"
    },
    {
     "data": {
      "image/png": "[encoded data removed]",
      "text/plain": [
       "<matplotlib.figure.Figure at 0x7f668fcddc18>"
      ]
     },
     "metadata": {},
     "output_type": "display_data"
    }
   ],
   "source": [
    "sb.boxplot(y=to_link)"
   ]
  },
  {
   "cell_type": "code",
   "execution_count": 35,
   "metadata": {},
   "outputs": [
    {
     "data": {
      "text/plain": [
       "count    27648.000000\n",
       "mean        14.383711\n",
       "std          3.495083\n",
       "min          0.000000\n",
       "25%         12.295082\n",
       "50%         14.492754\n",
       "75%         16.558442\n",
       "max         34.523810\n",
       "dtype: float64"
      ]
     },
     "execution_count": 35,
     "metadata": {},
     "output_type": "execute_result"
    }
   ],
   "source": [
    "to_link.describe()"
   ]
  },
  {
   "cell_type": "code",
   "execution_count": null,
   "metadata": {
    "collapsed": true
   },
   "outputs": [],
   "source": []
  }
 ],
 "metadata": {
  "kernelspec": {
   "display_name": "Python 3",
   "language": "python",
   "name": "python3"
  },
  "language_info": {
   "codemirror_mode": {
    "name": "ipython",
    "version": 3
   },
   "file_extension": ".py",
   "mimetype": "text/x-python",
   "name": "python",
   "nbconvert_exporter": "python",
   "pygments_lexer": "ipython3",
   "version": "3.6.2"
  }
 },
 "nbformat": 4,
 "nbformat_minor": 1
}
