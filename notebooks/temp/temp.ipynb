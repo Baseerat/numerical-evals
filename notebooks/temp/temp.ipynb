{
 "cells": [
  {
   "cell_type": "code",
   "execution_count": 1,
   "metadata": {
    "collapsed": true
   },
   "outputs": [],
   "source": [
    "import warnings\n",
    "warnings.filterwarnings('ignore')\n",
    "# For ignoring warnings printed by R magic commands"
   ]
  },
  {
   "cell_type": "code",
   "execution_count": 2,
   "metadata": {
    "collapsed": true
   },
   "outputs": [],
   "source": [
    "import os\n",
    "import glob"
   ]
  },
  {
   "cell_type": "code",
   "execution_count": 3,
   "metadata": {
    "collapsed": true
   },
   "outputs": [],
   "source": [
    "# Import pandas\n",
    "import pandas as pd"
   ]
  },
  {
   "cell_type": "code",
   "execution_count": 4,
   "metadata": {
    "collapsed": false
   },
   "outputs": [],
   "source": [
    "# Load R magic\n",
    "%load_ext rpy2.ipython\n",
    "# Import ggplot2\n",
    "%R require(ggplot2);"
   ]
  },
  {
   "cell_type": "code",
   "execution_count": null,
   "metadata": {
    "collapsed": true
   },
   "outputs": [],
   "source": []
  },
  {
   "cell_type": "code",
   "execution_count": 5,
   "metadata": {
    "collapsed": true
   },
   "outputs": [],
   "source": [
    "# If experiment parameters change, modify this function\n",
    "def AddParametersAsColumns(df, folder):\n",
    "    expParams = folder.split('/')[-1].split('.')\n",
    "    \n",
    "    cloudParams = expParams[1].split('_')\n",
    "    df['groupSizeDist'] = cloudParams[10]\n",
    "    df['placementDist'] = cloudParams[11]\n",
    "    df['placementNumHostsPerLeaf'] = int(cloudParams[12])\n",
    "    df['seed'] = int(cloudParams[15])\n",
    "    \n",
    "    optimizerParams_0 = expParams[2].split('_')\n",
    "    node_type_0 = optimizerParams_0[7]\n",
    "    df['%sAlgorithm' % node_type_0] = optimizerParams_0[0]\n",
    "    df['%sNumBitmaps' % node_type_0] = int(optimizerParams_0[1])\n",
    "    df['%sNumNodesPerBitmap' % node_type_0] = int(optimizerParams_0[2])\n",
    "    df['%sRedundancyPerBitmap' % node_type_0] = int(optimizerParams_0[3])\n",
    "    df['%sNumRules' % node_type_0] = int(optimizerParams_0[4])\n",
    "    \n",
    "    if len(expParams) > 3:\n",
    "        optimizerParams_1 = expParams[3].split('_')\n",
    "        node_type_1 = optimizerParams_1[7]\n",
    "        df['%sAlgorithm' % node_type_1] = optimizerParams_1[0]\n",
    "        df['%sNumBitmaps' % node_type_1] = int(optimizerParams_1[1])\n",
    "        df['%sNumNodesPerBitmap' % node_type_1] = int(optimizerParams_1[2])\n",
    "        df['%sRedundancyPerBitmap' % node_type_1] = int(optimizerParams_1[3])\n",
    "        df['%sNumRules' % node_type_1] = int(optimizerParams_1[4])\n",
    "    \n",
    "# Turns all files of a given filname across a set of folders into a single dataframe\n",
    "def DataSetAsDataFrame(filename, folders, headers, header=None):\n",
    "    # Read dataset as dataframe\n",
    "    def ReadDataSet(folder):\n",
    "        df = pd.read_csv(folder + '/' + filename, sep=',', header=header, names=headers)\n",
    "        AddParametersAsColumns(df, folder)\n",
    "        return df\n",
    "    # Get the list of dataframes\n",
    "    dfs = map(ReadDataSet, folders)\n",
    "    # Combine into a single dataframe\n",
    "    df = pd.concat(dfs)\n",
    "    return df"
   ]
  },
  {
   "cell_type": "code",
   "execution_count": 6,
   "metadata": {
    "collapsed": true
   },
   "outputs": [],
   "source": [
    "%%R \n",
    "plotTheme <- theme(legend.title=element_blank(), legend.position=\"top\", legend.text=element_text(size=6))"
   ]
  },
  {
   "cell_type": "code",
   "execution_count": null,
   "metadata": {
    "collapsed": true
   },
   "outputs": [],
   "source": []
  },
  {
   "cell_type": "code",
   "execution_count": 7,
   "metadata": {
    "collapsed": false
   },
   "outputs": [],
   "source": [
    "directory = '../../output/'\n",
    "folders = glob.glob(directory + 'logs*')\n",
    "dynamic_folders = glob.glob(directory + 'dynamic-logs*')"
   ]
  },
  {
   "cell_type": "code",
   "execution_count": null,
   "metadata": {
    "collapsed": true
   },
   "outputs": [],
   "source": []
  },
  {
   "cell_type": "code",
   "execution_count": 8,
   "metadata": {
    "collapsed": false
   },
   "outputs": [],
   "source": [
    "vmCountPerTenant = DataSetAsDataFrame('vm_count_per_tenant.csv', \n",
    "                                      folders, \n",
    "                                      ['vmCount'])"
   ]
  },
  {
   "cell_type": "code",
   "execution_count": 9,
   "metadata": {
    "collapsed": false
   },
   "outputs": [
    {
     "data": {
      "text/plain": [
       "count    3000.000000\n",
       "mean      179.701000\n",
       "std       432.859193\n",
       "min        10.000000\n",
       "25%        46.000000\n",
       "50%        97.000000\n",
       "75%       182.000000\n",
       "max      4999.000000\n",
       "Name: vmCount, dtype: float64"
      ]
     },
     "execution_count": 9,
     "metadata": {},
     "output_type": "execute_result"
    }
   ],
   "source": [
    "vmCountPerTenant['vmCount'].describe()"
   ]
  },
  {
   "cell_type": "code",
   "execution_count": null,
   "metadata": {
    "collapsed": true
   },
   "outputs": [],
   "source": []
  },
  {
   "cell_type": "code",
   "execution_count": 10,
   "metadata": {
    "collapsed": false
   },
   "outputs": [],
   "source": [
    "groupCountPerTenant = DataSetAsDataFrame('group_count_per_tenant.csv', \n",
    "                                         folders, ['groupCount'])"
   ]
  },
  {
   "cell_type": "code",
   "execution_count": 11,
   "metadata": {
    "collapsed": false
   },
   "outputs": [
    {
     "data": {
      "text/plain": [
       "count    3000.000000\n",
       "mean      332.833333\n",
       "std       802.921490\n",
       "min        18.000000\n",
       "25%        85.000000\n",
       "50%       179.000000\n",
       "75%       337.000000\n",
       "max      9272.000000\n",
       "Name: groupCount, dtype: float64"
      ]
     },
     "execution_count": 11,
     "metadata": {},
     "output_type": "execute_result"
    }
   ],
   "source": [
    "groupCountPerTenant['groupCount'].describe()"
   ]
  },
  {
   "cell_type": "code",
   "execution_count": null,
   "metadata": {
    "collapsed": true
   },
   "outputs": [],
   "source": []
  },
  {
   "cell_type": "code",
   "execution_count": 12,
   "metadata": {
    "collapsed": true
   },
   "outputs": [],
   "source": [
    "groupSizePerGroupPerTenant = DataSetAsDataFrame('group_size_per_group_per_tenant.csv', \n",
    "                                                folders, ['groupSize'])"
   ]
  },
  {
   "cell_type": "code",
   "execution_count": 13,
   "metadata": {
    "collapsed": false
   },
   "outputs": [
    {
     "data": {
      "text/plain": [
       "count    998500.000000\n",
       "mean        614.033872\n",
       "std        1015.831472\n",
       "min           5.000000\n",
       "25%          54.000000\n",
       "50%         141.000000\n",
       "75%         529.000000\n",
       "max        4999.000000\n",
       "Name: groupSize, dtype: float64"
      ]
     },
     "execution_count": 13,
     "metadata": {},
     "output_type": "execute_result"
    }
   ],
   "source": [
    "groupSizePerGroupPerTenant['groupSize'].describe()"
   ]
  },
  {
   "cell_type": "code",
   "execution_count": null,
   "metadata": {
    "collapsed": true
   },
   "outputs": [],
   "source": []
  },
  {
   "cell_type": "code",
   "execution_count": 14,
   "metadata": {
    "collapsed": true
   },
   "outputs": [],
   "source": [
    "leafCountPerGroupPerTenant = DataSetAsDataFrame('leaf_count_per_group_per_tenant.csv', \n",
    "                                                folders, ['leafCount'])"
   ]
  },
  {
   "cell_type": "code",
   "execution_count": 15,
   "metadata": {
    "collapsed": false
   },
   "outputs": [
    {
     "data": {
      "text/plain": [
       "count    998500.000000\n",
       "mean         53.899307\n",
       "std          35.955542\n",
       "min           3.000000\n",
       "25%          33.000000\n",
       "50%          46.000000\n",
       "75%          48.000000\n",
       "max         192.000000\n",
       "Name: leafCount, dtype: float64"
      ]
     },
     "execution_count": 15,
     "metadata": {},
     "output_type": "execute_result"
    }
   ],
   "source": [
    "leafCountPerGroupPerTenant['leafCount'].describe()"
   ]
  },
  {
   "cell_type": "code",
   "execution_count": null,
   "metadata": {
    "collapsed": true
   },
   "outputs": [],
   "source": []
  },
  {
   "cell_type": "code",
   "execution_count": 16,
   "metadata": {
    "collapsed": false
   },
   "outputs": [],
   "source": [
    "podCountPerGroupPerTenant = DataSetAsDataFrame('pod_count_per_group_per_tenant.csv', \n",
    "                                                folders, ['podCount'])"
   ]
  },
  {
   "cell_type": "code",
   "execution_count": 17,
   "metadata": {
    "collapsed": false
   },
   "outputs": [
    {
     "data": {
      "text/plain": [
       "count    998500.000000\n",
       "mean          1.357768\n",
       "std           0.670669\n",
       "min           1.000000\n",
       "25%           1.000000\n",
       "50%           1.000000\n",
       "75%           2.000000\n",
       "max           4.000000\n",
       "Name: podCount, dtype: float64"
      ]
     },
     "execution_count": 17,
     "metadata": {},
     "output_type": "execute_result"
    }
   ],
   "source": [
    "podCountPerGroupPerTenant['podCount'].describe()"
   ]
  },
  {
   "cell_type": "code",
   "execution_count": null,
   "metadata": {
    "collapsed": true
   },
   "outputs": [],
   "source": []
  },
  {
   "cell_type": "code",
   "execution_count": 18,
   "metadata": {
    "collapsed": false
   },
   "outputs": [],
   "source": [
    "podsAlgorithmElapseTime = DataSetAsDataFrame('pods_algorithm_elapse_time.csv', \n",
    "                                              folders, ['elapseTime'])"
   ]
  },
  {
   "cell_type": "code",
   "execution_count": 19,
   "metadata": {
    "collapsed": false
   },
   "outputs": [
    {
     "data": {
      "text/plain": [
       "count    9.985000e+05\n",
       "mean     3.096680e-06\n",
       "std      4.864578e-05\n",
       "min      4.796311e-08\n",
       "25%      1.206063e-07\n",
       "50%      6.090850e-07\n",
       "75%      4.475936e-06\n",
       "max      1.108134e-02\n",
       "Name: elapseTime, dtype: float64"
      ]
     },
     "execution_count": 19,
     "metadata": {},
     "output_type": "execute_result"
    }
   ],
   "source": [
    "podsAlgorithmElapseTime['elapseTime'].describe()"
   ]
  },
  {
   "cell_type": "code",
   "execution_count": 20,
   "metadata": {
    "collapsed": false
   },
   "outputs": [],
   "source": [
    "leafsAlgorithmElapseTime = DataSetAsDataFrame('leafs_algorithm_elapse_time.csv', \n",
    "                                              folders, ['elapseTime'])"
   ]
  },
  {
   "cell_type": "code",
   "execution_count": 21,
   "metadata": {
    "collapsed": false
   },
   "outputs": [
    {
     "data": {
      "text/plain": [
       "count    9.849600e+04\n",
       "mean     2.805337e-04\n",
       "std      2.655022e-04\n",
       "min      8.195639e-08\n",
       "25%      1.091224e-04\n",
       "50%      1.856044e-04\n",
       "75%      3.612977e-04\n",
       "max      9.030196e-03\n",
       "Name: elapseTime, dtype: float64"
      ]
     },
     "execution_count": 21,
     "metadata": {},
     "output_type": "execute_result"
    }
   ],
   "source": [
    "leafsAlgorithmElapseTime['elapseTime'].describe()"
   ]
  },
  {
   "cell_type": "code",
   "execution_count": null,
   "metadata": {
    "collapsed": true
   },
   "outputs": [],
   "source": []
  },
  {
   "cell_type": "code",
   "execution_count": 20,
   "metadata": {
    "collapsed": true
   },
   "outputs": [],
   "source": [
    "groupsCoveredWithBitmapsOnlyForPods = DataSetAsDataFrame('groups_covered_with_bitmaps_only_for_pods.csv', \n",
    "                                                         folders, \n",
    "                                                         ['groupsCovered', 'groupsCoveredWithoutDefaultBitmap'],\n",
    "                                                         header=0)"
   ]
  },
  {
   "cell_type": "code",
   "execution_count": 21,
   "metadata": {
    "collapsed": false
   },
   "outputs": [
    {
     "data": {
      "text/html": [
       "<div>\n",
       "<style scoped>\n",
       "    .dataframe tbody tr th:only-of-type {\n",
       "        vertical-align: middle;\n",
       "    }\n",
       "\n",
       "    .dataframe tbody tr th {\n",
       "        vertical-align: top;\n",
       "    }\n",
       "\n",
       "    .dataframe thead th {\n",
       "        text-align: right;\n",
       "    }\n",
       "</style>\n",
       "<table border=\"1\" class=\"dataframe\">\n",
       "  <thead>\n",
       "    <tr style=\"text-align: right;\">\n",
       "      <th></th>\n",
       "      <th>groupsCovered</th>\n",
       "      <th>groupsCoveredWithoutDefaultBitmap</th>\n",
       "      <th>groupSizeDist</th>\n",
       "      <th>placementDist</th>\n",
       "      <th>placementNumHostsPerLeaf</th>\n",
       "      <th>seed</th>\n",
       "      <th>podsAlgorithm</th>\n",
       "      <th>podsNumBitmaps</th>\n",
       "      <th>podsNumNodesPerBitmap</th>\n",
       "      <th>podsRedundancyPerBitmap</th>\n",
       "      <th>podsNumRules</th>\n",
       "    </tr>\n",
       "  </thead>\n",
       "  <tbody>\n",
       "    <tr>\n",
       "      <th>0</th>\n",
       "      <td>929689</td>\n",
       "      <td>920760</td>\n",
       "      <td>uniform</td>\n",
       "      <td>colocate-uniform</td>\n",
       "      <td>-1</td>\n",
       "      <td>0</td>\n",
       "      <td>random-fuzzy-match</td>\n",
       "      <td>1</td>\n",
       "      <td>3</td>\n",
       "      <td>6</td>\n",
       "      <td>10000</td>\n",
       "    </tr>\n",
       "  </tbody>\n",
       "</table>\n",
       "</div>"
      ],
      "text/plain": [
       "   groupsCovered  groupsCoveredWithoutDefaultBitmap groupSizeDist  \\\n",
       "0         929689                             920760       uniform   \n",
       "\n",
       "      placementDist  placementNumHostsPerLeaf  seed       podsAlgorithm  \\\n",
       "0  colocate-uniform                        -1     0  random-fuzzy-match   \n",
       "\n",
       "   podsNumBitmaps  podsNumNodesPerBitmap  podsRedundancyPerBitmap  \\\n",
       "0               1                      3                        6   \n",
       "\n",
       "   podsNumRules  \n",
       "0         10000  "
      ]
     },
     "execution_count": 21,
     "metadata": {},
     "output_type": "execute_result"
    }
   ],
   "source": [
    "groupsCoveredWithBitmapsOnlyForPods"
   ]
  },
  {
   "cell_type": "code",
   "execution_count": 24,
   "metadata": {
    "collapsed": false
   },
   "outputs": [],
   "source": [
    "groupsCoveredWithBitmapsOnlyForLeafs = DataSetAsDataFrame('groups_covered_with_bitmaps_only_for_leafs.csv', \n",
    "                                                         folders, \n",
    "                                                         ['groupsCovered', 'groupsCoveredWithoutDefaultBitmap'],\n",
    "                                                         header=0)"
   ]
  },
  {
   "cell_type": "code",
   "execution_count": 25,
   "metadata": {
    "collapsed": false
   },
   "outputs": [
    {
     "data": {
      "text/html": [
       "<div>\n",
       "<style scoped>\n",
       "    .dataframe tbody tr th:only-of-type {\n",
       "        vertical-align: middle;\n",
       "    }\n",
       "\n",
       "    .dataframe tbody tr th {\n",
       "        vertical-align: top;\n",
       "    }\n",
       "\n",
       "    .dataframe thead th {\n",
       "        text-align: right;\n",
       "    }\n",
       "</style>\n",
       "<table border=\"1\" class=\"dataframe\">\n",
       "  <thead>\n",
       "    <tr style=\"text-align: right;\">\n",
       "      <th></th>\n",
       "      <th>groupsCovered</th>\n",
       "      <th>groupsCoveredWithoutDefaultBitmap</th>\n",
       "      <th>groupSizeDist</th>\n",
       "      <th>placementDist</th>\n",
       "      <th>placementNumHostsPerLeaf</th>\n",
       "      <th>seed</th>\n",
       "      <th>podsAlgorithm</th>\n",
       "      <th>podsNumBitmaps</th>\n",
       "      <th>podsNumNodesPerBitmap</th>\n",
       "      <th>podsRedundancyPerBitmap</th>\n",
       "      <th>podsNumRules</th>\n",
       "      <th>leafsAlgorithm</th>\n",
       "      <th>leafsNumBitmaps</th>\n",
       "      <th>leafsNumNodesPerBitmap</th>\n",
       "      <th>leafsRedundancyPerBitmap</th>\n",
       "      <th>leafsNumRules</th>\n",
       "    </tr>\n",
       "  </thead>\n",
       "  <tbody>\n",
       "    <tr>\n",
       "      <th>0</th>\n",
       "      <td>20031</td>\n",
       "      <td>20031</td>\n",
       "      <td>uniform</td>\n",
       "      <td>colocate-uniform</td>\n",
       "      <td>48</td>\n",
       "      <td>0</td>\n",
       "      <td>random-fuzzy-match</td>\n",
       "      <td>2</td>\n",
       "      <td>3</td>\n",
       "      <td>6</td>\n",
       "      <td>1000</td>\n",
       "      <td>random-fuzzy-match</td>\n",
       "      <td>10</td>\n",
       "      <td>3</td>\n",
       "      <td>12</td>\n",
       "      <td>10000</td>\n",
       "    </tr>\n",
       "  </tbody>\n",
       "</table>\n",
       "</div>"
      ],
      "text/plain": [
       "   groupsCovered  groupsCoveredWithoutDefaultBitmap groupSizeDist  \\\n",
       "0          20031                              20031       uniform   \n",
       "\n",
       "      placementDist  placementNumHostsPerLeaf  seed       podsAlgorithm  \\\n",
       "0  colocate-uniform                        48     0  random-fuzzy-match   \n",
       "\n",
       "   podsNumBitmaps  podsNumNodesPerBitmap  podsRedundancyPerBitmap  \\\n",
       "0               2                      3                        6   \n",
       "\n",
       "   podsNumRules      leafsAlgorithm  leafsNumBitmaps  leafsNumNodesPerBitmap  \\\n",
       "0          1000  random-fuzzy-match               10                       3   \n",
       "\n",
       "   leafsRedundancyPerBitmap  leafsNumRules  \n",
       "0                        12          10000  "
      ]
     },
     "execution_count": 25,
     "metadata": {},
     "output_type": "execute_result"
    }
   ],
   "source": [
    "groupsCoveredWithBitmapsOnlyForLeafs"
   ]
  },
  {
   "cell_type": "code",
   "execution_count": null,
   "metadata": {
    "collapsed": true
   },
   "outputs": [],
   "source": []
  },
  {
   "cell_type": "code",
   "execution_count": 22,
   "metadata": {
    "collapsed": false
   },
   "outputs": [],
   "source": [
    "ruleCountForPods = DataSetAsDataFrame('rule_count_for_pods.csv', \n",
    "                                      folders, ['numRules'])"
   ]
  },
  {
   "cell_type": "code",
   "execution_count": 23,
   "metadata": {
    "collapsed": false
   },
   "outputs": [
    {
     "data": {
      "text/plain": [
       "count       12.000000\n",
       "mean      7808.166667\n",
       "std       2653.815155\n",
       "min       3117.000000\n",
       "25%       5957.750000\n",
       "50%       8823.500000\n",
       "75%      10000.000000\n",
       "max      10000.000000\n",
       "Name: numRules, dtype: float64"
      ]
     },
     "execution_count": 23,
     "metadata": {},
     "output_type": "execute_result"
    }
   ],
   "source": [
    "ruleCountForPods['numRules'].describe()"
   ]
  },
  {
   "cell_type": "code",
   "execution_count": 28,
   "metadata": {
    "collapsed": true
   },
   "outputs": [],
   "source": [
    "ruleCountForLeafs = DataSetAsDataFrame('rule_count_for_leafs.csv', \n",
    "                                       folders, ['numRules'])"
   ]
  },
  {
   "cell_type": "code",
   "execution_count": 29,
   "metadata": {
    "collapsed": false
   },
   "outputs": [
    {
     "data": {
      "text/plain": [
       "count     576.000000\n",
       "mean     5230.520833\n",
       "std      1111.163817\n",
       "min      2284.000000\n",
       "25%      4782.500000\n",
       "50%      5578.000000\n",
       "75%      6074.250000\n",
       "max      6989.000000\n",
       "Name: numRules, dtype: float64"
      ]
     },
     "execution_count": 29,
     "metadata": {},
     "output_type": "execute_result"
    }
   ],
   "source": [
    "ruleCountForLeafs['numRules'].describe()"
   ]
  },
  {
   "cell_type": "code",
   "execution_count": null,
   "metadata": {
    "collapsed": true
   },
   "outputs": [],
   "source": []
  },
  {
   "cell_type": "code",
   "execution_count": 24,
   "metadata": {
    "collapsed": true
   },
   "outputs": [],
   "source": [
    "trafficOverheadPerGroupPerTenantForPods = DataSetAsDataFrame(\n",
    "    'traffic_overhead_per_group_per_tenant_for_pods.csv', folders, ['trafficOverhead'])"
   ]
  },
  {
   "cell_type": "code",
   "execution_count": 29,
   "metadata": {
    "collapsed": false
   },
   "outputs": [
    {
     "data": {
      "text/plain": [
       "0    0.0\n",
       "1    0.0\n",
       "Name: trafficOverhead, dtype: float64"
      ]
     },
     "execution_count": 29,
     "metadata": {},
     "output_type": "execute_result"
    }
   ],
   "source": [
    "trafficOverheadPerGroupPerTenantForPods['trafficOverhead'].head(2)"
   ]
  },
  {
   "cell_type": "code",
   "execution_count": 25,
   "metadata": {
    "collapsed": false
   },
   "outputs": [
    {
     "data": {
      "text/plain": [
       "count    998500.000000\n",
       "mean          0.001527\n",
       "std           0.017874\n",
       "min           0.000000\n",
       "25%           0.000000\n",
       "50%           0.000000\n",
       "75%           0.000000\n",
       "max           1.000000\n",
       "Name: trafficOverhead, dtype: float64"
      ]
     },
     "execution_count": 25,
     "metadata": {},
     "output_type": "execute_result"
    }
   ],
   "source": [
    "trafficOverheadPerGroupPerTenantForPods['trafficOverhead'].describe()"
   ]
  },
  {
   "cell_type": "code",
   "execution_count": 32,
   "metadata": {
    "collapsed": true
   },
   "outputs": [],
   "source": [
    "trafficOverheadPerGroupPerTenantForLeafs = DataSetAsDataFrame(\n",
    "    'traffic_overhead_per_group_per_tenant_for_leafs.csv', folders, ['trafficOverhead'])"
   ]
  },
  {
   "cell_type": "code",
   "execution_count": 33,
   "metadata": {
    "collapsed": false
   },
   "outputs": [
    {
     "data": {
      "text/plain": [
       "count    98496.000000\n",
       "mean         0.471776\n",
       "std          0.418841\n",
       "min          0.000000\n",
       "25%          0.068641\n",
       "50%          0.386364\n",
       "75%          0.766667\n",
       "max          1.850000\n",
       "Name: trafficOverhead, dtype: float64"
      ]
     },
     "execution_count": 33,
     "metadata": {},
     "output_type": "execute_result"
    }
   ],
   "source": [
    "trafficOverheadPerGroupPerTenantForLeafs['trafficOverhead'].describe()"
   ]
  },
  {
   "cell_type": "code",
   "execution_count": 26,
   "metadata": {
    "collapsed": false
   },
   "outputs": [
    {
     "ename": "FileNotFoundError",
     "evalue": "File b'../../output/logs.12_48_48_20_3000_10_5000_expon_1000000_5_uniform_colocate-uniform_-1_True_5_0.random-fuzzy-match_1_3_6_10000_2_3_pods/traffic_per_group_per_tenant.csv' does not exist",
     "output_type": "error",
     "traceback": [
      "\u001b[0;31m---------------------------------------------------------------------------\u001b[0m",
      "\u001b[0;31mFileNotFoundError\u001b[0m                         Traceback (most recent call last)",
      "\u001b[0;32m<ipython-input-26-d1459cfdfd53>\u001b[0m in \u001b[0;36m<module>\u001b[0;34m()\u001b[0m\n\u001b[1;32m      2\u001b[0m                              \u001b[0mfolders\u001b[0m\u001b[0;34m,\u001b[0m\u001b[0;34m\u001b[0m\u001b[0m\n\u001b[1;32m      3\u001b[0m                              \u001b[0;34m[\u001b[0m\u001b[0;34m'multicastTraffic'\u001b[0m\u001b[0;34m,\u001b[0m \u001b[0;34m'unicastTraffic'\u001b[0m\u001b[0;34m,\u001b[0m \u001b[0;34m'overlayTraffic'\u001b[0m\u001b[0;34m,\u001b[0m \u001b[0;34m'baseeratTraffic'\u001b[0m\u001b[0;34m]\u001b[0m\u001b[0;34m,\u001b[0m\u001b[0;34m\u001b[0m\u001b[0m\n\u001b[0;32m----> 4\u001b[0;31m                              header=0)\n\u001b[0m",
      "\u001b[0;32m<ipython-input-5-15e73faa9b54>\u001b[0m in \u001b[0;36mDataSetAsDataFrame\u001b[0;34m(filename, folders, headers, header)\u001b[0m\n\u001b[1;32m     36\u001b[0m     \u001b[0mdfs\u001b[0m \u001b[0;34m=\u001b[0m \u001b[0mmap\u001b[0m\u001b[0;34m(\u001b[0m\u001b[0mReadDataSet\u001b[0m\u001b[0;34m,\u001b[0m \u001b[0mfolders\u001b[0m\u001b[0;34m)\u001b[0m\u001b[0;34m\u001b[0m\u001b[0m\n\u001b[1;32m     37\u001b[0m     \u001b[0;31m# Combine into a single dataframe\u001b[0m\u001b[0;34m\u001b[0m\u001b[0;34m\u001b[0m\u001b[0m\n\u001b[0;32m---> 38\u001b[0;31m     \u001b[0mdf\u001b[0m \u001b[0;34m=\u001b[0m \u001b[0mpd\u001b[0m\u001b[0;34m.\u001b[0m\u001b[0mconcat\u001b[0m\u001b[0;34m(\u001b[0m\u001b[0mdfs\u001b[0m\u001b[0;34m)\u001b[0m\u001b[0;34m\u001b[0m\u001b[0m\n\u001b[0m\u001b[1;32m     39\u001b[0m     \u001b[0;32mreturn\u001b[0m \u001b[0mdf\u001b[0m\u001b[0;34m\u001b[0m\u001b[0m\n",
      "\u001b[0;32m/opt/conda/lib/python3.5/site-packages/pandas/core/reshape/concat.py\u001b[0m in \u001b[0;36mconcat\u001b[0;34m(objs, axis, join, join_axes, ignore_index, keys, levels, names, verify_integrity, copy)\u001b[0m\n\u001b[1;32m    210\u001b[0m                        \u001b[0mkeys\u001b[0m\u001b[0;34m=\u001b[0m\u001b[0mkeys\u001b[0m\u001b[0;34m,\u001b[0m \u001b[0mlevels\u001b[0m\u001b[0;34m=\u001b[0m\u001b[0mlevels\u001b[0m\u001b[0;34m,\u001b[0m \u001b[0mnames\u001b[0m\u001b[0;34m=\u001b[0m\u001b[0mnames\u001b[0m\u001b[0;34m,\u001b[0m\u001b[0;34m\u001b[0m\u001b[0m\n\u001b[1;32m    211\u001b[0m                        \u001b[0mverify_integrity\u001b[0m\u001b[0;34m=\u001b[0m\u001b[0mverify_integrity\u001b[0m\u001b[0;34m,\u001b[0m\u001b[0;34m\u001b[0m\u001b[0m\n\u001b[0;32m--> 212\u001b[0;31m                        copy=copy)\n\u001b[0m\u001b[1;32m    213\u001b[0m     \u001b[0;32mreturn\u001b[0m \u001b[0mop\u001b[0m\u001b[0;34m.\u001b[0m\u001b[0mget_result\u001b[0m\u001b[0;34m(\u001b[0m\u001b[0;34m)\u001b[0m\u001b[0;34m\u001b[0m\u001b[0m\n\u001b[1;32m    214\u001b[0m \u001b[0;34m\u001b[0m\u001b[0m\n",
      "\u001b[0;32m/opt/conda/lib/python3.5/site-packages/pandas/core/reshape/concat.py\u001b[0m in \u001b[0;36m__init__\u001b[0;34m(self, objs, axis, join, join_axes, keys, levels, names, ignore_index, verify_integrity, copy)\u001b[0m\n\u001b[1;32m    240\u001b[0m             \u001b[0mobjs\u001b[0m \u001b[0;34m=\u001b[0m \u001b[0;34m[\u001b[0m\u001b[0mobjs\u001b[0m\u001b[0;34m[\u001b[0m\u001b[0mk\u001b[0m\u001b[0;34m]\u001b[0m \u001b[0;32mfor\u001b[0m \u001b[0mk\u001b[0m \u001b[0;32min\u001b[0m \u001b[0mkeys\u001b[0m\u001b[0;34m]\u001b[0m\u001b[0;34m\u001b[0m\u001b[0m\n\u001b[1;32m    241\u001b[0m         \u001b[0;32melse\u001b[0m\u001b[0;34m:\u001b[0m\u001b[0;34m\u001b[0m\u001b[0m\n\u001b[0;32m--> 242\u001b[0;31m             \u001b[0mobjs\u001b[0m \u001b[0;34m=\u001b[0m \u001b[0mlist\u001b[0m\u001b[0;34m(\u001b[0m\u001b[0mobjs\u001b[0m\u001b[0;34m)\u001b[0m\u001b[0;34m\u001b[0m\u001b[0m\n\u001b[0m\u001b[1;32m    243\u001b[0m \u001b[0;34m\u001b[0m\u001b[0m\n\u001b[1;32m    244\u001b[0m         \u001b[0;32mif\u001b[0m \u001b[0mlen\u001b[0m\u001b[0;34m(\u001b[0m\u001b[0mobjs\u001b[0m\u001b[0;34m)\u001b[0m \u001b[0;34m==\u001b[0m \u001b[0;36m0\u001b[0m\u001b[0;34m:\u001b[0m\u001b[0;34m\u001b[0m\u001b[0m\n",
      "\u001b[0;32m<ipython-input-5-15e73faa9b54>\u001b[0m in \u001b[0;36mReadDataSet\u001b[0;34m(folder)\u001b[0m\n\u001b[1;32m     30\u001b[0m     \u001b[0;31m# Read dataset as dataframe\u001b[0m\u001b[0;34m\u001b[0m\u001b[0;34m\u001b[0m\u001b[0m\n\u001b[1;32m     31\u001b[0m     \u001b[0;32mdef\u001b[0m \u001b[0mReadDataSet\u001b[0m\u001b[0;34m(\u001b[0m\u001b[0mfolder\u001b[0m\u001b[0;34m)\u001b[0m\u001b[0;34m:\u001b[0m\u001b[0;34m\u001b[0m\u001b[0m\n\u001b[0;32m---> 32\u001b[0;31m         \u001b[0mdf\u001b[0m \u001b[0;34m=\u001b[0m \u001b[0mpd\u001b[0m\u001b[0;34m.\u001b[0m\u001b[0mread_csv\u001b[0m\u001b[0;34m(\u001b[0m\u001b[0mfolder\u001b[0m \u001b[0;34m+\u001b[0m \u001b[0;34m'/'\u001b[0m \u001b[0;34m+\u001b[0m \u001b[0mfilename\u001b[0m\u001b[0;34m,\u001b[0m \u001b[0msep\u001b[0m\u001b[0;34m=\u001b[0m\u001b[0;34m','\u001b[0m\u001b[0;34m,\u001b[0m \u001b[0mheader\u001b[0m\u001b[0;34m=\u001b[0m\u001b[0mheader\u001b[0m\u001b[0;34m,\u001b[0m \u001b[0mnames\u001b[0m\u001b[0;34m=\u001b[0m\u001b[0mheaders\u001b[0m\u001b[0;34m)\u001b[0m\u001b[0;34m\u001b[0m\u001b[0m\n\u001b[0m\u001b[1;32m     33\u001b[0m         \u001b[0mAddParametersAsColumns\u001b[0m\u001b[0;34m(\u001b[0m\u001b[0mdf\u001b[0m\u001b[0;34m,\u001b[0m \u001b[0mfolder\u001b[0m\u001b[0;34m)\u001b[0m\u001b[0;34m\u001b[0m\u001b[0m\n\u001b[1;32m     34\u001b[0m         \u001b[0;32mreturn\u001b[0m \u001b[0mdf\u001b[0m\u001b[0;34m\u001b[0m\u001b[0m\n",
      "\u001b[0;32m/opt/conda/lib/python3.5/site-packages/pandas/io/parsers.py\u001b[0m in \u001b[0;36mparser_f\u001b[0;34m(filepath_or_buffer, sep, delimiter, header, names, index_col, usecols, squeeze, prefix, mangle_dupe_cols, dtype, engine, converters, true_values, false_values, skipinitialspace, skiprows, nrows, na_values, keep_default_na, na_filter, verbose, skip_blank_lines, parse_dates, infer_datetime_format, keep_date_col, date_parser, dayfirst, iterator, chunksize, compression, thousands, decimal, lineterminator, quotechar, quoting, escapechar, comment, encoding, dialect, tupleize_cols, error_bad_lines, warn_bad_lines, skipfooter, skip_footer, doublequote, delim_whitespace, as_recarray, compact_ints, use_unsigned, low_memory, buffer_lines, memory_map, float_precision)\u001b[0m\n\u001b[1;32m    703\u001b[0m                     skip_blank_lines=skip_blank_lines)\n\u001b[1;32m    704\u001b[0m \u001b[0;34m\u001b[0m\u001b[0m\n\u001b[0;32m--> 705\u001b[0;31m         \u001b[0;32mreturn\u001b[0m \u001b[0m_read\u001b[0m\u001b[0;34m(\u001b[0m\u001b[0mfilepath_or_buffer\u001b[0m\u001b[0;34m,\u001b[0m \u001b[0mkwds\u001b[0m\u001b[0;34m)\u001b[0m\u001b[0;34m\u001b[0m\u001b[0m\n\u001b[0m\u001b[1;32m    706\u001b[0m \u001b[0;34m\u001b[0m\u001b[0m\n\u001b[1;32m    707\u001b[0m     \u001b[0mparser_f\u001b[0m\u001b[0;34m.\u001b[0m\u001b[0m__name__\u001b[0m \u001b[0;34m=\u001b[0m \u001b[0mname\u001b[0m\u001b[0;34m\u001b[0m\u001b[0m\n",
      "\u001b[0;32m/opt/conda/lib/python3.5/site-packages/pandas/io/parsers.py\u001b[0m in \u001b[0;36m_read\u001b[0;34m(filepath_or_buffer, kwds)\u001b[0m\n\u001b[1;32m    443\u001b[0m \u001b[0;34m\u001b[0m\u001b[0m\n\u001b[1;32m    444\u001b[0m     \u001b[0;31m# Create the parser.\u001b[0m\u001b[0;34m\u001b[0m\u001b[0;34m\u001b[0m\u001b[0m\n\u001b[0;32m--> 445\u001b[0;31m     \u001b[0mparser\u001b[0m \u001b[0;34m=\u001b[0m \u001b[0mTextFileReader\u001b[0m\u001b[0;34m(\u001b[0m\u001b[0mfilepath_or_buffer\u001b[0m\u001b[0;34m,\u001b[0m \u001b[0;34m**\u001b[0m\u001b[0mkwds\u001b[0m\u001b[0;34m)\u001b[0m\u001b[0;34m\u001b[0m\u001b[0m\n\u001b[0m\u001b[1;32m    446\u001b[0m \u001b[0;34m\u001b[0m\u001b[0m\n\u001b[1;32m    447\u001b[0m     \u001b[0;32mif\u001b[0m \u001b[0mchunksize\u001b[0m \u001b[0;32mor\u001b[0m \u001b[0miterator\u001b[0m\u001b[0;34m:\u001b[0m\u001b[0;34m\u001b[0m\u001b[0m\n",
      "\u001b[0;32m/opt/conda/lib/python3.5/site-packages/pandas/io/parsers.py\u001b[0m in \u001b[0;36m__init__\u001b[0;34m(self, f, engine, **kwds)\u001b[0m\n\u001b[1;32m    812\u001b[0m             \u001b[0mself\u001b[0m\u001b[0;34m.\u001b[0m\u001b[0moptions\u001b[0m\u001b[0;34m[\u001b[0m\u001b[0;34m'has_index_names'\u001b[0m\u001b[0;34m]\u001b[0m \u001b[0;34m=\u001b[0m \u001b[0mkwds\u001b[0m\u001b[0;34m[\u001b[0m\u001b[0;34m'has_index_names'\u001b[0m\u001b[0;34m]\u001b[0m\u001b[0;34m\u001b[0m\u001b[0m\n\u001b[1;32m    813\u001b[0m \u001b[0;34m\u001b[0m\u001b[0m\n\u001b[0;32m--> 814\u001b[0;31m         \u001b[0mself\u001b[0m\u001b[0;34m.\u001b[0m\u001b[0m_make_engine\u001b[0m\u001b[0;34m(\u001b[0m\u001b[0mself\u001b[0m\u001b[0;34m.\u001b[0m\u001b[0mengine\u001b[0m\u001b[0;34m)\u001b[0m\u001b[0;34m\u001b[0m\u001b[0m\n\u001b[0m\u001b[1;32m    815\u001b[0m \u001b[0;34m\u001b[0m\u001b[0m\n\u001b[1;32m    816\u001b[0m     \u001b[0;32mdef\u001b[0m \u001b[0mclose\u001b[0m\u001b[0;34m(\u001b[0m\u001b[0mself\u001b[0m\u001b[0;34m)\u001b[0m\u001b[0;34m:\u001b[0m\u001b[0;34m\u001b[0m\u001b[0m\n",
      "\u001b[0;32m/opt/conda/lib/python3.5/site-packages/pandas/io/parsers.py\u001b[0m in \u001b[0;36m_make_engine\u001b[0;34m(self, engine)\u001b[0m\n\u001b[1;32m   1043\u001b[0m     \u001b[0;32mdef\u001b[0m \u001b[0m_make_engine\u001b[0m\u001b[0;34m(\u001b[0m\u001b[0mself\u001b[0m\u001b[0;34m,\u001b[0m \u001b[0mengine\u001b[0m\u001b[0;34m=\u001b[0m\u001b[0;34m'c'\u001b[0m\u001b[0;34m)\u001b[0m\u001b[0;34m:\u001b[0m\u001b[0;34m\u001b[0m\u001b[0m\n\u001b[1;32m   1044\u001b[0m         \u001b[0;32mif\u001b[0m \u001b[0mengine\u001b[0m \u001b[0;34m==\u001b[0m \u001b[0;34m'c'\u001b[0m\u001b[0;34m:\u001b[0m\u001b[0;34m\u001b[0m\u001b[0m\n\u001b[0;32m-> 1045\u001b[0;31m             \u001b[0mself\u001b[0m\u001b[0;34m.\u001b[0m\u001b[0m_engine\u001b[0m \u001b[0;34m=\u001b[0m \u001b[0mCParserWrapper\u001b[0m\u001b[0;34m(\u001b[0m\u001b[0mself\u001b[0m\u001b[0;34m.\u001b[0m\u001b[0mf\u001b[0m\u001b[0;34m,\u001b[0m \u001b[0;34m**\u001b[0m\u001b[0mself\u001b[0m\u001b[0;34m.\u001b[0m\u001b[0moptions\u001b[0m\u001b[0;34m)\u001b[0m\u001b[0;34m\u001b[0m\u001b[0m\n\u001b[0m\u001b[1;32m   1046\u001b[0m         \u001b[0;32melse\u001b[0m\u001b[0;34m:\u001b[0m\u001b[0;34m\u001b[0m\u001b[0m\n\u001b[1;32m   1047\u001b[0m             \u001b[0;32mif\u001b[0m \u001b[0mengine\u001b[0m \u001b[0;34m==\u001b[0m \u001b[0;34m'python'\u001b[0m\u001b[0;34m:\u001b[0m\u001b[0;34m\u001b[0m\u001b[0m\n",
      "\u001b[0;32m/opt/conda/lib/python3.5/site-packages/pandas/io/parsers.py\u001b[0m in \u001b[0;36m__init__\u001b[0;34m(self, src, **kwds)\u001b[0m\n\u001b[1;32m   1682\u001b[0m         \u001b[0mkwds\u001b[0m\u001b[0;34m[\u001b[0m\u001b[0;34m'allow_leading_cols'\u001b[0m\u001b[0;34m]\u001b[0m \u001b[0;34m=\u001b[0m \u001b[0mself\u001b[0m\u001b[0;34m.\u001b[0m\u001b[0mindex_col\u001b[0m \u001b[0;32mis\u001b[0m \u001b[0;32mnot\u001b[0m \u001b[0;32mFalse\u001b[0m\u001b[0;34m\u001b[0m\u001b[0m\n\u001b[1;32m   1683\u001b[0m \u001b[0;34m\u001b[0m\u001b[0m\n\u001b[0;32m-> 1684\u001b[0;31m         \u001b[0mself\u001b[0m\u001b[0;34m.\u001b[0m\u001b[0m_reader\u001b[0m \u001b[0;34m=\u001b[0m \u001b[0mparsers\u001b[0m\u001b[0;34m.\u001b[0m\u001b[0mTextReader\u001b[0m\u001b[0;34m(\u001b[0m\u001b[0msrc\u001b[0m\u001b[0;34m,\u001b[0m \u001b[0;34m**\u001b[0m\u001b[0mkwds\u001b[0m\u001b[0;34m)\u001b[0m\u001b[0;34m\u001b[0m\u001b[0m\n\u001b[0m\u001b[1;32m   1685\u001b[0m \u001b[0;34m\u001b[0m\u001b[0m\n\u001b[1;32m   1686\u001b[0m         \u001b[0;31m# XXX\u001b[0m\u001b[0;34m\u001b[0m\u001b[0;34m\u001b[0m\u001b[0m\n",
      "\u001b[0;32mpandas/_libs/parsers.pyx\u001b[0m in \u001b[0;36mpandas._libs.parsers.TextReader.__cinit__\u001b[0;34m()\u001b[0m\n",
      "\u001b[0;32mpandas/_libs/parsers.pyx\u001b[0m in \u001b[0;36mpandas._libs.parsers.TextReader._setup_parser_source\u001b[0;34m()\u001b[0m\n",
      "\u001b[0;31mFileNotFoundError\u001b[0m: File b'../../output/logs.12_48_48_20_3000_10_5000_expon_1000000_5_uniform_colocate-uniform_-1_True_5_0.random-fuzzy-match_1_3_6_10000_2_3_pods/traffic_per_group_per_tenant.csv' does not exist"
     ]
    }
   ],
   "source": [
    "traffic = DataSetAsDataFrame('traffic_per_group_per_tenant.csv', \n",
    "                             folders, \n",
    "                             ['multicastTraffic', 'unicastTraffic', 'overlayTraffic', 'baseeratTraffic'],\n",
    "                             header=0)"
   ]
  },
  {
   "cell_type": "code",
   "execution_count": 38,
   "metadata": {
    "collapsed": false
   },
   "outputs": [],
   "source": [
    "temp = traffic[['multicastTraffic', 'unicastTraffic', 'overlayTraffic', 'baseeratTraffic']].sum()"
   ]
  },
  {
   "cell_type": "code",
   "execution_count": 39,
   "metadata": {
    "collapsed": false
   },
   "outputs": [
    {
     "data": {
      "text/plain": [
       "5.4762259277022451"
      ]
     },
     "execution_count": 39,
     "metadata": {},
     "output_type": "execute_result"
    }
   ],
   "source": [
    "temp['unicastTraffic']/temp['multicastTraffic']"
   ]
  },
  {
   "cell_type": "code",
   "execution_count": 40,
   "metadata": {
    "collapsed": false
   },
   "outputs": [
    {
     "data": {
      "text/plain": [
       "2.1483915104809723"
      ]
     },
     "execution_count": 40,
     "metadata": {},
     "output_type": "execute_result"
    }
   ],
   "source": [
    "temp['overlayTraffic']/temp['multicastTraffic']"
   ]
  },
  {
   "cell_type": "code",
   "execution_count": 41,
   "metadata": {
    "collapsed": false
   },
   "outputs": [
    {
     "data": {
      "text/plain": [
       "1.0804541889718486"
      ]
     },
     "execution_count": 41,
     "metadata": {},
     "output_type": "execute_result"
    }
   ],
   "source": [
    "temp['baseeratTraffic']/temp['multicastTraffic']"
   ]
  },
  {
   "cell_type": "code",
   "execution_count": null,
   "metadata": {
    "collapsed": true
   },
   "outputs": [],
   "source": []
  },
  {
   "cell_type": "code",
   "execution_count": null,
   "metadata": {
    "collapsed": true
   },
   "outputs": [],
   "source": []
  },
  {
   "cell_type": "code",
   "execution_count": 8,
   "metadata": {
    "collapsed": false
   },
   "outputs": [],
   "source": [
    "switchUpdateCount = DataSetAsDataFrame('switch_update_count.csv', \n",
    "                                       dynamic_folders, \n",
    "                                       ['updates', 'switch', 'event'],\n",
    "                                       header=0)"
   ]
  },
  {
   "cell_type": "code",
   "execution_count": 9,
   "metadata": {
    "collapsed": false
   },
   "outputs": [
    {
     "data": {
      "text/html": [
       "<div>\n",
       "<style scoped>\n",
       "    .dataframe tbody tr th:only-of-type {\n",
       "        vertical-align: middle;\n",
       "    }\n",
       "\n",
       "    .dataframe tbody tr th {\n",
       "        vertical-align: top;\n",
       "    }\n",
       "\n",
       "    .dataframe thead th {\n",
       "        text-align: right;\n",
       "    }\n",
       "</style>\n",
       "<table border=\"1\" class=\"dataframe\">\n",
       "  <thead>\n",
       "    <tr style=\"text-align: right;\">\n",
       "      <th></th>\n",
       "      <th>updates</th>\n",
       "      <th>switch</th>\n",
       "      <th>event</th>\n",
       "      <th>groupSizeDist</th>\n",
       "      <th>placementDist</th>\n",
       "      <th>placementNumHostsPerLeaf</th>\n",
       "      <th>seed</th>\n",
       "      <th>podsAlgorithm</th>\n",
       "      <th>podsNumBitmaps</th>\n",
       "      <th>podsNumNodesPerBitmap</th>\n",
       "      <th>podsRedundancyPerBitmap</th>\n",
       "      <th>podsNumRules</th>\n",
       "      <th>leafsAlgorithm</th>\n",
       "      <th>leafsNumBitmaps</th>\n",
       "      <th>leafsNumNodesPerBitmap</th>\n",
       "      <th>leafsRedundancyPerBitmap</th>\n",
       "      <th>leafsNumRules</th>\n",
       "    </tr>\n",
       "  </thead>\n",
       "  <tbody>\n",
       "    <tr>\n",
       "      <th>0</th>\n",
       "      <td>46</td>\n",
       "      <td>virtual</td>\n",
       "      <td>join</td>\n",
       "      <td>uniform</td>\n",
       "      <td>colocate-uniform</td>\n",
       "      <td>48</td>\n",
       "      <td>0</td>\n",
       "      <td>random-fuzzy-match</td>\n",
       "      <td>2</td>\n",
       "      <td>3</td>\n",
       "      <td>6</td>\n",
       "      <td>1000</td>\n",
       "      <td>random-fuzzy-match</td>\n",
       "      <td>10</td>\n",
       "      <td>3</td>\n",
       "      <td>12</td>\n",
       "      <td>10000</td>\n",
       "    </tr>\n",
       "    <tr>\n",
       "      <th>1</th>\n",
       "      <td>1</td>\n",
       "      <td>virtual</td>\n",
       "      <td>join</td>\n",
       "      <td>uniform</td>\n",
       "      <td>colocate-uniform</td>\n",
       "      <td>48</td>\n",
       "      <td>0</td>\n",
       "      <td>random-fuzzy-match</td>\n",
       "      <td>2</td>\n",
       "      <td>3</td>\n",
       "      <td>6</td>\n",
       "      <td>1000</td>\n",
       "      <td>random-fuzzy-match</td>\n",
       "      <td>10</td>\n",
       "      <td>3</td>\n",
       "      <td>12</td>\n",
       "      <td>10000</td>\n",
       "    </tr>\n",
       "  </tbody>\n",
       "</table>\n",
       "</div>"
      ],
      "text/plain": [
       "   updates   switch event groupSizeDist     placementDist  \\\n",
       "0       46  virtual  join       uniform  colocate-uniform   \n",
       "1        1  virtual  join       uniform  colocate-uniform   \n",
       "\n",
       "   placementNumHostsPerLeaf  seed       podsAlgorithm  podsNumBitmaps  \\\n",
       "0                        48     0  random-fuzzy-match               2   \n",
       "1                        48     0  random-fuzzy-match               2   \n",
       "\n",
       "   podsNumNodesPerBitmap  podsRedundancyPerBitmap  podsNumRules  \\\n",
       "0                      3                        6          1000   \n",
       "1                      3                        6          1000   \n",
       "\n",
       "       leafsAlgorithm  leafsNumBitmaps  leafsNumNodesPerBitmap  \\\n",
       "0  random-fuzzy-match               10                       3   \n",
       "1  random-fuzzy-match               10                       3   \n",
       "\n",
       "   leafsRedundancyPerBitmap  leafsNumRules  \n",
       "0                        12          10000  \n",
       "1                        12          10000  "
      ]
     },
     "execution_count": 9,
     "metadata": {},
     "output_type": "execute_result"
    }
   ],
   "source": [
    "switchUpdateCount.head(2)"
   ]
  },
  {
   "cell_type": "code",
   "execution_count": 13,
   "metadata": {
    "collapsed": false
   },
   "outputs": [
    {
     "data": {
      "text/plain": [
       "count    475421.000000\n",
       "mean          0.000726\n",
       "std           0.038227\n",
       "min           0.000000\n",
       "25%           0.000000\n",
       "50%           0.000000\n",
       "75%           0.000000\n",
       "max           5.000000\n",
       "Name: updates, dtype: float64"
      ]
     },
     "execution_count": 13,
     "metadata": {},
     "output_type": "execute_result"
    }
   ],
   "source": [
    "switchUpdateCount[\n",
    "    (switchUpdateCount['switch'] == 'pod') & \n",
    "    (switchUpdateCount['event'] == 'join')\n",
    "]['updates'].describe()"
   ]
  },
  {
   "cell_type": "code",
   "execution_count": 14,
   "metadata": {
    "collapsed": false
   },
   "outputs": [
    {
     "data": {
      "text/plain": [
       "count    476938.000000\n",
       "mean          0.000946\n",
       "std           0.043066\n",
       "min           0.000000\n",
       "25%           0.000000\n",
       "50%           0.000000\n",
       "75%           0.000000\n",
       "max           4.000000\n",
       "Name: updates, dtype: float64"
      ]
     },
     "execution_count": 14,
     "metadata": {},
     "output_type": "execute_result"
    }
   ],
   "source": [
    "switchUpdateCount[\n",
    "    (switchUpdateCount['switch'] == 'pod') & \n",
    "    (switchUpdateCount['event'] == 'leave')\n",
    "]['updates'].describe()"
   ]
  },
  {
   "cell_type": "code",
   "execution_count": null,
   "metadata": {
    "collapsed": true
   },
   "outputs": [],
   "source": []
  },
  {
   "cell_type": "code",
   "execution_count": 15,
   "metadata": {
    "collapsed": false
   },
   "outputs": [
    {
     "data": {
      "image/png": "[encoded data removed]"
     },
     "metadata": {},
     "output_type": "display_data"
    }
   ],
   "source": [
    "%%R -i switchUpdateCount\n",
    "ggplot(switchUpdateCount) +\n",
    "   geom_boxplot(aes(y=updates, x=factor(event)),\n",
    "                outlier.size=0.5) +\n",
    "   facet_grid(groupSizeDist ~ factor(switch, levels=c('pod','leaf','virtual'))) +\n",
    "   xlab(\"Event Type\") +\n",
    "   ylab(\"Number of updates\") +\n",
    "   plotTheme\n",
    "# ggsave(plt, file=\"switch_event_types_to_update_count.jpg\")"
   ]
  },
  {
   "cell_type": "code",
   "execution_count": 16,
   "metadata": {
    "collapsed": true
   },
   "outputs": [],
   "source": [
    "switchUpdateCountNormalized = DataSetAsDataFrame('switch_update_count_normalized.csv', \n",
    "                                       dynamic_folders, \n",
    "                                       ['updates', 'switch', 'event'],\n",
    "                                       header=0)"
   ]
  },
  {
   "cell_type": "code",
   "execution_count": 17,
   "metadata": {
    "collapsed": false
   },
   "outputs": [
    {
     "data": {
      "text/html": [
       "<div>\n",
       "<style scoped>\n",
       "    .dataframe tbody tr th:only-of-type {\n",
       "        vertical-align: middle;\n",
       "    }\n",
       "\n",
       "    .dataframe tbody tr th {\n",
       "        vertical-align: top;\n",
       "    }\n",
       "\n",
       "    .dataframe thead th {\n",
       "        text-align: right;\n",
       "    }\n",
       "</style>\n",
       "<table border=\"1\" class=\"dataframe\">\n",
       "  <thead>\n",
       "    <tr style=\"text-align: right;\">\n",
       "      <th></th>\n",
       "      <th>updates</th>\n",
       "      <th>switch</th>\n",
       "      <th>event</th>\n",
       "      <th>groupSizeDist</th>\n",
       "      <th>placementDist</th>\n",
       "      <th>placementNumHostsPerLeaf</th>\n",
       "      <th>seed</th>\n",
       "      <th>podsAlgorithm</th>\n",
       "      <th>podsNumBitmaps</th>\n",
       "      <th>podsNumNodesPerBitmap</th>\n",
       "      <th>podsRedundancyPerBitmap</th>\n",
       "      <th>podsNumRules</th>\n",
       "      <th>leafsAlgorithm</th>\n",
       "      <th>leafsNumBitmaps</th>\n",
       "      <th>leafsNumNodesPerBitmap</th>\n",
       "      <th>leafsRedundancyPerBitmap</th>\n",
       "      <th>leafsNumRules</th>\n",
       "    </tr>\n",
       "  </thead>\n",
       "  <tbody>\n",
       "    <tr>\n",
       "      <th>0</th>\n",
       "      <td>0.500000</td>\n",
       "      <td>virtual</td>\n",
       "      <td>join</td>\n",
       "      <td>uniform</td>\n",
       "      <td>colocate-uniform</td>\n",
       "      <td>48</td>\n",
       "      <td>0</td>\n",
       "      <td>random-fuzzy-match</td>\n",
       "      <td>2</td>\n",
       "      <td>3</td>\n",
       "      <td>6</td>\n",
       "      <td>1000</td>\n",
       "      <td>random-fuzzy-match</td>\n",
       "      <td>10</td>\n",
       "      <td>3</td>\n",
       "      <td>12</td>\n",
       "      <td>10000</td>\n",
       "    </tr>\n",
       "    <tr>\n",
       "      <th>1</th>\n",
       "      <td>0.008065</td>\n",
       "      <td>virtual</td>\n",
       "      <td>join</td>\n",
       "      <td>uniform</td>\n",
       "      <td>colocate-uniform</td>\n",
       "      <td>48</td>\n",
       "      <td>0</td>\n",
       "      <td>random-fuzzy-match</td>\n",
       "      <td>2</td>\n",
       "      <td>3</td>\n",
       "      <td>6</td>\n",
       "      <td>1000</td>\n",
       "      <td>random-fuzzy-match</td>\n",
       "      <td>10</td>\n",
       "      <td>3</td>\n",
       "      <td>12</td>\n",
       "      <td>10000</td>\n",
       "    </tr>\n",
       "  </tbody>\n",
       "</table>\n",
       "</div>"
      ],
      "text/plain": [
       "    updates   switch event groupSizeDist     placementDist  \\\n",
       "0  0.500000  virtual  join       uniform  colocate-uniform   \n",
       "1  0.008065  virtual  join       uniform  colocate-uniform   \n",
       "\n",
       "   placementNumHostsPerLeaf  seed       podsAlgorithm  podsNumBitmaps  \\\n",
       "0                        48     0  random-fuzzy-match               2   \n",
       "1                        48     0  random-fuzzy-match               2   \n",
       "\n",
       "   podsNumNodesPerBitmap  podsRedundancyPerBitmap  podsNumRules  \\\n",
       "0                      3                        6          1000   \n",
       "1                      3                        6          1000   \n",
       "\n",
       "       leafsAlgorithm  leafsNumBitmaps  leafsNumNodesPerBitmap  \\\n",
       "0  random-fuzzy-match               10                       3   \n",
       "1  random-fuzzy-match               10                       3   \n",
       "\n",
       "   leafsRedundancyPerBitmap  leafsNumRules  \n",
       "0                        12          10000  \n",
       "1                        12          10000  "
      ]
     },
     "execution_count": 17,
     "metadata": {},
     "output_type": "execute_result"
    }
   ],
   "source": [
    "switchUpdateCountNormalized.head(2)"
   ]
  },
  {
   "cell_type": "code",
   "execution_count": 18,
   "metadata": {
    "collapsed": false
   },
   "outputs": [
    {
     "data": {
      "image/png": "[encoded data removed]"
     },
     "metadata": {},
     "output_type": "display_data"
    }
   ],
   "source": [
    "%%R -i switchUpdateCountNormalized\n",
    "ggplot(switchUpdateCountNormalized) +\n",
    "   geom_boxplot(aes(y=updates, x=factor(event)),\n",
    "                outlier.size=0.5) +\n",
    "   facet_grid(groupSizeDist ~ factor(switch, levels=c('pod','leaf','virtual'))) +\n",
    "   xlab(\"Event Type\") +\n",
    "   ylab(\"Number of updates\") +\n",
    "   plotTheme\n",
    "# ggsave(plt, file=\"switch_event_types_to_update_count.jpg\")"
   ]
  },
  {
   "cell_type": "code",
   "execution_count": null,
   "metadata": {
    "collapsed": true
   },
   "outputs": [],
   "source": []
  },
  {
   "cell_type": "markdown",
   "metadata": {},
   "source": [
    "---"
   ]
  },
  {
   "cell_type": "code",
   "execution_count": null,
   "metadata": {
    "collapsed": true
   },
   "outputs": [],
   "source": []
  },
  {
   "cell_type": "code",
   "execution_count": null,
   "metadata": {
    "collapsed": true
   },
   "outputs": [],
   "source": []
  },
  {
   "cell_type": "code",
   "execution_count": null,
   "metadata": {
    "collapsed": true
   },
   "outputs": [],
   "source": []
  },
  {
   "cell_type": "code",
   "execution_count": null,
   "metadata": {
    "collapsed": true
   },
   "outputs": [],
   "source": []
  },
  {
   "cell_type": "code",
   "execution_count": null,
   "metadata": {
    "collapsed": true
   },
   "outputs": [],
   "source": []
  },
  {
   "cell_type": "code",
   "execution_count": null,
   "metadata": {
    "collapsed": true
   },
   "outputs": [],
   "source": []
  },
  {
   "cell_type": "code",
   "execution_count": null,
   "metadata": {
    "collapsed": true
   },
   "outputs": [],
   "source": []
  },
  {
   "cell_type": "code",
   "execution_count": 9,
   "metadata": {
    "collapsed": true
   },
   "outputs": [],
   "source": [
    "ruleCountPerLeaf = DataSetAsDataFrame('rule_count_per_leaf.csv', \n",
    "                                      folders, ['leafId', 'numRules'])"
   ]
  },
  {
   "cell_type": "code",
   "execution_count": 10,
   "metadata": {
    "collapsed": true
   },
   "outputs": [],
   "source": [
    "groupCountPerTenant = DataSetAsDataFrame('group_count_per_tenant.csv', \n",
    "                                         folders, ['tenantId', 'groupCount'])"
   ]
  },
  {
   "cell_type": "code",
   "execution_count": 11,
   "metadata": {
    "collapsed": true
   },
   "outputs": [],
   "source": [
    "groupSizePerGroupPerTenant = DataSetAsDataFrame('group_size_per_group_per_tenant.csv', \n",
    "                                                folders, ['groupId', 'groupSize'])"
   ]
  },
  {
   "cell_type": "code",
   "execution_count": 12,
   "metadata": {
    "collapsed": true
   },
   "outputs": [],
   "source": [
    "groupsCoveredWithBitmapsOnly = DataSetAsDataFrame('groups_covered_with_bitmaps_only.csv', \n",
    "                                                  folders, \n",
    "                                                  ['index', 'groupsCovered', 'groupsCoveredWithoutDefaultBitmap'],\n",
    "                                                  header=0)"
   ]
  },
  {
   "cell_type": "code",
   "execution_count": 13,
   "metadata": {
    "collapsed": true
   },
   "outputs": [],
   "source": [
    "trafficOverhead = DataSetAsDataFrame('traffic_overhead.csv', \n",
    "                                     folders, \n",
    "                                     ['index', 'trafficOverhead'])"
   ]
  },
  {
   "cell_type": "code",
   "execution_count": 14,
   "metadata": {
    "collapsed": true
   },
   "outputs": [],
   "source": [
    "leafSpineTraffic = DataSetAsDataFrame('leaf_spine_traffic_per_group_per_tenant.csv', \n",
    "                                      folders, \n",
    "                                      ['groupId', 'multicastTraffic', 'unicastTraffic', 'overlayTraffic',\n",
    "                                       'baseeratTraffic'],\n",
    "                                       header=0)"
   ]
  },
  {
   "cell_type": "code",
   "execution_count": 15,
   "metadata": {
    "collapsed": true
   },
   "outputs": [],
   "source": [
    "vmCountPerTenant = DataSetAsDataFrame('vm_count_per_tenant.csv', \n",
    "                                      folders, \n",
    "                                      ['tenantId', 'vmCount'])"
   ]
  },
  {
   "cell_type": "code",
   "execution_count": 16,
   "metadata": {
    "collapsed": false
   },
   "outputs": [
    {
     "data": {
      "text/html": [
       "<div>\n",
       "<style>\n",
       "    .dataframe thead tr:only-child th {\n",
       "        text-align: right;\n",
       "    }\n",
       "\n",
       "    .dataframe thead th {\n",
       "        text-align: left;\n",
       "    }\n",
       "\n",
       "    .dataframe tbody tr th {\n",
       "        vertical-align: top;\n",
       "    }\n",
       "</style>\n",
       "<table border=\"1\" class=\"dataframe\">\n",
       "  <thead>\n",
       "    <tr style=\"text-align: right;\">\n",
       "      <th></th>\n",
       "      <th>leafId</th>\n",
       "      <th>numRules</th>\n",
       "      <th>groupSizeDist</th>\n",
       "      <th>placementDist</th>\n",
       "      <th>colocateNumHostsPerLeaf</th>\n",
       "      <th>seed</th>\n",
       "      <th>algorithm</th>\n",
       "      <th>numBitmaps</th>\n",
       "      <th>numLeafsPerBitmap</th>\n",
       "      <th>redundancyPerBitmap</th>\n",
       "      <th>numRulesPerLeaf</th>\n",
       "    </tr>\n",
       "  </thead>\n",
       "  <tbody>\n",
       "    <tr>\n",
       "      <th>0</th>\n",
       "      <td>0</td>\n",
       "      <td>10000</td>\n",
       "      <td>uniform</td>\n",
       "      <td>colocate-random-random</td>\n",
       "      <td>12</td>\n",
       "      <td>0</td>\n",
       "      <td>exact-match</td>\n",
       "      <td>10</td>\n",
       "      <td>1</td>\n",
       "      <td>0</td>\n",
       "      <td>10000</td>\n",
       "    </tr>\n",
       "    <tr>\n",
       "      <th>1</th>\n",
       "      <td>1</td>\n",
       "      <td>10000</td>\n",
       "      <td>uniform</td>\n",
       "      <td>colocate-random-random</td>\n",
       "      <td>12</td>\n",
       "      <td>0</td>\n",
       "      <td>exact-match</td>\n",
       "      <td>10</td>\n",
       "      <td>1</td>\n",
       "      <td>0</td>\n",
       "      <td>10000</td>\n",
       "    </tr>\n",
       "  </tbody>\n",
       "</table>\n",
       "</div>"
      ],
      "text/plain": [
       "   leafId  numRules groupSizeDist           placementDist  \\\n",
       "0       0     10000       uniform  colocate-random-random   \n",
       "1       1     10000       uniform  colocate-random-random   \n",
       "\n",
       "   colocateNumHostsPerLeaf  seed    algorithm  numBitmaps  numLeafsPerBitmap  \\\n",
       "0                       12     0  exact-match          10                  1   \n",
       "1                       12     0  exact-match          10                  1   \n",
       "\n",
       "   redundancyPerBitmap  numRulesPerLeaf  \n",
       "0                    0            10000  \n",
       "1                    0            10000  "
      ]
     },
     "execution_count": 16,
     "metadata": {},
     "output_type": "execute_result"
    }
   ],
   "source": [
    "ruleCountPerLeaf.head(2)"
   ]
  },
  {
   "cell_type": "code",
   "execution_count": 17,
   "metadata": {
    "collapsed": false
   },
   "outputs": [
    {
     "data": {
      "text/html": [
       "<div>\n",
       "<style>\n",
       "    .dataframe thead tr:only-child th {\n",
       "        text-align: right;\n",
       "    }\n",
       "\n",
       "    .dataframe thead th {\n",
       "        text-align: left;\n",
       "    }\n",
       "\n",
       "    .dataframe tbody tr th {\n",
       "        vertical-align: top;\n",
       "    }\n",
       "</style>\n",
       "<table border=\"1\" class=\"dataframe\">\n",
       "  <thead>\n",
       "    <tr style=\"text-align: right;\">\n",
       "      <th></th>\n",
       "      <th>tenantId</th>\n",
       "      <th>groupCount</th>\n",
       "      <th>groupSizeDist</th>\n",
       "      <th>placementDist</th>\n",
       "      <th>colocateNumHostsPerLeaf</th>\n",
       "      <th>seed</th>\n",
       "      <th>algorithm</th>\n",
       "      <th>numBitmaps</th>\n",
       "      <th>numLeafsPerBitmap</th>\n",
       "      <th>redundancyPerBitmap</th>\n",
       "      <th>numRulesPerLeaf</th>\n",
       "    </tr>\n",
       "  </thead>\n",
       "  <tbody>\n",
       "    <tr>\n",
       "      <th>0</th>\n",
       "      <td>0</td>\n",
       "      <td>34</td>\n",
       "      <td>uniform</td>\n",
       "      <td>colocate-random-random</td>\n",
       "      <td>12</td>\n",
       "      <td>0</td>\n",
       "      <td>exact-match</td>\n",
       "      <td>10</td>\n",
       "      <td>1</td>\n",
       "      <td>0</td>\n",
       "      <td>10000</td>\n",
       "    </tr>\n",
       "    <tr>\n",
       "      <th>1</th>\n",
       "      <td>1</td>\n",
       "      <td>8</td>\n",
       "      <td>uniform</td>\n",
       "      <td>colocate-random-random</td>\n",
       "      <td>12</td>\n",
       "      <td>0</td>\n",
       "      <td>exact-match</td>\n",
       "      <td>10</td>\n",
       "      <td>1</td>\n",
       "      <td>0</td>\n",
       "      <td>10000</td>\n",
       "    </tr>\n",
       "  </tbody>\n",
       "</table>\n",
       "</div>"
      ],
      "text/plain": [
       "   tenantId  groupCount groupSizeDist           placementDist  \\\n",
       "0         0          34       uniform  colocate-random-random   \n",
       "1         1           8       uniform  colocate-random-random   \n",
       "\n",
       "   colocateNumHostsPerLeaf  seed    algorithm  numBitmaps  numLeafsPerBitmap  \\\n",
       "0                       12     0  exact-match          10                  1   \n",
       "1                       12     0  exact-match          10                  1   \n",
       "\n",
       "   redundancyPerBitmap  numRulesPerLeaf  \n",
       "0                    0            10000  \n",
       "1                    0            10000  "
      ]
     },
     "execution_count": 17,
     "metadata": {},
     "output_type": "execute_result"
    }
   ],
   "source": [
    "groupCountPerTenant.head(2)"
   ]
  },
  {
   "cell_type": "code",
   "execution_count": 18,
   "metadata": {
    "collapsed": false
   },
   "outputs": [
    {
     "data": {
      "text/html": [
       "<div>\n",
       "<style>\n",
       "    .dataframe thead tr:only-child th {\n",
       "        text-align: right;\n",
       "    }\n",
       "\n",
       "    .dataframe thead th {\n",
       "        text-align: left;\n",
       "    }\n",
       "\n",
       "    .dataframe tbody tr th {\n",
       "        vertical-align: top;\n",
       "    }\n",
       "</style>\n",
       "<table border=\"1\" class=\"dataframe\">\n",
       "  <thead>\n",
       "    <tr style=\"text-align: right;\">\n",
       "      <th></th>\n",
       "      <th>groupId</th>\n",
       "      <th>groupSize</th>\n",
       "      <th>groupSizeDist</th>\n",
       "      <th>placementDist</th>\n",
       "      <th>colocateNumHostsPerLeaf</th>\n",
       "      <th>seed</th>\n",
       "      <th>algorithm</th>\n",
       "      <th>numBitmaps</th>\n",
       "      <th>numLeafsPerBitmap</th>\n",
       "      <th>redundancyPerBitmap</th>\n",
       "      <th>numRulesPerLeaf</th>\n",
       "    </tr>\n",
       "  </thead>\n",
       "  <tbody>\n",
       "    <tr>\n",
       "      <th>0</th>\n",
       "      <td>0</td>\n",
       "      <td>103</td>\n",
       "      <td>uniform</td>\n",
       "      <td>colocate-random-random</td>\n",
       "      <td>12</td>\n",
       "      <td>0</td>\n",
       "      <td>exact-match</td>\n",
       "      <td>10</td>\n",
       "      <td>1</td>\n",
       "      <td>0</td>\n",
       "      <td>10000</td>\n",
       "    </tr>\n",
       "    <tr>\n",
       "      <th>1</th>\n",
       "      <td>1</td>\n",
       "      <td>107</td>\n",
       "      <td>uniform</td>\n",
       "      <td>colocate-random-random</td>\n",
       "      <td>12</td>\n",
       "      <td>0</td>\n",
       "      <td>exact-match</td>\n",
       "      <td>10</td>\n",
       "      <td>1</td>\n",
       "      <td>0</td>\n",
       "      <td>10000</td>\n",
       "    </tr>\n",
       "  </tbody>\n",
       "</table>\n",
       "</div>"
      ],
      "text/plain": [
       "   groupId  groupSize groupSizeDist           placementDist  \\\n",
       "0        0        103       uniform  colocate-random-random   \n",
       "1        1        107       uniform  colocate-random-random   \n",
       "\n",
       "   colocateNumHostsPerLeaf  seed    algorithm  numBitmaps  numLeafsPerBitmap  \\\n",
       "0                       12     0  exact-match          10                  1   \n",
       "1                       12     0  exact-match          10                  1   \n",
       "\n",
       "   redundancyPerBitmap  numRulesPerLeaf  \n",
       "0                    0            10000  \n",
       "1                    0            10000  "
      ]
     },
     "execution_count": 18,
     "metadata": {},
     "output_type": "execute_result"
    }
   ],
   "source": [
    "groupSizePerGroupPerTenant.head(2)"
   ]
  },
  {
   "cell_type": "code",
   "execution_count": 19,
   "metadata": {
    "collapsed": false
   },
   "outputs": [
    {
     "data": {
      "text/html": [
       "<div>\n",
       "<style>\n",
       "    .dataframe thead tr:only-child th {\n",
       "        text-align: right;\n",
       "    }\n",
       "\n",
       "    .dataframe thead th {\n",
       "        text-align: left;\n",
       "    }\n",
       "\n",
       "    .dataframe tbody tr th {\n",
       "        vertical-align: top;\n",
       "    }\n",
       "</style>\n",
       "<table border=\"1\" class=\"dataframe\">\n",
       "  <thead>\n",
       "    <tr style=\"text-align: right;\">\n",
       "      <th></th>\n",
       "      <th>tenantId</th>\n",
       "      <th>vmCount</th>\n",
       "      <th>groupSizeDist</th>\n",
       "      <th>placementDist</th>\n",
       "      <th>colocateNumHostsPerLeaf</th>\n",
       "      <th>seed</th>\n",
       "      <th>algorithm</th>\n",
       "      <th>numBitmaps</th>\n",
       "      <th>numLeafsPerBitmap</th>\n",
       "      <th>redundancyPerBitmap</th>\n",
       "      <th>numRulesPerLeaf</th>\n",
       "    </tr>\n",
       "  </thead>\n",
       "  <tbody>\n",
       "    <tr>\n",
       "      <th>0</th>\n",
       "      <td>0</td>\n",
       "      <td>184</td>\n",
       "      <td>uniform</td>\n",
       "      <td>colocate-random-random</td>\n",
       "      <td>12</td>\n",
       "      <td>0</td>\n",
       "      <td>exact-match</td>\n",
       "      <td>10</td>\n",
       "      <td>1</td>\n",
       "      <td>0</td>\n",
       "      <td>10000</td>\n",
       "    </tr>\n",
       "    <tr>\n",
       "      <th>1</th>\n",
       "      <td>1</td>\n",
       "      <td>46</td>\n",
       "      <td>uniform</td>\n",
       "      <td>colocate-random-random</td>\n",
       "      <td>12</td>\n",
       "      <td>0</td>\n",
       "      <td>exact-match</td>\n",
       "      <td>10</td>\n",
       "      <td>1</td>\n",
       "      <td>0</td>\n",
       "      <td>10000</td>\n",
       "    </tr>\n",
       "  </tbody>\n",
       "</table>\n",
       "</div>"
      ],
      "text/plain": [
       "   tenantId  vmCount groupSizeDist           placementDist  \\\n",
       "0         0      184       uniform  colocate-random-random   \n",
       "1         1       46       uniform  colocate-random-random   \n",
       "\n",
       "   colocateNumHostsPerLeaf  seed    algorithm  numBitmaps  numLeafsPerBitmap  \\\n",
       "0                       12     0  exact-match          10                  1   \n",
       "1                       12     0  exact-match          10                  1   \n",
       "\n",
       "   redundancyPerBitmap  numRulesPerLeaf  \n",
       "0                    0            10000  \n",
       "1                    0            10000  "
      ]
     },
     "execution_count": 19,
     "metadata": {},
     "output_type": "execute_result"
    }
   ],
   "source": [
    "vmCountPerTenant.head(2)"
   ]
  },
  {
   "cell_type": "code",
   "execution_count": 10,
   "metadata": {
    "collapsed": false
   },
   "outputs": [
    {
     "data": {
      "image/png": "[encoded data removed]"
     },
     "metadata": {},
     "output_type": "display_data"
    }
   ],
   "source": [
    "%%R -i ruleCountPerLeaf\n",
    "ggplot(ruleCountPerLeaf) +\n",
    "   geom_boxplot(aes(y=numRules, x=factor(numBitmaps), \n",
    "                    fill=interaction(algorithm, numLeafsPerBitmap, redundancyPerBitmap)),\n",
    "                outlier.size=0.5) +\n",
    "   facet_grid(groupSizeDist * numRulesPerLeaf ~ colocateNumHostsPerLeaf) +\n",
    "   xlab(\"Number of bitmaps\") +\n",
    "   ylab(\"Number of rules\") +\n",
    "   plotTheme"
   ]
  },
  {
   "cell_type": "code",
   "execution_count": 21,
   "metadata": {
    "collapsed": false
   },
   "outputs": [
    {
     "data": {
      "image/png": "[encoded data removed]"
     },
     "metadata": {},
     "output_type": "display_data"
    }
   ],
   "source": [
    "%%R -i ruleCountPerLeaf\n",
    "ggplot(ruleCountPerLeaf) +\n",
    "   stat_ecdf(aes(x=numRules, col=interaction(algorithm, numLeafsPerBitmap, redundancyPerBitmap))) +\n",
    "   facet_grid(groupSizeDist * numBitmaps ~ colocateNumHostsPerLeaf * numRulesPerLeaf) +\n",
    "   ggtitle(\"Rules per leaf distribution\") +\n",
    "   xlab(\"Number of rules\") +\n",
    "   plotTheme"
   ]
  },
  {
   "cell_type": "code",
   "execution_count": 22,
   "metadata": {
    "collapsed": false
   },
   "outputs": [
    {
     "data": {
      "text/plain": [
       "0.0000      1.0000\n",
       "0.5000     17.0000\n",
       "0.9900    516.2500\n",
       "0.9990    909.0140\n",
       "0.9999    926.1003\n",
       "1.0000    927.0000\n",
       "Name: groupCount, dtype: float64"
      ]
     },
     "execution_count": 22,
     "metadata": {},
     "output_type": "execute_result"
    }
   ],
   "source": [
    "groupCountPerTenant[\n",
    "    (groupCountPerTenant['algorithm'] == 'exact-match') &\n",
    "    (groupCountPerTenant['groupSizeDist'] == 'wve') &\n",
    "    (groupCountPerTenant['colocateNumHostsPerLeaf'] == 24) & \n",
    "    (groupCountPerTenant['numBitmaps'] == 10) & \n",
    "    (groupCountPerTenant['numLeafsPerBitmap'] == 1) &\n",
    "    (groupCountPerTenant['numRulesPerLeaf'] == 1000)\n",
    "]['groupCount'].quantile([0.0, 0.5, 0.99, 0.999, 0.9999, 1.0])"
   ]
  },
  {
   "cell_type": "code",
   "execution_count": 23,
   "metadata": {
    "collapsed": false
   },
   "outputs": [
    {
     "data": {
      "text/plain": [
       "groupSizeDist        \n",
       "uniform        0.0000       5.0000\n",
       "               0.5000     143.0000\n",
       "               0.9900    4259.0000\n",
       "               0.9990    4837.5150\n",
       "               0.9999    4976.1505\n",
       "               1.0000    4997.0000\n",
       "wve            0.0000       5.0000\n",
       "               0.5000      12.0000\n",
       "               0.9900     383.0000\n",
       "               0.9990    4693.5150\n",
       "               0.9999    4959.0000\n",
       "               1.0000    4988.0000\n",
       "Name: groupSize, dtype: float64"
      ]
     },
     "execution_count": 23,
     "metadata": {},
     "output_type": "execute_result"
    }
   ],
   "source": [
    "groupSizePerGroupPerTenant[\n",
    "    (groupSizePerGroupPerTenant['algorithm'] == 'exact-match') &\n",
    "    (groupSizePerGroupPerTenant['colocateNumHostsPerLeaf'] == 24) & \n",
    "    (groupSizePerGroupPerTenant['numBitmaps'] == 10) & \n",
    "    (groupSizePerGroupPerTenant['numLeafsPerBitmap'] == 1) &\n",
    "    (groupSizePerGroupPerTenant['numRulesPerLeaf'] == 1000)\n",
    "].groupby('groupSizeDist')['groupSize'].quantile([0.0, 0.5, 0.99, 0.999, 0.9999, 1.0])"
   ]
  },
  {
   "cell_type": "code",
   "execution_count": 24,
   "metadata": {
    "collapsed": false
   },
   "outputs": [
    {
     "data": {
      "text/plain": [
       "0.0000      10.0000\n",
       "0.5000      97.0000\n",
       "0.9900    2785.3300\n",
       "0.9990    4902.0780\n",
       "0.9999    4995.1013\n",
       "1.0000    4999.0000\n",
       "Name: vmCount, dtype: float64"
      ]
     },
     "execution_count": 24,
     "metadata": {},
     "output_type": "execute_result"
    }
   ],
   "source": [
    "vmCountPerTenant[\n",
    "    (vmCountPerTenant['algorithm'] == 'exact-match') & \n",
    "    (vmCountPerTenant['groupSizeDist'] == 'wve') & \n",
    "    (vmCountPerTenant['colocateNumHostsPerLeaf'] == 24) & \n",
    "    (vmCountPerTenant['numBitmaps'] == 10) & \n",
    "    (vmCountPerTenant['numLeafsPerBitmap'] == 1) &\n",
    "    (vmCountPerTenant['numRulesPerLeaf'] == 1000)\n",
    "]['vmCount'].quantile([0.0, 0.5, 0.99, 0.999, 0.9999, 1.0])"
   ]
  },
  {
   "cell_type": "code",
   "execution_count": 25,
   "metadata": {
    "collapsed": false
   },
   "outputs": [
    {
     "data": {
      "image/png": "[encoded data removed]"
     },
     "metadata": {},
     "output_type": "display_data"
    }
   ],
   "source": [
    "%%R -i groupsCoveredWithBitmapsOnly\n",
    "ggplot(groupsCoveredWithBitmapsOnly) +\n",
    "   geom_bar(aes(y=groupsCoveredWithoutDefaultBitmap, x=factor(numBitmaps), \n",
    "                fill=interaction(algorithm, numLeafsPerBitmap, redundancyPerBitmap)),\n",
    "            stat=\"identity\",position=position_dodge()) +\n",
    "   facet_grid(groupSizeDist * numRulesPerLeaf ~ colocateNumHostsPerLeaf) +\n",
    "   xlab(\"Number of bitmaps\") +\n",
    "   ylab(\"Groups covered (without default bitmap)\") +\n",
    "   plotTheme"
   ]
  },
  {
   "cell_type": "code",
   "execution_count": 26,
   "metadata": {
    "collapsed": false
   },
   "outputs": [
    {
     "data": {
      "image/png": "[encoded data removed]"
     },
     "metadata": {},
     "output_type": "display_data"
    }
   ],
   "source": [
    "%%R -i trafficOverhead\n",
    "ggplot(trafficOverhead) +\n",
    "   geom_bar(aes(y=trafficOverhead, x=factor(numBitmaps), \n",
    "                fill=interaction(algorithm, numLeafsPerBitmap, redundancyPerBitmap)),\n",
    "            stat=\"identity\",position=position_dodge()) +\n",
    "   facet_grid(groupSizeDist * numRulesPerLeaf ~ colocateNumHostsPerLeaf) +\n",
    "   xlab(\"Number of bitmaps\") +\n",
    "   ylab(\"Traffic Overhead\") +\n",
    "   plotTheme"
   ]
  },
  {
   "cell_type": "code",
   "execution_count": 27,
   "metadata": {
    "collapsed": true
   },
   "outputs": [],
   "source": [
    "overheads = leafSpineTraffic.groupby([\n",
    "    'groupSizeDist', 'placementDist', 'colocateNumHostsPerLeaf', 'algorithm', 'numBitmaps', 'numLeafsPerBitmap', \n",
    "    'redundancyPerBitmap', 'numRulesPerLeaf', 'seed'])[\n",
    "    ['unicastTraffic', 'multicastTraffic', 'baseeratTraffic', 'overlayTraffic']].agg('sum')\n",
    "overheads.reset_index(inplace=True)"
   ]
  },
  {
   "cell_type": "code",
   "execution_count": 28,
   "metadata": {
    "collapsed": false
   },
   "outputs": [
    {
     "data": {
      "image/png": "[encoded data removed]"
     },
     "metadata": {},
     "output_type": "display_data"
    }
   ],
   "source": [
    "%%R -i overheads\n",
    "ggplot(overheads) +\n",
    "   geom_bar(aes(y=unicastTraffic/multicastTraffic, x=factor(numBitmaps), \n",
    "                fill=interaction(algorithm, numLeafsPerBitmap, redundancyPerBitmap)),\n",
    "            stat=\"identity\", position=position_dodge(),) +\n",
    "   facet_grid(groupSizeDist * numRulesPerLeaf ~ colocateNumHostsPerLeaf) +\n",
    "   ylim(c(0, 6)) +\n",
    "   xlab(\"Number of bitmaps\") +\n",
    "   ylab(\"Traffic Overhead\") +\n",
    "   plotTheme"
   ]
  },
  {
   "cell_type": "code",
   "execution_count": 29,
   "metadata": {
    "collapsed": false
   },
   "outputs": [
    {
     "data": {
      "image/png": "[encoded data removed]"
     },
     "metadata": {},
     "output_type": "display_data"
    }
   ],
   "source": [
    "%%R -i overheads\n",
    "ggplot(overheads) +\n",
    "   geom_bar(aes(y=baseeratTraffic/multicastTraffic, x=factor(numBitmaps), \n",
    "                fill=interaction(algorithm, numLeafsPerBitmap, redundancyPerBitmap)),\n",
    "            stat=\"identity\", position=position_dodge(),) +\n",
    "   facet_grid(groupSizeDist * numRulesPerLeaf ~ colocateNumHostsPerLeaf) +\n",
    "   ylim(c(0, 8)) +\n",
    "   xlab(\"Number of bitmaps\") +\n",
    "   ylab(\"Traffic Overhead\") +\n",
    "   plotTheme"
   ]
  },
  {
   "cell_type": "code",
   "execution_count": 30,
   "metadata": {
    "collapsed": false
   },
   "outputs": [
    {
     "data": {
      "image/png": "[encoded data removed]"
     },
     "metadata": {},
     "output_type": "display_data"
    }
   ],
   "source": [
    "%%R -i overheads\n",
    "ggplot(overheads) +\n",
    "   geom_bar(aes(y=overlayTraffic/multicastTraffic, x=factor(numBitmaps), \n",
    "                fill=interaction(algorithm, numLeafsPerBitmap, redundancyPerBitmap)),\n",
    "            stat=\"identity\", position=position_dodge(),) +\n",
    "   facet_grid(groupSizeDist * numRulesPerLeaf ~ colocateNumHostsPerLeaf) +\n",
    "   ylim(c(0, 8)) +\n",
    "   xlab(\"Number of bitmaps\") +\n",
    "   ylab(\"Traffic Overhead\") +\n",
    "   plotTheme"
   ]
  },
  {
   "cell_type": "code",
   "execution_count": null,
   "metadata": {
    "collapsed": true
   },
   "outputs": [],
   "source": []
  }
 ],
 "metadata": {
  "kernelspec": {
   "display_name": "Python 3",
   "language": "python",
   "name": "python3"
  },
  "language_info": {
   "codemirror_mode": {
    "name": "ipython",
    "version": 3
   },
   "file_extension": ".py",
   "mimetype": "text/x-python",
   "name": "python",
   "nbconvert_exporter": "python",
   "pygments_lexer": "ipython3",
   "version": "3.5.2"
  }
 },
 "nbformat": 4,
 "nbformat_minor": 2
}
